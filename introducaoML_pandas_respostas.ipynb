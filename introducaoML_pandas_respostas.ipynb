{
  "nbformat": 4,
  "nbformat_minor": 0,
  "metadata": {
    "anaconda-cloud": {},
    "kernelspec": {
      "display_name": "Python",
      "language": "python",
      "name": "conda-env-python-py"
    },
    "language_info": {
      "codemirror_mode": {
        "name": "ipython",
        "version": 3
      },
      "file_extension": ".py",
      "mimetype": "text/x-python",
      "name": "python",
      "nbconvert_exporter": "python",
      "pygments_lexer": "ipython3",
      "version": "3.6.7"
    },
    "colab": {
      "name": "introducaoML_pandas_respostas.ipynb",
      "version": "0.3.2",
      "provenance": [],
      "include_colab_link": true
    }
  },
  "cells": [
    {
      "cell_type": "markdown",
      "metadata": {
        "id": "view-in-github",
        "colab_type": "text"
      },
      "source": [
        "<a href=\"https://colab.research.google.com/github/Flaviaestat/Phyton/blob/master/introducaoML_pandas_respostas.ipynb\" target=\"_parent\"><img src=\"https://colab.research.google.com/assets/colab-badge.svg\" alt=\"Open In Colab\"/></a>"
      ]
    },
    {
      "cell_type": "markdown",
      "metadata": {
        "run_control": {
          "marked": true
        },
        "id": "523V8CzWHi_r",
        "colab_type": "text"
      },
      "source": [
        "# Introdução a Machine Learning e ferramentas"
      ]
    },
    {
      "cell_type": "markdown",
      "metadata": {
        "run_control": {
          "marked": true
        },
        "id": "BtrjGH4yHi_t",
        "colab_type": "text"
      },
      "source": [
        "## Introdução\n",
        "\n",
        "Nós estaremos usando o conjunto de dados chamado Íris para este tutorial. Este é um conjunto de dados bem conhecidos contendo espécies de íris e medidas de sépala e pétala. Os dados que usaremos estão em um arquivo chamado `Iris_Data.csv`."
      ]
    },
    {
      "cell_type": "code",
      "metadata": {
        "id": "IY8rNyYiHi_u",
        "colab_type": "code",
        "colab": {}
      },
      "source": [
        "import os"
      ],
      "execution_count": 0,
      "outputs": []
    },
    {
      "cell_type": "markdown",
      "metadata": {
        "run_control": {
          "marked": true
        },
        "id": "upUPCgSmHi_y",
        "colab_type": "text"
      },
      "source": [
        "## Questão 1\n",
        "\n",
        "Carregue os dados do arquivo usando as técnicas aprendidas hoje. Examine-os.\n",
        "\n",
        "Determine o seguinte:\n",
        "\n",
        "* O número de pontos de dados (linhas). (* Dica: * confira o atributo do dataframe `.shape`.)\n",
        "* Os nomes das colunas. (* Dica: * confira o atributo do dataframe `.columns`).\n",
        "* Os tipos de dados para cada coluna. (* Dica: * confira o atributo `.dtypes` do dataframe.)"
      ]
    },
    {
      "cell_type": "code",
      "metadata": {
        "ExecuteTime": {
          "end_time": "2017-03-19T23:17:21.954025Z",
          "start_time": "2017-03-19T19:17:21.936220-04:00"
        },
        "run_control": {
          "marked": true
        },
        "id": "wGiLRSvGHi_z",
        "colab_type": "code",
        "colab": {}
      },
      "source": [
        "import numpy as np\n",
        "import pandas as pd\n",
        "\n",
        "filepath = 'Iris_Data.csv'\n",
        "print(filepath)\n",
        "data = pd.read_csv(filepath)\n",
        "data.head()"
      ],
      "execution_count": 0,
      "outputs": []
    },
    {
      "cell_type": "code",
      "metadata": {
        "ExecuteTime": {
          "end_time": "2017-03-19T23:17:24.151607Z",
          "start_time": "2017-03-19T19:17:24.105167-04:00"
        },
        "run_control": {
          "marked": true
        },
        "id": "n6QNQKyhHi_1",
        "colab_type": "code",
        "colab": {}
      },
      "source": [
        "# Número de linhas\n",
        "print(data.shape[0])\n",
        "\n",
        "# Nome das colunas\n",
        "print(data.columns.tolist())\n",
        "\n",
        "# Tipo dos dados\n",
        "print(data.dtypes)\n"
      ],
      "execution_count": 0,
      "outputs": []
    },
    {
      "cell_type": "markdown",
      "metadata": {
        "run_control": {
          "marked": true
        },
        "id": "E4oF8wSWHi_7",
        "colab_type": "text"
      },
      "source": [
        "## Questão 2\n",
        "\n",
        "Examine os nomes das espécies e observe que todos começam com 'Iris'. Remova essa parte do nome para que o nome da espécie seja menor. \n",
        "\n",
        "* Dica:  existem várias maneiras de fazer isso, mas você pode usar o [string processing methods](http://pandas.pydata.org/pandas-docs/stable/text.html) ou o [apply method](http://pandas.pydata.org/pandas-docs/stable/generated/pandas.Series.apply.html)."
      ]
    },
    {
      "cell_type": "code",
      "metadata": {
        "ExecuteTime": {
          "end_time": "2017-03-19T23:17:53.678316Z",
          "start_time": "2017-03-19T19:17:53.660202-04:00"
        },
        "run_control": {
          "marked": true
        },
        "id": "ltJn-S_XHi_-",
        "colab_type": "code",
        "colab": {}
      },
      "source": [
        "# O método str mapeia a seguinte função para cada entrada como uma string\n",
        "data['species'] = data.species.str.replace('Iris-', '')\n",
        "# alternativamente\n",
        "# data['species'] = data.species.apply(lambda r: r.replace('Iris-', ''))\n",
        "\n",
        "data.head()"
      ],
      "execution_count": 0,
      "outputs": []
    },
    {
      "cell_type": "markdown",
      "metadata": {
        "run_control": {
          "marked": true
        },
        "id": "Jty5uvpnHjAF",
        "colab_type": "text"
      },
      "source": [
        "## Questão 3\n",
        "\n",
        "Determine o seguinte:\n",
        "* O número de cada espécie presente. (* Dica: * confira o método `.value_counts` da série.)\n",
        "* A média, mediana e intervalos (max-min) para cada medição de pétala e sépala.\n",
        "\n",
        "* Dica: para a última pergunta, o método `.describe` tem mediana, mas não é chamado de mediana."
      ]
    },
    {
      "cell_type": "code",
      "metadata": {
        "ExecuteTime": {
          "end_time": "2017-03-19T23:20:16.483215Z",
          "start_time": "2017-03-19T19:20:16.472865-04:00"
        },
        "collapsed": true,
        "jupyter": {
          "outputs_hidden": true
        },
        "run_control": {
          "marked": true
        },
        "id": "PA7REC0bHjAI",
        "colab_type": "code",
        "colab": {}
      },
      "source": [
        "#Estudante escreve código aqui\n",
        "data['species'].value_counts()"
      ],
      "execution_count": 0,
      "outputs": []
    },
    {
      "cell_type": "code",
      "metadata": {
        "id": "Qy_AtcMzHjAc",
        "colab_type": "code",
        "colab": {}
      },
      "source": [
        "print(data.describe())"
      ],
      "execution_count": 0,
      "outputs": []
    },
    {
      "cell_type": "code",
      "metadata": {
        "ExecuteTime": {
          "end_time": "2017-03-19T23:21:17.085008Z",
          "start_time": "2017-03-19T19:21:17.052339-04:00"
        },
        "collapsed": true,
        "jupyter": {
          "outputs_hidden": true
        },
        "run_control": {
          "marked": true
        },
        "id": "GmDSUnx2HjAo",
        "colab_type": "code",
        "colab": {}
      },
      "source": [
        ""
      ],
      "execution_count": 0,
      "outputs": []
    },
    {
      "cell_type": "code",
      "metadata": {
        "id": "voz2nkw-HjAv",
        "colab_type": "code",
        "colab": {}
      },
      "source": [
        ""
      ],
      "execution_count": 0,
      "outputs": []
    },
    {
      "cell_type": "code",
      "metadata": {
        "id": "eTGYKcwDHjAy",
        "colab_type": "code",
        "colab": {}
      },
      "source": [
        ""
      ],
      "execution_count": 0,
      "outputs": []
    },
    {
      "cell_type": "code",
      "metadata": {
        "id": "EuAh-U__HjA0",
        "colab_type": "code",
        "colab": {}
      },
      "source": [
        ""
      ],
      "execution_count": 0,
      "outputs": []
    },
    {
      "cell_type": "markdown",
      "metadata": {
        "run_control": {
          "marked": true
        },
        "id": "5RbAEoQzHjA4",
        "colab_type": "text"
      },
      "source": [
        "## Questão 4\n",
        "\n",
        "Calcule o seguinte ** para cada espécie ** em um dataframe separado:\n",
        "\n",
        "* A média de cada medição (sepal_length, sepal_width, petal_length e petal_width).\n",
        "* A mediana de cada uma dessas medições.\n",
        "\n",
        "* Dica: * você pode usar o método Pandas [`groupby`] (http://pandas.pydata.org/pandas-docs/stable/generated/pandas.DataFrame.groupby.html) para agrupar por espécies antes de calcular o estatística.\n",
        "\n",
        "Se você concluir ambos, tente calcular as duas estatísticas (média e mediana) em uma única tabela (ou seja, com uma única chamada groupbyby). Veja a seção da documentação do Pandas sobre [applying multiple functions at once](http://pandas.pydata.org/pandas-docs/stable/groupby.html#applying-multiple-functions-at-once) para uma dica.\n"
      ]
    },
    {
      "cell_type": "code",
      "metadata": {
        "ExecuteTime": {
          "end_time": "2017-03-19T23:22:07.306171Z",
          "start_time": "2017-03-19T19:22:07.286965-04:00"
        },
        "id": "YESWe12oHjA5",
        "colab_type": "code",
        "colab": {}
      },
      "source": [
        "# O cálculo da média\n",
        "data.groupby('species').mean()"
      ],
      "execution_count": 0,
      "outputs": []
    },
    {
      "cell_type": "code",
      "metadata": {
        "ExecuteTime": {
          "end_time": "2017-03-19T23:22:11.479487Z",
          "start_time": "2017-03-19T19:22:11.461725-04:00"
        },
        "id": "2Swndb3YHjA-",
        "colab_type": "code",
        "colab": {}
      },
      "source": [
        "# O cálculo da mediana\n",
        "data.groupby('species').median()"
      ],
      "execution_count": 0,
      "outputs": []
    },
    {
      "cell_type": "code",
      "metadata": {
        "id": "A5YIZWeYHjBB",
        "colab_type": "code",
        "colab": {}
      },
      "source": [
        "# aplicação de múltiplas funções de uma só vez - 2 métodos\n",
        "\n",
        "data.groupby('species').agg(['mean', 'median'])  # passando uma lista de strings reconhecidas\n",
        "data.groupby('species').agg([np.mean, np.median])  # passando uma lista de funções de agregação explícitas"
      ],
      "execution_count": 0,
      "outputs": []
    },
    {
      "cell_type": "markdown",
      "metadata": {
        "id": "y3MfL-aAHjBF",
        "colab_type": "text"
      },
      "source": [
        "## Question 5\n",
        "\n",
        "Make a scatter plot of `sepal_length` vs `sepal_width` using Matplotlib. Label the axes and give the plot a title."
      ]
    },
    {
      "cell_type": "code",
      "metadata": {
        "ExecuteTime": {
          "end_time": "2017-03-19T23:23:36.914375Z",
          "start_time": "2017-03-19T19:23:36.661322-04:00"
        },
        "collapsed": true,
        "jupyter": {
          "outputs_hidden": true
        },
        "id": "0g05xdOmHjBF",
        "colab_type": "code",
        "colab": {}
      },
      "source": [
        "import matplotlib.pyplot as plt\n",
        "%matplotlib inline"
      ],
      "execution_count": 0,
      "outputs": []
    },
    {
      "cell_type": "code",
      "metadata": {
        "ExecuteTime": {
          "end_time": "2017-03-19T23:24:28.081462Z",
          "start_time": "2017-03-19T19:24:27.796364-04:00"
        },
        "id": "jErA8qGNHjBK",
        "colab_type": "code",
        "colab": {}
      },
      "source": [
        "# Um simples gráfico de dispersão com o Matplotlib\n",
        "ax = plt.axes()\n",
        "\n",
        "ax.scatter(data.sepal_length, data.sepal_width)\n",
        "\n",
        "# Label the axes\n",
        "ax.set(xlabel='Sepal Length (cm)',\n",
        "       ylabel='Sepal Width (cm)',\n",
        "       title='Sepal Length vs Width');"
      ],
      "execution_count": 0,
      "outputs": []
    },
    {
      "cell_type": "markdown",
      "metadata": {
        "id": "lGC1NyE7HjBT",
        "colab_type": "text"
      },
      "source": [
        "## Question 6\n",
        "\n",
        "Make a histogram of any one of the four features. Label axes and title it as appropriate. "
      ]
    },
    {
      "cell_type": "code",
      "metadata": {
        "ExecuteTime": {
          "end_time": "2017-03-19T23:25:31.330263Z",
          "start_time": "2017-03-19T19:25:31.073251-04:00"
        },
        "collapsed": true,
        "jupyter": {
          "outputs_hidden": true
        },
        "id": "XP3ZPgRdHjBU",
        "colab_type": "code",
        "colab": {}
      },
      "source": [
        "#Estudante escreve código aqui"
      ],
      "execution_count": 0,
      "outputs": []
    },
    {
      "cell_type": "code",
      "metadata": {
        "ExecuteTime": {
          "end_time": "2017-03-19T23:25:50.512748Z",
          "start_time": "2017-03-19T19:25:50.199553-04:00"
        },
        "collapsed": true,
        "jupyter": {
          "outputs_hidden": true
        },
        "id": "cnRUkfAYHjBX",
        "colab_type": "code",
        "colab": {}
      },
      "source": [
        "plt.hist(data.sepal_length, bins=25)\n",
        "plt.xlabel('x')\n",
        "plt.ylabel('y')"
      ],
      "execution_count": 0,
      "outputs": []
    },
    {
      "cell_type": "markdown",
      "metadata": {
        "id": "Y2JYvwkPHjBZ",
        "colab_type": "text"
      },
      "source": [
        "## Questão 7\n",
        "\n",
        "Agora crie um único gráfico com histogramas para cada característica (`petal_width`,` petal_length`, `sepal_width`,` sepal_length`) sobreposta.\n",
        "\n",
        "Para obter algumas dicas sobre como fazer isso com os métodos de plotagem do Pandas, confira [visualization guide](http://pandas.pydata.org/pandas-docs/version/0.18.1/visualization.html) para Pandas."
      ]
    },
    {
      "cell_type": "code",
      "metadata": {
        "ExecuteTime": {
          "end_time": "2017-03-19T23:43:17.755648Z",
          "start_time": "2017-03-19T19:43:16.540434-04:00"
        },
        "id": "bddQqmOVHjBa",
        "colab_type": "code",
        "colab": {}
      },
      "source": [
        "import seaborn as sns\n",
        "\n",
        "sns.set_context('notebook')\n",
        "\n",
        "# Isso usa o método `.plot.hist`\n",
        "ax = data.plot.hist(bins=25, alpha=0.5)\n",
        "ax.set_xlabel('Size (cm)');"
      ],
      "execution_count": 0,
      "outputs": []
    },
    {
      "cell_type": "markdown",
      "metadata": {
        "id": "Fg4fGcXNHjBi",
        "colab_type": "text"
      },
      "source": [
        "## Questão 8\n",
        "\n",
        "Usando Pandas, faça um boxplot de cada pétala e medição de sépala. Aqui está a documentação para [Pandas boxplot method](http://pandas.pydata.org/pandas-docs/version/0.18.1/visualization.html#visualization-box)."
      ]
    },
    {
      "cell_type": "code",
      "metadata": {
        "ExecuteTime": {
          "end_time": "2017-03-19T23:46:49.431740Z",
          "start_time": "2017-03-19T19:46:48.628206-04:00"
        },
        "collapsed": true,
        "jupyter": {
          "outputs_hidden": true
        },
        "id": "MK59ja92HjBm",
        "colab_type": "code",
        "colab": {}
      },
      "source": [
        "#Estudante escreve código aqui\n",
        "\n",
        "color = dict(boxes='DarkGreen', whiskers='DarkOrange',medians='DarkBlue')\n",
        "\n",
        "data.plot.box(color=color, sym='r+')"
      ],
      "execution_count": 0,
      "outputs": []
    },
    {
      "cell_type": "markdown",
      "metadata": {
        "id": "3jPey9X2HjBp",
        "colab_type": "text"
      },
      "source": [
        "## Questão 9\n",
        "\n",
        "Agora faça um único boxplot onde as características são separadas no eixo x as espécies são coloridas com matizes diferentes.\n",
        "\n",
        "* Dica: * você pode querer verificar a documentação para [Seaborn boxplots](http://seaborn.pydata.org/generated/seaborn.boxplot.html). \n",
        "\n",
        "Note também que o Seaborn é muito exigente quanto ao formato dos dados - para este gráfico funcionar, o dataframe de entrada precisará ser manipulado para que cada linha contenha um único ponto de dados (uma espécie, um tipo de medição e o valor de medição). Confira os métodos do pandas como ponto de partida [stack](http://pandas.pydata.org/pandas-docs/stable/generated/pandas.DataFrame.stack.html).\n",
        "\n",
        "Aqui está um exemplo de um formato de dados que funcionará:\n",
        "\n",
        "|   | species | measurement  | size |\n",
        "| - | ------- | ------------ | ---- |\n",
        "| 0\t| setosa  | sepal_length | 5.1  |\n",
        "| 1\t| setosa  | sepal_width  | 3.5  |"
      ]
    },
    {
      "cell_type": "code",
      "metadata": {
        "ExecuteTime": {
          "end_time": "2017-03-19T23:47:59.324915Z",
          "start_time": "2017-03-19T19:47:59.305538-04:00"
        },
        "id": "EmOQdJ_yHjBq",
        "colab_type": "code",
        "colab": {}
      },
      "source": [
        "# Primeiro temos que reformular os dados para que haja apenas uma única medida em cada coluna\n",
        "\n",
        "plot_data = (data\n",
        "             .set_index('species')\n",
        "             .stack()\n",
        "             .to_frame()\n",
        "             .reset_index()\n",
        "             .rename(columns={0:'size', 'level_1':'measurement'})\n",
        "            )\n",
        "\n",
        "plot_data.head()"
      ],
      "execution_count": 0,
      "outputs": []
    },
    {
      "cell_type": "code",
      "metadata": {
        "ExecuteTime": {
          "end_time": "2017-03-19T23:56:10.626307Z",
          "start_time": "2017-03-19T19:56:10.092741-04:00"
        },
        "id": "ft_vaolkHjBs",
        "colab_type": "code",
        "colab": {}
      },
      "source": [
        "# Agora traçar o dataframe a partir de cima usando Seaborn\n",
        "\n",
        "sns.set_style('white')\n",
        "sns.set_context('notebook')\n",
        "sns.set_palette('dark')\n",
        "\n",
        "f = plt.figure(figsize=(6,4))\n",
        "sns.boxplot(x='measurement', y='size', \n",
        "            hue='species', data=plot_data);"
      ],
      "execution_count": 0,
      "outputs": []
    },
    {
      "cell_type": "markdown",
      "metadata": {
        "id": "8JgHGq90HjBx",
        "colab_type": "text"
      },
      "source": [
        "## Questão 10\n",
        "\n",
        "Faça um [pairplot](http://seaborn.pydata.org/generated/seaborn.pairplot.html) com Seaborn para examinar a correlação entre cada uma das medições.\n",
        "\n",
        "*Dica: * este enredo pode parecer complicado, mas na verdade é apenas uma única linha de código. Este é o poder do Seaborn e da plotagem consciente do dataframe! Veja as notas das palestras para referência."
      ]
    },
    {
      "cell_type": "code",
      "metadata": {
        "ExecuteTime": {
          "end_time": "2017-03-19T23:57:15.479069Z",
          "start_time": "2017-03-19T19:57:13.075052-04:00"
        },
        "collapsed": true,
        "jupyter": {
          "outputs_hidden": true
        },
        "id": "6X_XbW5GHjBz",
        "colab_type": "code",
        "colab": {}
      },
      "source": [
        "#Estudante escreve código aqui"
      ],
      "execution_count": 0,
      "outputs": []
    },
    {
      "cell_type": "code",
      "metadata": {
        "collapsed": true,
        "jupyter": {
          "outputs_hidden": true
        },
        "id": "X8EDeVzfHjB2",
        "colab_type": "code",
        "colab": {}
      },
      "source": [
        "sns.pairplot(data)"
      ],
      "execution_count": 0,
      "outputs": []
    },
    {
      "cell_type": "code",
      "metadata": {
        "collapsed": true,
        "jupyter": {
          "outputs_hidden": true
        },
        "id": "FkPzTlpzHjB4",
        "colab_type": "code",
        "colab": {}
      },
      "source": [
        ""
      ],
      "execution_count": 0,
      "outputs": []
    },
    {
      "cell_type": "code",
      "metadata": {
        "id": "dSW5CC3dHjB7",
        "colab_type": "code",
        "colab": {}
      },
      "source": [
        ""
      ],
      "execution_count": 0,
      "outputs": []
    },
    {
      "cell_type": "code",
      "metadata": {
        "id": "10EvsdZ-HjB9",
        "colab_type": "code",
        "colab": {}
      },
      "source": [
        ""
      ],
      "execution_count": 0,
      "outputs": []
    },
    {
      "cell_type": "code",
      "metadata": {
        "id": "BnB71n3-HjCC",
        "colab_type": "code",
        "colab": {}
      },
      "source": [
        ""
      ],
      "execution_count": 0,
      "outputs": []
    }
  ]
}