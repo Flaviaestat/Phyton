{
  "nbformat": 4,
  "nbformat_minor": 0,
  "metadata": {
    "anaconda-cloud": {},
    "colab": {
      "name": "introducaoML_pandas.ipynb",
      "version": "0.3.2",
      "provenance": [],
      "include_colab_link": true
    },
    "kernelspec": {
      "display_name": "Python",
      "language": "python",
      "name": "conda-env-python-py"
    },
    "language_info": {
      "codemirror_mode": {
        "name": "ipython",
        "version": 3
      },
      "file_extension": ".py",
      "mimetype": "text/x-python",
      "name": "python",
      "nbconvert_exporter": "python",
      "pygments_lexer": "ipython3",
      "version": "3.6.7"
    }
  },
  "cells": [
    {
      "cell_type": "markdown",
      "metadata": {
        "id": "view-in-github",
        "colab_type": "text"
      },
      "source": [
        "<a href=\"https://colab.research.google.com/github/Flaviaestat/Phyton/blob/master/introducaoML_pandas.ipynb\" target=\"_parent\"><img src=\"https://colab.research.google.com/assets/colab-badge.svg\" alt=\"Open In Colab\"/></a>"
      ]
    },
    {
      "cell_type": "markdown",
      "metadata": {
        "colab_type": "text",
        "id": "sWVmSrwnj2bl",
        "run_control": {
          "marked": true
        }
      },
      "source": [
        "# Introdução a Machine Learning e ferramentas"
      ]
    },
    {
      "cell_type": "markdown",
      "metadata": {
        "colab_type": "text",
        "id": "C5TlWd40j2bn",
        "run_control": {
          "marked": true
        }
      },
      "source": [
        "## Introdução\n",
        "\n",
        "Nós estaremos usando o conjunto de dados chamado Íris para este tutorial. Este é um conjunto de dados bem conhecidos contendo espécies de íris e medidas de sépala e pétala. Os dados que usaremos estão em um arquivo chamado `Iris_Data.csv`."
      ]
    },
    {
      "cell_type": "code",
      "metadata": {
        "colab_type": "code",
        "id": "zReqoE9vj2bo",
        "colab": {}
      },
      "source": [
        "from __future__ import print_function\n",
        "import os"
      ],
      "execution_count": 0,
      "outputs": []
    },
    {
      "cell_type": "markdown",
      "metadata": {
        "colab_type": "text",
        "id": "seJTMUE6j2br",
        "run_control": {
          "marked": true
        }
      },
      "source": [
        "## Questão 1\n",
        "\n",
        "Carregue os dados do arquivo usando as técnicas aprendidas hoje. Examine-os.\n",
        "\n",
        "Determine o seguinte:\n",
        "\n",
        "* O número de pontos de dados (linhas). (* Dica: * confira o atributo do dataframe `.shape`.)\n",
        "* Os nomes das colunas. (* Dica: * confira o atributo do dataframe `.columns`).\n",
        "* Os tipos de dados para cada coluna. (* Dica: * confira o atributo `.dtypes` do dataframe.)"
      ]
    },
    {
      "cell_type": "code",
      "metadata": {
        "ExecuteTime": {
          "end_time": "2017-03-19T23:17:21.954025Z",
          "start_time": "2017-03-19T19:17:21.936220-04:00"
        },
        "colab_type": "code",
        "id": "Df4sLiLfj2bs",
        "run_control": {
          "marked": true
        },
        "colab": {},
        "outputId": "4b67f60e-a58d-48e7-e198-66246edd8fef"
      },
      "source": [
        "import numpy as np\n",
        "import pandas as pd\n",
        "\n",
        "filepath = 'Iris_Data.csv'\n",
        "print(filepath)\n",
        "data = pd.read_csv(filepath)\n",
        "data.head()"
      ],
      "execution_count": 0,
      "outputs": [
        {
          "output_type": "stream",
          "text": [
            "Iris_Data.csv\n"
          ],
          "name": "stdout"
        },
        {
          "output_type": "execute_result",
          "data": {
            "text/html": [
              "<div>\n",
              "<style scoped>\n",
              "    .dataframe tbody tr th:only-of-type {\n",
              "        vertical-align: middle;\n",
              "    }\n",
              "\n",
              "    .dataframe tbody tr th {\n",
              "        vertical-align: top;\n",
              "    }\n",
              "\n",
              "    .dataframe thead th {\n",
              "        text-align: right;\n",
              "    }\n",
              "</style>\n",
              "<table border=\"1\" class=\"dataframe\">\n",
              "  <thead>\n",
              "    <tr style=\"text-align: right;\">\n",
              "      <th></th>\n",
              "      <th>sepal_length</th>\n",
              "      <th>sepal_width</th>\n",
              "      <th>petal_length</th>\n",
              "      <th>petal_width</th>\n",
              "      <th>species</th>\n",
              "    </tr>\n",
              "  </thead>\n",
              "  <tbody>\n",
              "    <tr>\n",
              "      <th>0</th>\n",
              "      <td>5.1</td>\n",
              "      <td>3.5</td>\n",
              "      <td>1.4</td>\n",
              "      <td>0.2</td>\n",
              "      <td>Iris-setosa</td>\n",
              "    </tr>\n",
              "    <tr>\n",
              "      <th>1</th>\n",
              "      <td>4.9</td>\n",
              "      <td>3.0</td>\n",
              "      <td>1.4</td>\n",
              "      <td>0.2</td>\n",
              "      <td>Iris-setosa</td>\n",
              "    </tr>\n",
              "    <tr>\n",
              "      <th>2</th>\n",
              "      <td>4.7</td>\n",
              "      <td>3.2</td>\n",
              "      <td>1.3</td>\n",
              "      <td>0.2</td>\n",
              "      <td>Iris-setosa</td>\n",
              "    </tr>\n",
              "    <tr>\n",
              "      <th>3</th>\n",
              "      <td>4.6</td>\n",
              "      <td>3.1</td>\n",
              "      <td>1.5</td>\n",
              "      <td>0.2</td>\n",
              "      <td>Iris-setosa</td>\n",
              "    </tr>\n",
              "    <tr>\n",
              "      <th>4</th>\n",
              "      <td>5.0</td>\n",
              "      <td>3.6</td>\n",
              "      <td>1.4</td>\n",
              "      <td>0.2</td>\n",
              "      <td>Iris-setosa</td>\n",
              "    </tr>\n",
              "  </tbody>\n",
              "</table>\n",
              "</div>"
            ],
            "text/plain": [
              "   sepal_length  sepal_width  petal_length  petal_width      species\n",
              "0           5.1          3.5           1.4          0.2  Iris-setosa\n",
              "1           4.9          3.0           1.4          0.2  Iris-setosa\n",
              "2           4.7          3.2           1.3          0.2  Iris-setosa\n",
              "3           4.6          3.1           1.5          0.2  Iris-setosa\n",
              "4           5.0          3.6           1.4          0.2  Iris-setosa"
            ]
          },
          "metadata": {
            "tags": []
          },
          "execution_count": 2
        }
      ]
    },
    {
      "cell_type": "code",
      "metadata": {
        "ExecuteTime": {
          "end_time": "2017-03-19T23:17:24.151607Z",
          "start_time": "2017-03-19T19:17:24.105167-04:00"
        },
        "colab_type": "code",
        "id": "0NC2R-8Uj2bu",
        "run_control": {
          "marked": true
        },
        "colab": {},
        "outputId": "10b4d2e1-07a5-4475-8af4-dcf237480301"
      },
      "source": [
        "# Número de linhas\n",
        "print(data.shape[0])\n",
        "\n",
        "# Nome das colunas\n",
        "print(data.columns.tolist())\n",
        "\n",
        "# Tipo dos dados\n",
        "print(data.dtypes)\n"
      ],
      "execution_count": 0,
      "outputs": [
        {
          "output_type": "stream",
          "text": [
            "150\n",
            "['sepal_length', 'sepal_width', 'petal_length', 'petal_width', 'species']\n",
            "sepal_length    float64\n",
            "sepal_width     float64\n",
            "petal_length    float64\n",
            "petal_width     float64\n",
            "species          object\n",
            "dtype: object\n"
          ],
          "name": "stdout"
        }
      ]
    },
    {
      "cell_type": "markdown",
      "metadata": {
        "colab_type": "text",
        "id": "79fv8DxOj2bw",
        "run_control": {
          "marked": true
        }
      },
      "source": [
        "## Questão 2\n",
        "\n",
        "Examine os nomes das espécies e observe que todos começam com 'Iris'. Remova essa parte do nome para que o nome da espécie seja menor. \n",
        "\n",
        "* Dica:  existem várias maneiras de fazer isso, mas você pode usar o [string processing methods](http://pandas.pydata.org/pandas-docs/stable/text.html) ou o [apply method](http://pandas.pydata.org/pandas-docs/stable/generated/pandas.Series.apply.html)."
      ]
    },
    {
      "cell_type": "code",
      "metadata": {
        "ExecuteTime": {
          "end_time": "2017-03-19T23:17:53.678316Z",
          "start_time": "2017-03-19T19:17:53.660202-04:00"
        },
        "colab_type": "code",
        "id": "LNq1oQYkj2bx",
        "run_control": {
          "marked": true
        },
        "colab": {},
        "outputId": "f8d4083a-da83-4f95-82d2-ff281240d62c"
      },
      "source": [
        "# O método str mapeia a seguinte função para cada entrada como uma string\n",
        "data['species'] = data.species.str.replace('Iris-', '')\n",
        "# alternativamente\n",
        "# data['species'] = data.species.apply(lambda r: r.replace('Iris-', ''))\n",
        "\n",
        "data.head()"
      ],
      "execution_count": 0,
      "outputs": [
        {
          "output_type": "execute_result",
          "data": {
            "text/html": [
              "<div>\n",
              "<style scoped>\n",
              "    .dataframe tbody tr th:only-of-type {\n",
              "        vertical-align: middle;\n",
              "    }\n",
              "\n",
              "    .dataframe tbody tr th {\n",
              "        vertical-align: top;\n",
              "    }\n",
              "\n",
              "    .dataframe thead th {\n",
              "        text-align: right;\n",
              "    }\n",
              "</style>\n",
              "<table border=\"1\" class=\"dataframe\">\n",
              "  <thead>\n",
              "    <tr style=\"text-align: right;\">\n",
              "      <th></th>\n",
              "      <th>sepal_length</th>\n",
              "      <th>sepal_width</th>\n",
              "      <th>petal_length</th>\n",
              "      <th>petal_width</th>\n",
              "      <th>species</th>\n",
              "    </tr>\n",
              "  </thead>\n",
              "  <tbody>\n",
              "    <tr>\n",
              "      <th>0</th>\n",
              "      <td>5.1</td>\n",
              "      <td>3.5</td>\n",
              "      <td>1.4</td>\n",
              "      <td>0.2</td>\n",
              "      <td>setosa</td>\n",
              "    </tr>\n",
              "    <tr>\n",
              "      <th>1</th>\n",
              "      <td>4.9</td>\n",
              "      <td>3.0</td>\n",
              "      <td>1.4</td>\n",
              "      <td>0.2</td>\n",
              "      <td>setosa</td>\n",
              "    </tr>\n",
              "    <tr>\n",
              "      <th>2</th>\n",
              "      <td>4.7</td>\n",
              "      <td>3.2</td>\n",
              "      <td>1.3</td>\n",
              "      <td>0.2</td>\n",
              "      <td>setosa</td>\n",
              "    </tr>\n",
              "    <tr>\n",
              "      <th>3</th>\n",
              "      <td>4.6</td>\n",
              "      <td>3.1</td>\n",
              "      <td>1.5</td>\n",
              "      <td>0.2</td>\n",
              "      <td>setosa</td>\n",
              "    </tr>\n",
              "    <tr>\n",
              "      <th>4</th>\n",
              "      <td>5.0</td>\n",
              "      <td>3.6</td>\n",
              "      <td>1.4</td>\n",
              "      <td>0.2</td>\n",
              "      <td>setosa</td>\n",
              "    </tr>\n",
              "  </tbody>\n",
              "</table>\n",
              "</div>"
            ],
            "text/plain": [
              "   sepal_length  sepal_width  petal_length  petal_width species\n",
              "0           5.1          3.5           1.4          0.2  setosa\n",
              "1           4.9          3.0           1.4          0.2  setosa\n",
              "2           4.7          3.2           1.3          0.2  setosa\n",
              "3           4.6          3.1           1.5          0.2  setosa\n",
              "4           5.0          3.6           1.4          0.2  setosa"
            ]
          },
          "metadata": {
            "tags": []
          },
          "execution_count": 4
        }
      ]
    },
    {
      "cell_type": "markdown",
      "metadata": {
        "colab_type": "text",
        "id": "pnM29i9Ej2bz",
        "run_control": {
          "marked": true
        }
      },
      "source": [
        "## Questão 3\n",
        "\n",
        "Determine o seguinte:\n",
        "* O número de cada espécie presente. (* Dica: * confira o método `.value_counts` da série.)\n",
        "* A média, mediana e intervalos (max-min) para cada medição de pétala e sépala.\n",
        "\n",
        "* Dica: para a última pergunta, o método `.describe` tem mediana, mas não é chamado de mediana."
      ]
    },
    {
      "cell_type": "code",
      "metadata": {
        "ExecuteTime": {
          "end_time": "2017-03-19T23:20:16.483215Z",
          "start_time": "2017-03-19T19:20:16.472865-04:00"
        },
        "colab_type": "code",
        "id": "1JfDNs_Ij2b0",
        "run_control": {
          "marked": true
        },
        "colab": {}
      },
      "source": [
        "#Estudante escreve código aqui\n"
      ],
      "execution_count": 0,
      "outputs": []
    },
    {
      "cell_type": "code",
      "metadata": {
        "colab_type": "code",
        "id": "eqHNMI3Wj2b4",
        "colab": {}
      },
      "source": [
        ""
      ],
      "execution_count": 0,
      "outputs": []
    },
    {
      "cell_type": "code",
      "metadata": {
        "ExecuteTime": {
          "end_time": "2017-03-19T23:21:17.085008Z",
          "start_time": "2017-03-19T19:21:17.052339-04:00"
        },
        "colab_type": "code",
        "id": "6nB7WcE0j2b6",
        "run_control": {
          "marked": true
        },
        "colab": {}
      },
      "source": [
        ""
      ],
      "execution_count": 0,
      "outputs": []
    },
    {
      "cell_type": "code",
      "metadata": {
        "colab_type": "code",
        "id": "VxOeuh1fj2b8",
        "colab": {}
      },
      "source": [
        ""
      ],
      "execution_count": 0,
      "outputs": []
    },
    {
      "cell_type": "code",
      "metadata": {
        "colab_type": "code",
        "id": "8JsgUBRrj2b-",
        "colab": {}
      },
      "source": [
        ""
      ],
      "execution_count": 0,
      "outputs": []
    },
    {
      "cell_type": "code",
      "metadata": {
        "colab_type": "code",
        "id": "oHIK1nYjj2cC",
        "colab": {}
      },
      "source": [
        ""
      ],
      "execution_count": 0,
      "outputs": []
    },
    {
      "cell_type": "markdown",
      "metadata": {
        "colab_type": "text",
        "id": "l_-z2nUxj2cG",
        "run_control": {
          "marked": true
        }
      },
      "source": [
        "## Questão 4\n",
        "\n",
        "Calcule o seguinte ** para cada espécie ** em um dataframe separado:\n",
        "\n",
        "* A média de cada medição (sepal_length, sepal_width, petal_length e petal_width).\n",
        "* A mediana de cada uma dessas medições.\n",
        "\n",
        "* Dica: * você pode usar o método Pandas [`groupby`] (http://pandas.pydata.org/pandas-docs/stable/generated/pandas.DataFrame.groupby.html) para agrupar por espécies antes de calcular o estatística.\n",
        "\n",
        "Se você concluir ambos, tente calcular as duas estatísticas (média e mediana) em uma única tabela (ou seja, com uma única chamada groupbyby). Veja a seção da documentação do Pandas sobre [applying multiple functions at once](http://pandas.pydata.org/pandas-docs/stable/groupby.html#applying-multiple-functions-at-once) para uma dica.\n"
      ]
    },
    {
      "cell_type": "code",
      "metadata": {
        "ExecuteTime": {
          "end_time": "2017-03-19T23:22:07.306171Z",
          "start_time": "2017-03-19T19:22:07.286965-04:00"
        },
        "colab_type": "code",
        "id": "IozkoUwaj2cH",
        "colab": {}
      },
      "source": [
        "# O cálculo da média\n",
        "data.groupby('species').mean()"
      ],
      "execution_count": 0,
      "outputs": []
    },
    {
      "cell_type": "code",
      "metadata": {
        "ExecuteTime": {
          "end_time": "2017-03-19T23:22:11.479487Z",
          "start_time": "2017-03-19T19:22:11.461725-04:00"
        },
        "colab_type": "code",
        "id": "i_zl3uuFj2cL",
        "colab": {}
      },
      "source": [
        "# O cálculo da mediana\n",
        "data.groupby('species').median()"
      ],
      "execution_count": 0,
      "outputs": []
    },
    {
      "cell_type": "code",
      "metadata": {
        "colab_type": "code",
        "id": "POe9jWZmj2cO",
        "colab": {}
      },
      "source": [
        "# aplicação de múltiplas funções de uma só vez - 2 métodos\n",
        "\n",
        "data.groupby('species').agg(['mean', 'median'])  # passando uma lista de strings reconhecidas\n",
        "data.groupby('species').agg([np.mean, np.median])  # passando uma lista de funções de agregação explícitas"
      ],
      "execution_count": 0,
      "outputs": []
    },
    {
      "cell_type": "markdown",
      "metadata": {
        "colab_type": "text",
        "id": "JM0wrr3oj2cR"
      },
      "source": [
        "## Question 5\n",
        "\n",
        "Make a scatter plot of `sepal_length` vs `sepal_width` using Matplotlib. Label the axes and give the plot a title."
      ]
    },
    {
      "cell_type": "code",
      "metadata": {
        "ExecuteTime": {
          "end_time": "2017-03-19T23:23:36.914375Z",
          "start_time": "2017-03-19T19:23:36.661322-04:00"
        },
        "colab_type": "code",
        "id": "nHmTvGqHj2cR",
        "colab": {}
      },
      "source": [
        "import matplotlib.pyplot as plt\n",
        "%matplotlib inline"
      ],
      "execution_count": 0,
      "outputs": []
    },
    {
      "cell_type": "code",
      "metadata": {
        "ExecuteTime": {
          "end_time": "2017-03-19T23:24:28.081462Z",
          "start_time": "2017-03-19T19:24:27.796364-04:00"
        },
        "colab_type": "code",
        "id": "f2mvnj69j2cU",
        "colab": {}
      },
      "source": [
        "# Um simples gráfico de dispersão com o Matplotlib\n",
        "ax = plt.axes()\n",
        "\n",
        "ax.scatter(data.sepal_length, data.sepal_width)\n",
        "\n",
        "# Label the axes\n",
        "ax.set(xlabel='Sepal Length (cm)',\n",
        "       ylabel='Sepal Width (cm)',\n",
        "       title='Sepal Length vs Width');"
      ],
      "execution_count": 0,
      "outputs": []
    },
    {
      "cell_type": "markdown",
      "metadata": {
        "colab_type": "text",
        "id": "mZGcBvgVj2cW"
      },
      "source": [
        "## Question 6\n",
        "\n",
        "Faça um histograma de qualquer um das quatro features. Rotule os eixos e nomeie-os conforme apropriado."
      ]
    },
    {
      "cell_type": "code",
      "metadata": {
        "ExecuteTime": {
          "end_time": "2017-03-19T23:25:31.330263Z",
          "start_time": "2017-03-19T19:25:31.073251-04:00"
        },
        "colab_type": "code",
        "id": "qM_4w8u-j2cW",
        "colab": {}
      },
      "source": [
        "#Estudante escreve código aqui"
      ],
      "execution_count": 0,
      "outputs": []
    },
    {
      "cell_type": "code",
      "metadata": {
        "ExecuteTime": {
          "end_time": "2017-03-19T23:25:50.512748Z",
          "start_time": "2017-03-19T19:25:50.199553-04:00"
        },
        "colab_type": "code",
        "id": "VAR5XE9Tj2cZ",
        "colab": {}
      },
      "source": [
        ""
      ],
      "execution_count": 0,
      "outputs": []
    },
    {
      "cell_type": "markdown",
      "metadata": {
        "colab_type": "text",
        "id": "wP6zOSEFj2ce"
      },
      "source": [
        "## Questão 7\n",
        "\n",
        "Agora crie um único gráfico com histogramas para cada característica (`petal_width`,` petal_length`, `sepal_width`,` sepal_length`) sobreposta.\n",
        "\n",
        "Para obter algumas dicas sobre como fazer isso com os métodos de plotagem do Pandas, confira [visualization guide](http://pandas.pydata.org/pandas-docs/version/0.18.1/visualization.html) para Pandas."
      ]
    },
    {
      "cell_type": "code",
      "metadata": {
        "ExecuteTime": {
          "end_time": "2017-03-19T23:43:17.755648Z",
          "start_time": "2017-03-19T19:43:16.540434-04:00"
        },
        "colab_type": "code",
        "id": "rWudbAESj2cf",
        "colab": {}
      },
      "source": [
        "import seaborn as sns\n",
        "\n",
        "sns.set_context('notebook')\n",
        "\n",
        "# Isso usa o método `.plot.hist`\n",
        "ax = data.plot.hist(bins=25, alpha=0.5)\n",
        "ax.set_xlabel('Size (cm)');"
      ],
      "execution_count": 0,
      "outputs": []
    },
    {
      "cell_type": "markdown",
      "metadata": {
        "colab_type": "text",
        "id": "kYgoG0OWj2cj"
      },
      "source": [
        "## Questão 8\n",
        "\n",
        "Usando Pandas, faça um boxplot de cada pétala e medição de sépala. Aqui está a documentação para [Pandas boxplot method](http://pandas.pydata.org/pandas-docs/version/0.18.1/visualization.html#visualization-box)."
      ]
    },
    {
      "cell_type": "code",
      "metadata": {
        "ExecuteTime": {
          "end_time": "2017-03-19T23:46:49.431740Z",
          "start_time": "2017-03-19T19:46:48.628206-04:00"
        },
        "colab_type": "code",
        "id": "LovEkfTcj2co",
        "colab": {}
      },
      "source": [
        "#Estudante escreve código aqui\n",
        "\n"
      ],
      "execution_count": 0,
      "outputs": []
    },
    {
      "cell_type": "markdown",
      "metadata": {
        "colab_type": "text",
        "id": "pLwgB6vCj2cs"
      },
      "source": [
        "## Questão 9\n",
        "\n",
        "Agora faça um único boxplot onde as características são separadas no eixo x as espécies são coloridas com matizes diferentes.\n",
        "\n",
        "* Dica: * você pode querer verificar a documentação para [Seaborn boxplots](http://seaborn.pydata.org/generated/seaborn.boxplot.html). \n",
        "\n",
        "Note também que o Seaborn é muito exigente quanto ao formato dos dados - para este gráfico funcionar, o dataframe de entrada precisará ser manipulado para que cada linha contenha um único ponto de dados (uma espécie, um tipo de medição e o valor de medição). Confira os métodos do pandas como ponto de partida [stack](http://pandas.pydata.org/pandas-docs/stable/generated/pandas.DataFrame.stack.html).\n",
        "\n",
        "Aqui está um exemplo de um formato de dados que funcionará:\n",
        "\n",
        "|   | species | measurement  | size |\n",
        "| - | ------- | ------------ | ---- |\n",
        "| 0\t| setosa  | sepal_length | 5.1  |\n",
        "| 1\t| setosa  | sepal_width  | 3.5  |"
      ]
    },
    {
      "cell_type": "code",
      "metadata": {
        "ExecuteTime": {
          "end_time": "2017-03-19T23:47:59.324915Z",
          "start_time": "2017-03-19T19:47:59.305538-04:00"
        },
        "colab_type": "code",
        "id": "s02rJRCFj2ct",
        "colab": {}
      },
      "source": [
        "# Primeiro temos que reformular os dados para que haja apenas uma única medida em cada coluna\n",
        "\n",
        "plot_data = (data\n",
        "             .set_index('species')\n",
        "             .stack()\n",
        "             .to_frame()\n",
        "             .reset_index()\n",
        "             .rename(columns={0:'size', 'level_1':'measurement'})\n",
        "            )\n",
        "\n",
        "plot_data.head()"
      ],
      "execution_count": 0,
      "outputs": []
    },
    {
      "cell_type": "code",
      "metadata": {
        "ExecuteTime": {
          "end_time": "2017-03-19T23:56:10.626307Z",
          "start_time": "2017-03-19T19:56:10.092741-04:00"
        },
        "colab_type": "code",
        "id": "5wV8Bwptj2cv",
        "colab": {}
      },
      "source": [
        "# Agora traçar o dataframe a partir de cima usando Seaborn\n",
        "\n",
        "sns.set_style('white')\n",
        "sns.set_context('notebook')\n",
        "sns.set_palette('dark')\n",
        "\n",
        "f = plt.figure(figsize=(6,4))\n",
        "sns.boxplot(x='measurement', y='size', \n",
        "            hue='species', data=plot_data);"
      ],
      "execution_count": 0,
      "outputs": []
    },
    {
      "cell_type": "markdown",
      "metadata": {
        "colab_type": "text",
        "id": "fGLh-pPOj2cy"
      },
      "source": [
        "## Questão 10\n",
        "\n",
        "Faça um [pairplot](http://seaborn.pydata.org/generated/seaborn.pairplot.html) com Seaborn para examinar a correlação entre cada uma das medições.\n",
        "\n",
        "*Dica: * este enredo pode parecer complicado, mas na verdade é apenas uma única linha de código. Este é o poder do Seaborn e da plotagem consciente do dataframe! Veja as notas das palestras para referência."
      ]
    },
    {
      "cell_type": "code",
      "metadata": {
        "ExecuteTime": {
          "end_time": "2017-03-19T23:57:15.479069Z",
          "start_time": "2017-03-19T19:57:13.075052-04:00"
        },
        "colab_type": "code",
        "id": "Xp7VNgauj2cy",
        "colab": {}
      },
      "source": [
        "#Estudante escreve código aqui"
      ],
      "execution_count": 0,
      "outputs": []
    },
    {
      "cell_type": "code",
      "metadata": {
        "colab_type": "code",
        "id": "KbdVCSjWj2c0",
        "colab": {}
      },
      "source": [
        ""
      ],
      "execution_count": 0,
      "outputs": []
    },
    {
      "cell_type": "code",
      "metadata": {
        "colab_type": "code",
        "id": "C70mndSTj2c2",
        "colab": {}
      },
      "source": [
        ""
      ],
      "execution_count": 0,
      "outputs": []
    },
    {
      "cell_type": "code",
      "metadata": {
        "colab_type": "code",
        "id": "2M55gUl5j2c5",
        "colab": {}
      },
      "source": [
        ""
      ],
      "execution_count": 0,
      "outputs": []
    },
    {
      "cell_type": "code",
      "metadata": {
        "colab_type": "code",
        "id": "DbA3pCKMj2c8",
        "colab": {}
      },
      "source": [
        ""
      ],
      "execution_count": 0,
      "outputs": []
    },
    {
      "cell_type": "code",
      "metadata": {
        "colab_type": "code",
        "id": "7aZlwAP-j2c_",
        "colab": {}
      },
      "source": [
        ""
      ],
      "execution_count": 0,
      "outputs": []
    }
  ]
}