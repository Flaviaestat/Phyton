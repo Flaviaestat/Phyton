{
  "nbformat": 4,
  "nbformat_minor": 0,
  "metadata": {
    "colab": {
      "name": "00_Principais_Phyton.ipynb",
      "provenance": [],
      "collapsed_sections": [],
      "toc_visible": true,
      "include_colab_link": true
    },
    "kernelspec": {
      "name": "python3",
      "display_name": "Python 3"
    }
  },
  "cells": [
    {
      "cell_type": "markdown",
      "metadata": {
        "id": "view-in-github",
        "colab_type": "text"
      },
      "source": [
        "<a href=\"https://colab.research.google.com/github/Flaviaestat/Phyton/blob/master/00_Principais_Phyton.ipynb\" target=\"_parent\"><img src=\"https://colab.research.google.com/assets/colab-badge.svg\" alt=\"Open In Colab\"/></a>"
      ]
    },
    {
      "cell_type": "markdown",
      "metadata": {
        "id": "FXvVgAqKd59P",
        "colab_type": "text"
      },
      "source": [
        "### RESUMÃO PHYTON"
      ]
    },
    {
      "cell_type": "markdown",
      "metadata": {
        "id": "Oxt3AlYfaVAX",
        "colab_type": "text"
      },
      "source": [
        "Operadores Condicionais\n"
      ]
    },
    {
      "cell_type": "code",
      "metadata": {
        "id": "qfkZMyo4aS9U",
        "colab_type": "code",
        "outputId": "15af9394-1d92-411a-ca84-13949fd0dccb",
        "colab": {
          "base_uri": "https://localhost:8080/",
          "height": 34
        }
      },
      "source": [
        "x = 300\n",
        "\n",
        "if x == 300:\n",
        "  status = 'Na mosca!'\n",
        "elif x>= 300:\n",
        "  status = 'Maior!'\n",
        "else:\n",
        "  status = 'Menor :('\n",
        "\n",
        "print('O valor é ' + status)\n",
        "\n"
      ],
      "execution_count": 0,
      "outputs": [
        {
          "output_type": "stream",
          "text": [
            "O valor é Na mosca!\n"
          ],
          "name": "stdout"
        }
      ]
    },
    {
      "cell_type": "markdown",
      "metadata": {
        "id": "ZSGKVo8kbvm7",
        "colab_type": "text"
      },
      "source": [
        "Estrutura de loop básica\n"
      ]
    },
    {
      "cell_type": "code",
      "metadata": {
        "id": "MmpfkZDcb0i2",
        "colab_type": "code",
        "outputId": "b2f707d1-eb65-4f29-9c86-46126a24ed66",
        "colab": {
          "base_uri": "https://localhost:8080/",
          "height": 158
        }
      },
      "source": [
        "numeros = []\n",
        "multiplo = 3\n",
        "\n",
        "for i in range(0,10):\n",
        "  resto = i%multiplo\n",
        "  numeros.append( i * resto)\n",
        "\n",
        "\n",
        "print('Mostra apenas os multiplos de ' + str(multiplo) + ' :')\n",
        "print(numeros)\n",
        "print('O último elemento é')\n",
        "print(numeros[-1])\n",
        "print('O primeiro elemento é')\n",
        "print(numeros[0])\n",
        "print('O segundo é')\n",
        "print(numeros[1])\n",
        "\n",
        "\n"
      ],
      "execution_count": 0,
      "outputs": [
        {
          "output_type": "stream",
          "text": [
            "Mostra apenas os multiplos de 3 :\n",
            "[0, 1, 4, 0, 4, 10, 0, 7, 16, 0]\n",
            "O último elemento é\n",
            "0\n",
            "O primeiro elemento é\n",
            "0\n",
            "O segundo é\n",
            "1\n"
          ],
          "name": "stdout"
        }
      ]
    },
    {
      "cell_type": "markdown",
      "metadata": {
        "id": "BVds-CLegJbj",
        "colab_type": "text"
      },
      "source": [
        "Input box"
      ]
    },
    {
      "cell_type": "code",
      "metadata": {
        "id": "7wmG9pp9gFQZ",
        "colab_type": "code",
        "outputId": "f6f20664-c907-4c92-b26e-6c36117c2237",
        "colab": {
          "base_uri": "https://localhost:8080/",
          "height": 34
        }
      },
      "source": [
        "  age = input('Qual a sua idade?')\n"
      ],
      "execution_count": 0,
      "outputs": [
        {
          "output_type": "stream",
          "text": [
            "Qual a sua idade?20\n"
          ],
          "name": "stdout"
        }
      ]
    },
    {
      "cell_type": "markdown",
      "metadata": {
        "id": "mYd4AtK9eFlQ",
        "colab_type": "text"
      },
      "source": [
        "Função"
      ]
    },
    {
      "cell_type": "code",
      "metadata": {
        "id": "dRr6uIyieIEa",
        "colab_type": "code",
        "colab": {}
      },
      "source": [
        "def idade(n):\n",
        "\n",
        "  x = n * 2\n",
        "  y = n / 2\n",
        "  print('o dobro da sua idade é :' + str(x))\n",
        "  print('a metade da sua idade é :' + str(y))\n",
        "\n"
      ],
      "execution_count": 0,
      "outputs": []
    },
    {
      "cell_type": "code",
      "metadata": {
        "id": "mKzMa59Uf8Ci",
        "colab_type": "code",
        "outputId": "bf81b681-1f5d-4d6a-f805-325eb412038b",
        "colab": {
          "base_uri": "https://localhost:8080/",
          "height": 52
        }
      },
      "source": [
        "idade(20)"
      ],
      "execution_count": 0,
      "outputs": [
        {
          "output_type": "stream",
          "text": [
            "o dobro da sua idade é :40\n",
            "a metade da sua idade é :10.0\n"
          ],
          "name": "stdout"
        }
      ]
    },
    {
      "cell_type": "code",
      "metadata": {
        "id": "oBxWAz4b4tLT",
        "colab_type": "code",
        "outputId": "77bd79f6-3071-4dbf-dba4-716bc3658ac6",
        "colab": {
          "base_uri": "https://localhost:8080/",
          "height": 281
        }
      },
      "source": [
        "def fizzBuzz(n):\n",
        "    # Write your code here\n",
        "\n",
        "    for i in range (1,n+1):\n",
        "\n",
        "        if i%3 == 0 and i%5 == 0:\n",
        "            print('FizzBuzz')\n",
        "        elif i%3 == 0:\n",
        "            print('Fizz')\n",
        "        elif i%5 == 0:\n",
        "            print('Buzz')\n",
        "        else:\n",
        "            print(i)\n",
        "\n",
        "fizzBuzz(15)"
      ],
      "execution_count": 0,
      "outputs": [
        {
          "output_type": "stream",
          "text": [
            "1\n",
            "2\n",
            "Fizz\n",
            "4\n",
            "Buzz\n",
            "Fizz\n",
            "7\n",
            "8\n",
            "Fizz\n",
            "Buzz\n",
            "11\n",
            "Fizz\n",
            "13\n",
            "14\n",
            "FizzBuzz\n"
          ],
          "name": "stdout"
        }
      ]
    },
    {
      "cell_type": "markdown",
      "metadata": {
        "id": "Pd9dl2nv46VZ",
        "colab_type": "text"
      },
      "source": [
        "Manipulação com arrays"
      ]
    },
    {
      "cell_type": "code",
      "metadata": {
        "id": "RcDW4NcWtcwk",
        "colab_type": "code",
        "outputId": "5d79549e-eb5f-4494-e82c-b039f7869883",
        "colab": {
          "base_uri": "https://localhost:8080/",
          "height": 34
        }
      },
      "source": [
        "dates = ['2018-01-01','2017-02-01', '2019-10-01']\n",
        "evento = ['A','B','C']\n",
        "valores = [200,300,400]\n",
        "categoria = ['XL', 'XL','XS']\n",
        "\n",
        "months = dates[5:1] #não consegui extrair uma posição no string do array - mais fácil no pandas\n",
        "print(months)\n"
      ],
      "execution_count": 1,
      "outputs": [
        {
          "output_type": "stream",
          "text": [
            "[]\n"
          ],
          "name": "stdout"
        }
      ]
    },
    {
      "cell_type": "code",
      "metadata": {
        "id": "ogdUS9StvfHK",
        "colab_type": "code",
        "outputId": "3eb58696-9d47-47af-88f9-7e1c5fa62b28",
        "colab": {
          "base_uri": "https://localhost:8080/",
          "height": 52
        }
      },
      "source": [
        "estados = ['GO', 'GO', 'SP', 'RJ']\n",
        "\n",
        "estados_distintos = set(estados)\n",
        "\n",
        "print(estados_distintos)\n",
        "\n",
        "for index,element in enumerate(estados_distintos):\n",
        "    lista = index,element\n",
        "\n",
        "print(lista)\n"
      ],
      "execution_count": 2,
      "outputs": [
        {
          "output_type": "stream",
          "text": [
            "{'SP', 'GO', 'RJ'}\n",
            "(2, 'RJ')\n"
          ],
          "name": "stdout"
        }
      ]
    },
    {
      "cell_type": "markdown",
      "metadata": {
        "id": "SuMdRNUC-Swd",
        "colab_type": "text"
      },
      "source": [
        "**Carregamento da base e visualização**"
      ]
    },
    {
      "cell_type": "code",
      "metadata": {
        "id": "1SHvwPIC6e_R",
        "colab_type": "code",
        "colab": {}
      },
      "source": [
        "import numpy as np\n",
        "import pandas as pd\n",
        "\n",
        "#tranforma o arrays em colunas no mesmo dataframe\n",
        "\n",
        "datesDf = pd.DataFrame({'Data': dates, 'Evento': evento, 'Valores': valores, 'Categoria': categoria})\n"
      ],
      "execution_count": 0,
      "outputs": []
    },
    {
      "cell_type": "markdown",
      "metadata": {
        "id": "nUxtJzNPtJY1",
        "colab_type": "text"
      },
      "source": [
        "Criando colunas de datas"
      ]
    },
    {
      "cell_type": "code",
      "metadata": {
        "id": "s_9emISl09qV",
        "colab_type": "code",
        "outputId": "84e5da9c-1b97-46ef-b4c7-740ea38eb1fe",
        "colab": {
          "base_uri": "https://localhost:8080/",
          "height": 136
        }
      },
      "source": [
        "datesDf['Date'] = pd.to_datetime(datesDf['Data']) #padrão dateTime\n",
        "datesDf['ano'] = datesDf['Date'].map(lambda x: x.strftime('%Y'))\n",
        "#datesDf['Dia'] = datesDf['Date'].map(lambda x: x.strftime('%D'))\n",
        "\n",
        "datesDf.head()"
      ],
      "execution_count": 4,
      "outputs": [
        {
          "output_type": "execute_result",
          "data": {
            "text/html": [
              "<div>\n",
              "<style scoped>\n",
              "    .dataframe tbody tr th:only-of-type {\n",
              "        vertical-align: middle;\n",
              "    }\n",
              "\n",
              "    .dataframe tbody tr th {\n",
              "        vertical-align: top;\n",
              "    }\n",
              "\n",
              "    .dataframe thead th {\n",
              "        text-align: right;\n",
              "    }\n",
              "</style>\n",
              "<table border=\"1\" class=\"dataframe\">\n",
              "  <thead>\n",
              "    <tr style=\"text-align: right;\">\n",
              "      <th></th>\n",
              "      <th>Data</th>\n",
              "      <th>Evento</th>\n",
              "      <th>Valores</th>\n",
              "      <th>Categoria</th>\n",
              "      <th>Date</th>\n",
              "      <th>ano</th>\n",
              "    </tr>\n",
              "  </thead>\n",
              "  <tbody>\n",
              "    <tr>\n",
              "      <th>0</th>\n",
              "      <td>2018-01-01</td>\n",
              "      <td>A</td>\n",
              "      <td>200</td>\n",
              "      <td>XL</td>\n",
              "      <td>2018-01-01</td>\n",
              "      <td>2018</td>\n",
              "    </tr>\n",
              "    <tr>\n",
              "      <th>1</th>\n",
              "      <td>2017-02-01</td>\n",
              "      <td>B</td>\n",
              "      <td>300</td>\n",
              "      <td>XL</td>\n",
              "      <td>2017-02-01</td>\n",
              "      <td>2017</td>\n",
              "    </tr>\n",
              "    <tr>\n",
              "      <th>2</th>\n",
              "      <td>2019-10-01</td>\n",
              "      <td>C</td>\n",
              "      <td>400</td>\n",
              "      <td>XS</td>\n",
              "      <td>2019-10-01</td>\n",
              "      <td>2019</td>\n",
              "    </tr>\n",
              "  </tbody>\n",
              "</table>\n",
              "</div>"
            ],
            "text/plain": [
              "         Data Evento  Valores Categoria       Date   ano\n",
              "0  2018-01-01      A      200        XL 2018-01-01  2018\n",
              "1  2017-02-01      B      300        XL 2017-02-01  2017\n",
              "2  2019-10-01      C      400        XS 2019-10-01  2019"
            ]
          },
          "metadata": {
            "tags": []
          },
          "execution_count": 4
        }
      ]
    },
    {
      "cell_type": "code",
      "metadata": {
        "id": "zsu9J_E29K0l",
        "colab_type": "code",
        "colab": {}
      },
      "source": [
        "#carrega base em csv\n",
        "\n",
        "path = ''\n",
        "\n",
        "baseDfCsv = pd.read_csv(path)"
      ],
      "execution_count": 0,
      "outputs": []
    },
    {
      "cell_type": "markdown",
      "metadata": {
        "id": "L_LsST8L-eP-",
        "colab_type": "text"
      },
      "source": [
        "**Descrever features**"
      ]
    },
    {
      "cell_type": "code",
      "metadata": {
        "id": "TkNGobvT-jTw",
        "colab_type": "code",
        "outputId": "056de61d-703d-497e-cbbd-747f3d1c5f7e",
        "colab": {
          "base_uri": "https://localhost:8080/",
          "height": 284
        }
      },
      "source": [
        "datesDf.describe()"
      ],
      "execution_count": 5,
      "outputs": [
        {
          "output_type": "execute_result",
          "data": {
            "text/html": [
              "<div>\n",
              "<style scoped>\n",
              "    .dataframe tbody tr th:only-of-type {\n",
              "        vertical-align: middle;\n",
              "    }\n",
              "\n",
              "    .dataframe tbody tr th {\n",
              "        vertical-align: top;\n",
              "    }\n",
              "\n",
              "    .dataframe thead th {\n",
              "        text-align: right;\n",
              "    }\n",
              "</style>\n",
              "<table border=\"1\" class=\"dataframe\">\n",
              "  <thead>\n",
              "    <tr style=\"text-align: right;\">\n",
              "      <th></th>\n",
              "      <th>Valores</th>\n",
              "    </tr>\n",
              "  </thead>\n",
              "  <tbody>\n",
              "    <tr>\n",
              "      <th>count</th>\n",
              "      <td>3.0</td>\n",
              "    </tr>\n",
              "    <tr>\n",
              "      <th>mean</th>\n",
              "      <td>300.0</td>\n",
              "    </tr>\n",
              "    <tr>\n",
              "      <th>std</th>\n",
              "      <td>100.0</td>\n",
              "    </tr>\n",
              "    <tr>\n",
              "      <th>min</th>\n",
              "      <td>200.0</td>\n",
              "    </tr>\n",
              "    <tr>\n",
              "      <th>25%</th>\n",
              "      <td>250.0</td>\n",
              "    </tr>\n",
              "    <tr>\n",
              "      <th>50%</th>\n",
              "      <td>300.0</td>\n",
              "    </tr>\n",
              "    <tr>\n",
              "      <th>75%</th>\n",
              "      <td>350.0</td>\n",
              "    </tr>\n",
              "    <tr>\n",
              "      <th>max</th>\n",
              "      <td>400.0</td>\n",
              "    </tr>\n",
              "  </tbody>\n",
              "</table>\n",
              "</div>"
            ],
            "text/plain": [
              "       Valores\n",
              "count      3.0\n",
              "mean     300.0\n",
              "std      100.0\n",
              "min      200.0\n",
              "25%      250.0\n",
              "50%      300.0\n",
              "75%      350.0\n",
              "max      400.0"
            ]
          },
          "metadata": {
            "tags": []
          },
          "execution_count": 5
        }
      ]
    },
    {
      "cell_type": "markdown",
      "metadata": {
        "id": "fMn38pODmouS",
        "colab_type": "text"
      },
      "source": [
        "Criando um contador (índice)"
      ]
    },
    {
      "cell_type": "code",
      "metadata": {
        "id": "WoRI6Cizme_X",
        "colab_type": "code",
        "colab": {
          "base_uri": "https://localhost:8080/",
          "height": 136
        },
        "outputId": "3599a654-f8f6-4c0f-c800-c8acc1b970ed"
      },
      "source": [
        "datesDf['Indice'] = list(range(len(datesDf.index)))\n",
        "datesDf['Indice'] = datesDf['Indice'] + 1\n",
        "\n",
        "datesDf.head(5)"
      ],
      "execution_count": 6,
      "outputs": [
        {
          "output_type": "execute_result",
          "data": {
            "text/html": [
              "<div>\n",
              "<style scoped>\n",
              "    .dataframe tbody tr th:only-of-type {\n",
              "        vertical-align: middle;\n",
              "    }\n",
              "\n",
              "    .dataframe tbody tr th {\n",
              "        vertical-align: top;\n",
              "    }\n",
              "\n",
              "    .dataframe thead th {\n",
              "        text-align: right;\n",
              "    }\n",
              "</style>\n",
              "<table border=\"1\" class=\"dataframe\">\n",
              "  <thead>\n",
              "    <tr style=\"text-align: right;\">\n",
              "      <th></th>\n",
              "      <th>Data</th>\n",
              "      <th>Evento</th>\n",
              "      <th>Valores</th>\n",
              "      <th>Categoria</th>\n",
              "      <th>Date</th>\n",
              "      <th>ano</th>\n",
              "      <th>Indice</th>\n",
              "    </tr>\n",
              "  </thead>\n",
              "  <tbody>\n",
              "    <tr>\n",
              "      <th>0</th>\n",
              "      <td>2018-01-01</td>\n",
              "      <td>A</td>\n",
              "      <td>200</td>\n",
              "      <td>XL</td>\n",
              "      <td>2018-01-01</td>\n",
              "      <td>2018</td>\n",
              "      <td>1</td>\n",
              "    </tr>\n",
              "    <tr>\n",
              "      <th>1</th>\n",
              "      <td>2017-02-01</td>\n",
              "      <td>B</td>\n",
              "      <td>300</td>\n",
              "      <td>XL</td>\n",
              "      <td>2017-02-01</td>\n",
              "      <td>2017</td>\n",
              "      <td>2</td>\n",
              "    </tr>\n",
              "    <tr>\n",
              "      <th>2</th>\n",
              "      <td>2019-10-01</td>\n",
              "      <td>C</td>\n",
              "      <td>400</td>\n",
              "      <td>XS</td>\n",
              "      <td>2019-10-01</td>\n",
              "      <td>2019</td>\n",
              "      <td>3</td>\n",
              "    </tr>\n",
              "  </tbody>\n",
              "</table>\n",
              "</div>"
            ],
            "text/plain": [
              "         Data Evento  Valores Categoria       Date   ano  Indice\n",
              "0  2018-01-01      A      200        XL 2018-01-01  2018       1\n",
              "1  2017-02-01      B      300        XL 2017-02-01  2017       2\n",
              "2  2019-10-01      C      400        XS 2019-10-01  2019       3"
            ]
          },
          "metadata": {
            "tags": []
          },
          "execution_count": 6
        }
      ]
    },
    {
      "cell_type": "markdown",
      "metadata": {
        "id": "PY7xcGojH5Lg",
        "colab_type": "text"
      },
      "source": [
        "Contar distintos em um dataframe"
      ]
    },
    {
      "cell_type": "code",
      "metadata": {
        "id": "8hQN00VBD1MK",
        "colab_type": "code",
        "outputId": "3581145d-4150-401c-af87-9f5adc5e389c",
        "colab": {
          "base_uri": "https://localhost:8080/",
          "height": 34
        }
      },
      "source": [
        "print(len(datesDf['Categoria'].unique()))"
      ],
      "execution_count": 8,
      "outputs": [
        {
          "output_type": "stream",
          "text": [
            "2\n"
          ],
          "name": "stdout"
        }
      ]
    },
    {
      "cell_type": "markdown",
      "metadata": {
        "id": "z1FF48Nf-tGn",
        "colab_type": "text"
      },
      "source": [
        "Contagem por var categorica"
      ]
    },
    {
      "cell_type": "code",
      "metadata": {
        "id": "yOSt4nNisj1-",
        "colab_type": "code",
        "outputId": "150954f6-b7f9-4751-f563-b623b445c651",
        "colab": {
          "base_uri": "https://localhost:8080/",
          "height": 87
        }
      },
      "source": [
        "baseCount = datesDf.groupby(\"Categoria\")[\"Categoria\"].count() #tb funciona para sum\n",
        "\n",
        "baseCount.head(5)\n"
      ],
      "execution_count": 9,
      "outputs": [
        {
          "output_type": "execute_result",
          "data": {
            "text/plain": [
              "Categoria\n",
              "XL    2\n",
              "XS    1\n",
              "Name: Categoria, dtype: int64"
            ]
          },
          "metadata": {
            "tags": []
          },
          "execution_count": 9
        }
      ]
    },
    {
      "cell_type": "code",
      "metadata": {
        "id": "kf5ngARXu4OK",
        "colab_type": "code",
        "colab": {
          "base_uri": "https://localhost:8080/",
          "height": 87
        },
        "outputId": "9ec5bb6b-8c63-4224-c20a-b00dcb3ef2cc"
      },
      "source": [
        "baseSum = datesDf.groupby(\"Categoria\")[\"Valores\"].sum()\n",
        "\n",
        "baseSum.head(5)"
      ],
      "execution_count": 10,
      "outputs": [
        {
          "output_type": "execute_result",
          "data": {
            "text/plain": [
              "Categoria\n",
              "XL    500\n",
              "XS    400\n",
              "Name: Valores, dtype: int64"
            ]
          },
          "metadata": {
            "tags": []
          },
          "execution_count": 10
        }
      ]
    },
    {
      "cell_type": "markdown",
      "metadata": {
        "id": "hjwuJibvscEm",
        "colab_type": "text"
      },
      "source": [
        "Agregação Outras funções"
      ]
    },
    {
      "cell_type": "markdown",
      "metadata": {
        "id": "nH2Cst_i-zpv",
        "colab_type": "text"
      },
      "source": [
        "Agregação (médias, min, max) das variáveis numéricas por grupo"
      ]
    },
    {
      "cell_type": "code",
      "metadata": {
        "id": "8QpxTwYwn5JJ",
        "colab_type": "code",
        "outputId": "6b4d9023-6ac0-4aae-d204-bb129cf66a47",
        "colab": {
          "base_uri": "https://localhost:8080/",
          "height": 195
        }
      },
      "source": [
        "baseAgg = datesDf.groupby('Evento').agg({'Valores':['min','max','mean', 'first','last'], 'Categoria':['first']})\n",
        "\n",
        "baseAgg.head(5)"
      ],
      "execution_count": 0,
      "outputs": [
        {
          "output_type": "execute_result",
          "data": {
            "text/html": [
              "<div>\n",
              "<style scoped>\n",
              "    .dataframe tbody tr th:only-of-type {\n",
              "        vertical-align: middle;\n",
              "    }\n",
              "\n",
              "    .dataframe tbody tr th {\n",
              "        vertical-align: top;\n",
              "    }\n",
              "\n",
              "    .dataframe thead tr th {\n",
              "        text-align: left;\n",
              "    }\n",
              "\n",
              "    .dataframe thead tr:last-of-type th {\n",
              "        text-align: right;\n",
              "    }\n",
              "</style>\n",
              "<table border=\"1\" class=\"dataframe\">\n",
              "  <thead>\n",
              "    <tr>\n",
              "      <th></th>\n",
              "      <th colspan=\"5\" halign=\"left\">Valores</th>\n",
              "      <th>Categoria</th>\n",
              "    </tr>\n",
              "    <tr>\n",
              "      <th></th>\n",
              "      <th>min</th>\n",
              "      <th>max</th>\n",
              "      <th>mean</th>\n",
              "      <th>first</th>\n",
              "      <th>last</th>\n",
              "      <th>first</th>\n",
              "    </tr>\n",
              "    <tr>\n",
              "      <th>Evento</th>\n",
              "      <th></th>\n",
              "      <th></th>\n",
              "      <th></th>\n",
              "      <th></th>\n",
              "      <th></th>\n",
              "      <th></th>\n",
              "    </tr>\n",
              "  </thead>\n",
              "  <tbody>\n",
              "    <tr>\n",
              "      <th>A</th>\n",
              "      <td>200</td>\n",
              "      <td>200</td>\n",
              "      <td>200</td>\n",
              "      <td>200</td>\n",
              "      <td>200</td>\n",
              "      <td>XL</td>\n",
              "    </tr>\n",
              "    <tr>\n",
              "      <th>B</th>\n",
              "      <td>300</td>\n",
              "      <td>300</td>\n",
              "      <td>300</td>\n",
              "      <td>300</td>\n",
              "      <td>300</td>\n",
              "      <td>XL</td>\n",
              "    </tr>\n",
              "    <tr>\n",
              "      <th>C</th>\n",
              "      <td>400</td>\n",
              "      <td>400</td>\n",
              "      <td>400</td>\n",
              "      <td>400</td>\n",
              "      <td>400</td>\n",
              "      <td>XS</td>\n",
              "    </tr>\n",
              "  </tbody>\n",
              "</table>\n",
              "</div>"
            ],
            "text/plain": [
              "       Valores                      Categoria\n",
              "           min  max mean first last     first\n",
              "Evento                                       \n",
              "A          200  200  200   200  200        XL\n",
              "B          300  300  300   300  300        XL\n",
              "C          400  400  400   400  400        XS"
            ]
          },
          "metadata": {
            "tags": []
          },
          "execution_count": 6
        }
      ]
    },
    {
      "cell_type": "markdown",
      "metadata": {
        "id": "cGNaBVBV_FXo",
        "colab_type": "text"
      },
      "source": [
        "Seleciona Colunas"
      ]
    },
    {
      "cell_type": "code",
      "metadata": {
        "id": "87lKjqbV2lvY",
        "colab_type": "code",
        "outputId": "d5496f04-d3cb-445d-e3dd-5b5012a58f55",
        "colab": {
          "base_uri": "https://localhost:8080/",
          "height": 136
        }
      },
      "source": [
        "# select only required columns\n",
        "baseReduzida = datesDf[[\"Valores\", \"Evento\"]]\n",
        "\n",
        "baseReduzida.head()"
      ],
      "execution_count": 0,
      "outputs": [
        {
          "output_type": "execute_result",
          "data": {
            "text/html": [
              "<div>\n",
              "<style scoped>\n",
              "    .dataframe tbody tr th:only-of-type {\n",
              "        vertical-align: middle;\n",
              "    }\n",
              "\n",
              "    .dataframe tbody tr th {\n",
              "        vertical-align: top;\n",
              "    }\n",
              "\n",
              "    .dataframe thead th {\n",
              "        text-align: right;\n",
              "    }\n",
              "</style>\n",
              "<table border=\"1\" class=\"dataframe\">\n",
              "  <thead>\n",
              "    <tr style=\"text-align: right;\">\n",
              "      <th></th>\n",
              "      <th>Valores</th>\n",
              "      <th>Evento</th>\n",
              "    </tr>\n",
              "  </thead>\n",
              "  <tbody>\n",
              "    <tr>\n",
              "      <th>0</th>\n",
              "      <td>200</td>\n",
              "      <td>A</td>\n",
              "    </tr>\n",
              "    <tr>\n",
              "      <th>1</th>\n",
              "      <td>300</td>\n",
              "      <td>B</td>\n",
              "    </tr>\n",
              "    <tr>\n",
              "      <th>2</th>\n",
              "      <td>400</td>\n",
              "      <td>C</td>\n",
              "    </tr>\n",
              "  </tbody>\n",
              "</table>\n",
              "</div>"
            ],
            "text/plain": [
              "   Valores Evento\n",
              "0      200      A\n",
              "1      300      B\n",
              "2      400      C"
            ]
          },
          "metadata": {
            "tags": []
          },
          "execution_count": 7
        }
      ]
    },
    {
      "cell_type": "markdown",
      "metadata": {
        "id": "nzRLoovY_DpB",
        "colab_type": "text"
      },
      "source": [
        "Cria nova coluna"
      ]
    },
    {
      "cell_type": "code",
      "metadata": {
        "id": "_aI8SDwHK-1Z",
        "colab_type": "code",
        "outputId": "00d65f37-c4dc-4331-82fe-a67267e20db5",
        "colab": {
          "base_uri": "https://localhost:8080/",
          "height": 136
        }
      },
      "source": [
        "datesDf['Valores10Perc'] = datesDf['Valores'] * 1.1 #metodo mais simples - aplicando crescimento de 10%\n",
        "datesDf['Valores20Perc'] = datesDf['Valores'].apply(lambda x: x * 1.2) #com apply - aplicando crescimento de 20%\n",
        "\n",
        "#função que multiplica por 2 para ser aplicado na coluna\n",
        "def doubleData(x):\n",
        "   return x * 2\n",
        "\n",
        "datesDf['ValoresDobro'] = datesDf['Valores'].apply(doubleData) #com apply e função doubleData\n",
        "\n",
        "#função para criar faixa de valores\n",
        "def Status(x):\n",
        "  if x >= 300:\n",
        "    return 'faixa1'\n",
        "  else:\n",
        "    return 'faixa0'\n",
        "\n",
        "datesDf['Status'] = datesDf['Valores'].apply(Status) #com apply e função de classificação\n",
        "\n",
        "datesDf.head(5)"
      ],
      "execution_count": 12,
      "outputs": [
        {
          "output_type": "execute_result",
          "data": {
            "text/html": [
              "<div>\n",
              "<style scoped>\n",
              "    .dataframe tbody tr th:only-of-type {\n",
              "        vertical-align: middle;\n",
              "    }\n",
              "\n",
              "    .dataframe tbody tr th {\n",
              "        vertical-align: top;\n",
              "    }\n",
              "\n",
              "    .dataframe thead th {\n",
              "        text-align: right;\n",
              "    }\n",
              "</style>\n",
              "<table border=\"1\" class=\"dataframe\">\n",
              "  <thead>\n",
              "    <tr style=\"text-align: right;\">\n",
              "      <th></th>\n",
              "      <th>Data</th>\n",
              "      <th>Evento</th>\n",
              "      <th>Valores</th>\n",
              "      <th>Categoria</th>\n",
              "      <th>Date</th>\n",
              "      <th>ano</th>\n",
              "      <th>Indice</th>\n",
              "      <th>Valores10Perc</th>\n",
              "      <th>Valores20Perc</th>\n",
              "      <th>ValoresDobro</th>\n",
              "      <th>Status</th>\n",
              "    </tr>\n",
              "  </thead>\n",
              "  <tbody>\n",
              "    <tr>\n",
              "      <th>0</th>\n",
              "      <td>2018-01-01</td>\n",
              "      <td>A</td>\n",
              "      <td>200</td>\n",
              "      <td>XL</td>\n",
              "      <td>2018-01-01</td>\n",
              "      <td>2018</td>\n",
              "      <td>1</td>\n",
              "      <td>220.0</td>\n",
              "      <td>240.0</td>\n",
              "      <td>400</td>\n",
              "      <td>faixa0</td>\n",
              "    </tr>\n",
              "    <tr>\n",
              "      <th>1</th>\n",
              "      <td>2017-02-01</td>\n",
              "      <td>B</td>\n",
              "      <td>300</td>\n",
              "      <td>XL</td>\n",
              "      <td>2017-02-01</td>\n",
              "      <td>2017</td>\n",
              "      <td>2</td>\n",
              "      <td>330.0</td>\n",
              "      <td>360.0</td>\n",
              "      <td>600</td>\n",
              "      <td>faixa1</td>\n",
              "    </tr>\n",
              "    <tr>\n",
              "      <th>2</th>\n",
              "      <td>2019-10-01</td>\n",
              "      <td>C</td>\n",
              "      <td>400</td>\n",
              "      <td>XS</td>\n",
              "      <td>2019-10-01</td>\n",
              "      <td>2019</td>\n",
              "      <td>3</td>\n",
              "      <td>440.0</td>\n",
              "      <td>480.0</td>\n",
              "      <td>800</td>\n",
              "      <td>faixa1</td>\n",
              "    </tr>\n",
              "  </tbody>\n",
              "</table>\n",
              "</div>"
            ],
            "text/plain": [
              "         Data Evento  Valores  ... Valores20Perc ValoresDobro  Status\n",
              "0  2018-01-01      A      200  ...         240.0          400  faixa0\n",
              "1  2017-02-01      B      300  ...         360.0          600  faixa1\n",
              "2  2019-10-01      C      400  ...         480.0          800  faixa1\n",
              "\n",
              "[3 rows x 11 columns]"
            ]
          },
          "metadata": {
            "tags": []
          },
          "execution_count": 12
        }
      ]
    },
    {
      "cell_type": "markdown",
      "metadata": {
        "id": "hGcDkVIR-75J",
        "colab_type": "text"
      },
      "source": [
        "Tratamento NULLS"
      ]
    },
    {
      "cell_type": "code",
      "metadata": {
        "id": "9U7PPzKYNWni",
        "colab_type": "code",
        "outputId": "ca913871-1c74-4aed-d4c5-cc750f00457f",
        "colab": {
          "base_uri": "https://localhost:8080/",
          "height": 136
        }
      },
      "source": [
        "datesDf['exemploNull'] = np.nan # criando coluna de nulls para exemplo\n",
        "\n",
        "datesDf.head(5)"
      ],
      "execution_count": 13,
      "outputs": [
        {
          "output_type": "execute_result",
          "data": {
            "text/html": [
              "<div>\n",
              "<style scoped>\n",
              "    .dataframe tbody tr th:only-of-type {\n",
              "        vertical-align: middle;\n",
              "    }\n",
              "\n",
              "    .dataframe tbody tr th {\n",
              "        vertical-align: top;\n",
              "    }\n",
              "\n",
              "    .dataframe thead th {\n",
              "        text-align: right;\n",
              "    }\n",
              "</style>\n",
              "<table border=\"1\" class=\"dataframe\">\n",
              "  <thead>\n",
              "    <tr style=\"text-align: right;\">\n",
              "      <th></th>\n",
              "      <th>Data</th>\n",
              "      <th>Evento</th>\n",
              "      <th>Valores</th>\n",
              "      <th>Categoria</th>\n",
              "      <th>Date</th>\n",
              "      <th>ano</th>\n",
              "      <th>Indice</th>\n",
              "      <th>Valores10Perc</th>\n",
              "      <th>Valores20Perc</th>\n",
              "      <th>ValoresDobro</th>\n",
              "      <th>Status</th>\n",
              "      <th>exemploNull</th>\n",
              "    </tr>\n",
              "  </thead>\n",
              "  <tbody>\n",
              "    <tr>\n",
              "      <th>0</th>\n",
              "      <td>2018-01-01</td>\n",
              "      <td>A</td>\n",
              "      <td>200</td>\n",
              "      <td>XL</td>\n",
              "      <td>2018-01-01</td>\n",
              "      <td>2018</td>\n",
              "      <td>1</td>\n",
              "      <td>220.0</td>\n",
              "      <td>240.0</td>\n",
              "      <td>400</td>\n",
              "      <td>faixa0</td>\n",
              "      <td>NaN</td>\n",
              "    </tr>\n",
              "    <tr>\n",
              "      <th>1</th>\n",
              "      <td>2017-02-01</td>\n",
              "      <td>B</td>\n",
              "      <td>300</td>\n",
              "      <td>XL</td>\n",
              "      <td>2017-02-01</td>\n",
              "      <td>2017</td>\n",
              "      <td>2</td>\n",
              "      <td>330.0</td>\n",
              "      <td>360.0</td>\n",
              "      <td>600</td>\n",
              "      <td>faixa1</td>\n",
              "      <td>NaN</td>\n",
              "    </tr>\n",
              "    <tr>\n",
              "      <th>2</th>\n",
              "      <td>2019-10-01</td>\n",
              "      <td>C</td>\n",
              "      <td>400</td>\n",
              "      <td>XS</td>\n",
              "      <td>2019-10-01</td>\n",
              "      <td>2019</td>\n",
              "      <td>3</td>\n",
              "      <td>440.0</td>\n",
              "      <td>480.0</td>\n",
              "      <td>800</td>\n",
              "      <td>faixa1</td>\n",
              "      <td>NaN</td>\n",
              "    </tr>\n",
              "  </tbody>\n",
              "</table>\n",
              "</div>"
            ],
            "text/plain": [
              "         Data Evento  Valores  ... ValoresDobro  Status exemploNull\n",
              "0  2018-01-01      A      200  ...          400  faixa0         NaN\n",
              "1  2017-02-01      B      300  ...          600  faixa1         NaN\n",
              "2  2019-10-01      C      400  ...          800  faixa1         NaN\n",
              "\n",
              "[3 rows x 12 columns]"
            ]
          },
          "metadata": {
            "tags": []
          },
          "execution_count": 13
        }
      ]
    },
    {
      "cell_type": "markdown",
      "metadata": {
        "id": "M7PBZlWZPhWZ",
        "colab_type": "text"
      },
      "source": [
        "Operating on Null Values\n",
        "As we have seen, Pandas treats None and NaN as essentially interchangeable for indicating missing or null values. To facilitate this convention, there are several useful methods for detecting, removing, and replacing null values in Pandas data structures. They are:\n",
        "\n",
        "isnull(): Generate a boolean mask indicating missing values\n",
        "notnull(): Opposite of isnull()\n",
        "dropna(): Return a filtered version of the data\n",
        " fillna(): Return a copy of the data with missing values filled or imputed"
      ]
    },
    {
      "cell_type": "code",
      "metadata": {
        "id": "66sManpKNl5F",
        "colab_type": "code",
        "outputId": "a4f4a492-8c5a-4599-8ada-c95143825861",
        "colab": {
          "base_uri": "https://localhost:8080/",
          "height": 136
        }
      },
      "source": [
        "datesDf['exemploNull'] = datesDf['exemploNull'].fillna(0.0) #recodificando para 0\n",
        "\n",
        "datesDf.head(5)"
      ],
      "execution_count": 14,
      "outputs": [
        {
          "output_type": "execute_result",
          "data": {
            "text/html": [
              "<div>\n",
              "<style scoped>\n",
              "    .dataframe tbody tr th:only-of-type {\n",
              "        vertical-align: middle;\n",
              "    }\n",
              "\n",
              "    .dataframe tbody tr th {\n",
              "        vertical-align: top;\n",
              "    }\n",
              "\n",
              "    .dataframe thead th {\n",
              "        text-align: right;\n",
              "    }\n",
              "</style>\n",
              "<table border=\"1\" class=\"dataframe\">\n",
              "  <thead>\n",
              "    <tr style=\"text-align: right;\">\n",
              "      <th></th>\n",
              "      <th>Data</th>\n",
              "      <th>Evento</th>\n",
              "      <th>Valores</th>\n",
              "      <th>Categoria</th>\n",
              "      <th>Date</th>\n",
              "      <th>ano</th>\n",
              "      <th>Indice</th>\n",
              "      <th>Valores10Perc</th>\n",
              "      <th>Valores20Perc</th>\n",
              "      <th>ValoresDobro</th>\n",
              "      <th>Status</th>\n",
              "      <th>exemploNull</th>\n",
              "    </tr>\n",
              "  </thead>\n",
              "  <tbody>\n",
              "    <tr>\n",
              "      <th>0</th>\n",
              "      <td>2018-01-01</td>\n",
              "      <td>A</td>\n",
              "      <td>200</td>\n",
              "      <td>XL</td>\n",
              "      <td>2018-01-01</td>\n",
              "      <td>2018</td>\n",
              "      <td>1</td>\n",
              "      <td>220.0</td>\n",
              "      <td>240.0</td>\n",
              "      <td>400</td>\n",
              "      <td>faixa0</td>\n",
              "      <td>0.0</td>\n",
              "    </tr>\n",
              "    <tr>\n",
              "      <th>1</th>\n",
              "      <td>2017-02-01</td>\n",
              "      <td>B</td>\n",
              "      <td>300</td>\n",
              "      <td>XL</td>\n",
              "      <td>2017-02-01</td>\n",
              "      <td>2017</td>\n",
              "      <td>2</td>\n",
              "      <td>330.0</td>\n",
              "      <td>360.0</td>\n",
              "      <td>600</td>\n",
              "      <td>faixa1</td>\n",
              "      <td>0.0</td>\n",
              "    </tr>\n",
              "    <tr>\n",
              "      <th>2</th>\n",
              "      <td>2019-10-01</td>\n",
              "      <td>C</td>\n",
              "      <td>400</td>\n",
              "      <td>XS</td>\n",
              "      <td>2019-10-01</td>\n",
              "      <td>2019</td>\n",
              "      <td>3</td>\n",
              "      <td>440.0</td>\n",
              "      <td>480.0</td>\n",
              "      <td>800</td>\n",
              "      <td>faixa1</td>\n",
              "      <td>0.0</td>\n",
              "    </tr>\n",
              "  </tbody>\n",
              "</table>\n",
              "</div>"
            ],
            "text/plain": [
              "         Data Evento  Valores  ... ValoresDobro  Status exemploNull\n",
              "0  2018-01-01      A      200  ...          400  faixa0         0.0\n",
              "1  2017-02-01      B      300  ...          600  faixa1         0.0\n",
              "2  2019-10-01      C      400  ...          800  faixa1         0.0\n",
              "\n",
              "[3 rows x 12 columns]"
            ]
          },
          "metadata": {
            "tags": []
          },
          "execution_count": 14
        }
      ]
    },
    {
      "cell_type": "markdown",
      "metadata": {
        "id": "gywdtzE9_OjT",
        "colab_type": "text"
      },
      "source": [
        "Filtrar"
      ]
    },
    {
      "cell_type": "code",
      "metadata": {
        "id": "RBzFS2UGP3sQ",
        "colab_type": "code",
        "colab": {}
      },
      "source": [
        "\n",
        " #primeira forma\n",
        "datesFilter = datesDf[datesDf['Status'] == 'faixa1']\n",
        "\n"
      ],
      "execution_count": 0,
      "outputs": []
    },
    {
      "cell_type": "markdown",
      "metadata": {
        "id": "v_rfOFD3_TN0",
        "colab_type": "text"
      },
      "source": [
        "Filtrar por lista"
      ]
    },
    {
      "cell_type": "code",
      "metadata": {
        "id": "K9roHIE_UdXn",
        "colab_type": "code",
        "outputId": "e19daf94-cd7f-4263-f622-2b1c703bf23e",
        "colab": {
          "base_uri": "https://localhost:8080/",
          "height": 106
        }
      },
      "source": [
        "faixas = ['faixa1'] #permite mais de um valor\n",
        "\n",
        "datesFilter = datesDf[datesDf.Status.isin(faixas)]\n",
        "\n",
        "datesFilter.head(5)"
      ],
      "execution_count": 16,
      "outputs": [
        {
          "output_type": "execute_result",
          "data": {
            "text/html": [
              "<div>\n",
              "<style scoped>\n",
              "    .dataframe tbody tr th:only-of-type {\n",
              "        vertical-align: middle;\n",
              "    }\n",
              "\n",
              "    .dataframe tbody tr th {\n",
              "        vertical-align: top;\n",
              "    }\n",
              "\n",
              "    .dataframe thead th {\n",
              "        text-align: right;\n",
              "    }\n",
              "</style>\n",
              "<table border=\"1\" class=\"dataframe\">\n",
              "  <thead>\n",
              "    <tr style=\"text-align: right;\">\n",
              "      <th></th>\n",
              "      <th>Data</th>\n",
              "      <th>Evento</th>\n",
              "      <th>Valores</th>\n",
              "      <th>Categoria</th>\n",
              "      <th>Date</th>\n",
              "      <th>ano</th>\n",
              "      <th>Indice</th>\n",
              "      <th>Valores10Perc</th>\n",
              "      <th>Valores20Perc</th>\n",
              "      <th>ValoresDobro</th>\n",
              "      <th>Status</th>\n",
              "      <th>exemploNull</th>\n",
              "    </tr>\n",
              "  </thead>\n",
              "  <tbody>\n",
              "    <tr>\n",
              "      <th>1</th>\n",
              "      <td>2017-02-01</td>\n",
              "      <td>B</td>\n",
              "      <td>300</td>\n",
              "      <td>XL</td>\n",
              "      <td>2017-02-01</td>\n",
              "      <td>2017</td>\n",
              "      <td>2</td>\n",
              "      <td>330.0</td>\n",
              "      <td>360.0</td>\n",
              "      <td>600</td>\n",
              "      <td>faixa1</td>\n",
              "      <td>0.0</td>\n",
              "    </tr>\n",
              "    <tr>\n",
              "      <th>2</th>\n",
              "      <td>2019-10-01</td>\n",
              "      <td>C</td>\n",
              "      <td>400</td>\n",
              "      <td>XS</td>\n",
              "      <td>2019-10-01</td>\n",
              "      <td>2019</td>\n",
              "      <td>3</td>\n",
              "      <td>440.0</td>\n",
              "      <td>480.0</td>\n",
              "      <td>800</td>\n",
              "      <td>faixa1</td>\n",
              "      <td>0.0</td>\n",
              "    </tr>\n",
              "  </tbody>\n",
              "</table>\n",
              "</div>"
            ],
            "text/plain": [
              "         Data Evento  Valores  ... ValoresDobro  Status exemploNull\n",
              "1  2017-02-01      B      300  ...          600  faixa1         0.0\n",
              "2  2019-10-01      C      400  ...          800  faixa1         0.0\n",
              "\n",
              "[2 rows x 12 columns]"
            ]
          },
          "metadata": {
            "tags": []
          },
          "execution_count": 16
        }
      ]
    },
    {
      "cell_type": "markdown",
      "metadata": {
        "id": "zJoCr1qY_Vi0",
        "colab_type": "text"
      },
      "source": [
        "Filtrar com não contém"
      ]
    },
    {
      "cell_type": "code",
      "metadata": {
        "id": "ap47yDCPUoTj",
        "colab_type": "code",
        "outputId": "a7bb65c2-89f7-42f0-aa27-6f36c3fd4c3d",
        "colab": {
          "base_uri": "https://localhost:8080/",
          "height": 77
        }
      },
      "source": [
        "faixas = ['faixa1']#permite mais de um valor\n",
        "\n",
        "datesFilter = datesDf[~datesDf.Status.isin(faixas)] # naõ contém \n",
        "\n",
        "datesFilter.head(5)"
      ],
      "execution_count": 17,
      "outputs": [
        {
          "output_type": "execute_result",
          "data": {
            "text/html": [
              "<div>\n",
              "<style scoped>\n",
              "    .dataframe tbody tr th:only-of-type {\n",
              "        vertical-align: middle;\n",
              "    }\n",
              "\n",
              "    .dataframe tbody tr th {\n",
              "        vertical-align: top;\n",
              "    }\n",
              "\n",
              "    .dataframe thead th {\n",
              "        text-align: right;\n",
              "    }\n",
              "</style>\n",
              "<table border=\"1\" class=\"dataframe\">\n",
              "  <thead>\n",
              "    <tr style=\"text-align: right;\">\n",
              "      <th></th>\n",
              "      <th>Data</th>\n",
              "      <th>Evento</th>\n",
              "      <th>Valores</th>\n",
              "      <th>Categoria</th>\n",
              "      <th>Date</th>\n",
              "      <th>ano</th>\n",
              "      <th>Indice</th>\n",
              "      <th>Valores10Perc</th>\n",
              "      <th>Valores20Perc</th>\n",
              "      <th>ValoresDobro</th>\n",
              "      <th>Status</th>\n",
              "      <th>exemploNull</th>\n",
              "    </tr>\n",
              "  </thead>\n",
              "  <tbody>\n",
              "    <tr>\n",
              "      <th>0</th>\n",
              "      <td>2018-01-01</td>\n",
              "      <td>A</td>\n",
              "      <td>200</td>\n",
              "      <td>XL</td>\n",
              "      <td>2018-01-01</td>\n",
              "      <td>2018</td>\n",
              "      <td>1</td>\n",
              "      <td>220.0</td>\n",
              "      <td>240.0</td>\n",
              "      <td>400</td>\n",
              "      <td>faixa0</td>\n",
              "      <td>0.0</td>\n",
              "    </tr>\n",
              "  </tbody>\n",
              "</table>\n",
              "</div>"
            ],
            "text/plain": [
              "         Data Evento  Valores  ... ValoresDobro  Status exemploNull\n",
              "0  2018-01-01      A      200  ...          400  faixa0         0.0\n",
              "\n",
              "[1 rows x 12 columns]"
            ]
          },
          "metadata": {
            "tags": []
          },
          "execution_count": 17
        }
      ]
    },
    {
      "cell_type": "markdown",
      "metadata": {
        "id": "fSG5IQLk_dtW",
        "colab_type": "text"
      },
      "source": [
        "Join"
      ]
    },
    {
      "cell_type": "code",
      "metadata": {
        "id": "1Qq1HW-KxMBo",
        "colab_type": "code",
        "colab": {}
      },
      "source": [
        "# Trazendo a descrição dos eventos A, B e C para o dataFrame \"datesDf\"\n",
        "# Mas antes, vou criar um dataframe de testes \"DescriEventosDf\" com a descrição dos eventos A e B (não incluirei C para testar)  \n",
        "\n",
        "ChaveEventos = ['A','B']\n",
        "DescriEventos = ['Transacao concluida', 'Transacao negada']\n",
        "DescriEventosDf = pd.DataFrame({'Evento': ChaveEventos, 'Desc_Evento': DescriEventos})\n"
      ],
      "execution_count": 0,
      "outputs": []
    },
    {
      "cell_type": "code",
      "metadata": {
        "id": "Fzv_CU2WyvSq",
        "colab_type": "code",
        "colab": {
          "base_uri": "https://localhost:8080/",
          "height": 186
        },
        "outputId": "e9269997-029a-4155-ea61-602c9b1b6248"
      },
      "source": [
        "datesDfAdd = datesDf.join(DescriEventosDf.set_index('Evento'), on = 'Evento', how = 'left' )\n",
        "\n",
        "#pode usar lsuffix e rsuffix quando o nome das chaves é diferente. Ex: lsuffix='_caller', rsuffix='_other' (nesse caso não precisa inserir on e how)\n",
        "\n",
        "datesDfAdd.head(5)"
      ],
      "execution_count": 24,
      "outputs": [
        {
          "output_type": "execute_result",
          "data": {
            "text/html": [
              "<div>\n",
              "<style scoped>\n",
              "    .dataframe tbody tr th:only-of-type {\n",
              "        vertical-align: middle;\n",
              "    }\n",
              "\n",
              "    .dataframe tbody tr th {\n",
              "        vertical-align: top;\n",
              "    }\n",
              "\n",
              "    .dataframe thead th {\n",
              "        text-align: right;\n",
              "    }\n",
              "</style>\n",
              "<table border=\"1\" class=\"dataframe\">\n",
              "  <thead>\n",
              "    <tr style=\"text-align: right;\">\n",
              "      <th></th>\n",
              "      <th>Data</th>\n",
              "      <th>Evento</th>\n",
              "      <th>Valores</th>\n",
              "      <th>Categoria</th>\n",
              "      <th>Date</th>\n",
              "      <th>ano</th>\n",
              "      <th>Indice</th>\n",
              "      <th>Valores10Perc</th>\n",
              "      <th>Valores20Perc</th>\n",
              "      <th>ValoresDobro</th>\n",
              "      <th>Status</th>\n",
              "      <th>exemploNull</th>\n",
              "      <th>Desc_Evento</th>\n",
              "    </tr>\n",
              "  </thead>\n",
              "  <tbody>\n",
              "    <tr>\n",
              "      <th>0</th>\n",
              "      <td>2018-01-01</td>\n",
              "      <td>A</td>\n",
              "      <td>200</td>\n",
              "      <td>XL</td>\n",
              "      <td>2018-01-01</td>\n",
              "      <td>2018</td>\n",
              "      <td>1</td>\n",
              "      <td>220.0</td>\n",
              "      <td>240.0</td>\n",
              "      <td>400</td>\n",
              "      <td>faixa0</td>\n",
              "      <td>0.0</td>\n",
              "      <td>Transacao concluida</td>\n",
              "    </tr>\n",
              "    <tr>\n",
              "      <th>1</th>\n",
              "      <td>2017-02-01</td>\n",
              "      <td>B</td>\n",
              "      <td>300</td>\n",
              "      <td>XL</td>\n",
              "      <td>2017-02-01</td>\n",
              "      <td>2017</td>\n",
              "      <td>2</td>\n",
              "      <td>330.0</td>\n",
              "      <td>360.0</td>\n",
              "      <td>600</td>\n",
              "      <td>faixa1</td>\n",
              "      <td>0.0</td>\n",
              "      <td>Transacao negada</td>\n",
              "    </tr>\n",
              "    <tr>\n",
              "      <th>2</th>\n",
              "      <td>2019-10-01</td>\n",
              "      <td>C</td>\n",
              "      <td>400</td>\n",
              "      <td>XS</td>\n",
              "      <td>2019-10-01</td>\n",
              "      <td>2019</td>\n",
              "      <td>3</td>\n",
              "      <td>440.0</td>\n",
              "      <td>480.0</td>\n",
              "      <td>800</td>\n",
              "      <td>faixa1</td>\n",
              "      <td>0.0</td>\n",
              "      <td>NaN</td>\n",
              "    </tr>\n",
              "  </tbody>\n",
              "</table>\n",
              "</div>"
            ],
            "text/plain": [
              "         Data Evento  Valores  ...  Status exemploNull          Desc_Evento\n",
              "0  2018-01-01      A      200  ...  faixa0         0.0  Transacao concluida\n",
              "1  2017-02-01      B      300  ...  faixa1         0.0     Transacao negada\n",
              "2  2019-10-01      C      400  ...  faixa1         0.0                  NaN\n",
              "\n",
              "[3 rows x 13 columns]"
            ]
          },
          "metadata": {
            "tags": []
          },
          "execution_count": 24
        }
      ]
    },
    {
      "cell_type": "code",
      "metadata": {
        "id": "601NwCEo1k9M",
        "colab_type": "code",
        "colab": {
          "base_uri": "https://localhost:8080/",
          "height": 140
        },
        "outputId": "2ca90427-275e-4572-9779-9c0264c86576"
      },
      "source": [
        "datesDfAdd2 = datesDf.join(DescriEventosDf.set_index('Evento'), on = 'Evento', how = 'right' )\n",
        "\n",
        "datesDfAdd2.head(5)"
      ],
      "execution_count": 25,
      "outputs": [
        {
          "output_type": "execute_result",
          "data": {
            "text/html": [
              "<div>\n",
              "<style scoped>\n",
              "    .dataframe tbody tr th:only-of-type {\n",
              "        vertical-align: middle;\n",
              "    }\n",
              "\n",
              "    .dataframe tbody tr th {\n",
              "        vertical-align: top;\n",
              "    }\n",
              "\n",
              "    .dataframe thead th {\n",
              "        text-align: right;\n",
              "    }\n",
              "</style>\n",
              "<table border=\"1\" class=\"dataframe\">\n",
              "  <thead>\n",
              "    <tr style=\"text-align: right;\">\n",
              "      <th></th>\n",
              "      <th>Data</th>\n",
              "      <th>Evento</th>\n",
              "      <th>Valores</th>\n",
              "      <th>Categoria</th>\n",
              "      <th>Date</th>\n",
              "      <th>ano</th>\n",
              "      <th>Indice</th>\n",
              "      <th>Valores10Perc</th>\n",
              "      <th>Valores20Perc</th>\n",
              "      <th>ValoresDobro</th>\n",
              "      <th>Status</th>\n",
              "      <th>exemploNull</th>\n",
              "      <th>Desc_Evento</th>\n",
              "    </tr>\n",
              "  </thead>\n",
              "  <tbody>\n",
              "    <tr>\n",
              "      <th>0</th>\n",
              "      <td>2018-01-01</td>\n",
              "      <td>A</td>\n",
              "      <td>200</td>\n",
              "      <td>XL</td>\n",
              "      <td>2018-01-01</td>\n",
              "      <td>2018</td>\n",
              "      <td>1</td>\n",
              "      <td>220.0</td>\n",
              "      <td>240.0</td>\n",
              "      <td>400</td>\n",
              "      <td>faixa0</td>\n",
              "      <td>0.0</td>\n",
              "      <td>Transacao concluida</td>\n",
              "    </tr>\n",
              "    <tr>\n",
              "      <th>1</th>\n",
              "      <td>2017-02-01</td>\n",
              "      <td>B</td>\n",
              "      <td>300</td>\n",
              "      <td>XL</td>\n",
              "      <td>2017-02-01</td>\n",
              "      <td>2017</td>\n",
              "      <td>2</td>\n",
              "      <td>330.0</td>\n",
              "      <td>360.0</td>\n",
              "      <td>600</td>\n",
              "      <td>faixa1</td>\n",
              "      <td>0.0</td>\n",
              "      <td>Transacao negada</td>\n",
              "    </tr>\n",
              "  </tbody>\n",
              "</table>\n",
              "</div>"
            ],
            "text/plain": [
              "         Data Evento  Valores  ...  Status exemploNull          Desc_Evento\n",
              "0  2018-01-01      A      200  ...  faixa0         0.0  Transacao concluida\n",
              "1  2017-02-01      B      300  ...  faixa1         0.0     Transacao negada\n",
              "\n",
              "[2 rows x 13 columns]"
            ]
          },
          "metadata": {
            "tags": []
          },
          "execution_count": 25
        }
      ]
    },
    {
      "cell_type": "markdown",
      "metadata": {
        "id": "PcyDm2n6_ilV",
        "colab_type": "text"
      },
      "source": [
        "Histograma"
      ]
    },
    {
      "cell_type": "code",
      "metadata": {
        "id": "BiBHt0ey43Bu",
        "colab_type": "code",
        "colab": {
          "base_uri": "https://localhost:8080/",
          "height": 265
        },
        "outputId": "afed0161-2c74-47a2-879e-64485e9f40ac"
      },
      "source": [
        "import matplotlib.pyplot as plt\n",
        "\n",
        "\n",
        "plt.hist(datesDf['Categoria'], bins = 5)\n",
        "\n",
        "plt.show()"
      ],
      "execution_count": 33,
      "outputs": [
        {
          "output_type": "display_data",
          "data": {
            "image/png": "[encoded data removed]",
            "text/plain": [
              "<Figure size 432x288 with 1 Axes>"
            ]
          },
          "metadata": {
            "tags": []
          }
        }
      ]
    },
    {
      "cell_type": "markdown",
      "metadata": {
        "id": "TVt46WMaTzQE",
        "colab_type": "text"
      },
      "source": [
        "Scatterplot"
      ]
    },
    {
      "cell_type": "code",
      "metadata": {
        "id": "tO4sduaf5qJi",
        "colab_type": "code",
        "colab": {
          "base_uri": "https://localhost:8080/",
          "height": 282
        },
        "outputId": "490c4bb6-e49f-4a6e-84bf-66ad1abcbb66"
      },
      "source": [
        "fig = plt.figure()\n",
        "ax = fig.add_subplot(1,1,1)\n",
        "ax.scatter(datesDf['Valores10Perc'],datesDf['Valores20Perc'])"
      ],
      "execution_count": 35,
      "outputs": [
        {
          "output_type": "execute_result",
          "data": {
            "text/plain": [
              "<matplotlib.collections.PathCollection at 0x7fabb55ae390>"
            ]
          },
          "metadata": {
            "tags": []
          },
          "execution_count": 35
        },
        {
          "output_type": "display_data",
          "data": {
            "image/png": "[encoded data removed]",
            "text/plain": [
              "<Figure size 432x288 with 1 Axes>"
            ]
          },
          "metadata": {
            "tags": []
          }
        }
      ]
    },
    {
      "cell_type": "code",
      "metadata": {
        "id": "ubJ2cydRTlBU",
        "colab_type": "code",
        "colab": {}
      },
      "source": [
        ""
      ],
      "execution_count": 0,
      "outputs": []
    }
  ]
}