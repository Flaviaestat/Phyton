{
  "nbformat": 4,
  "nbformat_minor": 0,
  "metadata": {
    "colab": {
      "name": "00_Principais_Phyton.ipynb",
      "provenance": [],
      "toc_visible": true,
      "include_colab_link": true
    },
    "kernelspec": {
      "name": "python3",
      "display_name": "Python 3"
    }
  },
  "cells": [
    {
      "cell_type": "markdown",
      "metadata": {
        "id": "view-in-github",
        "colab_type": "text"
      },
      "source": [
        "<a href=\"https://colab.research.google.com/github/Flaviaestat/Phyton/blob/master/00_Principais_Phyton.ipynb\" target=\"_parent\"><img src=\"https://colab.research.google.com/assets/colab-badge.svg\" alt=\"Open In Colab\"/></a>"
      ]
    },
    {
      "cell_type": "markdown",
      "metadata": {
        "id": "FXvVgAqKd59P",
        "colab_type": "text"
      },
      "source": [
        "### RESUMÃO PHYTON"
      ]
    },
    {
      "cell_type": "markdown",
      "metadata": {
        "id": "Oxt3AlYfaVAX",
        "colab_type": "text"
      },
      "source": [
        "Operadores Condicionais\n"
      ]
    },
    {
      "cell_type": "code",
      "metadata": {
        "id": "qfkZMyo4aS9U",
        "colab_type": "code",
        "colab": {
          "base_uri": "https://localhost:8080/",
          "height": 34
        },
        "outputId": "15af9394-1d92-411a-ca84-13949fd0dccb"
      },
      "source": [
        "x = 300\n",
        "\n",
        "if x == 300:\n",
        "  status = 'Na mosca!'\n",
        "elif x>= 300:\n",
        "  status = 'Maior!'\n",
        "else:\n",
        "  status = 'Menor :('\n",
        "\n",
        "print('O valor é ' + status)\n",
        "\n"
      ],
      "execution_count": 6,
      "outputs": [
        {
          "output_type": "stream",
          "text": [
            "O valor é Na mosca!\n"
          ],
          "name": "stdout"
        }
      ]
    },
    {
      "cell_type": "markdown",
      "metadata": {
        "id": "ZSGKVo8kbvm7",
        "colab_type": "text"
      },
      "source": [
        "Estrutura de loop básica\n"
      ]
    },
    {
      "cell_type": "code",
      "metadata": {
        "id": "MmpfkZDcb0i2",
        "colab_type": "code",
        "colab": {
          "base_uri": "https://localhost:8080/",
          "height": 158
        },
        "outputId": "b2f707d1-eb65-4f29-9c86-46126a24ed66"
      },
      "source": [
        "numeros = []\n",
        "multiplo = 3\n",
        "\n",
        "for i in range(0,10):\n",
        "  resto = i%multiplo\n",
        "  numeros.append( i * resto)\n",
        "\n",
        "\n",
        "print('Mostra apenas os multiplos de ' + str(multiplo) + ' :')\n",
        "print(numeros)\n",
        "print('O último elemento é')\n",
        "print(numeros[-1])\n",
        "print('O primeiro elemento é')\n",
        "print(numeros[0])\n",
        "print('O segundo é')\n",
        "print(numeros[1])\n",
        "\n",
        "\n"
      ],
      "execution_count": 23,
      "outputs": [
        {
          "output_type": "stream",
          "text": [
            "Mostra apenas os multiplos de 3 :\n",
            "[0, 1, 4, 0, 4, 10, 0, 7, 16, 0]\n",
            "O último elemento é\n",
            "0\n",
            "O primeiro elemento é\n",
            "0\n",
            "O segundo é\n",
            "1\n"
          ],
          "name": "stdout"
        }
      ]
    },
    {
      "cell_type": "markdown",
      "metadata": {
        "id": "BVds-CLegJbj",
        "colab_type": "text"
      },
      "source": [
        "Input box"
      ]
    },
    {
      "cell_type": "code",
      "metadata": {
        "id": "7wmG9pp9gFQZ",
        "colab_type": "code",
        "colab": {
          "base_uri": "https://localhost:8080/",
          "height": 34
        },
        "outputId": "f6f20664-c907-4c92-b26e-6c36117c2237"
      },
      "source": [
        "  age = input('Qual a sua idade?')\n"
      ],
      "execution_count": 29,
      "outputs": [
        {
          "output_type": "stream",
          "text": [
            "Qual a sua idade?20\n"
          ],
          "name": "stdout"
        }
      ]
    },
    {
      "cell_type": "code",
      "metadata": {
        "id": "RcDW4NcWtcwk",
        "colab_type": "code",
        "colab": {
          "base_uri": "https://localhost:8080/",
          "height": 34
        },
        "outputId": "5edeffbf-9d42-4e63-ba39-1f04079485ae"
      },
      "source": [
        "dates = ['2018-01-01','2017-02-01']\n",
        "\n",
        "months = dates[5:1]\n",
        "print(months)\n"
      ],
      "execution_count": 39,
      "outputs": [
        {
          "output_type": "stream",
          "text": [
            "[]\n"
          ],
          "name": "stdout"
        }
      ]
    },
    {
      "cell_type": "markdown",
      "metadata": {
        "id": "mYd4AtK9eFlQ",
        "colab_type": "text"
      },
      "source": [
        "Função"
      ]
    },
    {
      "cell_type": "code",
      "metadata": {
        "id": "dRr6uIyieIEa",
        "colab_type": "code",
        "colab": {}
      },
      "source": [
        "def idade(n):\n",
        "\n",
        "  x = n * 2\n",
        "  y = n / 2\n",
        "  print('o dobro da sua idade é :' + str(x))\n",
        "  print('a metade da sua idade é :' + str(y))\n",
        "\n"
      ],
      "execution_count": 0,
      "outputs": []
    },
    {
      "cell_type": "code",
      "metadata": {
        "id": "mKzMa59Uf8Ci",
        "colab_type": "code",
        "colab": {
          "base_uri": "https://localhost:8080/",
          "height": 52
        },
        "outputId": "bf81b681-1f5d-4d6a-f805-325eb412038b"
      },
      "source": [
        "idade(20)"
      ],
      "execution_count": 33,
      "outputs": [
        {
          "output_type": "stream",
          "text": [
            "o dobro da sua idade é :40\n",
            "a metade da sua idade é :10.0\n"
          ],
          "name": "stdout"
        }
      ]
    },
    {
      "cell_type": "code",
      "metadata": {
        "id": "oBxWAz4b4tLT",
        "colab_type": "code",
        "colab": {
          "base_uri": "https://localhost:8080/",
          "height": 263
        },
        "outputId": "8fd08cc2-431c-4f65-c588-066e2937bdb3"
      },
      "source": [
        "def fizzBuzz(n):\n",
        "    # Write your code here\n",
        "\n",
        "    for i in range (1,n):\n",
        "\n",
        "        if i%3 == 0 and i%5 == 0:\n",
        "            print('FizzBuzz')\n",
        "        elif i%3 == 0:\n",
        "            print('Fizz')\n",
        "        elif i%5 == 0:\n",
        "            print('Buzz')\n",
        "        else:\n",
        "            print(i)\n",
        "\n",
        "fizzBuzz(15)"
      ],
      "execution_count": 60,
      "outputs": [
        {
          "output_type": "stream",
          "text": [
            "1\n",
            "2\n",
            "Fizz\n",
            "4\n",
            "Buzz\n",
            "Fizz\n",
            "7\n",
            "8\n",
            "Fizz\n",
            "Buzz\n",
            "11\n",
            "Fizz\n",
            "13\n",
            "14\n"
          ],
          "name": "stdout"
        }
      ]
    },
    {
      "cell_type": "markdown",
      "metadata": {
        "id": "Pd9dl2nv46VZ",
        "colab_type": "text"
      },
      "source": [
        "Manipulação com arrays"
      ]
    },
    {
      "cell_type": "code",
      "metadata": {
        "id": "ogdUS9StvfHK",
        "colab_type": "code",
        "colab": {
          "base_uri": "https://localhost:8080/",
          "height": 52
        },
        "outputId": "a73734c1-ff3b-46ea-8dee-ca6bc3473172"
      },
      "source": [
        "estados = ['GO', 'GO', 'SP', 'RJ']\n",
        "\n",
        "estados_distintos = set(estados)\n",
        "\n",
        "print(estados_distintos)\n",
        "\n",
        "for index,element in enumerate(estados_distintos):\n",
        "    lista = index,element\n",
        "\n",
        "\n",
        "print(lista[1])\n",
        "\n"
      ],
      "execution_count": 59,
      "outputs": [
        {
          "output_type": "stream",
          "text": [
            "{'GO', 'SP', 'RJ'}\n",
            "RJ\n"
          ],
          "name": "stdout"
        }
      ]
    },
    {
      "cell_type": "markdown",
      "metadata": {
        "id": "SuMdRNUC-Swd",
        "colab_type": "text"
      },
      "source": [
        "**Carregamento da base e visualização**"
      ]
    },
    {
      "cell_type": "code",
      "metadata": {
        "id": "zsu9J_E29K0l",
        "colab_type": "code",
        "colab": {}
      },
      "source": [
        "import numpy as np\n",
        "import pandas as pd\n",
        "\n",
        "path = ''"
      ],
      "execution_count": 0,
      "outputs": []
    },
    {
      "cell_type": "markdown",
      "metadata": {
        "id": "L_LsST8L-eP-",
        "colab_type": "text"
      },
      "source": [
        "**Descrever features**"
      ]
    },
    {
      "cell_type": "code",
      "metadata": {
        "id": "TkNGobvT-jTw",
        "colab_type": "code",
        "colab": {}
      },
      "source": [
        ""
      ],
      "execution_count": 0,
      "outputs": []
    },
    {
      "cell_type": "markdown",
      "metadata": {
        "id": "z1FF48Nf-tGn",
        "colab_type": "text"
      },
      "source": [
        "Contagem por var categorica"
      ]
    },
    {
      "cell_type": "markdown",
      "metadata": {
        "id": "nH2Cst_i-zpv",
        "colab_type": "text"
      },
      "source": [
        "Agregação (médias, min, max) das variáveis numéricas por grupo"
      ]
    },
    {
      "cell_type": "markdown",
      "metadata": {
        "id": "hGcDkVIR-75J",
        "colab_type": "text"
      },
      "source": [
        "Tratamento NULLS"
      ]
    },
    {
      "cell_type": "markdown",
      "metadata": {
        "id": "cGNaBVBV_FXo",
        "colab_type": "text"
      },
      "source": [
        "Seleciona Colunas"
      ]
    },
    {
      "cell_type": "markdown",
      "metadata": {
        "id": "nzRLoovY_DpB",
        "colab_type": "text"
      },
      "source": [
        "Cria nova coluna - referenciar funções"
      ]
    },
    {
      "cell_type": "markdown",
      "metadata": {
        "id": "gywdtzE9_OjT",
        "colab_type": "text"
      },
      "source": [
        "Filtrar"
      ]
    },
    {
      "cell_type": "markdown",
      "metadata": {
        "id": "v_rfOFD3_TN0",
        "colab_type": "text"
      },
      "source": [
        "Filtrar por lista"
      ]
    },
    {
      "cell_type": "markdown",
      "metadata": {
        "id": "zJoCr1qY_Vi0",
        "colab_type": "text"
      },
      "source": [
        "Filtrar com contém / não contém"
      ]
    },
    {
      "cell_type": "markdown",
      "metadata": {
        "id": "gDHq9rT8_Yxa",
        "colab_type": "text"
      },
      "source": [
        "Negação"
      ]
    },
    {
      "cell_type": "markdown",
      "metadata": {
        "id": "fSG5IQLk_dtW",
        "colab_type": "text"
      },
      "source": [
        "Join"
      ]
    },
    {
      "cell_type": "markdown",
      "metadata": {
        "id": "PcyDm2n6_ilV",
        "colab_type": "text"
      },
      "source": [
        "Histograma"
      ]
    }
  ]
}