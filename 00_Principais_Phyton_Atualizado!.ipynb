{
  "cells": [
    {
      "cell_type": "markdown",
      "metadata": {
        "id": "view-in-github",
        "colab_type": "text"
      },
      "source": [
        "<a href=\"https://colab.research.google.com/github/Flaviaestat/Phyton/blob/master/00_Principais_Phyton_Atualizado!.ipynb\" target=\"_parent\"><img src=\"https://colab.research.google.com/assets/colab-badge.svg\" alt=\"Open In Colab\"/></a>"
      ]
    },
    {
      "cell_type": "markdown",
      "source": [
        "# Nova seção"
      ],
      "metadata": {
        "id": "8MupBZCKX40h"
      }
    },
    {
      "cell_type": "markdown",
      "metadata": {
        "id": "FXvVgAqKd59P"
      },
      "source": [
        "### RESUMÃO PHYTON"
      ]
    },
    {
      "cell_type": "markdown",
      "source": [
        "#### Operadores, loops e funções básicas"
      ],
      "metadata": {
        "id": "ck-oTQ2fvALL"
      }
    },
    {
      "cell_type": "markdown",
      "metadata": {
        "id": "Oxt3AlYfaVAX"
      },
      "source": [
        "Operadores Condicionais\n"
      ]
    },
    {
      "cell_type": "code",
      "execution_count": null,
      "metadata": {
        "colab": {
          "base_uri": "https://localhost:8080/",
          "height": 34
        },
        "id": "qfkZMyo4aS9U",
        "outputId": "49923e70-e826-4495-aa61-bfbb5fe35d8d"
      },
      "outputs": [
        {
          "name": "stdout",
          "output_type": "stream",
          "text": [
            "O valor é Na mosca!\n"
          ]
        }
      ],
      "source": [
        "x = 300\n",
        "\n",
        "if x == 300:\n",
        "  status = 'Na mosca!'\n",
        "elif x > 300:\n",
        "  status = 'Maior!'\n",
        "else:\n",
        "  status = 'Menor :('\n",
        "\n",
        "print('O valor é ' + status)\n",
        "\n"
      ]
    },
    {
      "cell_type": "markdown",
      "metadata": {
        "id": "ZSGKVo8kbvm7"
      },
      "source": [
        "Estrutura de loop básica\n"
      ]
    },
    {
      "cell_type": "code",
      "execution_count": null,
      "metadata": {
        "colab": {
          "base_uri": "https://localhost:8080/",
          "height": 193
        },
        "id": "ay7o7Oom9P1T",
        "outputId": "9e74fc70-8b60-4ac0-f5e2-a442261e2851"
      },
      "outputs": [
        {
          "name": "stdout",
          "output_type": "stream",
          "text": [
            "0\n",
            "0\n",
            "1\n",
            "2\n",
            "2\n",
            "4\n",
            "3\n",
            "6\n",
            "4\n",
            "8\n"
          ]
        }
      ],
      "source": [
        "for i in range(0,5):\n",
        "\n",
        "  print(i)\n",
        "  print( i * 2)\n"
      ]
    },
    {
      "cell_type": "code",
      "execution_count": null,
      "metadata": {
        "colab": {
          "base_uri": "https://localhost:8080/",
          "height": 193
        },
        "id": "MmpfkZDcb0i2",
        "outputId": "576bc68b-912e-42d0-88c4-2778fa0e2cfc"
      },
      "outputs": [
        {
          "name": "stdout",
          "output_type": "stream",
          "text": [
            "Transforma em zero os multiplos de 2 :\n",
            "[0, 1, 0, 3, 0, 5, 0, 7, 0, 9, 0, 11, 0, 13, 0, 15, 0, 17, 0, 19, 0]\n",
            "O último elemento é\n",
            "0\n",
            "O penúltimo elemento é\n",
            "19\n",
            "O primeiro elemento é\n",
            "0\n",
            "O segundo é\n",
            "1\n"
          ]
        }
      ],
      "source": [
        "numeros = []\n",
        "multiplo = 2\n",
        "\n",
        "ultimoDoRange = 20\n",
        "\n",
        "for i in range(0, ultimoDoRange + 1):\n",
        "  resto = i%multiplo\n",
        "  numeros.append( i * resto)\n",
        "\n",
        "print('Transforma em zero os multiplos de ' + str(multiplo) + ' :')\n",
        "print(numeros)\n",
        "print('O último elemento é')\n",
        "print(numeros[-1])\n",
        "\n",
        "print('O penúltimo elemento é')\n",
        "print(numeros[-2])\n",
        "\n",
        "print('O primeiro elemento é')\n",
        "print(numeros[0])\n",
        "print('O segundo é')\n",
        "print(numeros[1])\n",
        "\n",
        "\n"
      ]
    },
    {
      "cell_type": "markdown",
      "metadata": {
        "id": "BVds-CLegJbj"
      },
      "source": [
        "Input box"
      ]
    },
    {
      "cell_type": "code",
      "execution_count": null,
      "metadata": {
        "colab": {
          "base_uri": "https://localhost:8080/",
          "height": 34
        },
        "id": "7wmG9pp9gFQZ",
        "outputId": "b10ac6d8-457b-4d57-ea09-f94a6265087b"
      },
      "outputs": [
        {
          "name": "stdout",
          "output_type": "stream",
          "text": [
            "Qual a sua idade?40\n"
          ]
        }
      ],
      "source": [
        "  age = input('Qual a sua idade?')\n"
      ]
    },
    {
      "cell_type": "code",
      "execution_count": null,
      "metadata": {
        "colab": {
          "base_uri": "https://localhost:8080/",
          "height": 34
        },
        "id": "uDPzYmU9_SN2",
        "outputId": "a1f09fb8-c2eb-4349-dd74-b82f67730846"
      },
      "outputs": [
        {
          "data": {
            "text/plain": [
              "'40'"
            ]
          },
          "execution_count": 15,
          "metadata": {
            "tags": []
          },
          "output_type": "execute_result"
        }
      ],
      "source": [
        "age"
      ]
    },
    {
      "cell_type": "markdown",
      "metadata": {
        "id": "mYd4AtK9eFlQ"
      },
      "source": [
        "#### Função básica"
      ]
    },
    {
      "cell_type": "code",
      "execution_count": null,
      "metadata": {
        "id": "dRr6uIyieIEa"
      },
      "outputs": [],
      "source": [
        "def idade(n):\n",
        "  m = int(n)\n",
        "  x = m * 2\n",
        "  y = m / 2\n",
        "  print('o dobro da sua idade é: ' + str(x))\n",
        "  print('a metade da sua idade é: ' + str(y))\n",
        "\n"
      ]
    },
    {
      "cell_type": "code",
      "execution_count": null,
      "metadata": {
        "colab": {
          "base_uri": "https://localhost:8080/",
          "height": 52
        },
        "id": "mKzMa59Uf8Ci",
        "outputId": "2d29f959-907c-4eb9-ae10-91fc0fdfd97d"
      },
      "outputs": [
        {
          "name": "stdout",
          "output_type": "stream",
          "text": [
            "o dobro da sua idade é: 80\n",
            "a metade da sua idade é: 20.0\n"
          ]
        }
      ],
      "source": [
        "# Chamada da função\n",
        "idade(age)"
      ]
    },
    {
      "cell_type": "code",
      "execution_count": null,
      "metadata": {
        "colab": {
          "base_uri": "https://localhost:8080/",
          "height": 281
        },
        "id": "oBxWAz4b4tLT",
        "outputId": "77bd79f6-3071-4dbf-dba4-716bc3658ac6"
      },
      "outputs": [
        {
          "name": "stdout",
          "output_type": "stream",
          "text": [
            "1\n",
            "2\n",
            "Fizz\n",
            "4\n",
            "Buzz\n",
            "Fizz\n",
            "7\n",
            "8\n",
            "Fizz\n",
            "Buzz\n",
            "11\n",
            "Fizz\n",
            "13\n",
            "14\n",
            "FizzBuzz\n"
          ]
        }
      ],
      "source": [
        "def fizzBuzz(n):\n",
        "    # Write your code here\n",
        "\n",
        "    for i in range (1,n+1):\n",
        "\n",
        "        if i%3 == 0 and i%5 == 0:\n",
        "            print('FizzBuzz')\n",
        "        elif i%3 == 0:\n",
        "            print('Fizz')\n",
        "        elif i%5 == 0:\n",
        "            print('Buzz')\n",
        "        else:\n",
        "            print(i)\n",
        "\n",
        "fizzBuzz(15)"
      ]
    },
    {
      "cell_type": "markdown",
      "metadata": {
        "id": "Pd9dl2nv46VZ"
      },
      "source": [
        "Manipulação com arrays"
      ]
    },
    {
      "cell_type": "code",
      "execution_count": null,
      "metadata": {
        "colab": {
          "base_uri": "https://localhost:8080/",
          "height": 34
        },
        "id": "RcDW4NcWtcwk",
        "outputId": "5d79549e-eb5f-4494-e82c-b039f7869883"
      },
      "outputs": [
        {
          "name": "stdout",
          "output_type": "stream",
          "text": [
            "[]\n"
          ]
        }
      ],
      "source": [
        "dates = ['2018-01-01','2017-02-01', '2019-10-01']\n",
        "evento = ['A','B','C']\n",
        "valores = [200,300,400]\n",
        "categoria = ['XL', 'XL','XS']\n",
        "\n",
        "months = dates[5:1] #não consegui extrair uma posição no string do array - mais fácil no pandas\n",
        "print(months)\n"
      ]
    },
    {
      "cell_type": "code",
      "execution_count": null,
      "metadata": {
        "colab": {
          "base_uri": "https://localhost:8080/",
          "height": 52
        },
        "id": "ogdUS9StvfHK",
        "outputId": "3eb58696-9d47-47af-88f9-7e1c5fa62b28"
      },
      "outputs": [
        {
          "name": "stdout",
          "output_type": "stream",
          "text": [
            "{'SP', 'GO', 'RJ'}\n",
            "(2, 'RJ')\n"
          ]
        }
      ],
      "source": [
        "estados = ['GO', 'GO', 'SP', 'RJ']\n",
        "\n",
        "estados_distintos = set(estados)\n",
        "\n",
        "print(estados_distintos)\n",
        "\n",
        "for index,element in enumerate(estados_distintos):\n",
        "    lista = index,element\n",
        "\n",
        "print(lista)\n"
      ]
    },
    {
      "cell_type": "markdown",
      "source": [
        "#### Loc e iLoc"
      ],
      "metadata": {
        "id": "1d6J0bQe_Udu"
      }
    },
    {
      "cell_type": "code",
      "source": [
        "df[:5] # 5 primeiros índices\n",
        "df[2:6] #de 2 a 5\n",
        "df[5:] #índice 5 em diante\n",
        "df[:-1] #ultimo\n",
        "df.iloc[3,0] #linha 4 primeira coluna\n",
        "df.iloc[:,2:] #todas as linhas, terceira coluna"
      ],
      "metadata": {
        "id": "D41h6buo_aXd"
      },
      "execution_count": null,
      "outputs": []
    },
    {
      "cell_type": "markdown",
      "metadata": {
        "id": "SuMdRNUC-Swd"
      },
      "source": [
        "#### Transforma arrays em dataframe **"
      ]
    },
    {
      "cell_type": "code",
      "execution_count": null,
      "metadata": {
        "id": "1SHvwPIC6e_R"
      },
      "outputs": [],
      "source": [
        "import numpy as np\n",
        "import pandas as pd\n",
        "\n",
        "#tranforma o arrays em colunas no mesmo dataframe\n",
        "\n",
        "datesDf = pd.DataFrame({'Data': dates, 'Evento': evento, 'Valores': valores, 'Categoria': categoria})\n"
      ]
    },
    {
      "cell_type": "markdown",
      "source": [
        "#### Carregamento de bases por etapas / apendar dataframes"
      ],
      "metadata": {
        "id": "soNVoOMUugTx"
      }
    },
    {
      "cell_type": "code",
      "source": [
        "safras = ['2017', '2018', '2019', '2020', '2021', '2022']\n",
        "\n",
        "pers = pd.DataFrame()\n",
        "for i in safras:\n",
        "     query = \"select * from customer_sandbox_zone.flavia_analise_timespan_agg \" + '\\n'\n",
        "     query = query + \"where substring(ds_safra, 1, 4) = '\"\n",
        "     query = query + i + \"'\"\n",
        "     print(query)\n",
        "     temp_pers = ac.df_athena_q('flavia-costa', query)\n",
        "     pers = pers.append(temp_pers)"
      ],
      "metadata": {
        "id": "veuxgm5Qued3"
      },
      "execution_count": null,
      "outputs": []
    },
    {
      "cell_type": "markdown",
      "metadata": {
        "id": "HCCoxuGCrfJT"
      },
      "source": [
        "####  Manipulaçao de datas"
      ]
    },
    {
      "cell_type": "markdown",
      "metadata": {
        "id": "nUxtJzNPtJY1"
      },
      "source": [
        "Criando colunas de datas"
      ]
    },
    {
      "cell_type": "code",
      "execution_count": null,
      "metadata": {
        "colab": {
          "base_uri": "https://localhost:8080/",
          "height": 136
        },
        "id": "s_9emISl09qV",
        "outputId": "84e5da9c-1b97-46ef-b4c7-740ea38eb1fe"
      },
      "outputs": [
        {
          "data": {
            "text/html": [
              "<div>\n",
              "<style scoped>\n",
              "    .dataframe tbody tr th:only-of-type {\n",
              "        vertical-align: middle;\n",
              "    }\n",
              "\n",
              "    .dataframe tbody tr th {\n",
              "        vertical-align: top;\n",
              "    }\n",
              "\n",
              "    .dataframe thead th {\n",
              "        text-align: right;\n",
              "    }\n",
              "</style>\n",
              "<table border=\"1\" class=\"dataframe\">\n",
              "  <thead>\n",
              "    <tr style=\"text-align: right;\">\n",
              "      <th></th>\n",
              "      <th>Data</th>\n",
              "      <th>Evento</th>\n",
              "      <th>Valores</th>\n",
              "      <th>Categoria</th>\n",
              "      <th>Date</th>\n",
              "      <th>ano</th>\n",
              "    </tr>\n",
              "  </thead>\n",
              "  <tbody>\n",
              "    <tr>\n",
              "      <th>0</th>\n",
              "      <td>2018-01-01</td>\n",
              "      <td>A</td>\n",
              "      <td>200</td>\n",
              "      <td>XL</td>\n",
              "      <td>2018-01-01</td>\n",
              "      <td>2018</td>\n",
              "    </tr>\n",
              "    <tr>\n",
              "      <th>1</th>\n",
              "      <td>2017-02-01</td>\n",
              "      <td>B</td>\n",
              "      <td>300</td>\n",
              "      <td>XL</td>\n",
              "      <td>2017-02-01</td>\n",
              "      <td>2017</td>\n",
              "    </tr>\n",
              "    <tr>\n",
              "      <th>2</th>\n",
              "      <td>2019-10-01</td>\n",
              "      <td>C</td>\n",
              "      <td>400</td>\n",
              "      <td>XS</td>\n",
              "      <td>2019-10-01</td>\n",
              "      <td>2019</td>\n",
              "    </tr>\n",
              "  </tbody>\n",
              "</table>\n",
              "</div>"
            ],
            "text/plain": [
              "         Data Evento  Valores Categoria       Date   ano\n",
              "0  2018-01-01      A      200        XL 2018-01-01  2018\n",
              "1  2017-02-01      B      300        XL 2017-02-01  2017\n",
              "2  2019-10-01      C      400        XS 2019-10-01  2019"
            ]
          },
          "execution_count": 4,
          "metadata": {
            "tags": []
          },
          "output_type": "execute_result"
        }
      ],
      "source": [
        "datesDf['Date'] = pd.to_datetime(datesDf['Data']) #padrão dateTime\n",
        "\n",
        "datesDf['Date'] = pd.to_datetime(datesDf['Data'], format='%Y%m%d', errors='ignore') #padrão dateTime\n",
        "\n",
        "df['yyyy_ww'] = df['date'].dt.strftime('%Y-%U')\n",
        "datesDf['ano'] = datesDf['Date'].map(lambda x: x.strftime('%Y'))\n",
        "datesDf['Dia'] = datesDf['Date'].map(lambda x: x.strftime('%D'))\n",
        "datesDf['mes'] = datesDf['Date'].map(lambda x: x.strftime('%m'))\n",
        "datesDf['Dia_Semana'] = datesDf['Date'].map(lambda x: x.strftime('%A'))\n",
        "\n",
        "df['weekday'] = df['date'].apply(lambda x: parse(str(x)).strftime(\"%A\")) #nome extenso\n",
        "df_clean['hora'] = df_clean['dt_envio'].map(lambda x: x.strftime('%H'))\n",
        "\n",
        "\n",
        "datesDf.head()"
      ]
    },
    {
      "cell_type": "code",
      "source": [
        "#lead data\n",
        "comprasdia['dt_autorizacao_lead'] = (comprasdia.sort_values(by=['dt_autorizacao'], ascending=True).groupby(['cd_conta_cartao'])['dt_autorizacao'].shift(-1))"
      ],
      "metadata": {
        "id": "LCigkUaXMBDt"
      },
      "execution_count": null,
      "outputs": []
    },
    {
      "cell_type": "code",
      "source": [
        "#diferença entre datas\n",
        "comprasdia['Difference'] = (comprasdia['dt_autorizacao_lead'] - comprasdia['dt_autorizacao']).dt.days"
      ],
      "metadata": {
        "id": "9QpqbBD0L4My"
      },
      "execution_count": null,
      "outputs": []
    },
    {
      "cell_type": "code",
      "execution_count": null,
      "metadata": {
        "id": "GGGCJ5RysEQ8"
      },
      "outputs": [],
      "source": [
        "#DATAS CALCULADAS PARA BUSCAR MÊS FECHADO\n",
        "from datetime import datetime\n",
        "from dateutil.relativedelta import relativedelta\n",
        "\n",
        "\n",
        "today = datetime.today().strftime('%Y-%m-%d')\n",
        "today_ma = (datetime.today() + relativedelta(months=-1))\n",
        "today_ma_str = today_ma.strftime('%Y-%m-%d') #dia da extração mes anterior\n",
        "since = today_ma_str[0:7] + \"-01\" #mes anterior - dia primeiro\n",
        "until_aux = last_date_of_month = datetime(today_ma.year, today_ma.month, 1) + relativedelta(months=1, days=-1)\n",
        "until = until_aux.strftime('%Y-%m-%d')"
      ]
    },
    {
      "cell_type": "code",
      "execution_count": null,
      "metadata": {
        "id": "GNUUOKACrfJV"
      },
      "outputs": [],
      "source": [
        "#calcula o fim do mes atual\n",
        "fim_mes = (datetime(datetime.today().year, datetime.today().month, 1) + relativedelta(months=1, days=-1)).strftime('%Y-%m-%d')\n",
        "diasmes = fim_mes[8:10]"
      ]
    },
    {
      "cell_type": "code",
      "execution_count": null,
      "metadata": {
        "colab": {
          "base_uri": "https://localhost:8080/",
          "height": 34
        },
        "id": "EE0_i6TIsMKb",
        "outputId": "8cdb8de8-a217-48ca-dc5d-512cb802a3ca"
      },
      "outputs": [
        {
          "name": "stdout",
          "output_type": "stream",
          "text": [
            "2020-09-08 2020-08-01 2020-08-31\n"
          ]
        }
      ],
      "source": [
        "print(today, since, until)"
      ]
    },
    {
      "cell_type": "code",
      "execution_count": null,
      "metadata": {
        "id": "zsu9J_E29K0l"
      },
      "outputs": [],
      "source": [
        "#carrega base em csv\n",
        "\n",
        "path = ''\n",
        "\n",
        "baseDfCsv = pd.read_csv(path)"
      ]
    },
    {
      "cell_type": "code",
      "source": [
        "#parametros uteis para leitura em csv\n",
        "cliques = pd.read_csv('export_retornos_infobip_fatura_turbinada.csv', usecols = ['to','send_at','opens','clicks'], parse_dates=['send_at'])"
      ],
      "metadata": {
        "id": "cStWgv3QK5g3"
      },
      "execution_count": null,
      "outputs": []
    },
    {
      "cell_type": "markdown",
      "metadata": {
        "id": "L_LsST8L-eP-"
      },
      "source": [
        "#### **Descrever features**"
      ]
    },
    {
      "cell_type": "code",
      "execution_count": null,
      "metadata": {
        "colab": {
          "base_uri": "https://localhost:8080/",
          "height": 284
        },
        "id": "TkNGobvT-jTw",
        "outputId": "056de61d-703d-497e-cbbd-747f3d1c5f7e"
      },
      "outputs": [
        {
          "data": {
            "text/html": [
              "<div>\n",
              "<style scoped>\n",
              "    .dataframe tbody tr th:only-of-type {\n",
              "        vertical-align: middle;\n",
              "    }\n",
              "\n",
              "    .dataframe tbody tr th {\n",
              "        vertical-align: top;\n",
              "    }\n",
              "\n",
              "    .dataframe thead th {\n",
              "        text-align: right;\n",
              "    }\n",
              "</style>\n",
              "<table border=\"1\" class=\"dataframe\">\n",
              "  <thead>\n",
              "    <tr style=\"text-align: right;\">\n",
              "      <th></th>\n",
              "      <th>Valores</th>\n",
              "    </tr>\n",
              "  </thead>\n",
              "  <tbody>\n",
              "    <tr>\n",
              "      <th>count</th>\n",
              "      <td>3.0</td>\n",
              "    </tr>\n",
              "    <tr>\n",
              "      <th>mean</th>\n",
              "      <td>300.0</td>\n",
              "    </tr>\n",
              "    <tr>\n",
              "      <th>std</th>\n",
              "      <td>100.0</td>\n",
              "    </tr>\n",
              "    <tr>\n",
              "      <th>min</th>\n",
              "      <td>200.0</td>\n",
              "    </tr>\n",
              "    <tr>\n",
              "      <th>25%</th>\n",
              "      <td>250.0</td>\n",
              "    </tr>\n",
              "    <tr>\n",
              "      <th>50%</th>\n",
              "      <td>300.0</td>\n",
              "    </tr>\n",
              "    <tr>\n",
              "      <th>75%</th>\n",
              "      <td>350.0</td>\n",
              "    </tr>\n",
              "    <tr>\n",
              "      <th>max</th>\n",
              "      <td>400.0</td>\n",
              "    </tr>\n",
              "  </tbody>\n",
              "</table>\n",
              "</div>"
            ],
            "text/plain": [
              "       Valores\n",
              "count      3.0\n",
              "mean     300.0\n",
              "std      100.0\n",
              "min      200.0\n",
              "25%      250.0\n",
              "50%      300.0\n",
              "75%      350.0\n",
              "max      400.0"
            ]
          },
          "execution_count": 5,
          "metadata": {
            "tags": []
          },
          "output_type": "execute_result"
        }
      ],
      "source": [
        "datesDf.describe()"
      ]
    },
    {
      "cell_type": "markdown",
      "metadata": {
        "id": "fMn38pODmouS"
      },
      "source": [
        "#### Criando um contador (índice)"
      ]
    },
    {
      "cell_type": "code",
      "execution_count": null,
      "metadata": {
        "colab": {
          "base_uri": "https://localhost:8080/",
          "height": 136
        },
        "id": "WoRI6Cizme_X",
        "outputId": "3599a654-f8f6-4c0f-c800-c8acc1b970ed"
      },
      "outputs": [
        {
          "data": {
            "text/html": [
              "<div>\n",
              "<style scoped>\n",
              "    .dataframe tbody tr th:only-of-type {\n",
              "        vertical-align: middle;\n",
              "    }\n",
              "\n",
              "    .dataframe tbody tr th {\n",
              "        vertical-align: top;\n",
              "    }\n",
              "\n",
              "    .dataframe thead th {\n",
              "        text-align: right;\n",
              "    }\n",
              "</style>\n",
              "<table border=\"1\" class=\"dataframe\">\n",
              "  <thead>\n",
              "    <tr style=\"text-align: right;\">\n",
              "      <th></th>\n",
              "      <th>Data</th>\n",
              "      <th>Evento</th>\n",
              "      <th>Valores</th>\n",
              "      <th>Categoria</th>\n",
              "      <th>Date</th>\n",
              "      <th>ano</th>\n",
              "      <th>Indice</th>\n",
              "    </tr>\n",
              "  </thead>\n",
              "  <tbody>\n",
              "    <tr>\n",
              "      <th>0</th>\n",
              "      <td>2018-01-01</td>\n",
              "      <td>A</td>\n",
              "      <td>200</td>\n",
              "      <td>XL</td>\n",
              "      <td>2018-01-01</td>\n",
              "      <td>2018</td>\n",
              "      <td>1</td>\n",
              "    </tr>\n",
              "    <tr>\n",
              "      <th>1</th>\n",
              "      <td>2017-02-01</td>\n",
              "      <td>B</td>\n",
              "      <td>300</td>\n",
              "      <td>XL</td>\n",
              "      <td>2017-02-01</td>\n",
              "      <td>2017</td>\n",
              "      <td>2</td>\n",
              "    </tr>\n",
              "    <tr>\n",
              "      <th>2</th>\n",
              "      <td>2019-10-01</td>\n",
              "      <td>C</td>\n",
              "      <td>400</td>\n",
              "      <td>XS</td>\n",
              "      <td>2019-10-01</td>\n",
              "      <td>2019</td>\n",
              "      <td>3</td>\n",
              "    </tr>\n",
              "  </tbody>\n",
              "</table>\n",
              "</div>"
            ],
            "text/plain": [
              "         Data Evento  Valores Categoria       Date   ano  Indice\n",
              "0  2018-01-01      A      200        XL 2018-01-01  2018       1\n",
              "1  2017-02-01      B      300        XL 2017-02-01  2017       2\n",
              "2  2019-10-01      C      400        XS 2019-10-01  2019       3"
            ]
          },
          "execution_count": 6,
          "metadata": {
            "tags": []
          },
          "output_type": "execute_result"
        }
      ],
      "source": [
        "datesDf['Indice'] = list(range(len(datesDf.index)))\n",
        "datesDf['Indice'] = datesDf['Indice'] + 1\n",
        "\n",
        "datesDf.head(5)"
      ]
    },
    {
      "cell_type": "markdown",
      "metadata": {
        "id": "PY7xcGojH5Lg"
      },
      "source": [
        "Contar distintos em um dataframe"
      ]
    },
    {
      "cell_type": "code",
      "execution_count": null,
      "metadata": {
        "colab": {
          "base_uri": "https://localhost:8080/",
          "height": 34
        },
        "id": "8hQN00VBD1MK",
        "outputId": "3581145d-4150-401c-af87-9f5adc5e389c"
      },
      "outputs": [
        {
          "name": "stdout",
          "output_type": "stream",
          "text": [
            "2\n"
          ]
        }
      ],
      "source": [
        "print(len(datesDf['Categoria'].unique()))"
      ]
    },
    {
      "cell_type": "code",
      "execution_count": null,
      "metadata": {
        "id": "wPl5oc8prfJX"
      },
      "outputs": [],
      "source": [
        "Contagem por categoria, valor"
      ]
    },
    {
      "cell_type": "code",
      "execution_count": null,
      "metadata": {
        "id": "N_waaf_OrfJX"
      },
      "outputs": [],
      "source": [
        "datesDf['Categoria'].value_counts()"
      ]
    },
    {
      "cell_type": "markdown",
      "metadata": {
        "id": "z1FF48Nf-tGn"
      },
      "source": [
        "#### Contagem por var categorica"
      ]
    },
    {
      "cell_type": "code",
      "execution_count": null,
      "metadata": {
        "colab": {
          "base_uri": "https://localhost:8080/",
          "height": 87
        },
        "id": "yOSt4nNisj1-",
        "outputId": "150954f6-b7f9-4751-f563-b623b445c651"
      },
      "outputs": [
        {
          "data": {
            "text/plain": [
              "Categoria\n",
              "XL    2\n",
              "XS    1\n",
              "Name: Categoria, dtype: int64"
            ]
          },
          "execution_count": 9,
          "metadata": {
            "tags": []
          },
          "output_type": "execute_result"
        }
      ],
      "source": [
        "baseCount = datesDf.groupby(\"Categoria\")[\"Categoria\"].count() #tb funciona para sum\n",
        "\n",
        "baseCount.head(5)\n"
      ]
    },
    {
      "cell_type": "code",
      "execution_count": null,
      "metadata": {
        "colab": {
          "base_uri": "https://localhost:8080/",
          "height": 87
        },
        "id": "kf5ngARXu4OK",
        "outputId": "9ec5bb6b-8c63-4224-c20a-b00dcb3ef2cc"
      },
      "outputs": [
        {
          "data": {
            "text/plain": [
              "Categoria\n",
              "XL    500\n",
              "XS    400\n",
              "Name: Valores, dtype: int64"
            ]
          },
          "execution_count": 10,
          "metadata": {
            "tags": []
          },
          "output_type": "execute_result"
        }
      ],
      "source": [
        "baseSum = datesDf.groupby(\"Categoria\")[\"Valores\"].sum()\n",
        "\n",
        "baseSum.head(5)"
      ]
    },
    {
      "cell_type": "markdown",
      "metadata": {
        "id": "hjwuJibvscEm"
      },
      "source": [
        "Agregação Outras funções"
      ]
    },
    {
      "cell_type": "markdown",
      "metadata": {
        "id": "nH2Cst_i-zpv"
      },
      "source": [
        "#### *Agregação* (médias, min, max) das variáveis numéricas por grupo"
      ]
    },
    {
      "cell_type": "code",
      "execution_count": null,
      "metadata": {
        "colab": {
          "base_uri": "https://localhost:8080/",
          "height": 195
        },
        "id": "8QpxTwYwn5JJ",
        "outputId": "6b4d9023-6ac0-4aae-d204-bb129cf66a47"
      },
      "outputs": [
        {
          "data": {
            "text/html": [
              "<div>\n",
              "<style scoped>\n",
              "    .dataframe tbody tr th:only-of-type {\n",
              "        vertical-align: middle;\n",
              "    }\n",
              "\n",
              "    .dataframe tbody tr th {\n",
              "        vertical-align: top;\n",
              "    }\n",
              "\n",
              "    .dataframe thead tr th {\n",
              "        text-align: left;\n",
              "    }\n",
              "\n",
              "    .dataframe thead tr:last-of-type th {\n",
              "        text-align: right;\n",
              "    }\n",
              "</style>\n",
              "<table border=\"1\" class=\"dataframe\">\n",
              "  <thead>\n",
              "    <tr>\n",
              "      <th></th>\n",
              "      <th colspan=\"5\" halign=\"left\">Valores</th>\n",
              "      <th>Categoria</th>\n",
              "    </tr>\n",
              "    <tr>\n",
              "      <th></th>\n",
              "      <th>min</th>\n",
              "      <th>max</th>\n",
              "      <th>mean</th>\n",
              "      <th>first</th>\n",
              "      <th>last</th>\n",
              "      <th>first</th>\n",
              "    </tr>\n",
              "    <tr>\n",
              "      <th>Evento</th>\n",
              "      <th></th>\n",
              "      <th></th>\n",
              "      <th></th>\n",
              "      <th></th>\n",
              "      <th></th>\n",
              "      <th></th>\n",
              "    </tr>\n",
              "  </thead>\n",
              "  <tbody>\n",
              "    <tr>\n",
              "      <th>A</th>\n",
              "      <td>200</td>\n",
              "      <td>200</td>\n",
              "      <td>200</td>\n",
              "      <td>200</td>\n",
              "      <td>200</td>\n",
              "      <td>XL</td>\n",
              "    </tr>\n",
              "    <tr>\n",
              "      <th>B</th>\n",
              "      <td>300</td>\n",
              "      <td>300</td>\n",
              "      <td>300</td>\n",
              "      <td>300</td>\n",
              "      <td>300</td>\n",
              "      <td>XL</td>\n",
              "    </tr>\n",
              "    <tr>\n",
              "      <th>C</th>\n",
              "      <td>400</td>\n",
              "      <td>400</td>\n",
              "      <td>400</td>\n",
              "      <td>400</td>\n",
              "      <td>400</td>\n",
              "      <td>XS</td>\n",
              "    </tr>\n",
              "  </tbody>\n",
              "</table>\n",
              "</div>"
            ],
            "text/plain": [
              "       Valores                      Categoria\n",
              "           min  max mean first last     first\n",
              "Evento                                       \n",
              "A          200  200  200   200  200        XL\n",
              "B          300  300  300   300  300        XL\n",
              "C          400  400  400   400  400        XS"
            ]
          },
          "execution_count": 6,
          "metadata": {
            "tags": []
          },
          "output_type": "execute_result"
        }
      ],
      "source": [
        "baseAgg = datesDf.groupby('Evento').agg({'Valores':['min','max','mean', 'first','last'], 'Categoria':['first']})\n",
        "\n",
        "baseAgg.head(5)"
      ]
    },
    {
      "cell_type": "markdown",
      "source": [
        "#### Leads"
      ],
      "metadata": {
        "id": "spuJOcDZ3sXw"
      }
    },
    {
      "cell_type": "code",
      "source": [
        "df['lagged_col1'] = df['col1'].shift(1)"
      ],
      "metadata": {
        "id": "q_yuyBAy30eX"
      },
      "execution_count": null,
      "outputs": []
    },
    {
      "cell_type": "markdown",
      "source": [
        "#### Média móvel"
      ],
      "metadata": {
        "id": "gNccWSyM4u7w"
      }
    },
    {
      "cell_type": "code",
      "source": [
        "#Lag 30\n",
        "reliance['SMA30'] = reliance['Close'].rolling(30).mean()"
      ],
      "metadata": {
        "id": "AM5LOCzr4t_4"
      },
      "execution_count": null,
      "outputs": []
    },
    {
      "cell_type": "markdown",
      "source": [
        "Soma de 30 registros a frente"
      ],
      "metadata": {
        "id": "eL_O9p154gGX"
      }
    },
    {
      "cell_type": "code",
      "source": [
        "df_1['spending_dia_rol'] = df_1.spending_dia.shift(1).rolling(window = 30).sum()"
      ],
      "metadata": {
        "id": "wTrJwVuB4cmH"
      },
      "execution_count": null,
      "outputs": []
    },
    {
      "cell_type": "markdown",
      "source": [
        "#### Agregar com parametros variaveis"
      ],
      "metadata": {
        "id": "UIUT51R0YHON"
      }
    },
    {
      "cell_type": "code",
      "source": [
        "vars_agregacao = ['proba_bin', 'limite_bin', 'sow_bin', 'renda_declarada_bin', 'fx_atraso_jun22', 'nr_behavior_score', 'score_gh']\n",
        "agg = pb_add.groupby(vars_agregacao).agg({'conta_cartao':['count']})\n",
        "agg.columns = agg.columns.droplevel(0)\n",
        "agg = agg.reset_index()\n",
        "agg.head()\n"
      ],
      "metadata": {
        "id": "yWCQqqGtYLQo"
      },
      "execution_count": null,
      "outputs": []
    },
    {
      "cell_type": "markdown",
      "source": [
        "#### Agregate simples (equivalente ao count(*))"
      ],
      "metadata": {
        "id": "_afi43kWzLjX"
      }
    },
    {
      "cell_type": "code",
      "source": [
        "df.groupby(['col1', 'col2']).size()"
      ],
      "metadata": {
        "id": "jRuPQrGdy4um"
      },
      "execution_count": null,
      "outputs": []
    },
    {
      "cell_type": "code",
      "source": [
        "# top selling items by sales\n",
        "sales_order = main_df.groupby('description').sum()['tot_order'].nlargest(10)"
      ],
      "metadata": {
        "id": "Iioa1enItSnE"
      },
      "execution_count": null,
      "outputs": []
    },
    {
      "cell_type": "markdown",
      "source": [
        "#### If para criação de coluna (Case )"
      ],
      "metadata": {
        "id": "A1_h7_cTgWCW"
      }
    },
    {
      "cell_type": "code",
      "source": [
        "#função para usar com apply\n",
        "def faixas_30(x):\n",
        "    if x < 30:\n",
        "        return 'a. menos 1 mes'\n",
        "    elif x < 60:\n",
        "        return 'b. 1 mes'\n",
        "    elif x < 90:\n",
        "        return 'c. 2 meses'\n",
        "    elif x < 120:\n",
        "        return 'd. 3 meses'\n",
        "    elif x < 149:\n",
        "        return 'e. 4 meses'\n",
        "    elif x < 179:\n",
        "        return 'f. 5 meses'\n",
        "    elif x < 209:\n",
        "        return 'g. 6 meses'\n",
        "    elif x < 239:\n",
        "        return 'h. 7 meses'\n",
        "    elif x < 269:\n",
        "        return 'i. 8 meses'\n",
        "    elif x < 299:\n",
        "        return 'j. 9 meses'\n",
        "    elif x < 329:\n",
        "        return 'k. 10 meses'\n",
        "    elif x < 364:\n",
        "        return 'l. 11 meses'\n",
        "    elif x < 7200:\n",
        "        return 'm. mais de 12 meses'\n",
        "    else:\n",
        "        return 'n. sem transacao'"
      ],
      "metadata": {
        "id": "VBoY73PIgGV2"
      },
      "execution_count": null,
      "outputs": []
    },
    {
      "cell_type": "code",
      "source": [
        "#Composto com mais variáveis\n",
        "def regra_flex_new(row):\n",
        "    ### Mulher, Solteira, Até 24 anos, cidade Pequena do Sudeste ou Norte, renda declarada inferior a R$ 1K ou Não declarada\n",
        "    if row['ds_gender'] == 'FEMALE' \\\n",
        "    and row['ds_marital_status'] != 'MARRIED' \\\n",
        "    and row['ds_idade'] <= 24 \\\n",
        "    and row['ds_city_size'] == 'pequeno' \\\n",
        "    and (row['ds_region'] == 'Sul' or row['ds_region'] == 'Sudeste') \\\n",
        "    and (row['renda_declarada'] >= 0 and row['renda_declarada'] < 1000):\n",
        "        return '8'\n",
        "    ### Mulher, Solteira, Até 24 anos, cidade Média do Sudeste, renda declarada maior ou igual a R$ 1K\n",
        "    elif row['ds_gender'] == 'FEMALE' \\\n",
        "    and row['ds_marital_status'] != 'MARRIED' \\\n",
        "    and row['ds_idade'] <= 24 \\\n",
        "    and row['ds_city_size'] == 'medio' \\\n",
        "    and (row['ds_region'] == 'Sul' or row['ds_region'] == 'Sudeste') \\\n",
        "    and row['renda_declarada'] >= 1000:\n",
        "        return '1'\n",
        "\n",
        "data_pop['codigo'] = data_pop.apply(eval(f'cl.{regra_flex_new}'), axis=1)\n",
        "#só funcionou conforme abaixo\n",
        "df['cl_1'] = df.apply(cluster1, axis=1)"
      ],
      "metadata": {
        "id": "DtC5zPtBgFK5"
      },
      "execution_count": null,
      "outputs": []
    },
    {
      "cell_type": "markdown",
      "source": [
        "#### Cria coluna com np.where"
      ],
      "metadata": {
        "id": "uapQ2KGlKoGS"
      }
    },
    {
      "cell_type": "code",
      "source": [
        "#condição E\n",
        "df_final['segmento1'] = np.where((df_final['transacoes_mes_atual'] == 0) & (df_final['transacoes_mes_anterior'] > 0),  'Deixou de comprar',\n",
        "                        np.where((df_final['transacoes_mes_atual'] > 0) & (df_final['transacoes_mes_anterior'] == 0), 'Passou a comprar',\n",
        "                        'Presente nos dois meses'))"
      ],
      "metadata": {
        "id": "Dh6au5WpKnBs"
      },
      "execution_count": null,
      "outputs": []
    },
    {
      "cell_type": "code",
      "source": [
        "#condição OU\n",
        "df['cl_csat'] = np.where((df['nr_mean_csat_day_last_365'] == 5) | (df['nr_mean_csat_day_last_365'] == 4), 'Alta Satisfacao',\n",
        "                        np.where((df['nr_mean_csat_day_last_365'] == 3) | (df['nr_mean_csat_day_last_365'] == 2), 'Média Satisfacao',\n",
        "                               np.where((df['nr_mean_csat_day_last_365'] == 1) | (df['nr_mean_csat_day_last_365'] == 0), 'Baixa Satisfacao', \"-\")))"
      ],
      "metadata": {
        "id": "Jh-6XxXFVcv1"
      },
      "execution_count": null,
      "outputs": []
    },
    {
      "cell_type": "code",
      "source": [
        "#comparacao com datas\n",
        "df['out_prev_tpr'] = np.where(df['dt_chat'] == np.datetime64('2022-03-05'), 1, 0)"
      ],
      "metadata": {
        "id": "Ae-b1B3dj6Bm"
      },
      "execution_count": null,
      "outputs": []
    },
    {
      "cell_type": "markdown",
      "source": [
        "Outra forma de fazer condições"
      ],
      "metadata": {
        "id": "VBaQu9mYq8kl"
      }
    },
    {
      "cell_type": "code",
      "source": [
        "df['ds_fx_rentabilidade'] = np.select(\n",
        "        condlist=[\n",
        "            df['vl_rentabilidade_min'] <= -27.7,\n",
        "            df['vl_rentabilidade_min'] <= -20,\n",
        "            df['vl_rentabilidade_min']  < 0,\n",
        "            df['vl_rentabilidade_min'] >= 0\n",
        "        ]\n",
        "        ,choicelist=['Alto Custo','Medio Custo', 'Baixo Custo', 'Rentavél']\n",
        "        ,default=-99\n",
        "    )"
      ],
      "metadata": {
        "id": "IaUBPBLUq7hs"
      },
      "execution_count": null,
      "outputs": []
    },
    {
      "cell_type": "markdown",
      "source": [
        "#### Loop apendando um dataframe / Simulação"
      ],
      "metadata": {
        "id": "5ihSHBYd8HCN"
      }
    },
    {
      "cell_type": "code",
      "source": [
        "def sim(n):\n",
        "\n",
        "    result_simulacao = pd.DataFrame([], columns=['delta_p_fatura', 'delta_p_logistica', 'delta_csat','delta_tpr','delta_tmat','delta_recontato','delta_nr_chats'])\n",
        "\n",
        "    for n in range(n):\n",
        "        delta_p_fatura = random.uniform(-0.2, 0.2)\n",
        "        delta_p_pagamento = random.uniform(-0.2, 0.2)\n",
        "        delta_p_conta = random.uniform(-0.2, 0.2)\n",
        "        delta_p_cartao = random.uniform(-0.2, 0.2)\n",
        "\n",
        "        delta_p_logistica = delta_p_fatura * 0.0621 + delta_p_pagamento * 0.0021 +  delta_p_conta * -0.0161 + delta_p_cartao  * 0.6823\n",
        "\n",
        "        delta_nr_chats = 0 #nr de chats fixo\n",
        "        delta_resolucao_bot = random.uniform(-0.2, 0.2)\n",
        "\n",
        "        delta_abandono = -0.05 * delta_resolucao_bot\n",
        "        delta_tpr = delta_nr_chats * 0.6 + delta_p_pagamento * -0.8 + delta_p_fatura * -0.8 + delta_p_logistica * -0.85 + delta_p_conta * -0.4\n",
        "        delta_csat = -0.01 * delta_tpr +  -0.01 * delta_abandono # vou retirar -0.05 * delta_recontato para permitir o recontato\n",
        "        delta_recontato = delta_csat * -1\n",
        "        delta_tmat = delta_tpr * -0.01 + -0.05 * delta_recontato + -0.01 * delta_abandono\n",
        "\n",
        "        result_temp = pd.DataFrame({'delta_p_fatura': delta_p_fatura, 'delta_p_logistica': delta_p_logistica,\n",
        "                                    'delta_csat': delta_csat, 'delta_tpr': delta_tpr,\n",
        "                                    'delta_tmat': delta_tmat, 'delta_recontato': delta_recontato,\n",
        "                                    'delta_nr_chats': delta_nr_chats}, index=[0])\n",
        "\n",
        "        result_simulacao = result_simulacao.append(result_temp)\n",
        "\n",
        "    return result_simulacao"
      ],
      "metadata": {
        "id": "5kkhHcTU8GbX"
      },
      "execution_count": null,
      "outputs": []
    },
    {
      "cell_type": "markdown",
      "source": [
        "#### Deduplicar"
      ],
      "metadata": {
        "id": "wwyEB1h5XPI4"
      }
    },
    {
      "cell_type": "code",
      "source": [
        ".drop_duplicates()"
      ],
      "metadata": {
        "id": "RvHXCCqjXUJ7"
      },
      "execution_count": null,
      "outputs": []
    },
    {
      "cell_type": "markdown",
      "source": [
        "#### Dropar coluna do df (drop)"
      ],
      "metadata": {
        "id": "Wydr9ax2wqhW"
      }
    },
    {
      "cell_type": "code",
      "source": [
        "df.pop('class')"
      ],
      "metadata": {
        "id": "dFDlJMbIwo5A"
      },
      "execution_count": null,
      "outputs": []
    },
    {
      "cell_type": "markdown",
      "source": [
        "#### Rename /  Renomear"
      ],
      "metadata": {
        "id": "1pzJIt_VnT21"
      }
    },
    {
      "cell_type": "code",
      "source": [
        "df = df.rename(columns={'Long column name' : 'column'})"
      ],
      "metadata": {
        "id": "F2RcTpaU-JgD"
      },
      "execution_count": null,
      "outputs": []
    },
    {
      "cell_type": "code",
      "source": [
        "df = df.rename(columns=lambda x: x.lower().replace(' ', '_'))"
      ],
      "metadata": {
        "id": "zDLvvwCl-N80"
      },
      "execution_count": null,
      "outputs": []
    },
    {
      "cell_type": "markdown",
      "source": [
        "#### Alterar tipo da variável"
      ],
      "metadata": {
        "id": "EJgopl5BxP91"
      }
    },
    {
      "cell_type": "code",
      "source": [
        "ser.astype('category')\n",
        "ser.astype('int')\n",
        "ser.astype('str')"
      ],
      "metadata": {
        "id": "sir2dRjIxPJv"
      },
      "execution_count": null,
      "outputs": []
    },
    {
      "cell_type": "code",
      "source": [
        "#exception para alterar o tipo ignorando os literais\n",
        "def num(s):\n",
        "    try:\n",
        "        return int(s)\n",
        "    except ValueError:\n",
        "        return 0"
      ],
      "metadata": {
        "id": "R6lGYKE82ehI"
      },
      "execution_count": null,
      "outputs": []
    },
    {
      "cell_type": "markdown",
      "source": [
        "#### Ordenar - sort"
      ],
      "metadata": {
        "id": "jxcmsrEwxy_f"
      }
    },
    {
      "cell_type": "code",
      "source": [
        "df.sort_values('coluna', ascending = False)"
      ],
      "metadata": {
        "id": "P4hXG6QQx2LX"
      },
      "execution_count": null,
      "outputs": []
    },
    {
      "cell_type": "markdown",
      "metadata": {
        "id": "_en14HaJrF1F"
      },
      "source": [
        "#### Exemplos de agregação retirando outros níveis da label"
      ]
    },
    {
      "cell_type": "code",
      "execution_count": null,
      "metadata": {
        "id": "uwcyZq0-rEgV"
      },
      "outputs": [],
      "source": [
        "vars_agregacao = ['proba_bin', 'limite_bin', 'sow_bin', 'renda_declarada_bin', 'fx_atraso_jun22', 'nr_behavior_score', 'score_gh']\n",
        "agg = pb_add.groupby(vars_agregacao).agg({'conta_cartao':['count']})\n",
        "agg.columns = agg.columns.droplevel(0)\n",
        "agg = agg.reset_index()\n",
        "agg.head()\n"
      ]
    },
    {
      "cell_type": "code",
      "execution_count": null,
      "metadata": {
        "id": "CmZyM4eprfJZ"
      },
      "outputs": [],
      "source": [
        "#agregação com colunas da base como variável\n",
        "col_agg1 = dfr.drop(coluna_contagem, axis = 1).columns.to_list()\n",
        "agg1 = dfr.groupby(col_agg1).agg({'cpfs':['sum']})"
      ]
    },
    {
      "cell_type": "markdown",
      "metadata": {
        "id": "hWwFZgv5rfJZ"
      },
      "source": [
        "#### Pivot tables"
      ]
    },
    {
      "cell_type": "code",
      "execution_count": null,
      "metadata": {
        "id": "k8YcO94grfJa"
      },
      "outputs": [],
      "source": [
        "df2.pivot_table(values='X', rows='Y', columns='Z', aggfunc=lambda x: len(x.unique())"
      ]
    },
    {
      "cell_type": "code",
      "execution_count": null,
      "metadata": {
        "id": "zzpOHsOqrfJa"
      },
      "outputs": [],
      "source": [
        "dados_rfm_mes.pivot_table(index = 'segmento_rfm', columns= 'mes_ref', values = 'contas', aggfunc=np.sum)"
      ]
    },
    {
      "cell_type": "markdown",
      "source": [
        "#### Transpor e transformar colunas em linhas (melt)"
      ],
      "metadata": {
        "id": "BAqU2Z-csH96"
      }
    },
    {
      "cell_type": "code",
      "source": [
        "df_model = df_model.drop(['n_cluster'], axis = 1).set_index('var_value').transpose().reset_index()\n"
      ],
      "metadata": {
        "id": "G2QuR0FQsFLX"
      },
      "execution_count": null,
      "outputs": []
    },
    {
      "cell_type": "code",
      "source": [
        "df.T"
      ],
      "metadata": {
        "id": "kxnNGmr6XjJG"
      },
      "execution_count": null,
      "outputs": []
    },
    {
      "cell_type": "code",
      "source": [
        "df_melt = pd.melt(df_model, id_vars=['index'])"
      ],
      "metadata": {
        "id": "D7J0T6IFsFgG"
      },
      "execution_count": null,
      "outputs": []
    },
    {
      "cell_type": "markdown",
      "metadata": {
        "id": "j8biNRHnrfJa"
      },
      "source": [
        "#### Funções string"
      ]
    },
    {
      "cell_type": "code",
      "execution_count": null,
      "metadata": {
        "id": "TJgA1qXmrfJa"
      },
      "outputs": [],
      "source": [
        "#posição do conteúdo de uma coluna em outra\n",
        "City = df['cidade'].values.astype(str)\n",
        "Estab = df['estab_clean'].values.astype(str)\n",
        "df = df.assign(pos = find(Estab, City, start=0, end=None))\n",
        "\n",
        "#replace de coluna\n",
        "df = df.assign(estab_clean_2 = replace(Estab, City, ''))\n",
        "df = df.assign(pos_espaco = find(Estab, ' ', start=0, end=None))\n",
        "df['tam_caract_cidade'] = df['cidade'].str.len()\n",
        "\n",
        "#retira tokens consecutivos\n",
        "df['estab_clean_3'] = df['estab_clean_3'].str.replace(r'\\b(\\w+)(\\s+\\1)+\\b', r'\\1')\n",
        "\n",
        "#substring com posições definidas\n",
        "dados_rfm_mes['ano'] = dados_rfm_mes['mes_ref'].str[:4]\n",
        "\n",
        "#não contém - negação é ~\n",
        "arqfinal_agg2 = arqfinal_agg[~arqfinal_agg['nm_estabelecimento'].str.contains(';')]\n",
        "\n",
        "#quebrar um array\n",
        "df_clean['pca_1'] = df_clean['pca'].astype('string').str.split(\",\").str[1]\n",
        "df_clean['pca_2'] = df_clean['pca'].astype('string').str.split(\",\").str[0]\n",
        "for i in ['pca_1','pca_2']:\n",
        "    df_clean[i] = df_clean[i].str.replace(']','').str.replace('[','').astype(\"float\")\n"
      ]
    },
    {
      "cell_type": "code",
      "execution_count": null,
      "metadata": {
        "id": "PxEsJFDkrfJa"
      },
      "outputs": [],
      "source": [
        "#\n",
        "def trata_estabelecimentos(x):\n",
        "    x = re.sub(r'(^(?=.*\\bLOJAS)(?=.*AMERICANAS\\b).*$)', 'LOJAS AMERICANAS', x)\n",
        "    #POSSUI UBER E EATS\n",
        "    x = re.sub(r'(?=.*\\bUBER\\b)(?=.*\\bEATS\\b).*$', 'UBER EATS', x)\n",
        "    #POSSUI UBER E NÃO EATS\n",
        "    x = re.sub(r'(?=.*\\bUBER\\b)(?!.*EATS\\b).*$', 'UBER', x)\n",
        "    x = re.sub(r'^(?=.*\\bGOOGLE)(?=.*GARENA\\b).*$', 'GOOGLE GARENA', x)\n",
        "    x = re.sub(r'(?=.*\\bGOOGLE TEMPORARY HOLD\\b).*$', 'GOOGLE TEMPORARY HOLD', x)\n",
        "    x = re.sub(r'(?=.*\\bIFD BR).*$', 'IFOOD', x)\n",
        "    x = re.sub(r'(?=.*\\bIFOOD).*$', 'IFOOD', x)\n",
        "    x = re.sub(r'(?=.*\\bOBOTICARIO).*$', 'OBOTICARIO', x)\n",
        "    x = re.sub(r'(?=.*\\bHNA BOTICARIO).*$', 'OBOTICARIO', x)\n",
        "    x = x.replace('DL GOOGLE','GOOGLE')\n",
        "    x = x.replace('MERCPAG GOOGLEPLAY','GOOGLE PLAY')\n",
        "    x = x.replace('GOOGLEPLAY','GOOGLE PLAY')\n",
        "    x = x.replace('C E A', 'C A MODAS')\n",
        "\n",
        "    #PARA ESSES CASOS EU NÃO QUERO BUSCAR TODA A STRING\n",
        "    x = x.replace('MERCADOPAGO MERC ', 'MERCADOPAGO ')\n",
        "    x = x.replace('MERCPAG MERCADOLIVRE', 'MERCADOLIVRE')\n",
        "    x = x.replace('MERCPAGO', 'MERCADOPAGO')\n",
        "    x = x.replace('MERCPAG', 'MERCADOPAGO')\n",
        "    x = x.replace('EBANX','')\n",
        "\n",
        "    x = x.strip()\n",
        "    return x"
      ]
    },
    {
      "cell_type": "markdown",
      "metadata": {
        "id": "cGNaBVBV_FXo"
      },
      "source": [
        "#### Seleciona Colunas"
      ]
    },
    {
      "cell_type": "code",
      "execution_count": null,
      "metadata": {
        "colab": {
          "base_uri": "https://localhost:8080/",
          "height": 136
        },
        "id": "87lKjqbV2lvY",
        "outputId": "d5496f04-d3cb-445d-e3dd-5b5012a58f55"
      },
      "outputs": [
        {
          "data": {
            "text/html": [
              "<div>\n",
              "<style scoped>\n",
              "    .dataframe tbody tr th:only-of-type {\n",
              "        vertical-align: middle;\n",
              "    }\n",
              "\n",
              "    .dataframe tbody tr th {\n",
              "        vertical-align: top;\n",
              "    }\n",
              "\n",
              "    .dataframe thead th {\n",
              "        text-align: right;\n",
              "    }\n",
              "</style>\n",
              "<table border=\"1\" class=\"dataframe\">\n",
              "  <thead>\n",
              "    <tr style=\"text-align: right;\">\n",
              "      <th></th>\n",
              "      <th>Valores</th>\n",
              "      <th>Evento</th>\n",
              "    </tr>\n",
              "  </thead>\n",
              "  <tbody>\n",
              "    <tr>\n",
              "      <th>0</th>\n",
              "      <td>200</td>\n",
              "      <td>A</td>\n",
              "    </tr>\n",
              "    <tr>\n",
              "      <th>1</th>\n",
              "      <td>300</td>\n",
              "      <td>B</td>\n",
              "    </tr>\n",
              "    <tr>\n",
              "      <th>2</th>\n",
              "      <td>400</td>\n",
              "      <td>C</td>\n",
              "    </tr>\n",
              "  </tbody>\n",
              "</table>\n",
              "</div>"
            ],
            "text/plain": [
              "   Valores Evento\n",
              "0      200      A\n",
              "1      300      B\n",
              "2      400      C"
            ]
          },
          "execution_count": 7,
          "metadata": {
            "tags": []
          },
          "output_type": "execute_result"
        }
      ],
      "source": [
        "# select only required columns\n",
        "baseReduzida = datesDf[[\"Valores\", \"Evento\"]]\n",
        "\n",
        "baseReduzida.head()"
      ]
    },
    {
      "cell_type": "code",
      "source": [
        "#colunas contendo ln\n",
        "cols4 = df_4.filter(like='ln_').columns.to_list()"
      ],
      "metadata": {
        "id": "5v4mHSMa5o2e"
      },
      "execution_count": null,
      "outputs": []
    },
    {
      "cell_type": "code",
      "source": [
        "#not like '_h_'\n",
        "df_diagnostico_final_alertas.filter(regex='^((?!_h_).)*$')"
      ],
      "metadata": {
        "id": "Nv1fW-S_RQp4"
      },
      "execution_count": null,
      "outputs": []
    },
    {
      "cell_type": "markdown",
      "metadata": {
        "id": "nzRLoovY_DpB"
      },
      "source": [
        "Cria nova coluna"
      ]
    },
    {
      "cell_type": "code",
      "execution_count": null,
      "metadata": {
        "colab": {
          "base_uri": "https://localhost:8080/",
          "height": 136
        },
        "id": "_aI8SDwHK-1Z",
        "outputId": "00d65f37-c4dc-4331-82fe-a67267e20db5"
      },
      "outputs": [
        {
          "data": {
            "text/html": [
              "<div>\n",
              "<style scoped>\n",
              "    .dataframe tbody tr th:only-of-type {\n",
              "        vertical-align: middle;\n",
              "    }\n",
              "\n",
              "    .dataframe tbody tr th {\n",
              "        vertical-align: top;\n",
              "    }\n",
              "\n",
              "    .dataframe thead th {\n",
              "        text-align: right;\n",
              "    }\n",
              "</style>\n",
              "<table border=\"1\" class=\"dataframe\">\n",
              "  <thead>\n",
              "    <tr style=\"text-align: right;\">\n",
              "      <th></th>\n",
              "      <th>Data</th>\n",
              "      <th>Evento</th>\n",
              "      <th>Valores</th>\n",
              "      <th>Categoria</th>\n",
              "      <th>Date</th>\n",
              "      <th>ano</th>\n",
              "      <th>Indice</th>\n",
              "      <th>Valores10Perc</th>\n",
              "      <th>Valores20Perc</th>\n",
              "      <th>ValoresDobro</th>\n",
              "      <th>Status</th>\n",
              "    </tr>\n",
              "  </thead>\n",
              "  <tbody>\n",
              "    <tr>\n",
              "      <th>0</th>\n",
              "      <td>2018-01-01</td>\n",
              "      <td>A</td>\n",
              "      <td>200</td>\n",
              "      <td>XL</td>\n",
              "      <td>2018-01-01</td>\n",
              "      <td>2018</td>\n",
              "      <td>1</td>\n",
              "      <td>220.0</td>\n",
              "      <td>240.0</td>\n",
              "      <td>400</td>\n",
              "      <td>faixa0</td>\n",
              "    </tr>\n",
              "    <tr>\n",
              "      <th>1</th>\n",
              "      <td>2017-02-01</td>\n",
              "      <td>B</td>\n",
              "      <td>300</td>\n",
              "      <td>XL</td>\n",
              "      <td>2017-02-01</td>\n",
              "      <td>2017</td>\n",
              "      <td>2</td>\n",
              "      <td>330.0</td>\n",
              "      <td>360.0</td>\n",
              "      <td>600</td>\n",
              "      <td>faixa1</td>\n",
              "    </tr>\n",
              "    <tr>\n",
              "      <th>2</th>\n",
              "      <td>2019-10-01</td>\n",
              "      <td>C</td>\n",
              "      <td>400</td>\n",
              "      <td>XS</td>\n",
              "      <td>2019-10-01</td>\n",
              "      <td>2019</td>\n",
              "      <td>3</td>\n",
              "      <td>440.0</td>\n",
              "      <td>480.0</td>\n",
              "      <td>800</td>\n",
              "      <td>faixa1</td>\n",
              "    </tr>\n",
              "  </tbody>\n",
              "</table>\n",
              "</div>"
            ],
            "text/plain": [
              "         Data Evento  Valores  ... Valores20Perc ValoresDobro  Status\n",
              "0  2018-01-01      A      200  ...         240.0          400  faixa0\n",
              "1  2017-02-01      B      300  ...         360.0          600  faixa1\n",
              "2  2019-10-01      C      400  ...         480.0          800  faixa1\n",
              "\n",
              "[3 rows x 11 columns]"
            ]
          },
          "execution_count": 12,
          "metadata": {
            "tags": []
          },
          "output_type": "execute_result"
        }
      ],
      "source": [
        "datesDf['Valores10Perc'] = datesDf['Valores'] * 1.1 #metodo mais simples - aplicando crescimento de 10%\n",
        "datesDf['Valores20Perc'] = datesDf['Valores'].apply(lambda x: x * 1.2) #com apply - aplicando crescimento de 20%\n",
        "\n",
        "#função que multiplica por 2 para ser aplicado na coluna\n",
        "def doubleData(x):\n",
        "   return x * 2\n",
        "\n",
        "datesDf['ValoresDobro'] = datesDf['Valores'].apply(doubleData) #com apply e função doubleData\n",
        "\n",
        "#função para criar faixa de valores\n",
        "def Status(x):\n",
        "  if x >= 300:\n",
        "    return 'faixa1'\n",
        "  else:\n",
        "    return 'faixa0'\n",
        "\n",
        "datesDf['Status'] = datesDf['Valores'].apply(Status) #com apply e função de classificação\n",
        "\n",
        "datesDf.head(5)"
      ]
    },
    {
      "cell_type": "markdown",
      "metadata": {
        "id": "0oqqCF6_rjxJ"
      },
      "source": [
        "#### Função de percentiles"
      ]
    },
    {
      "cell_type": "code",
      "execution_count": null,
      "metadata": {
        "id": "GZdrRK_grjA5"
      },
      "outputs": [],
      "source": [
        "def q50(x):\n",
        "            return x.quantile(0.5)\n",
        "# 90th Percentile\n",
        "def q90(x):\n",
        "            return x.quantile(0.9)"
      ]
    },
    {
      "cell_type": "markdown",
      "source": [
        "#### Plot simples"
      ],
      "metadata": {
        "id": "vsc1XvGjtgvz"
      }
    },
    {
      "cell_type": "code",
      "source": [
        "ax = invoice_period_agg['total_customers'].cumsum().plot()\n",
        "ax2 = invoice_period_agg['tot_order'].cumsum().plot()\n",
        "ax.set_yscale('log')"
      ],
      "metadata": {
        "id": "T6LfwI02tfoW"
      },
      "execution_count": null,
      "outputs": []
    },
    {
      "cell_type": "markdown",
      "metadata": {
        "id": "hGcDkVIR-75J"
      },
      "source": [
        "#### Tratamento NULLS / Missings"
      ]
    },
    {
      "cell_type": "code",
      "execution_count": null,
      "metadata": {
        "colab": {
          "base_uri": "https://localhost:8080/",
          "height": 136
        },
        "id": "9U7PPzKYNWni",
        "outputId": "ca913871-1c74-4aed-d4c5-cc750f00457f"
      },
      "outputs": [
        {
          "data": {
            "text/html": [
              "<div>\n",
              "<style scoped>\n",
              "    .dataframe tbody tr th:only-of-type {\n",
              "        vertical-align: middle;\n",
              "    }\n",
              "\n",
              "    .dataframe tbody tr th {\n",
              "        vertical-align: top;\n",
              "    }\n",
              "\n",
              "    .dataframe thead th {\n",
              "        text-align: right;\n",
              "    }\n",
              "</style>\n",
              "<table border=\"1\" class=\"dataframe\">\n",
              "  <thead>\n",
              "    <tr style=\"text-align: right;\">\n",
              "      <th></th>\n",
              "      <th>Data</th>\n",
              "      <th>Evento</th>\n",
              "      <th>Valores</th>\n",
              "      <th>Categoria</th>\n",
              "      <th>Date</th>\n",
              "      <th>ano</th>\n",
              "      <th>Indice</th>\n",
              "      <th>Valores10Perc</th>\n",
              "      <th>Valores20Perc</th>\n",
              "      <th>ValoresDobro</th>\n",
              "      <th>Status</th>\n",
              "      <th>exemploNull</th>\n",
              "    </tr>\n",
              "  </thead>\n",
              "  <tbody>\n",
              "    <tr>\n",
              "      <th>0</th>\n",
              "      <td>2018-01-01</td>\n",
              "      <td>A</td>\n",
              "      <td>200</td>\n",
              "      <td>XL</td>\n",
              "      <td>2018-01-01</td>\n",
              "      <td>2018</td>\n",
              "      <td>1</td>\n",
              "      <td>220.0</td>\n",
              "      <td>240.0</td>\n",
              "      <td>400</td>\n",
              "      <td>faixa0</td>\n",
              "      <td>NaN</td>\n",
              "    </tr>\n",
              "    <tr>\n",
              "      <th>1</th>\n",
              "      <td>2017-02-01</td>\n",
              "      <td>B</td>\n",
              "      <td>300</td>\n",
              "      <td>XL</td>\n",
              "      <td>2017-02-01</td>\n",
              "      <td>2017</td>\n",
              "      <td>2</td>\n",
              "      <td>330.0</td>\n",
              "      <td>360.0</td>\n",
              "      <td>600</td>\n",
              "      <td>faixa1</td>\n",
              "      <td>NaN</td>\n",
              "    </tr>\n",
              "    <tr>\n",
              "      <th>2</th>\n",
              "      <td>2019-10-01</td>\n",
              "      <td>C</td>\n",
              "      <td>400</td>\n",
              "      <td>XS</td>\n",
              "      <td>2019-10-01</td>\n",
              "      <td>2019</td>\n",
              "      <td>3</td>\n",
              "      <td>440.0</td>\n",
              "      <td>480.0</td>\n",
              "      <td>800</td>\n",
              "      <td>faixa1</td>\n",
              "      <td>NaN</td>\n",
              "    </tr>\n",
              "  </tbody>\n",
              "</table>\n",
              "</div>"
            ],
            "text/plain": [
              "         Data Evento  Valores  ... ValoresDobro  Status exemploNull\n",
              "0  2018-01-01      A      200  ...          400  faixa0         NaN\n",
              "1  2017-02-01      B      300  ...          600  faixa1         NaN\n",
              "2  2019-10-01      C      400  ...          800  faixa1         NaN\n",
              "\n",
              "[3 rows x 12 columns]"
            ]
          },
          "execution_count": 13,
          "metadata": {
            "tags": []
          },
          "output_type": "execute_result"
        }
      ],
      "source": [
        "datesDf['exemploNull'] = np.nan # criando coluna de nulls para exemplo\n",
        "\n",
        "datesDf.head(5)"
      ]
    },
    {
      "cell_type": "markdown",
      "metadata": {
        "id": "M7PBZlWZPhWZ"
      },
      "source": [
        "Operating on Null Values\n",
        "As we have seen, Pandas treats None and NaN as essentially interchangeable for indicating missing or null values. To facilitate this convention, there are several useful methods for detecting, removing, and replacing null values in Pandas data structures. They are:\n",
        "\n",
        "isnull(): Generate a boolean mask indicating missing _cs\n",
        "notnull(): Opposite of isnull()\n",
        "dropna(): Return a filtered version of the data\n",
        " fillna(): Return a copy of the data with missing values filled or imputed"
      ]
    },
    {
      "cell_type": "code",
      "execution_count": null,
      "metadata": {
        "colab": {
          "base_uri": "https://localhost:8080/",
          "height": 136
        },
        "id": "66sManpKNl5F",
        "outputId": "a4f4a492-8c5a-4599-8ada-c95143825861"
      },
      "outputs": [
        {
          "data": {
            "text/html": [
              "<div>\n",
              "<style scoped>\n",
              "    .dataframe tbody tr th:only-of-type {\n",
              "        vertical-align: middle;\n",
              "    }\n",
              "\n",
              "    .dataframe tbody tr th {\n",
              "        vertical-align: top;\n",
              "    }\n",
              "\n",
              "    .dataframe thead th {\n",
              "        text-align: right;\n",
              "    }\n",
              "</style>\n",
              "<table border=\"1\" class=\"dataframe\">\n",
              "  <thead>\n",
              "    <tr style=\"text-align: right;\">\n",
              "      <th></th>\n",
              "      <th>Data</th>\n",
              "      <th>Evento</th>\n",
              "      <th>Valores</th>\n",
              "      <th>Categoria</th>\n",
              "      <th>Date</th>\n",
              "      <th>ano</th>\n",
              "      <th>Indice</th>\n",
              "      <th>Valores10Perc</th>\n",
              "      <th>Valores20Perc</th>\n",
              "      <th>ValoresDobro</th>\n",
              "      <th>Status</th>\n",
              "      <th>exemploNull</th>\n",
              "    </tr>\n",
              "  </thead>\n",
              "  <tbody>\n",
              "    <tr>\n",
              "      <th>0</th>\n",
              "      <td>2018-01-01</td>\n",
              "      <td>A</td>\n",
              "      <td>200</td>\n",
              "      <td>XL</td>\n",
              "      <td>2018-01-01</td>\n",
              "      <td>2018</td>\n",
              "      <td>1</td>\n",
              "      <td>220.0</td>\n",
              "      <td>240.0</td>\n",
              "      <td>400</td>\n",
              "      <td>faixa0</td>\n",
              "      <td>0.0</td>\n",
              "    </tr>\n",
              "    <tr>\n",
              "      <th>1</th>\n",
              "      <td>2017-02-01</td>\n",
              "      <td>B</td>\n",
              "      <td>300</td>\n",
              "      <td>XL</td>\n",
              "      <td>2017-02-01</td>\n",
              "      <td>2017</td>\n",
              "      <td>2</td>\n",
              "      <td>330.0</td>\n",
              "      <td>360.0</td>\n",
              "      <td>600</td>\n",
              "      <td>faixa1</td>\n",
              "      <td>0.0</td>\n",
              "    </tr>\n",
              "    <tr>\n",
              "      <th>2</th>\n",
              "      <td>2019-10-01</td>\n",
              "      <td>C</td>\n",
              "      <td>400</td>\n",
              "      <td>XS</td>\n",
              "      <td>2019-10-01</td>\n",
              "      <td>2019</td>\n",
              "      <td>3</td>\n",
              "      <td>440.0</td>\n",
              "      <td>480.0</td>\n",
              "      <td>800</td>\n",
              "      <td>faixa1</td>\n",
              "      <td>0.0</td>\n",
              "    </tr>\n",
              "  </tbody>\n",
              "</table>\n",
              "</div>"
            ],
            "text/plain": [
              "         Data Evento  Valores  ... ValoresDobro  Status exemploNull\n",
              "0  2018-01-01      A      200  ...          400  faixa0         0.0\n",
              "1  2017-02-01      B      300  ...          600  faixa1         0.0\n",
              "2  2019-10-01      C      400  ...          800  faixa1         0.0\n",
              "\n",
              "[3 rows x 12 columns]"
            ]
          },
          "execution_count": 14,
          "metadata": {
            "tags": []
          },
          "output_type": "execute_result"
        }
      ],
      "source": [
        "datesDf['exemploNull'] = datesDf['exemploNull'].fillna(0.0) #recodificando para 0\n",
        "\n",
        "datesDf.head(5)"
      ]
    },
    {
      "cell_type": "code",
      "source": [
        "for column in df.columns:\n",
        "  if df[column].dtype == 'object':\n",
        "    df[column].fillna(df[column].mode()[0], inplace = True)\n",
        "  elif df[column].dtype != 'object':\n",
        "    df[column].fillna(df[column].median(), inplace = True)"
      ],
      "metadata": {
        "id": "X1ptCVyDxpM_"
      },
      "execution_count": null,
      "outputs": []
    },
    {
      "cell_type": "markdown",
      "metadata": {
        "id": "gywdtzE9_OjT"
      },
      "source": [
        "#### Filtrar"
      ]
    },
    {
      "cell_type": "code",
      "execution_count": null,
      "metadata": {
        "id": "RBzFS2UGP3sQ"
      },
      "outputs": [],
      "source": [
        "\n",
        " #primeira forma\n",
        "datesFilter = datesDf[datesDf['Status'] == 'faixa1']\n",
        "\n"
      ]
    },
    {
      "cell_type": "markdown",
      "metadata": {
        "id": "v_rfOFD3_TN0"
      },
      "source": [
        "#### Filtrar por lista"
      ]
    },
    {
      "cell_type": "code",
      "execution_count": null,
      "metadata": {
        "colab": {
          "base_uri": "https://localhost:8080/",
          "height": 106
        },
        "id": "K9roHIE_UdXn",
        "outputId": "e19daf94-cd7f-4263-f622-2b1c703bf23e"
      },
      "outputs": [
        {
          "data": {
            "text/html": [
              "<div>\n",
              "<style scoped>\n",
              "    .dataframe tbody tr th:only-of-type {\n",
              "        vertical-align: middle;\n",
              "    }\n",
              "\n",
              "    .dataframe tbody tr th {\n",
              "        vertical-align: top;\n",
              "    }\n",
              "\n",
              "    .dataframe thead th {\n",
              "        text-align: right;\n",
              "    }\n",
              "</style>\n",
              "<table border=\"1\" class=\"dataframe\">\n",
              "  <thead>\n",
              "    <tr style=\"text-align: right;\">\n",
              "      <th></th>\n",
              "      <th>Data</th>\n",
              "      <th>Evento</th>\n",
              "      <th>Valores</th>\n",
              "      <th>Categoria</th>\n",
              "      <th>Date</th>\n",
              "      <th>ano</th>\n",
              "      <th>Indice</th>\n",
              "      <th>Valores10Perc</th>\n",
              "      <th>Valores20Perc</th>\n",
              "      <th>ValoresDobro</th>\n",
              "      <th>Status</th>\n",
              "      <th>exemploNull</th>\n",
              "    </tr>\n",
              "  </thead>\n",
              "  <tbody>\n",
              "    <tr>\n",
              "      <th>1</th>\n",
              "      <td>2017-02-01</td>\n",
              "      <td>B</td>\n",
              "      <td>300</td>\n",
              "      <td>XL</td>\n",
              "      <td>2017-02-01</td>\n",
              "      <td>2017</td>\n",
              "      <td>2</td>\n",
              "      <td>330.0</td>\n",
              "      <td>360.0</td>\n",
              "      <td>600</td>\n",
              "      <td>faixa1</td>\n",
              "      <td>0.0</td>\n",
              "    </tr>\n",
              "    <tr>\n",
              "      <th>2</th>\n",
              "      <td>2019-10-01</td>\n",
              "      <td>C</td>\n",
              "      <td>400</td>\n",
              "      <td>XS</td>\n",
              "      <td>2019-10-01</td>\n",
              "      <td>2019</td>\n",
              "      <td>3</td>\n",
              "      <td>440.0</td>\n",
              "      <td>480.0</td>\n",
              "      <td>800</td>\n",
              "      <td>faixa1</td>\n",
              "      <td>0.0</td>\n",
              "    </tr>\n",
              "  </tbody>\n",
              "</table>\n",
              "</div>"
            ],
            "text/plain": [
              "         Data Evento  Valores  ... ValoresDobro  Status exemploNull\n",
              "1  2017-02-01      B      300  ...          600  faixa1         0.0\n",
              "2  2019-10-01      C      400  ...          800  faixa1         0.0\n",
              "\n",
              "[2 rows x 12 columns]"
            ]
          },
          "execution_count": 16,
          "metadata": {
            "tags": []
          },
          "output_type": "execute_result"
        }
      ],
      "source": [
        "faixas = ['faixa1'] #permite mais de um valor\n",
        "\n",
        "datesFilter = datesDf[datesDf.Status.isin(faixas)]\n",
        "\n",
        "datesFilter.head(5)"
      ]
    },
    {
      "cell_type": "code",
      "source": [
        "df.dropna(subset=['value_euro'], inplace=True)"
      ],
      "metadata": {
        "id": "5WJJe4ne-yH0"
      },
      "execution_count": null,
      "outputs": []
    },
    {
      "cell_type": "markdown",
      "metadata": {
        "id": "zJoCr1qY_Vi0"
      },
      "source": [
        "#### Filtrar com não contém"
      ]
    },
    {
      "cell_type": "code",
      "execution_count": null,
      "metadata": {
        "colab": {
          "base_uri": "https://localhost:8080/",
          "height": 77
        },
        "id": "ap47yDCPUoTj",
        "outputId": "a7bb65c2-89f7-42f0-aa27-6f36c3fd4c3d"
      },
      "outputs": [
        {
          "data": {
            "text/html": [
              "<div>\n",
              "<style scoped>\n",
              "    .dataframe tbody tr th:only-of-type {\n",
              "        vertical-align: middle;\n",
              "    }\n",
              "\n",
              "    .dataframe tbody tr th {\n",
              "        vertical-align: top;\n",
              "    }\n",
              "\n",
              "    .dataframe thead th {\n",
              "        text-align: right;\n",
              "    }\n",
              "</style>\n",
              "<table border=\"1\" class=\"dataframe\">\n",
              "  <thead>\n",
              "    <tr style=\"text-align: right;\">\n",
              "      <th></th>\n",
              "      <th>Data</th>\n",
              "      <th>Evento</th>\n",
              "      <th>Valores</th>\n",
              "      <th>Categoria</th>\n",
              "      <th>Date</th>\n",
              "      <th>ano</th>\n",
              "      <th>Indice</th>\n",
              "      <th>Valores10Perc</th>\n",
              "      <th>Valores20Perc</th>\n",
              "      <th>ValoresDobro</th>\n",
              "      <th>Status</th>\n",
              "      <th>exemploNull</th>\n",
              "    </tr>\n",
              "  </thead>\n",
              "  <tbody>\n",
              "    <tr>\n",
              "      <th>0</th>\n",
              "      <td>2018-01-01</td>\n",
              "      <td>A</td>\n",
              "      <td>200</td>\n",
              "      <td>XL</td>\n",
              "      <td>2018-01-01</td>\n",
              "      <td>2018</td>\n",
              "      <td>1</td>\n",
              "      <td>220.0</td>\n",
              "      <td>240.0</td>\n",
              "      <td>400</td>\n",
              "      <td>faixa0</td>\n",
              "      <td>0.0</td>\n",
              "    </tr>\n",
              "  </tbody>\n",
              "</table>\n",
              "</div>"
            ],
            "text/plain": [
              "         Data Evento  Valores  ... ValoresDobro  Status exemploNull\n",
              "0  2018-01-01      A      200  ...          400  faixa0         0.0\n",
              "\n",
              "[1 rows x 12 columns]"
            ]
          },
          "execution_count": 17,
          "metadata": {
            "tags": []
          },
          "output_type": "execute_result"
        }
      ],
      "source": [
        "faixas = ['faixa1']#permite mais de um valor\n",
        "\n",
        "datesFilter = datesDf[~datesDf.Status.isin(faixas)] # naõ contém\n",
        "\n",
        "datesFilter.head(5)"
      ]
    },
    {
      "cell_type": "markdown",
      "metadata": {
        "id": "fSG5IQLk_dtW"
      },
      "source": [
        "#### Join"
      ]
    },
    {
      "cell_type": "code",
      "execution_count": null,
      "metadata": {
        "id": "1Qq1HW-KxMBo"
      },
      "outputs": [],
      "source": [
        "# Trazendo a descrição dos eventos A, B e C para o dataFrame \"datesDf\"\n",
        "# Mas antes, vou criar um dataframe de testes \"DescriEventosDf\" com a descrição dos eventos A e B (não incluirei C para testar)\n",
        "\n",
        "ChaveEventos = ['A','B']\n",
        "DescriEventos = ['Transacao concluida', 'Transacao negada']\n",
        "DescriEventosDf = pd.DataFrame({'Evento': ChaveEventos, 'Desc_Evento': DescriEventos})\n"
      ]
    },
    {
      "cell_type": "code",
      "execution_count": null,
      "metadata": {
        "colab": {
          "base_uri": "https://localhost:8080/",
          "height": 186
        },
        "id": "Fzv_CU2WyvSq",
        "outputId": "e9269997-029a-4155-ea61-602c9b1b6248"
      },
      "outputs": [
        {
          "data": {
            "text/html": [
              "<div>\n",
              "<style scoped>\n",
              "    .dataframe tbody tr th:only-of-type {\n",
              "        vertical-align: middle;\n",
              "    }\n",
              "\n",
              "    .dataframe tbody tr th {\n",
              "        vertical-align: top;\n",
              "    }\n",
              "\n",
              "    .dataframe thead th {\n",
              "        text-align: right;\n",
              "    }\n",
              "</style>\n",
              "<table border=\"1\" class=\"dataframe\">\n",
              "  <thead>\n",
              "    <tr style=\"text-align: right;\">\n",
              "      <th></th>\n",
              "      <th>Data</th>\n",
              "      <th>Evento</th>\n",
              "      <th>Valores</th>\n",
              "      <th>Categoria</th>\n",
              "      <th>Date</th>\n",
              "      <th>ano</th>\n",
              "      <th>Indice</th>\n",
              "      <th>Valores10Perc</th>\n",
              "      <th>Valores20Perc</th>\n",
              "      <th>ValoresDobro</th>\n",
              "      <th>Status</th>\n",
              "      <th>exemploNull</th>\n",
              "      <th>Desc_Evento</th>\n",
              "    </tr>\n",
              "  </thead>\n",
              "  <tbody>\n",
              "    <tr>\n",
              "      <th>0</th>\n",
              "      <td>2018-01-01</td>\n",
              "      <td>A</td>\n",
              "      <td>200</td>\n",
              "      <td>XL</td>\n",
              "      <td>2018-01-01</td>\n",
              "      <td>2018</td>\n",
              "      <td>1</td>\n",
              "      <td>220.0</td>\n",
              "      <td>240.0</td>\n",
              "      <td>400</td>\n",
              "      <td>faixa0</td>\n",
              "      <td>0.0</td>\n",
              "      <td>Transacao concluida</td>\n",
              "    </tr>\n",
              "    <tr>\n",
              "      <th>1</th>\n",
              "      <td>2017-02-01</td>\n",
              "      <td>B</td>\n",
              "      <td>300</td>\n",
              "      <td>XL</td>\n",
              "      <td>2017-02-01</td>\n",
              "      <td>2017</td>\n",
              "      <td>2</td>\n",
              "      <td>330.0</td>\n",
              "      <td>360.0</td>\n",
              "      <td>600</td>\n",
              "      <td>faixa1</td>\n",
              "      <td>0.0</td>\n",
              "      <td>Transacao negada</td>\n",
              "    </tr>\n",
              "    <tr>\n",
              "      <th>2</th>\n",
              "      <td>2019-10-01</td>\n",
              "      <td>C</td>\n",
              "      <td>400</td>\n",
              "      <td>XS</td>\n",
              "      <td>2019-10-01</td>\n",
              "      <td>2019</td>\n",
              "      <td>3</td>\n",
              "      <td>440.0</td>\n",
              "      <td>480.0</td>\n",
              "      <td>800</td>\n",
              "      <td>faixa1</td>\n",
              "      <td>0.0</td>\n",
              "      <td>NaN</td>\n",
              "    </tr>\n",
              "  </tbody>\n",
              "</table>\n",
              "</div>"
            ],
            "text/plain": [
              "         Data Evento  Valores  ...  Status exemploNull          Desc_Evento\n",
              "0  2018-01-01      A      200  ...  faixa0         0.0  Transacao concluida\n",
              "1  2017-02-01      B      300  ...  faixa1         0.0     Transacao negada\n",
              "2  2019-10-01      C      400  ...  faixa1         0.0                  NaN\n",
              "\n",
              "[3 rows x 13 columns]"
            ]
          },
          "execution_count": 24,
          "metadata": {
            "tags": []
          },
          "output_type": "execute_result"
        }
      ],
      "source": [
        "datesDfAdd = datesDf.join(DescriEventosDf.set_index('Evento'), on = 'Evento', how = 'left' )\n",
        "\n",
        "#pode usar lsuffix e rsuffix quando o nome das chaves é diferente. Ex: lsuffix='_caller', rsuffix='_other' (nesse caso não precisa inserir on e how)\n",
        "\n",
        "datesDfAdd.head(5)"
      ]
    },
    {
      "cell_type": "code",
      "execution_count": null,
      "metadata": {
        "colab": {
          "base_uri": "https://localhost:8080/",
          "height": 140
        },
        "id": "601NwCEo1k9M",
        "outputId": "2ca90427-275e-4572-9779-9c0264c86576"
      },
      "outputs": [
        {
          "data": {
            "text/html": [
              "<div>\n",
              "<style scoped>\n",
              "    .dataframe tbody tr th:only-of-type {\n",
              "        vertical-align: middle;\n",
              "    }\n",
              "\n",
              "    .dataframe tbody tr th {\n",
              "        vertical-align: top;\n",
              "    }\n",
              "\n",
              "    .dataframe thead th {\n",
              "        text-align: right;\n",
              "    }\n",
              "</style>\n",
              "<table border=\"1\" class=\"dataframe\">\n",
              "  <thead>\n",
              "    <tr style=\"text-align: right;\">\n",
              "      <th></th>\n",
              "      <th>Data</th>\n",
              "      <th>Evento</th>\n",
              "      <th>Valores</th>\n",
              "      <th>Categoria</th>\n",
              "      <th>Date</th>\n",
              "      <th>ano</th>\n",
              "      <th>Indice</th>\n",
              "      <th>Valores10Perc</th>\n",
              "      <th>Valores20Perc</th>\n",
              "      <th>ValoresDobro</th>\n",
              "      <th>Status</th>\n",
              "      <th>exemploNull</th>\n",
              "      <th>Desc_Evento</th>\n",
              "    </tr>\n",
              "  </thead>\n",
              "  <tbody>\n",
              "    <tr>\n",
              "      <th>0</th>\n",
              "      <td>2018-01-01</td>\n",
              "      <td>A</td>\n",
              "      <td>200</td>\n",
              "      <td>XL</td>\n",
              "      <td>2018-01-01</td>\n",
              "      <td>2018</td>\n",
              "      <td>1</td>\n",
              "      <td>220.0</td>\n",
              "      <td>240.0</td>\n",
              "      <td>400</td>\n",
              "      <td>faixa0</td>\n",
              "      <td>0.0</td>\n",
              "      <td>Transacao concluida</td>\n",
              "    </tr>\n",
              "    <tr>\n",
              "      <th>1</th>\n",
              "      <td>2017-02-01</td>\n",
              "      <td>B</td>\n",
              "      <td>300</td>\n",
              "      <td>XL</td>\n",
              "      <td>2017-02-01</td>\n",
              "      <td>2017</td>\n",
              "      <td>2</td>\n",
              "      <td>330.0</td>\n",
              "      <td>360.0</td>\n",
              "      <td>600</td>\n",
              "      <td>faixa1</td>\n",
              "      <td>0.0</td>\n",
              "      <td>Transacao negada</td>\n",
              "    </tr>\n",
              "  </tbody>\n",
              "</table>\n",
              "</div>"
            ],
            "text/plain": [
              "         Data Evento  Valores  ...  Status exemploNull          Desc_Evento\n",
              "0  2018-01-01      A      200  ...  faixa0         0.0  Transacao concluida\n",
              "1  2017-02-01      B      300  ...  faixa1         0.0     Transacao negada\n",
              "\n",
              "[2 rows x 13 columns]"
            ]
          },
          "execution_count": 25,
          "metadata": {
            "tags": []
          },
          "output_type": "execute_result"
        }
      ],
      "source": [
        "datesDfAdd2 = datesDf.join(DescriEventosDf.set_index('Evento'), on = 'Evento', how = 'right' )\n",
        "\n",
        "datesDfAdd2.head(5)"
      ]
    },
    {
      "cell_type": "markdown",
      "source": [
        "Zfill para acerto de campos antes do join"
      ],
      "metadata": {
        "id": "hvEwbB2XszMX"
      }
    },
    {
      "cell_type": "code",
      "source": [
        "baseWill['cli_nr_cpf'] = baseWill['cli_nr_cpf'].astype('string').str.zfill(11)"
      ],
      "metadata": {
        "id": "bX2qNMdcs2wQ"
      },
      "execution_count": null,
      "outputs": []
    },
    {
      "cell_type": "markdown",
      "source": [
        "####  Criando variáveis com nome variável em loop"
      ],
      "metadata": {
        "id": "D3e4Zcu8iBwi"
      }
    },
    {
      "cell_type": "code",
      "source": [
        "percentuais_assuntos = ['p_logistica','p_fatura','p_pagamento', 'p_geral_conta', 'p_geral_cartao',\n",
        "    'p_fraude', 'p_geral_tecnologia' , 'p_geral_outros']\n",
        "\n",
        "for i in percentuais_assuntos:\n",
        "    globals()['m_%s' % i] = df[i].mean()"
      ],
      "metadata": {
        "id": "ReGT-Cw6iAxp"
      },
      "execution_count": null,
      "outputs": []
    },
    {
      "cell_type": "markdown",
      "metadata": {
        "id": "PcyDm2n6_ilV"
      },
      "source": [
        "#### Histograma"
      ]
    },
    {
      "cell_type": "code",
      "execution_count": null,
      "metadata": {
        "colab": {
          "base_uri": "https://localhost:8080/",
          "height": 265
        },
        "id": "BiBHt0ey43Bu",
        "outputId": "afed0161-2c74-47a2-879e-64485e9f40ac"
      },
      "outputs": [
        {
          "data": {
            "image/png": "[encoded data removed]",
            "text/plain": [
              "<Figure size 432x288 with 1 Axes>"
            ]
          },
          "metadata": {
            "tags": []
          },
          "output_type": "display_data"
        }
      ],
      "source": [
        "import matplotlib.pyplot as plt\n",
        "%matplotlib inline\n",
        "plt.hist(datesDf['Categoria'], bins = 5)\n",
        "\n",
        "plt.show()"
      ]
    },
    {
      "cell_type": "markdown",
      "source": [
        "#### Código para gráfico a partir do value counts"
      ],
      "metadata": {
        "id": "aWUg70wYePbO"
      }
    },
    {
      "cell_type": "code",
      "source": [
        "df_flx3['comb5'].value_counts(normalize=True)[:20].sort_values().plot(kind='barh', figsize=(10, 10))"
      ],
      "metadata": {
        "id": "oGTtxFKEeOF6"
      },
      "execution_count": null,
      "outputs": []
    },
    {
      "cell_type": "code",
      "source": [
        "https://seaborn.pydata.org/generated/seaborn.histplot.html"
      ],
      "metadata": {
        "id": "VS-j5CySvbvc"
      },
      "execution_count": null,
      "outputs": []
    },
    {
      "cell_type": "code",
      "source": [
        "#gráfico seaborn\n",
        "%matplotlib inline\n",
        "\n",
        "plt.figure(figsize = (20,10))\n",
        "sns.histplot(data=df, x='tempo_entre_chats', hue=\"resolução_bot\", multiple=\"stack\", stat=\"percent\", discrete=True)\n",
        "plt.show()"
      ],
      "metadata": {
        "id": "zFNFxlJDvEwV"
      },
      "execution_count": null,
      "outputs": []
    },
    {
      "cell_type": "markdown",
      "metadata": {
        "id": "TVt46WMaTzQE"
      },
      "source": [
        "#### Scatterplot"
      ]
    },
    {
      "cell_type": "code",
      "execution_count": null,
      "metadata": {
        "id": "tO4sduaf5qJi"
      },
      "outputs": [],
      "source": [
        "fig = plt.figure()\n",
        "ax = fig.add_subplot(1,1,1)\n",
        "ax.scatter(datesDf['Valores10Perc'],datesDf['Valores20Perc'])"
      ]
    },
    {
      "cell_type": "markdown",
      "source": [
        "#### Gráfico Plotly"
      ],
      "metadata": {
        "id": "90YzgEbKz7ec"
      }
    },
    {
      "cell_type": "code",
      "execution_count": null,
      "metadata": {
        "id": "ubJ2cydRTlBU"
      },
      "outputs": [],
      "source": [
        "import pandas as pd\n",
        "import numpy as np\n",
        "import plotly\n",
        "import plotly.express as px\n",
        "\n",
        "plotly.offline.init_notebook_mode()\n",
        "variavel = 'ds_safra'\n",
        "\n",
        "df_agg_2 = df_agg.pivot_table(columns=variavel,index = 'personas_cluster', values='clientes', aggfunc=np.sum)\n",
        "df_agg_2 = df_agg_2.query('personas_cluster != \"Outros\"')\n",
        "for i in df_agg_2.columns:\n",
        "    df_agg_2[i] = df_agg_2[i] / df_agg_2[i].sum()\n",
        "\n",
        "df_agg_2 = df_agg_2.reset_index()\n",
        "df_agg_2 = pd.melt(df_agg_2, id_vars=['personas_cluster'])\n",
        "df_agg_2['value'] = df_agg_2['value'] * 100\n",
        "fig = px.bar(df_agg_2, x=variavel, y=\"value\",color = \"personas_cluster\" , barmode=\"group\")\n",
        "fig.show()\n",
        "x = df_agg_2[variavel]\n",
        "y = df_agg_2.personas_cluster\n",
        "z = df_agg_2.value.round(1)\n",
        "\n",
        "fig = go.Figure(data=go.Heatmap(\n",
        "        z=z,\n",
        "        x=x,\n",
        "        y=y,\n",
        "        colorscale='oranges', texttemplate=\"%{z}\", textfont={\"size\":8}))\n",
        "\n",
        "fig.update_layout(\n",
        "    title='Personas por ' + variavel\n",
        "    , height = 700\n",
        "    #, width = 800\n",
        "    , xaxis_nticks=36)\n",
        "\n",
        "fig.show()"
      ]
    },
    {
      "cell_type": "markdown",
      "source": [
        "#### Gráfico Seaborn com Loop - com agregação antes"
      ],
      "metadata": {
        "id": "iWoz_WvbXCFP"
      }
    },
    {
      "cell_type": "code",
      "source": [
        "import seaborn as sns\n",
        "import matplotlib.pyplot as plt\n",
        "\n",
        "vars_agregacao = ['ie_bin' , 'cred_bin', 'limite_bin', 'nr_behavior_score', 'score_gh'] #vão estar no x. Precisam ser categóricas\n",
        "\n",
        "for i in vars_agregacao:\n",
        "    group_var = 'proba_bin' #vai estar na legenda\n",
        "    x_var = i\n",
        "    campo_contagem = 'count'\n",
        "    agg = pb_add.groupby([i, group_var]).agg({'conta_cartao':['count']}) #alterar nome do dataframe e variavel de contagem\n",
        "    agg.columns = agg.columns.droplevel(0)\n",
        "    agg = agg.reset_index()\n",
        "    df_viz = agg.pivot_table(columns=x_var,index = group_var, values=campo_contagem, aggfunc=np.sum)\n",
        "\n",
        "    for i in df_viz.columns:\n",
        "        df_viz[i] = df_viz[i] / df_viz[i].sum()\n",
        "\n",
        "    df_viz = df_viz.reset_index()\n",
        "    df_viz = pd.melt(df_viz, id_vars=[group_var])\n",
        "    df_viz['value'] = df_viz['value'] * 100\n",
        "    x = df_viz[x_var].astype('str')\n",
        "    y = df_viz[group_var].astype('str')\n",
        "    z = df_viz.value.round(1)\n",
        "    plt.figure(figsize = (20,10))\n",
        "    sns.barplot(data = df_viz, x = x, y = z, hue = y, palette=\"ch:s=1,rot=-2\")\n",
        "    plt.show()"
      ],
      "metadata": {
        "id": "By1RFatUW_cA"
      },
      "execution_count": null,
      "outputs": []
    },
    {
      "cell_type": "code",
      "source": [
        "plt.figure(figsize = (20,10))\n",
        "sns.boxplot(data = pb_add, y = 'pc_sow', x = 'proba_bin', hue='flag_baixo_ie_cred') #hue não fica tão legal com muitas categorias. Y é uma measure\n",
        "plt.xticks(rotation=90)\n",
        "plt.show()"
      ],
      "metadata": {
        "id": "o5AOZm7qFkV5"
      },
      "execution_count": null,
      "outputs": []
    },
    {
      "cell_type": "code",
      "source": [
        "plt.figure(figsize = (20,10))\n",
        "sns.lineplot(data=projecao_final, x=\"data\", y=\"erro_ponto\")\n",
        "plt.show()"
      ],
      "metadata": {
        "id": "PBOwXzpIY90N"
      },
      "execution_count": null,
      "outputs": []
    },
    {
      "cell_type": "code",
      "source": [
        "#line plot two axes\n",
        "sns.lineplot(data=df.column1, color=\"g\")\n",
        "ax2 = plt.twinx()\n",
        "sns.lineplot(data=df.column2, color=\"b\", ax=ax2)"
      ],
      "metadata": {
        "id": "QFOuhRGociAz"
      },
      "execution_count": null,
      "outputs": []
    },
    {
      "cell_type": "code",
      "source": [
        "sns.catplot(\n",
        "    data=summary_by_medal,\n",
        "    x='Country',\n",
        "    y='medal count',\n",
        "    hue='Medal',\n",
        "    kind='box',\n",
        "    height=5, # make the plot 5 units high\n",
        "    aspect=3) # height should be three times width"
      ],
      "metadata": {
        "id": "5jPHPruvtre1"
      },
      "execution_count": null,
      "outputs": []
    },
    {
      "cell_type": "code",
      "source": [
        "#correlação\n",
        "plt.figure(figsize=(10,10))\n",
        "sns.heatmap(df.drop(id_columns, axis=1).corr(), annot=True, cmap=\"coolwarm\", vmax=0.5)\n",
        "plt.show()"
      ],
      "metadata": {
        "id": "GQ8fCbC6h49L"
      },
      "execution_count": null,
      "outputs": []
    },
    {
      "cell_type": "markdown",
      "source": [
        "#### Formatação condicional nos pandas"
      ],
      "metadata": {
        "id": "NDPnq7p5F2xU"
      }
    },
    {
      "cell_type": "code",
      "source": [
        "def background(cell_value):\n",
        "    highlight_1 = 'background-color: #ee964b;'\n",
        "    highlight_2 = 'background-color: #f4d35e;'\n",
        "    highlight_3 = 'background-color: #f1dca7;'\n",
        "    highlight_4 = 'background-color: #bee3db;'\n",
        "    highlight_5 = 'background-color: #c6dabf;'\n",
        "\n",
        "\n",
        "    default = ''\n",
        "\n",
        "    if type(cell_value) in [float, int]:\n",
        "        if cell_value > 1:\n",
        "            return highlight_1\n",
        "        elif cell_value > 0.5 and cell_value <=1:\n",
        "            return highlight_2\n",
        "        elif cell_value > 0.2 and cell_value <=0.5:\n",
        "            return highlight_3\n",
        "        elif cell_value < -1:\n",
        "            return highlight_4\n",
        "        elif cell_value < -0.5 and cell_value >= -1:\n",
        "            return highlight_5\n",
        "    return default\n",
        "\n",
        "def font(cell_value):\n",
        "    if cell_value == 0:\n",
        "        return 'color: white'\n",
        "\n",
        "visao_dias.sort_values(by='tipo_var') \\\n",
        "          .style \\\n",
        "          .applymap(background) \\\n",
        "          .applymap(font)  \\\n",
        "          .to_html(\"teste.html\")"
      ],
      "metadata": {
        "id": "8uUPxaNjF0pO"
      },
      "execution_count": null,
      "outputs": []
    },
    {
      "cell_type": "markdown",
      "source": [
        "#### GRÁFICO RETIRANDO OUTLIER"
      ],
      "metadata": {
        "id": "c2e7FDM0VS7O"
      }
    },
    {
      "cell_type": "code",
      "source": [
        "num = ['nr_tmat_resolucao', 'nr_tpr', 'nr_mensagens_agente']\n",
        "cat = ['ds_cluster_sociodemographic', 'ds_customer_state', 'nr_csat_cat']\n",
        "\n",
        "stats = df.describe()\n",
        "\n",
        "\n",
        "for j in cat:\n",
        "    df[j] = df[j].fillna('si')\n",
        "    for i in num:\n",
        "        df[i] = df[i].fillna(0.0)\n",
        "        p75 = stats.iloc[6][i]\n",
        "        p25 = stats.iloc[4][i]\n",
        "        iqr = p75 - p25\n",
        "        higher_outlier = p75 + (1.5 * iqr)\n",
        "        sem_outlier = df[df[i] < higher_outlier]\n",
        "        plt.figure(figsize = (15,20))\n",
        "        sns.boxplot(data = sem_outlier, y = i, x = j)\n",
        "        plt.xticks(rotation=90)\n",
        "        plt.show()"
      ],
      "metadata": {
        "id": "ixDzH0wPUDrD"
      },
      "execution_count": null,
      "outputs": []
    },
    {
      "cell_type": "markdown",
      "source": [
        "### ADVANCED ANALYTICS"
      ],
      "metadata": {
        "id": "wogPVXc1EQjh"
      }
    },
    {
      "cell_type": "markdown",
      "source": [
        "https://github.com/Flaviaestat/Phyton/blob/master/Case_Ame.ipynb"
      ],
      "metadata": {
        "id": "FqR-faKnLMYp"
      }
    },
    {
      "cell_type": "markdown",
      "source": [
        "Concatenar variáveis formato de formula text"
      ],
      "metadata": {
        "id": "DiREoO5_8y4t"
      }
    },
    {
      "cell_type": "code",
      "source": [
        "formula_text2 = str.join(' +', assuntos)\n",
        "formula_text2 = var_resposta + ' ~ ' + formula_text2"
      ],
      "metadata": {
        "id": "sa20rRke8x7-"
      },
      "execution_count": null,
      "outputs": []
    },
    {
      "cell_type": "markdown",
      "source": [
        "Função para regressão ols"
      ],
      "metadata": {
        "id": "GE2MzUBj9DFw"
      }
    },
    {
      "cell_type": "code",
      "source": [
        "from statsmodels.formula.api import ols\n",
        "\n",
        "def resultados_regressao(df, formula_text, list_pred, var_resposta):\n",
        "  model = ols(formula = formula_text, data = df).fit()\n",
        "  prediction = np.exp(model.predict(df))\n",
        "  #Unificando predição total\n",
        "  projecao_final = pd.DataFrame()\n",
        "  projecao_final['prediction_test'] = prediction\n",
        "  projecao_final['real'] = df[var_resposta]\n",
        "  #métricas\n",
        "  mape = np.mean(np.abs((projecao_final['real'] - projecao_final['prediction_test']) / projecao_final['real'])) * 100\n",
        "  print(\"=================================================================\")\n",
        "  print('MAPE: ', mape)\n",
        "  print(\"=================================================================\")\n",
        "  mae = np.median(np.abs((projecao_final['real'] - projecao_final['prediction_test']) / projecao_final['real'])) * 100\n",
        "  print('MAE: ', mae)\n",
        "  print(\"=================================================================\")\n",
        "  #exportando resultados para um dataframe\n",
        "  results_as_html = model.summary().tables[1].as_html()\n",
        "  results = pd.read_html(results_as_html, header=0, index_col=0)[0]\n",
        "  results = results[results['P>|t|'] <= 0.05]\n",
        "  results['Modelo'] = var_resposta\n",
        "  results = results.reset_index()\n",
        "  #mostrando resultados com significância - conf 95%\n",
        "  print(results[results['index'].isin(list_pred)])\n",
        "  return results"
      ],
      "metadata": {
        "id": "R8C644UT9CS0"
      },
      "execution_count": null,
      "outputs": []
    },
    {
      "cell_type": "markdown",
      "source": [
        "#### Importância de variáveis x resposta"
      ],
      "metadata": {
        "id": "9A5eKMKQEtSI"
      }
    },
    {
      "cell_type": "code",
      "source": [
        "#Imports\n",
        "from sklearn.model_selection import train_test_split\n",
        "from sklearn import metrics\n",
        "from sklearn.preprocessing import StandardScaler\n",
        "from sklearn.ensemble import RandomForestClassifier\n",
        "from imblearn.over_sampling import RandomOverSampler\n",
        "import shap\n",
        "\n",
        "\n",
        "#Parâmetros - Alterar abaixo\n",
        "dataset_modelo = pb_add.query('flag_baixo_ie_cred == \"ENGAJAMENTO BAIXO\"')\n",
        "preditores = ['limite', 'pc_sow', 'renda_declarada', 'score_gh', 'nr_behavior_score']\n",
        "target = ['flag_baixa_prob']\n",
        "tam_teste = 0.2\n",
        "features_graficos = 5\n",
        "\n",
        "#Código\n",
        "colunas_modelo = preditores + target\n",
        "for column in colunas_modelo:\n",
        "  if dataset_modelo[column].dtype == 'object':\n",
        "    dataset_modelo[column].fillna(dataset_modelo[column].mode()[0], inplace = True)\n",
        "  elif dataset_modelo[column].dtype != 'object':\n",
        "    dataset_modelo[column].fillna(dataset_modelo[column].median(), inplace = True)\n",
        "\n",
        "\n",
        "x_train, x_test, y_train, y_test = train_test_split(dataset_modelo[preditores]\n",
        "                                                    , dataset_modelo[target]\n",
        "                                                    , random_state=42, test_size=tam_teste)\n",
        "ros = RandomOverSampler(random_state = 42)\n",
        "X_ros, Y_ros = ros.fit_resample(x_train, y_train)\n",
        "arvores = [20, 50, 100, 300, 400, 500]\n",
        "accuracy_array = []\n",
        "\n",
        "for i in arvores:\n",
        "  rf = RandomForestClassifier(n_estimators=i)\n",
        "  rf.fit(X_ros, Y_ros)\n",
        "  y_predicted_rf = rf.predict(x_test)\n",
        "  accuracy_rf = metrics.accuracy_score(y_test, y_predicted_rf).round(4)\n",
        "  accuracy_array.append(accuracy_rf)\n",
        "rf_estimators = pd.DataFrame(list(zip(arvores, accuracy_array)), columns =['arvores', 'acuracia'])\n",
        "best_rf = RandomForestClassifier(n_estimators= rf_estimators['arvores'][rf_estimators['acuracia'].idxmax()])\n",
        "best_rf.fit(X_ros, Y_ros)\n",
        "explainer = shap.Explainer(best_rf.predict, x_test)\n",
        "shap_values = explainer(x_test)\n",
        "shap.summary_plot(shap_values, plot_type='violin')\n",
        "shap.plots.bar(shap_values[0])\n",
        "importance_df = pd.DataFrame(best_rf.feature_importances_, columns = ['importancia'], index = preditores)\n",
        "importance_df.sort_values(by='importancia', ascending=False).head(15).plot.bar(figsize=(20,5))\n",
        "features_importantes = importance_df.sort_values(by='importancia', ascending=False).head(features_graficos).index\n"
      ],
      "metadata": {
        "id": "BhposKDWEV1_"
      },
      "execution_count": null,
      "outputs": []
    },
    {
      "cell_type": "markdown",
      "source": [
        "#### Transforma bases agregadas em detalhadas\n"
      ],
      "metadata": {
        "id": "Lr-yT0ej86AC"
      }
    },
    {
      "cell_type": "code",
      "source": [
        "newdf = pd.DataFrame(np.repeat(df.values, 3, axis=0))\n",
        "newdf.columns = df.columns\n",
        "print(newdf)"
      ],
      "metadata": {
        "id": "dFRIbsKq9ESc"
      },
      "execution_count": null,
      "outputs": []
    },
    {
      "cell_type": "markdown",
      "source": [
        "#### Compara distribuições - KS"
      ],
      "metadata": {
        "id": "9eHu12uzE4Qr"
      }
    },
    {
      "cell_type": "code",
      "source": [
        "from scipy import stats\n",
        "\n",
        "#se formos analisar uma tabela de contingência:\n",
        "agg = pb_add.groupby([i, group_var]).agg({'conta_cartao':['count']})\n",
        "agg.columns = agg.columns.droplevel(0)\n",
        "agg = agg.reset_index()\n",
        "df_viz = agg.pivot_table(columns=x_var,index = group_var, values=campo_contagem, aggfunc=np.sum)\n",
        "for i in df_viz.columns:\n",
        "        df_viz[i] = df_viz[i] / df_viz[i].sum()\n",
        "\n",
        "#Hipótese nula = as distribuições de var1 e var2 são iguais\n",
        "ks = stats.ks_2samp(df['var1'], df['var2'])\n",
        "#KstestResult(statistic=0.5454545454545454, pvalue=7.37417839555191e-15)\n",
        "# Se o p-valor é menor que 0.05, rejeitamos a hipótese nula, ou seja as distribuições são distintas\n",
        "#https://docs.scipy.org/doc/scipy/reference/generated/scipy.stats.ks_2samp.html#scipy.stats.ks_2samp\n",
        "if ks.pvalue < 0.05:\n",
        "        print(\"As distribuições são distintas\")\n",
        "    else:\n",
        "        print(\"Não há evidência para afirmar as distribuições são distintas\")"
      ],
      "metadata": {
        "id": "7DexKPunE_Vf"
      },
      "execution_count": null,
      "outputs": []
    },
    {
      "cell_type": "markdown",
      "source": [
        "#### Fitter de distribuições"
      ],
      "metadata": {
        "id": "1EcZB-LO1teZ"
      }
    },
    {
      "cell_type": "code",
      "source": [
        "import numpy as np\n",
        "import pandas as pd\n",
        "import seaborn as sns\n",
        "from fitter import Fitter, get_common_distributions, get_distributions\n",
        "\n",
        "\n",
        "height = dataset[\"Height\"].values\n",
        "\n",
        "f = Fitter(height,\n",
        "           distributions=['gamma',\n",
        "                          'lognorm',\n",
        "                          \"beta\",\n",
        "                          \"burr\",\n",
        "                          \"norm\"])\n",
        "f.fit()\n",
        "f.summary()\n",
        "\n",
        "f.get_best(method = 'sumsquare_error')\n",
        "\n",
        "#identificando parametros\n",
        "f.fitted_param[\"beta\"]\n",
        "\n",
        "#Get all supported distributions\n",
        "get_distributions()\n"
      ],
      "metadata": {
        "id": "bjLDsUAz1xBy"
      },
      "execution_count": null,
      "outputs": []
    },
    {
      "cell_type": "markdown",
      "source": [
        "#### Ks Normalidade"
      ],
      "metadata": {
        "id": "K_G86nkgZ95E"
      }
    },
    {
      "cell_type": "code",
      "source": [
        "#dados desagregados\n",
        "stats.kstest(df['var1'], \"norm\", alternative='less')"
      ],
      "metadata": {
        "id": "EOOtWdq3aBJ1"
      },
      "execution_count": null,
      "outputs": []
    },
    {
      "cell_type": "markdown",
      "source": [
        "#### Testes não paramétricos de comparação de colunas"
      ],
      "metadata": {
        "id": "AC7pWZMXmYMt"
      }
    },
    {
      "cell_type": "code",
      "source": [
        "#Precisa ser aplicada em dados agregados Ex: linha profissões e colunas distribuição por grupo (cluster, recorte, etc)\n",
        "corr = df_model.corr(method='pearson')\n",
        "x = 0\n",
        "\n",
        "    for column in corr.columns:\n",
        "\n",
        "        corr_temp = corr[corr[column] != 1]\n",
        "        corr_temp = corr_temp[corr_temp[column] > 0.65]\n",
        "\n",
        "    x = x + len(corr_temp[column])\n",
        "\n",
        "    df_model = df_model.drop(['n_cluster'], axis = 1).set_index('var_value').transpose()\n",
        "\n",
        "    for j in df_model.columns:\n",
        "        df_model[i] = (df_model[j] - df_model[j].mean()) / np.std(df_model[j])\n",
        "    df_model = df_model.reset_index()\n",
        "    df_temp = df_model.set_index('index').T\n",
        "    print(i)\n",
        "    kw = stats.kruskal(df_temp['0'], df_temp['2'], df_temp['3'], df_temp['4'], df_temp['5'], df_temp['6'], df_temp['7'], df_temp['8'], df_temp['9'], df_temp['10'], df_temp['11'], df_temp['12'], df_temp['10'], df_temp['11'], df_temp['12'],df_temp['13'],df_temp['14'])\n",
        "    print(kw)\n",
        "\n",
        "    if kw.pvalue <= 0.05:\n",
        "        print(\"Hipótese de igualdade rejeitada. No mínimo uma média é diferente\")\n",
        "    else:\n",
        "        print(\"Hipótese de igualdade não rejeitada. Todas as médias são similares\")\n",
        "    print(\"---\")\n",
        "\n",
        "    fr = stats.friedmanchisquare(df_temp['0'], df_temp['2'], df_temp['3'], df_temp['4'], df_temp['5'], df_temp['6'], df_temp['7'], df_temp['8'], df_temp['9'], df_temp['10'], df_temp['11'], df_temp['12'], df_temp['10'], df_temp['11'], df_temp['12'],df_temp['13'],df_temp['14'])\n",
        "    print(fr)\n",
        "\n",
        "    if fr.pvalue <= 0.05:\n",
        "        print(\"Nem todas as medianas são diferentes\")\n",
        "    else:\n",
        "        print(\"Não há evidência para afirmar que as medianas são iguais\")\n",
        "    print(\"---\")\n",
        "    print(\"O número de características com correlação alta entre clusters é:\")\n",
        "    print(x)\n",
        "    print(\"______________________\")\n"
      ],
      "metadata": {
        "id": "6EHphpuEmcxP"
      },
      "execution_count": null,
      "outputs": []
    },
    {
      "cell_type": "markdown",
      "source": [
        "#### Binarizar"
      ],
      "metadata": {
        "id": "Mt2o5PN7E_g-"
      }
    },
    {
      "cell_type": "code",
      "source": [
        "pb_add['sow_bin']= pd.cut(x=pb_add['pc_sow'], bins=[0,0.2,0.5,0.7,1])\n",
        "pb_add['renda_declarada_bin'] = pd.cut(x=pb_add['renda_declarada'], bins=[0,500,1000,2000,3000,4000,5000,50000])\n",
        "pb_add['proba_bin']= pd.cut(x=pb_add['proba'], bins=[0,0.1,0.2,0.3,0.4,0.5,0.6,0.7,0.8,0.9,1])\n",
        "\n",
        "#loop para binarizar por percentil apenas as numéricas\n",
        "for column in df.columns:\n",
        "  if df[column].dtype == 'float' or df[column].dtype == 'int':\n",
        "    nm_col = columns + \"_bin\"\n",
        "    df[nm_col] = pd.qcut(df[column].rank(method='first'), q=10, precision=0)\n",
        "\n",
        "\n",
        "#binarizar colocando nomes e labels\n",
        "\n",
        "columns_categ = ['chats','nr_csat', 'p_fatura', 'is_holiday']\n",
        "\n",
        "for column in columns_categ:\n",
        "  if df[column].dtype == 'float' or df[column].dtype == 'int':\n",
        "    nm_col = column + \"_bin\"\n",
        "    df[nm_col] = pd.qcut(df[column].rank(method='first'), q=3, precision=0, labels = ['baixo', 'medio', 'alto'])\n",
        "    df[nm_col] = str(nm_col) + \"_\" + df[nm_col].astype('string')"
      ],
      "metadata": {
        "id": "3LOi1HiQFSpH"
      },
      "execution_count": null,
      "outputs": []
    },
    {
      "cell_type": "markdown",
      "source": [
        "Matriz esparsa"
      ],
      "metadata": {
        "id": "AhkiAgkW4XGh"
      }
    },
    {
      "cell_type": "code",
      "source": [
        "dataset_modelo = pd.get_dummies(dataset.drop(id_columns, axis=1), columns=cat_columns)"
      ],
      "metadata": {
        "id": "ULUIn9sR4WaN"
      },
      "execution_count": null,
      "outputs": []
    },
    {
      "cell_type": "markdown",
      "source": [
        "#### Label Encoder para modelos"
      ],
      "metadata": {
        "id": "UpsPrcEOyyTH"
      }
    },
    {
      "cell_type": "code",
      "source": [
        "from sklearn.preprocessing import LabelEncoder\n",
        "labelencoder = LabelEncoder()\n",
        "df['renda_ecd'] = labelencoder.fit_transform(df['renda'])"
      ],
      "metadata": {
        "id": "qqJQYBPtyxtJ"
      },
      "execution_count": null,
      "outputs": []
    },
    {
      "cell_type": "markdown",
      "source": [
        "#### Cross validation"
      ],
      "metadata": {
        "id": "gW0bCAIzDpGV"
      }
    },
    {
      "cell_type": "code",
      "source": [
        "from sklearn.model_selection import cross_val_score, cross_val_predict\n",
        "from sklearn import metrics\n",
        "\n",
        "# Perform 6-fold cross validation\n",
        "scores = cross_val_score(model, df, y, cv=6)\n"
      ],
      "metadata": {
        "id": "XO1EIQwQDjXY"
      },
      "execution_count": null,
      "outputs": []
    },
    {
      "cell_type": "markdown",
      "source": [
        "#### Teste QUi Quadrado"
      ],
      "metadata": {
        "id": "LxCT2wQZGC1W"
      }
    },
    {
      "cell_type": "code",
      "source": [
        "from scipy.stats import chisquare\n",
        "chisquare([16, 18, 16, 14, 12, 12]) # com uma distribuição compara com o esperado como dist uniforme\n",
        "chisquare([16, 18, 16, 14, 12, 12], f_exp=[16, 16, 16, 16, 16, 8]) #fornecendo a dist esperada\n",
        "\n",
        "#para tabela de contingência\n",
        "\n"
      ],
      "metadata": {
        "id": "QBmz577fFURI"
      },
      "execution_count": null,
      "outputs": []
    },
    {
      "cell_type": "markdown",
      "source": [
        "#### Feature selection"
      ],
      "metadata": {
        "id": "2AfZh7yCZer3"
      }
    },
    {
      "cell_type": "code",
      "source": [
        "from sklearn.linear_model import LogisticRegression\n",
        "from sklearn import metrics\n",
        "from mlxtend.feature_selection import SequentialFeatureSelector as SFS\n",
        "from mlxtend.plotting import plot_sequential_feature_selection as plot_sfs\n",
        "import matplotlib.pyplot as plt\n",
        "\n",
        "# Sequential Forward Selection(sfs)\n",
        "sfs = SFS(LogisticRegression(),\n",
        "          k_features='best',\n",
        "          forward=True,\n",
        "          floating=False,\n",
        "          scoring = 'precision',\n",
        "          cv = 0)\n",
        "\n",
        "sfs.fit(X, y)\n",
        "sfs.k_feature_names_\n",
        "fig1 = plot_sfs(sfs.get_metric_dict(), kind='std_dev') plt.title('Sequential Forward Selection')\n",
        "plt.grid() plt.show()"
      ],
      "metadata": {
        "id": "Twv2jsEvZd3Z"
      },
      "execution_count": null,
      "outputs": []
    },
    {
      "cell_type": "markdown",
      "source": [
        "#### Lazy predict"
      ],
      "metadata": {
        "id": "oVDpvdNif_sr"
      }
    },
    {
      "cell_type": "code",
      "source": [
        "import lazypredict\n",
        "from lazypredict.Supervised import LazyRegressor\n",
        "from lazypredict.Supervised import LazyClassifier\n",
        "\n",
        "\n",
        "ml = lazyRegressor()"
      ],
      "metadata": {
        "id": "5bPrNHA_f-8Z"
      },
      "execution_count": null,
      "outputs": []
    },
    {
      "cell_type": "markdown",
      "source": [
        "#### Teste de dif de proporções e resumo gráfico"
      ],
      "metadata": {
        "id": "hDY0XXV9GMTD"
      }
    },
    {
      "cell_type": "code",
      "source": [
        "\n",
        "#agregado com media por grupo alvo e controle avg(converteu), avg(spending), avg(frequencia)\n",
        "#print dos resultados dos testes de diferença de grupos: conversão, spending, frequencia\n",
        "df['converteu'] = df['converteu'].fillna(0.0)\n",
        "agg = df.groupby('grupo').agg({'grupo':['count'], 'converteu':['mean']\n",
        "                               , 'spending':['mean', 'sum']\n",
        "                               , 'transacoes':['mean', 'sum']})\n",
        "print(agg)\n",
        "print(\"_____________________\")\n",
        "\n",
        "#lift do resultado das tabelas acima\n",
        "\n",
        "print(\"Lift da conversão: \"     + str(round(((agg.iloc[0,1] / agg.iloc[1,1]) -1)  * 100,2)) + str('%'))\n",
        "from scipy import stats\n",
        "t, p = stats.ttest_ind(df.query('grupo == \"alvo\"')['converteu'], df.query('grupo == \"controle\"')['converteu'])\n",
        "print(\"Estatística t do teste de diferença de proporções: \"+str(round(t,2)))\n",
        "print(\"P-valor do teste de diferença de proporções: \"+str(round(p,6)))\n",
        "print(\"Conclusão:\")\n",
        "if p >0.05:\n",
        "   print(\"A diferença de conversão não é significativa\")\n",
        "   else:\n",
        "   print(\"A diferença de conversão é estatisticamente significativa\")\n",
        "   print(\"______________________________________________________________\")"
      ],
      "metadata": {
        "id": "Q9xzJa3mGTda"
      },
      "execution_count": null,
      "outputs": []
    },
    {
      "cell_type": "code",
      "source": [
        "k = 5\n",
        "\n",
        "print(\"---------------DETECTAR PROPORÇÕES SIMILARES ENTRE OS CLUSTERS ------------\")\n",
        "\n",
        "from statsmodels.stats.proportion import proportions_ztest\n",
        "\n",
        "for cl1 in range(k-1):\n",
        "\n",
        "    for cl2 in range(k-1):\n",
        "\n",
        "        for vr in features_cluster:\n",
        "            var_fx = vr + '_bin'\n",
        "            j = base_cluster[var_fx].unique()\n",
        "            for faixa in j:\n",
        "                b1 = base_cluster[base_cluster['cluster'] == cl1]\n",
        "                n1 = len(b1)\n",
        "                p1 = len(b1[b1[var_fx] == faixa])\n",
        "                b2 = base_cluster[base_cluster['cluster'] == cl2]\n",
        "                n2 = len(b2)\n",
        "                p2 = len(b2[b2[var_fx] == faixa])\n",
        "                number_sucesses = np.array([p1, p2])\n",
        "                sample_sizes = np.array([n1, n2])\n",
        "                stat, pval = proportions_ztest(number_sucesses, sample_sizes)\n",
        "\n",
        "                if pval > 0.05 and cl1 != cl2:\n",
        "                    print(\"associação do cluster \" + str(cl1) + \" e do \" + str(cl2))\n",
        "                    print(\" p-valor: \")\n",
        "                    print('{0:0.3f}'.format(pval))\n",
        "                    print(\"para a faixa \" + str(faixa) + \" da variavel \" + str(vr))\n",
        "                    print(\"______________________________________________________________\")\n"
      ],
      "metadata": {
        "id": "f-wzBUuTObLW"
      },
      "execution_count": null,
      "outputs": []
    },
    {
      "cell_type": "markdown",
      "source": [
        "#### Optimal bining"
      ],
      "metadata": {
        "id": "e0W35gYMNlkp"
      }
    },
    {
      "cell_type": "code",
      "source": [
        "#https://github.com/guillermo-navas-palencia/optbinning#dependencies\n",
        "\n",
        "import pandas as pd\n",
        "from sklearn.datasets import load_breast_cancer\n",
        "data = load_breast_cancer()\n",
        "df = pd.DataFrame(data.data, columns=data.feature_names)\n",
        "variable = \"mean radius\"\n",
        "x = df[variable].values\n",
        "y = data.target\n",
        "\n",
        "from optbinning import OptimalBinning\n",
        "optb = OptimalBinning(name=variable, dtype=\"numerical\", solver=\"cp\")\n",
        "optb.fit(x, y)\n",
        "\n",
        "optb.binning_table.build()\n",
        "\n",
        "\n",
        "optb.binning_table.plot(metric=\"woe\")\n"
      ],
      "metadata": {
        "id": "z8sWjO18NpBk"
      },
      "execution_count": null,
      "outputs": []
    },
    {
      "cell_type": "markdown",
      "source": [
        "#### Teste de concordância Kappa em Matriz"
      ],
      "metadata": {
        "id": "ZNWwZVqJGT86"
      }
    },
    {
      "cell_type": "code",
      "source": [
        "from sklearn.metrics import cohen_kappa_score\n",
        "labeler1 = [2, 0, 2, 2, 0, 1]\n",
        "labeler2 = [0, 0, 2, 2, 0, 2]\n",
        "cohen_kappa_score(labeler1, labeler2)"
      ],
      "metadata": {
        "id": "s2FFBIq8PscE"
      },
      "execution_count": null,
      "outputs": []
    },
    {
      "cell_type": "markdown",
      "source": [
        "https://i.stack.imgur.com/kYNd6.png"
      ],
      "metadata": {
        "id": "lbXsCthASe13"
      }
    },
    {
      "cell_type": "markdown",
      "source": [
        "#### índice de estabilidade"
      ],
      "metadata": {
        "id": "diq0JF6Z0Qlo"
      }
    },
    {
      "cell_type": "code",
      "source": [
        "#1 - In sample - Score de treinamento\n",
        "#2 - Out of time ou Teste\n",
        "#valores contínuos\n",
        "\n",
        "def psi(df1, score1, contagem1, df2, score2, contagem2):\n",
        "\n",
        "    pd.set_option('mode.chained_assignment', None)\n",
        "    df1['bin_score_df1'] = pd.qcut(df1[score1], q=10, precision=0, labels = False)\n",
        "    tresh = df1.groupby('bin_score_df1').agg({score1:['min', 'max']})\n",
        "    tresh.columns = tresh.columns.droplevel(0)\n",
        "    tresh = tresh.reset_index()\n",
        "\n",
        "    df2['bin_score_df2'] = np.where(df2[score2] <= tresh.iloc[0, 2], 0, 100)\n",
        "\n",
        "    for i in range(1, 9):\n",
        "        df2['bin_score_df2'] = np.where(df2['bin_score_df2'] != 100, df2['bin_score_df2'],\n",
        "                               np.where(df2[score2] <= tresh.iloc[i, 2], i, 100))\n",
        "\n",
        "    agg1 = df1.groupby('bin_score_df1').agg({contagem1:['count']})\n",
        "    agg1.columns = agg1.columns.droplevel(0)\n",
        "    agg1 = agg1.reset_index()\n",
        "    agg2 = df2.groupby('bin_score_df2').agg({contagem2:['count']})\n",
        "    agg2.columns = agg2.columns.droplevel(0)\n",
        "    agg2 = agg2.reset_index()\n",
        "\n",
        "    agg3 = pd.DataFrame()\n",
        "    agg3['dist1'] = agg1['count'] / (agg1['count'].sum())\n",
        "    agg3['dist2'] = agg2['count'] / (agg2['count'].sum())\n",
        "    agg3['psi'] = (agg3['dist1'] - agg3['dist2']) * np.log(agg3['dist1'] / agg3['dist2'])\n",
        "\n",
        "\n",
        "    psi_score = sum(agg3['psi'])\n",
        "\n",
        "    print(\"Conclusão:\")\n",
        "    if psi_score < 0.1:\n",
        "        print(\"Sem alteração entre os scores\")\n",
        "    elif psi_score >= 0.1 and psi_score <= 0.25:\n",
        "        print(\"Mudanças pouco significativas\")\n",
        "    elif psi_score > 0.25:\n",
        "        print(\"Mudanças significativas\")\n",
        "\n",
        "    print(\"Valor do índice de estabilidade: \")\n",
        "    return round(psi_score, 6)\n",
        "\n",
        "\n",
        "#testando a função:\n",
        "psi(pb_s1, 'proba', 'conta_cartao', pb_s2, 'proba', 'conta_cartao')"
      ],
      "metadata": {
        "id": "l9lIC-YF0QFG"
      },
      "execution_count": null,
      "outputs": []
    },
    {
      "cell_type": "markdown",
      "source": [
        "#### Recursos para avaliar clusterização"
      ],
      "metadata": {
        "id": "smtsypUuGbJU"
      }
    },
    {
      "cell_type": "code",
      "source": [
        "from sklearn.preprocessing import StandardScaler\n",
        "from sklearn.cluster import KMeans\n",
        "from sklearn.metrics import silhouette_score, accuracy_score\n",
        "from sklearn.ensemble import RandomForestClassifier\n",
        "from sklearn.model_selection import train_test_split\n",
        "from statsmodels.stats.proportion import proportions_ztest\n",
        "\n",
        "\n",
        "k = 5\n",
        "features_cluster = ['limite', 'transacoes_hist', 'score_gh', 'pc_sow']\n",
        "base_cluster = base[features_cluster]\n",
        "for i in base_cluster.columns:\n",
        "    base_cluster[i] = base_cluster[i].fillna(0.0)\n",
        "scaler = StandardScaler()\n",
        "scaler_model = scaler.fit(base_cluster)\n",
        "data_input_scaled = scaler_model.transform(base_cluster)\n",
        "kmeans = KMeans(n_clusters = k, random_state=0).fit(data_input_scaled)\n",
        "cluster = kmeans.predict(data_input_scaled)\n",
        "base_cluster['cluster'] = cluster\n",
        "base['cluster'] = cluster\n",
        "\n",
        "print(\"---------------VOLUMETRIA ------------------\")\n",
        "print(base['cluster'].value_counts())\n",
        "print(base['cluster'].value_counts(normalize = True))\n",
        "print(\"---------------SILHOUETTE SCORE ------------\")\n",
        "print(silhouette_score(base_cluster[features_cluster], base_cluster['cluster']))\n",
        "\n",
        "x_train, x_test, y_train, y_test = train_test_split(base_cluster[features_cluster]\n",
        "                                                    , base_cluster['cluster']\n",
        "                                                    , random_state=42, test_size=0.20)\n",
        "arvores = [20, 50, 100, 300, 400, 500]\n",
        "accuracy_array = []\n",
        "\n",
        "for i in arvores:\n",
        "  rf = RandomForestClassifier(n_estimators=i)\n",
        "  rf.fit(x_train, y_train)\n",
        "  y_predicted_rf = rf.predict(x_test)\n",
        "  accuracy_rf = accuracy_score(y_test, y_predicted_rf).round(4)\n",
        "  accuracy_array.append(accuracy_rf)\n",
        "rf_estimators = pd.DataFrame(list(zip(arvores, accuracy_array)), columns =['arvores', 'acuracia'])\n",
        "print(\"---------------ACURACCY CLASSIFICATION ------------\")\n",
        "rf_estimators['acuracia'].max()\n",
        "\n",
        "print(\"---------------IMPORTANCIA DAS FEATURES - O QUE MAIS PESOU NA CONSTRUÇÃO DOS GRUPOS? ------------\")\n",
        "best_rf = RandomForestClassifier(n_estimators= rf_estimators['arvores'][rf_estimators['acuracia'].idxmax()])\n",
        "best_rf.fit(x_train, y_train)\n",
        "importance_df = pd.DataFrame(best_rf.feature_importances_, columns = ['importancia'], index = features_cluster)\n",
        "importance_df.sort_values(by='importancia', ascending=False).head(15).plot.bar(figsize=(20,5))\n",
        "features_importantes = importance_df.sort_values(by='importancia', ascending=False).head(20).index\n",
        "\n",
        "\n",
        "print(\"---------------MEDIAS POR CLUSTER ------------\")\n",
        "cl_col = ['cluster']\n",
        "totalfeat = features_cluster + cl_col\n",
        "base[totalfeat].groupby('cluster').mean()\n",
        "print(\"---------------MEDIAS POR CLUSTER GRÁFICO ------------\")\n",
        "plt.figure(figsize=(15,8))\n",
        "sns.lineplot(data = base[totalfeat].groupby('cluster').mean(), palette = 'Paired')\n",
        "plt.show()\n",
        "\n",
        "\n",
        "print(\"---------------PERCENTIS POR CLUSTER  - P25 ------------\")\n",
        "base[totalfeat].groupby('cluster').quantile(0.25)\n",
        "\n",
        "print(\"---------------PERCENTIS POR CLUSTER  - P50 ------------\")\n",
        "base[totalfeat].groupby('cluster').quantile(0.50)\n",
        "\n",
        "print(\"---------------PERCENTIS POR CLUSTER  - P75 ------------\")\n",
        "base[totalfeat].groupby('cluster').quantile(0.75)\n",
        "\n",
        "\n",
        "#binarizar e gerar tabela com proporções - caso todas as features sejam numéricas\n",
        "for i in features_cluster:\n",
        "    base_cluster[i + '_bin'] = pd.qcut(base_cluster[i].rank(method='first'), 5, labels=False)\n",
        "    print(base_cluster.groupby(base_cluster[i + '_bin']).agg({i: ['min', 'max']}))\n",
        "\n",
        "for cl1 in range(k-1):\n",
        "\n",
        "    for cl2 in range(k-1):\n",
        "\n",
        "        for vr in features_cluster:\n",
        "            var_fx = vr + '_bin'\n",
        "            j = base_cluster[var_fx].unique()\n",
        "            for faixa in j:\n",
        "                b1 = base_cluster[base_cluster['cluster'] == cl1]\n",
        "                n1 = len(b1)\n",
        "                p1 = len(b1[b1[var_fx] == faixa])\n",
        "                b2 = base_cluster[base_cluster['cluster'] == cl2]\n",
        "                n2 = len(b2)\n",
        "                p2 = len(b2[b2[var_fx] == faixa])\n",
        "                number_sucesses = np.array([p1, p2])\n",
        "                sample_sizes = np.array([n1, n2])\n",
        "                stat, pval = proportions_ztest(number_sucesses, sample_sizes)\n",
        "\n",
        "                if pval > 0.05 and cl1 != cl2:\n",
        "                    print(\"associação do cluster \" + str(cl1) + \" e do \" + str(cl2))\n",
        "                    print(\" p-valor: \")\n",
        "                    print('{0:0.3f}'.format(pval))\n",
        "                    print(\"para a faixa \" + str(faixa) + \" da variavel \" + str(vr))\n",
        "                    print(\"______________________________________________________________\")\n",
        "\n",
        "\n",
        "#caso tenha outras variáveis em faixas renomear para \"_bin\"\n",
        "tabela_valid = pd.DataFrame()\n",
        "\n",
        "for i in features_cluster:\n",
        "    group_var = i  + \"_bin\" #faixas de features que quero cruzar com o cluster\n",
        "    x_var = 'cluster'\n",
        "    agg = base_cluster.groupby([x_var, group_var]).agg({'cluster':['count']})\n",
        "    agg.columns = agg.columns.droplevel(0)\n",
        "    agg = agg.reset_index()\n",
        "    agg = agg.pivot_table(columns=x_var,index = group_var, values='count', aggfunc=np.sum)\n",
        "    for i in agg.columns:\n",
        "        agg[i] = agg[i] / agg[i].sum()\n",
        "\n",
        "    agg = agg.fillna(0.0)\n",
        "    agg['feature'] = group_var\n",
        "    tabela_valid = tabela_valid.append(agg)\n",
        "\n",
        "tabela_valid = tabela_valid.reset_index()\n",
        "print(\"--------------------TABELA DE PROPORÇÕES --------------------\")\n",
        "tabela_valid.head(20)\n",
        "print(\"______________________________________________________________\")\n",
        "\n",
        "\n",
        "print(\"---------------CARACTERÍSTICAS MUITO DOMINANTES ------------\")\n",
        "cont_caract = 0\n",
        "n = 0\n",
        "\n",
        "for i in tabela_valid.columns:\n",
        "    if tabela_valid[i].dtype == \"float\":\n",
        "        cont_caract +=  sum(tabela_valid[i] >= 0.5)\n",
        "        n += len(tabela_valid[i])\n",
        "\n",
        "\n",
        "print(cont_caract)\n",
        "print(round(cont_caract / n, 2))\n",
        "\n",
        "\n",
        "corr = tabela_valid.corr(method='pearson')\n",
        "\n",
        "x = 0\n",
        "\n",
        "for column in corr.columns:\n",
        "    if column != 'index' and column != 'cluster':\n",
        "        corr_temp = corr[corr[column] != 1]\n",
        "        corr_temp = corr_temp[abs(corr_temp[column]) > 0.70]\n",
        "        x = x + len(corr_temp[column])\n",
        "print(\"---------------CLUSTERS COM ALTA CORRELAÇÃO ------------\")\n",
        "print(x)\n",
        "\n",
        "\n",
        "\n",
        "\n"
      ],
      "metadata": {
        "id": "Q63PrpUaG08j"
      },
      "execution_count": null,
      "outputs": []
    },
    {
      "cell_type": "markdown",
      "source": [
        "#### Árvores de Decisão"
      ],
      "metadata": {
        "id": "UTs4dJivX3gh"
      }
    },
    {
      "cell_type": "code",
      "source": [
        "from matplotlib import pyplot as plt\n",
        "from sklearn import datasets\n",
        "from sklearn.tree import DecisionTreeClassifier\n",
        "from sklearn import tree\n",
        "import pandas as pd\n",
        "import numpy as np\n",
        "\n",
        "\n",
        "# Fit the classifier with max_depth=3\n",
        "\n",
        "for i in df_dm.columns:\n",
        "    print(i)\n",
        "    X = np.array(df_dm[df_dm.drop(i, axis = 1).columns]).reshape(1, -1)\n",
        "    y = np.array(df_dm[i]).reshape(1, -1)\n",
        "    X.shape\n",
        "\n",
        "    clf = DecisionTreeClassifier(max_depth=2, random_state=1234)\n",
        "    model = clf.fit(X, y)\n",
        "\n",
        "    text_representation = tree.export_text(clf)\n",
        "\n",
        "    print(text_representation)\n",
        "    print(\"_________________\")\n"
      ],
      "metadata": {
        "id": "uwiXN936X73l",
        "colab": {
          "base_uri": "https://localhost:8080/",
          "height": 235
        },
        "outputId": "0dd3e0c9-1660-4637-95a0-be745042f536"
      },
      "execution_count": null,
      "outputs": [
        {
          "output_type": "error",
          "ename": "NameError",
          "evalue": "ignored",
          "traceback": [
            "\u001b[0;31m---------------------------------------------------------------------------\u001b[0m",
            "\u001b[0;31mNameError\u001b[0m                                 Traceback (most recent call last)",
            "\u001b[0;32m<ipython-input-1-cd0f948a4b2e>\u001b[0m in \u001b[0;36m<module>\u001b[0;34m\u001b[0m\n\u001b[1;32m      9\u001b[0m \u001b[0;31m# Fit the classifier with max_depth=3\u001b[0m\u001b[0;34m\u001b[0m\u001b[0;34m\u001b[0m\u001b[0;34m\u001b[0m\u001b[0m\n\u001b[1;32m     10\u001b[0m \u001b[0;34m\u001b[0m\u001b[0m\n\u001b[0;32m---> 11\u001b[0;31m \u001b[0;32mfor\u001b[0m \u001b[0mi\u001b[0m \u001b[0;32min\u001b[0m \u001b[0mdf_dm\u001b[0m\u001b[0;34m.\u001b[0m\u001b[0mcolumns\u001b[0m\u001b[0;34m:\u001b[0m\u001b[0;34m\u001b[0m\u001b[0;34m\u001b[0m\u001b[0m\n\u001b[0m\u001b[1;32m     12\u001b[0m     \u001b[0mprint\u001b[0m\u001b[0;34m(\u001b[0m\u001b[0mi\u001b[0m\u001b[0;34m)\u001b[0m\u001b[0;34m\u001b[0m\u001b[0;34m\u001b[0m\u001b[0m\n\u001b[1;32m     13\u001b[0m     \u001b[0mX\u001b[0m \u001b[0;34m=\u001b[0m \u001b[0mnp\u001b[0m\u001b[0;34m.\u001b[0m\u001b[0marray\u001b[0m\u001b[0;34m(\u001b[0m\u001b[0mdf_dm\u001b[0m\u001b[0;34m[\u001b[0m\u001b[0mdf_dm\u001b[0m\u001b[0;34m.\u001b[0m\u001b[0mdrop\u001b[0m\u001b[0;34m(\u001b[0m\u001b[0mi\u001b[0m\u001b[0;34m,\u001b[0m \u001b[0maxis\u001b[0m \u001b[0;34m=\u001b[0m \u001b[0;36m1\u001b[0m\u001b[0;34m)\u001b[0m\u001b[0;34m.\u001b[0m\u001b[0mcolumns\u001b[0m\u001b[0;34m]\u001b[0m\u001b[0;34m)\u001b[0m\u001b[0;34m.\u001b[0m\u001b[0mreshape\u001b[0m\u001b[0;34m(\u001b[0m\u001b[0;36m1\u001b[0m\u001b[0;34m,\u001b[0m \u001b[0;34m-\u001b[0m\u001b[0;36m1\u001b[0m\u001b[0;34m)\u001b[0m\u001b[0;34m\u001b[0m\u001b[0;34m\u001b[0m\u001b[0m\n",
            "\u001b[0;31mNameError\u001b[0m: name 'df_dm' is not defined"
          ]
        }
      ]
    },
    {
      "cell_type": "markdown",
      "source": [
        "Decision Paths"
      ],
      "metadata": {
        "id": "hzPjeqVp7aJG"
      }
    },
    {
      "cell_type": "code",
      "source": [
        "from sklearn.tree import DecisionTreeClassifier\n",
        "\n",
        "from ds_utils.xai import generate_decision_paths\n",
        "\n",
        "\n",
        "# Create decision tree classifier object\n",
        "clf = DecisionTreeClassifier(max_depth=3)\n",
        "\n",
        "# Train model\n",
        "clf.fit(x, y)\n",
        "print(generate_decision_paths(clf, feature_names, target_names.tolist(),\n",
        "                              \"iris_tree\"))"
      ],
      "metadata": {
        "id": "Ze4LvS_87Xyg"
      },
      "execution_count": null,
      "outputs": []
    },
    {
      "cell_type": "markdown",
      "source": [
        "Acurácia por faixa de probabilidade"
      ],
      "metadata": {
        "id": "ShI_fcQF7vQ-"
      }
    },
    {
      "cell_type": "code",
      "source": [
        "from ds_utils.metrics import visualize_accuracy_grouped_by_probability\n",
        "\n",
        "\n",
        "visualize_accuracy_grouped_by_probability(test[\"target\"], 1,\n",
        "                                          classifier.predict_proba(test[selected_features]),\n",
        "                                          display_breakdown=False)"
      ],
      "metadata": {
        "id": "UceO3-Oa7qZ_"
      },
      "execution_count": null,
      "outputs": []
    },
    {
      "cell_type": "markdown",
      "source": [
        "#### Regras de asssociação"
      ],
      "metadata": {
        "id": "f-F7lTPf8ZT0"
      }
    },
    {
      "cell_type": "code",
      "source": [
        "from apyori import apriori\n",
        "\n",
        "\n",
        "columns_categ = ['chats','nr_csat', 'p_fatura', 'is_holiday']\n",
        "\n",
        "for column in columns_categ:\n",
        "  if df[column].dtype == 'float' or df[column].dtype == 'int':\n",
        "    nm_col = column + \"_bin\"\n",
        "    df[nm_col] = pd.qcut(df[column].rank(method='first'), q=3, precision=0, labels = ['baixo', 'medio', 'alto'])\n",
        "    df[nm_col] = str(nm_col) + \"_\" + df[nm_col].astype('string')\n",
        "\n",
        "df.groupby('chats_bin').agg({'chats':['min','max']})\n",
        "\n",
        "\n",
        "df_assoc = df[['chats_bin','nr_csat_bin', 'p_fatura_bin','is_holiday_bin']]\n",
        "\n",
        "transactions = []\n",
        "\n",
        "for i in range(0, df_assoc.shape[0]):\n",
        "    transactions.append([str(df_assoc.values[i, j]) for j in range(0, 2)])\n",
        "\n",
        "print(transactions[0])\n",
        "\n",
        "rules = apriori(transactions, min_support = 0.01, min_confidence = 0.05, min_lift = 0.8, min_length = 0)\n",
        "results = list(rules)\n",
        "results = pd.DataFrame(results)\n",
        "results.head(30)\n"
      ],
      "metadata": {
        "id": "RaPS_Kra8YUT"
      },
      "execution_count": null,
      "outputs": []
    },
    {
      "cell_type": "markdown",
      "source": [
        "#### Contagem de palavras em diferentes grupos"
      ],
      "metadata": {
        "id": "flSm0ed19JVA"
      }
    },
    {
      "cell_type": "code",
      "source": [
        "def count_words_cluster(df, termo, coluna_cluster):\n",
        "    contagemClusters = pd.DataFrame(columns=['index', 'count', 'cluster'])\n",
        "    clusters = df[coluna_cluster].unique()\n",
        "    for i in clusters:\n",
        "        filtro_cluster = df[df[coluna_cluster] == i]\n",
        "        filtro_cluster[termo] = filtro_cluster[termo].str.lower()\n",
        "        newdf = filtro_cluster[termo].str.split(expand=True).stack().value_counts().reset_index(name=\"count\")\n",
        "        newdf['cluster'] = i\n",
        "        contagemClusters = contagemClusters.append(newdf)\n",
        "    return contagemClusters\n",
        "\n",
        "#aplicando a função\n",
        "df_cont = count_words_cluster(df, 'ds_mcc', 'ds_classificacao_nivel_2' )\n",
        "df_cont = df_cont.query('count > 50').sort_values(['cluster', 'count'], ascending=[True, False]).groupby('index').agg({'cluster':['first'],'count':['first'] })\n",
        "df_cont = df_cont.reset_index()\n",
        "df_cont = df_cont.sort_values(('count', 'first'), ascending = False)\n",
        "\n",
        "retirar = [\"da\", \"de\", \"o\", \"a\", \"outros\", \"em\", \"do\", \"na\", \"nas\", \"/\", \"e\", \"E\", \"DE\", \"DA\", \"NAO\", \"PARA\"]\n",
        "df_cont_final = df_cont[~df_cont['index'].isin(retirar)]\n",
        "df_cont_final.head(20)"
      ],
      "metadata": {
        "id": "eELGhtSv9Ie0"
      },
      "execution_count": null,
      "outputs": []
    },
    {
      "cell_type": "markdown",
      "source": [
        "#### Pandas profiling"
      ],
      "metadata": {
        "id": "QEFHfbd3spv_"
      }
    },
    {
      "cell_type": "code",
      "source": [
        "#!pip install pandas-profiling\n",
        "\n",
        "from pandas_profiling import ProfileReport\n",
        "profile = ProfileReport(base, title=\"Pandas Profiling Report\", explorative=True)\n",
        "profile"
      ],
      "metadata": {
        "id": "p3CSr8HTspcX"
      },
      "execution_count": null,
      "outputs": []
    },
    {
      "cell_type": "markdown",
      "source": [
        "Intervalo de confiança da proporção"
      ],
      "metadata": {
        "id": "5cIIaWs3bdm2"
      }
    },
    {
      "cell_type": "code",
      "source": [
        "from statsmodels.stats.proportion import proportion_confint\n",
        "\n",
        "prop_df = proportion_confint(pb_agg[('acima', 'sum')],pb_agg[('conta_cartao', 'count')], 0.05, \"normal\" )\n",
        "#gera uma tupla - testar como melhorar"
      ],
      "metadata": {
        "id": "dsI4cS3ucHi9"
      },
      "execution_count": null,
      "outputs": []
    },
    {
      "cell_type": "markdown",
      "source": [
        "GLM Poisson"
      ],
      "metadata": {
        "id": "EDU-GNx7lZlC"
      }
    },
    {
      "cell_type": "code",
      "source": [
        "import patsy\n",
        "import statsmodels as sm\n",
        "from statsmodels.genmod.families import Poisson\n",
        "\n",
        "\n",
        "fam = Poisson()\n",
        "f = 'some_count ~ some_numeric_variable + C(some_categorical_variable)'\n",
        "y, X = patsy.dmatrices(f, data, return_type='matrix')\n",
        "\n",
        "p_model = sm.GLM(y, X, family=fam)\n",
        "\n",
        "result = p_model.fit()\n",
        "print(result.summary())"
      ],
      "metadata": {
        "id": "pwumPp74lZ4p"
      },
      "execution_count": null,
      "outputs": []
    },
    {
      "cell_type": "markdown",
      "source": [
        "Analisar click rate com distribuição Beta"
      ],
      "metadata": {
        "id": "-h-a7SeM57QD"
      }
    },
    {
      "cell_type": "code",
      "source": [
        "import numpy as np\n",
        "from scipy import stats\n",
        "\n",
        "# input: number of clicks and number of misses\n",
        "clicks = 1\n",
        "misses = 4\n",
        "\n",
        "# compute n and click rate\n",
        "n = clicks + misses\n",
        "click_rate = clicks / n\n",
        "\n",
        "# get 1000 equally spaced points between 0 and 1 for plotting purposes\n",
        "x = np.linspace(start = 0, stop = 1, num = 1_000)\n",
        "\n",
        "# calculate the probability distribution function of beta\n",
        "beta_pdf = stats.beta(a = clicks, b = misses).pdf(x = x)\n",
        "\n",
        "# calculate the probability distribution function of normal\n",
        "normal_pdf = stats.norm(\n",
        "  loc = click_rate,\n",
        "  scale = np.sqrt(click_rate * (1 - click_rate) / n)\n",
        ").pdf(x = x)"
      ],
      "metadata": {
        "id": "xMVLhyUu6A8N"
      },
      "execution_count": null,
      "outputs": []
    },
    {
      "cell_type": "markdown",
      "source": [
        "Pylift"
      ],
      "metadata": {
        "id": "V7hMcWRUBDLI"
      }
    },
    {
      "cell_type": "code",
      "source": [
        "from sklearn.linear_model import LogisticRegression\n",
        "from optbinning import OptimalBinning\n",
        "from optbinning import BinningProcess\n",
        "from pylift import TransformedOutcome\n",
        "\n",
        "clf = LogisticRegression()\n",
        "up = TransformedOutcome(df[['usou_chat_sim','teve_compra_depois','score_compra_depois']]\n",
        "                        , col_treatment='usou_chat_sim', col_outcome='teve_compra_depois', sklearn_model=LogisticRegression)\n",
        "\n",
        "up.NWOE()"
      ],
      "metadata": {
        "id": "u288fyNeBF09"
      },
      "execution_count": null,
      "outputs": []
    }
  ],
  "metadata": {
    "colab": {
      "provenance": [],
      "toc_visible": true,
      "include_colab_link": true
    },
    "kernelspec": {
      "display_name": "Python 3",
      "language": "python",
      "name": "python3"
    },
    "language_info": {
      "codemirror_mode": {
        "name": "ipython",
        "version": 3
      },
      "file_extension": ".py",
      "mimetype": "text/x-python",
      "name": "python",
      "nbconvert_exporter": "python",
      "pygments_lexer": "ipython3",
      "version": "3.9.2"
    }
  },
  "nbformat": 4,
  "nbformat_minor": 0
}