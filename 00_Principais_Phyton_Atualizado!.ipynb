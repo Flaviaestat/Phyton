{
  "cells": [
    {
      "cell_type": "markdown",
      "metadata": {
        "id": "view-in-github",
        "colab_type": "text"
      },
      "source": [
        "<a href=\"https://colab.research.google.com/github/Flaviaestat/Phyton/blob/master/00_Principais_Phyton_Atualizado!.ipynb\" target=\"_parent\"><img src=\"https://colab.research.google.com/assets/colab-badge.svg\" alt=\"Open In Colab\"/></a>"
      ]
    },
    {
      "cell_type": "markdown",
      "metadata": {
        "id": "FXvVgAqKd59P"
      },
      "source": [
        "### RESUMÃO PHYTON"
      ]
    },
    {
      "cell_type": "markdown",
      "source": [
        "#### Operadores, loops e funções básicas"
      ],
      "metadata": {
        "id": "ck-oTQ2fvALL"
      }
    },
    {
      "cell_type": "markdown",
      "metadata": {
        "id": "Oxt3AlYfaVAX"
      },
      "source": [
        "Operadores Condicionais\n"
      ]
    },
    {
      "cell_type": "code",
      "execution_count": null,
      "metadata": {
        "colab": {
          "base_uri": "https://localhost:8080/",
          "height": 34
        },
        "id": "qfkZMyo4aS9U",
        "outputId": "49923e70-e826-4495-aa61-bfbb5fe35d8d"
      },
      "outputs": [
        {
          "name": "stdout",
          "output_type": "stream",
          "text": [
            "O valor é Na mosca!\n"
          ]
        }
      ],
      "source": [
        "x = 300\n",
        "\n",
        "if x == 300:\n",
        "  status = 'Na mosca!'\n",
        "elif x > 300:\n",
        "  status = 'Maior!'\n",
        "else:\n",
        "  status = 'Menor :('\n",
        "\n",
        "print('O valor é ' + status)\n",
        "\n"
      ]
    },
    {
      "cell_type": "markdown",
      "metadata": {
        "id": "ZSGKVo8kbvm7"
      },
      "source": [
        "Estrutura de loop básica\n"
      ]
    },
    {
      "cell_type": "code",
      "execution_count": null,
      "metadata": {
        "colab": {
          "base_uri": "https://localhost:8080/",
          "height": 193
        },
        "id": "ay7o7Oom9P1T",
        "outputId": "9e74fc70-8b60-4ac0-f5e2-a442261e2851"
      },
      "outputs": [
        {
          "name": "stdout",
          "output_type": "stream",
          "text": [
            "0\n",
            "0\n",
            "1\n",
            "2\n",
            "2\n",
            "4\n",
            "3\n",
            "6\n",
            "4\n",
            "8\n"
          ]
        }
      ],
      "source": [
        "for i in range(0,5):\n",
        "  \n",
        "  print(i)\n",
        "  print( i * 2)\n"
      ]
    },
    {
      "cell_type": "code",
      "execution_count": null,
      "metadata": {
        "colab": {
          "base_uri": "https://localhost:8080/",
          "height": 193
        },
        "id": "MmpfkZDcb0i2",
        "outputId": "576bc68b-912e-42d0-88c4-2778fa0e2cfc"
      },
      "outputs": [
        {
          "name": "stdout",
          "output_type": "stream",
          "text": [
            "Transforma em zero os multiplos de 2 :\n",
            "[0, 1, 0, 3, 0, 5, 0, 7, 0, 9, 0, 11, 0, 13, 0, 15, 0, 17, 0, 19, 0]\n",
            "O último elemento é\n",
            "0\n",
            "O penúltimo elemento é\n",
            "19\n",
            "O primeiro elemento é\n",
            "0\n",
            "O segundo é\n",
            "1\n"
          ]
        }
      ],
      "source": [
        "numeros = []\n",
        "multiplo = 2\n",
        "\n",
        "ultimoDoRange = 20\n",
        "\n",
        "for i in range(0, ultimoDoRange + 1):\n",
        "  resto = i%multiplo\n",
        "  numeros.append( i * resto)\n",
        "\n",
        "print('Transforma em zero os multiplos de ' + str(multiplo) + ' :')\n",
        "print(numeros)\n",
        "print('O último elemento é')\n",
        "print(numeros[-1])\n",
        "\n",
        "print('O penúltimo elemento é')\n",
        "print(numeros[-2])\n",
        "\n",
        "print('O primeiro elemento é')\n",
        "print(numeros[0])\n",
        "print('O segundo é')\n",
        "print(numeros[1])\n",
        "\n",
        "\n"
      ]
    },
    {
      "cell_type": "markdown",
      "metadata": {
        "id": "BVds-CLegJbj"
      },
      "source": [
        "Input box"
      ]
    },
    {
      "cell_type": "code",
      "execution_count": null,
      "metadata": {
        "colab": {
          "base_uri": "https://localhost:8080/",
          "height": 34
        },
        "id": "7wmG9pp9gFQZ",
        "outputId": "b10ac6d8-457b-4d57-ea09-f94a6265087b"
      },
      "outputs": [
        {
          "name": "stdout",
          "output_type": "stream",
          "text": [
            "Qual a sua idade?40\n"
          ]
        }
      ],
      "source": [
        "  age = input('Qual a sua idade?')\n"
      ]
    },
    {
      "cell_type": "code",
      "execution_count": null,
      "metadata": {
        "colab": {
          "base_uri": "https://localhost:8080/",
          "height": 34
        },
        "id": "uDPzYmU9_SN2",
        "outputId": "a1f09fb8-c2eb-4349-dd74-b82f67730846"
      },
      "outputs": [
        {
          "data": {
            "text/plain": [
              "'40'"
            ]
          },
          "execution_count": 15,
          "metadata": {
            "tags": []
          },
          "output_type": "execute_result"
        }
      ],
      "source": [
        "age"
      ]
    },
    {
      "cell_type": "markdown",
      "metadata": {
        "id": "mYd4AtK9eFlQ"
      },
      "source": [
        "#### Função básica"
      ]
    },
    {
      "cell_type": "code",
      "execution_count": null,
      "metadata": {
        "id": "dRr6uIyieIEa"
      },
      "outputs": [],
      "source": [
        "def idade(n):\n",
        "  m = int(n)\n",
        "  x = m * 2\n",
        "  y = m / 2\n",
        "  print('o dobro da sua idade é: ' + str(x))\n",
        "  print('a metade da sua idade é: ' + str(y))\n",
        "\n"
      ]
    },
    {
      "cell_type": "code",
      "execution_count": null,
      "metadata": {
        "colab": {
          "base_uri": "https://localhost:8080/",
          "height": 52
        },
        "id": "mKzMa59Uf8Ci",
        "outputId": "2d29f959-907c-4eb9-ae10-91fc0fdfd97d"
      },
      "outputs": [
        {
          "name": "stdout",
          "output_type": "stream",
          "text": [
            "o dobro da sua idade é: 80\n",
            "a metade da sua idade é: 20.0\n"
          ]
        }
      ],
      "source": [
        "# Chamada da função\n",
        "idade(age)"
      ]
    },
    {
      "cell_type": "code",
      "execution_count": null,
      "metadata": {
        "colab": {
          "base_uri": "https://localhost:8080/",
          "height": 281
        },
        "id": "oBxWAz4b4tLT",
        "outputId": "77bd79f6-3071-4dbf-dba4-716bc3658ac6"
      },
      "outputs": [
        {
          "name": "stdout",
          "output_type": "stream",
          "text": [
            "1\n",
            "2\n",
            "Fizz\n",
            "4\n",
            "Buzz\n",
            "Fizz\n",
            "7\n",
            "8\n",
            "Fizz\n",
            "Buzz\n",
            "11\n",
            "Fizz\n",
            "13\n",
            "14\n",
            "FizzBuzz\n"
          ]
        }
      ],
      "source": [
        "def fizzBuzz(n):\n",
        "    # Write your code here\n",
        "\n",
        "    for i in range (1,n+1):\n",
        "\n",
        "        if i%3 == 0 and i%5 == 0:\n",
        "            print('FizzBuzz')\n",
        "        elif i%3 == 0:\n",
        "            print('Fizz')\n",
        "        elif i%5 == 0:\n",
        "            print('Buzz')\n",
        "        else:\n",
        "            print(i)\n",
        "\n",
        "fizzBuzz(15)"
      ]
    },
    {
      "cell_type": "markdown",
      "metadata": {
        "id": "Pd9dl2nv46VZ"
      },
      "source": [
        "Manipulação com arrays"
      ]
    },
    {
      "cell_type": "code",
      "execution_count": null,
      "metadata": {
        "colab": {
          "base_uri": "https://localhost:8080/",
          "height": 34
        },
        "id": "RcDW4NcWtcwk",
        "outputId": "5d79549e-eb5f-4494-e82c-b039f7869883"
      },
      "outputs": [
        {
          "name": "stdout",
          "output_type": "stream",
          "text": [
            "[]\n"
          ]
        }
      ],
      "source": [
        "dates = ['2018-01-01','2017-02-01', '2019-10-01']\n",
        "evento = ['A','B','C']\n",
        "valores = [200,300,400]\n",
        "categoria = ['XL', 'XL','XS']\n",
        "\n",
        "months = dates[5:1] #não consegui extrair uma posição no string do array - mais fácil no pandas\n",
        "print(months)\n"
      ]
    },
    {
      "cell_type": "code",
      "execution_count": null,
      "metadata": {
        "colab": {
          "base_uri": "https://localhost:8080/",
          "height": 52
        },
        "id": "ogdUS9StvfHK",
        "outputId": "3eb58696-9d47-47af-88f9-7e1c5fa62b28"
      },
      "outputs": [
        {
          "name": "stdout",
          "output_type": "stream",
          "text": [
            "{'SP', 'GO', 'RJ'}\n",
            "(2, 'RJ')\n"
          ]
        }
      ],
      "source": [
        "estados = ['GO', 'GO', 'SP', 'RJ']\n",
        "\n",
        "estados_distintos = set(estados)\n",
        "\n",
        "print(estados_distintos)\n",
        "\n",
        "for index,element in enumerate(estados_distintos):\n",
        "    lista = index,element\n",
        "\n",
        "print(lista)\n"
      ]
    },
    {
      "cell_type": "markdown",
      "metadata": {
        "id": "SuMdRNUC-Swd"
      },
      "source": [
        "#### Transforma arrays em dataframe **"
      ]
    },
    {
      "cell_type": "code",
      "execution_count": null,
      "metadata": {
        "id": "1SHvwPIC6e_R"
      },
      "outputs": [],
      "source": [
        "import numpy as np\n",
        "import pandas as pd\n",
        "\n",
        "#tranforma o arrays em colunas no mesmo dataframe\n",
        "\n",
        "datesDf = pd.DataFrame({'Data': dates, 'Evento': evento, 'Valores': valores, 'Categoria': categoria})\n"
      ]
    },
    {
      "cell_type": "markdown",
      "source": [
        "#### Carregamento de bases por etapas / apendar dataframes"
      ],
      "metadata": {
        "id": "soNVoOMUugTx"
      }
    },
    {
      "cell_type": "code",
      "source": [
        "safras = ['2017', '2018', '2019', '2020', '2021', '2022']\n",
        "\n",
        "pers = pd.DataFrame()\n",
        "for i in safras:\n",
        "     query = \"select * from customer_sandbox_zone.flavia_analise_timespan_agg \" + '\\n'\n",
        "     query = query + \"where substring(ds_safra, 1, 4) = '\" \n",
        "     query = query + i + \"'\"\n",
        "     print(query)\n",
        "     temp_pers = ac.df_athena_q('flavia-costa', query)\n",
        "     pers = pers.append(temp_pers)"
      ],
      "metadata": {
        "id": "veuxgm5Qued3"
      },
      "execution_count": null,
      "outputs": []
    },
    {
      "cell_type": "markdown",
      "metadata": {
        "id": "HCCoxuGCrfJT"
      },
      "source": [
        "####  Manipulaçao de datas"
      ]
    },
    {
      "cell_type": "markdown",
      "metadata": {
        "id": "nUxtJzNPtJY1"
      },
      "source": [
        "Criando colunas de datas"
      ]
    },
    {
      "cell_type": "code",
      "execution_count": null,
      "metadata": {
        "colab": {
          "base_uri": "https://localhost:8080/",
          "height": 136
        },
        "id": "s_9emISl09qV",
        "outputId": "84e5da9c-1b97-46ef-b4c7-740ea38eb1fe"
      },
      "outputs": [
        {
          "data": {
            "text/html": [
              "<div>\n",
              "<style scoped>\n",
              "    .dataframe tbody tr th:only-of-type {\n",
              "        vertical-align: middle;\n",
              "    }\n",
              "\n",
              "    .dataframe tbody tr th {\n",
              "        vertical-align: top;\n",
              "    }\n",
              "\n",
              "    .dataframe thead th {\n",
              "        text-align: right;\n",
              "    }\n",
              "</style>\n",
              "<table border=\"1\" class=\"dataframe\">\n",
              "  <thead>\n",
              "    <tr style=\"text-align: right;\">\n",
              "      <th></th>\n",
              "      <th>Data</th>\n",
              "      <th>Evento</th>\n",
              "      <th>Valores</th>\n",
              "      <th>Categoria</th>\n",
              "      <th>Date</th>\n",
              "      <th>ano</th>\n",
              "    </tr>\n",
              "  </thead>\n",
              "  <tbody>\n",
              "    <tr>\n",
              "      <th>0</th>\n",
              "      <td>2018-01-01</td>\n",
              "      <td>A</td>\n",
              "      <td>200</td>\n",
              "      <td>XL</td>\n",
              "      <td>2018-01-01</td>\n",
              "      <td>2018</td>\n",
              "    </tr>\n",
              "    <tr>\n",
              "      <th>1</th>\n",
              "      <td>2017-02-01</td>\n",
              "      <td>B</td>\n",
              "      <td>300</td>\n",
              "      <td>XL</td>\n",
              "      <td>2017-02-01</td>\n",
              "      <td>2017</td>\n",
              "    </tr>\n",
              "    <tr>\n",
              "      <th>2</th>\n",
              "      <td>2019-10-01</td>\n",
              "      <td>C</td>\n",
              "      <td>400</td>\n",
              "      <td>XS</td>\n",
              "      <td>2019-10-01</td>\n",
              "      <td>2019</td>\n",
              "    </tr>\n",
              "  </tbody>\n",
              "</table>\n",
              "</div>"
            ],
            "text/plain": [
              "         Data Evento  Valores Categoria       Date   ano\n",
              "0  2018-01-01      A      200        XL 2018-01-01  2018\n",
              "1  2017-02-01      B      300        XL 2017-02-01  2017\n",
              "2  2019-10-01      C      400        XS 2019-10-01  2019"
            ]
          },
          "execution_count": 4,
          "metadata": {
            "tags": []
          },
          "output_type": "execute_result"
        }
      ],
      "source": [
        "datesDf['Date'] = pd.to_datetime(datesDf['Data']) #padrão dateTime\n",
        "\n",
        "datesDf['Date'] = pd.to_datetime(datesDf['Data'], format='%Y%m%d', errors='ignore') #padrão dateTime\n",
        "\n",
        "\n",
        "# datesDf['ano'] = datesDf['Date'].map(lambda x: x.strftime('%Y'))\n",
        "# datesDf['Dia'] = datesDf['Date'].map(lambda x: x.strftime('%D'))\n",
        "\n",
        "datesDf.head()"
      ]
    },
    {
      "cell_type": "code",
      "execution_count": null,
      "metadata": {
        "id": "GGGCJ5RysEQ8"
      },
      "outputs": [],
      "source": [
        "#DATAS CALCULADAS PARA BUSCAR MÊS FECHADO\n",
        "from datetime import datetime\n",
        "from dateutil.relativedelta import relativedelta\n",
        "\n",
        "\n",
        "today = datetime.today().strftime('%Y-%m-%d')\n",
        "today_ma = (datetime.today() + relativedelta(months=-1))\n",
        "today_ma_str = today_ma.strftime('%Y-%m-%d') #dia da extração mes anterior\n",
        "since = today_ma_str[0:7] + \"-01\" #mes anterior - dia primeiro\n",
        "until_aux = last_date_of_month = datetime(today_ma.year, today_ma.month, 1) + relativedelta(months=1, days=-1)\n",
        "until = until_aux.strftime('%Y-%m-%d')"
      ]
    },
    {
      "cell_type": "code",
      "execution_count": null,
      "metadata": {
        "id": "GNUUOKACrfJV"
      },
      "outputs": [],
      "source": [
        "#calcula o fim do mes atual\n",
        "fim_mes = (datetime(datetime.today().year, datetime.today().month, 1) + relativedelta(months=1, days=-1)).strftime('%Y-%m-%d')\n",
        "diasmes = fim_mes[8:10]"
      ]
    },
    {
      "cell_type": "code",
      "execution_count": null,
      "metadata": {
        "colab": {
          "base_uri": "https://localhost:8080/",
          "height": 34
        },
        "id": "EE0_i6TIsMKb",
        "outputId": "8cdb8de8-a217-48ca-dc5d-512cb802a3ca"
      },
      "outputs": [
        {
          "name": "stdout",
          "output_type": "stream",
          "text": [
            "2020-09-08 2020-08-01 2020-08-31\n"
          ]
        }
      ],
      "source": [
        "print(today, since, until)"
      ]
    },
    {
      "cell_type": "code",
      "execution_count": null,
      "metadata": {
        "id": "zsu9J_E29K0l"
      },
      "outputs": [],
      "source": [
        "#carrega base em csv\n",
        "\n",
        "path = ''\n",
        "\n",
        "baseDfCsv = pd.read_csv(path)"
      ]
    },
    {
      "cell_type": "markdown",
      "metadata": {
        "id": "L_LsST8L-eP-"
      },
      "source": [
        "#### **Descrever features**"
      ]
    },
    {
      "cell_type": "code",
      "execution_count": null,
      "metadata": {
        "colab": {
          "base_uri": "https://localhost:8080/",
          "height": 284
        },
        "id": "TkNGobvT-jTw",
        "outputId": "056de61d-703d-497e-cbbd-747f3d1c5f7e"
      },
      "outputs": [
        {
          "data": {
            "text/html": [
              "<div>\n",
              "<style scoped>\n",
              "    .dataframe tbody tr th:only-of-type {\n",
              "        vertical-align: middle;\n",
              "    }\n",
              "\n",
              "    .dataframe tbody tr th {\n",
              "        vertical-align: top;\n",
              "    }\n",
              "\n",
              "    .dataframe thead th {\n",
              "        text-align: right;\n",
              "    }\n",
              "</style>\n",
              "<table border=\"1\" class=\"dataframe\">\n",
              "  <thead>\n",
              "    <tr style=\"text-align: right;\">\n",
              "      <th></th>\n",
              "      <th>Valores</th>\n",
              "    </tr>\n",
              "  </thead>\n",
              "  <tbody>\n",
              "    <tr>\n",
              "      <th>count</th>\n",
              "      <td>3.0</td>\n",
              "    </tr>\n",
              "    <tr>\n",
              "      <th>mean</th>\n",
              "      <td>300.0</td>\n",
              "    </tr>\n",
              "    <tr>\n",
              "      <th>std</th>\n",
              "      <td>100.0</td>\n",
              "    </tr>\n",
              "    <tr>\n",
              "      <th>min</th>\n",
              "      <td>200.0</td>\n",
              "    </tr>\n",
              "    <tr>\n",
              "      <th>25%</th>\n",
              "      <td>250.0</td>\n",
              "    </tr>\n",
              "    <tr>\n",
              "      <th>50%</th>\n",
              "      <td>300.0</td>\n",
              "    </tr>\n",
              "    <tr>\n",
              "      <th>75%</th>\n",
              "      <td>350.0</td>\n",
              "    </tr>\n",
              "    <tr>\n",
              "      <th>max</th>\n",
              "      <td>400.0</td>\n",
              "    </tr>\n",
              "  </tbody>\n",
              "</table>\n",
              "</div>"
            ],
            "text/plain": [
              "       Valores\n",
              "count      3.0\n",
              "mean     300.0\n",
              "std      100.0\n",
              "min      200.0\n",
              "25%      250.0\n",
              "50%      300.0\n",
              "75%      350.0\n",
              "max      400.0"
            ]
          },
          "execution_count": 5,
          "metadata": {
            "tags": []
          },
          "output_type": "execute_result"
        }
      ],
      "source": [
        "datesDf.describe()"
      ]
    },
    {
      "cell_type": "markdown",
      "metadata": {
        "id": "fMn38pODmouS"
      },
      "source": [
        "#### Criando um contador (índice)"
      ]
    },
    {
      "cell_type": "code",
      "execution_count": null,
      "metadata": {
        "colab": {
          "base_uri": "https://localhost:8080/",
          "height": 136
        },
        "id": "WoRI6Cizme_X",
        "outputId": "3599a654-f8f6-4c0f-c800-c8acc1b970ed"
      },
      "outputs": [
        {
          "data": {
            "text/html": [
              "<div>\n",
              "<style scoped>\n",
              "    .dataframe tbody tr th:only-of-type {\n",
              "        vertical-align: middle;\n",
              "    }\n",
              "\n",
              "    .dataframe tbody tr th {\n",
              "        vertical-align: top;\n",
              "    }\n",
              "\n",
              "    .dataframe thead th {\n",
              "        text-align: right;\n",
              "    }\n",
              "</style>\n",
              "<table border=\"1\" class=\"dataframe\">\n",
              "  <thead>\n",
              "    <tr style=\"text-align: right;\">\n",
              "      <th></th>\n",
              "      <th>Data</th>\n",
              "      <th>Evento</th>\n",
              "      <th>Valores</th>\n",
              "      <th>Categoria</th>\n",
              "      <th>Date</th>\n",
              "      <th>ano</th>\n",
              "      <th>Indice</th>\n",
              "    </tr>\n",
              "  </thead>\n",
              "  <tbody>\n",
              "    <tr>\n",
              "      <th>0</th>\n",
              "      <td>2018-01-01</td>\n",
              "      <td>A</td>\n",
              "      <td>200</td>\n",
              "      <td>XL</td>\n",
              "      <td>2018-01-01</td>\n",
              "      <td>2018</td>\n",
              "      <td>1</td>\n",
              "    </tr>\n",
              "    <tr>\n",
              "      <th>1</th>\n",
              "      <td>2017-02-01</td>\n",
              "      <td>B</td>\n",
              "      <td>300</td>\n",
              "      <td>XL</td>\n",
              "      <td>2017-02-01</td>\n",
              "      <td>2017</td>\n",
              "      <td>2</td>\n",
              "    </tr>\n",
              "    <tr>\n",
              "      <th>2</th>\n",
              "      <td>2019-10-01</td>\n",
              "      <td>C</td>\n",
              "      <td>400</td>\n",
              "      <td>XS</td>\n",
              "      <td>2019-10-01</td>\n",
              "      <td>2019</td>\n",
              "      <td>3</td>\n",
              "    </tr>\n",
              "  </tbody>\n",
              "</table>\n",
              "</div>"
            ],
            "text/plain": [
              "         Data Evento  Valores Categoria       Date   ano  Indice\n",
              "0  2018-01-01      A      200        XL 2018-01-01  2018       1\n",
              "1  2017-02-01      B      300        XL 2017-02-01  2017       2\n",
              "2  2019-10-01      C      400        XS 2019-10-01  2019       3"
            ]
          },
          "execution_count": 6,
          "metadata": {
            "tags": []
          },
          "output_type": "execute_result"
        }
      ],
      "source": [
        "datesDf['Indice'] = list(range(len(datesDf.index)))\n",
        "datesDf['Indice'] = datesDf['Indice'] + 1\n",
        "\n",
        "datesDf.head(5)"
      ]
    },
    {
      "cell_type": "markdown",
      "metadata": {
        "id": "PY7xcGojH5Lg"
      },
      "source": [
        "Contar distintos em um dataframe"
      ]
    },
    {
      "cell_type": "code",
      "execution_count": null,
      "metadata": {
        "colab": {
          "base_uri": "https://localhost:8080/",
          "height": 34
        },
        "id": "8hQN00VBD1MK",
        "outputId": "3581145d-4150-401c-af87-9f5adc5e389c"
      },
      "outputs": [
        {
          "name": "stdout",
          "output_type": "stream",
          "text": [
            "2\n"
          ]
        }
      ],
      "source": [
        "print(len(datesDf['Categoria'].unique()))"
      ]
    },
    {
      "cell_type": "code",
      "execution_count": null,
      "metadata": {
        "id": "wPl5oc8prfJX"
      },
      "outputs": [],
      "source": [
        "Contagem por categoria, valor"
      ]
    },
    {
      "cell_type": "code",
      "execution_count": null,
      "metadata": {
        "id": "N_waaf_OrfJX"
      },
      "outputs": [],
      "source": [
        "datesDf['Categoria'].value_counts()"
      ]
    },
    {
      "cell_type": "markdown",
      "metadata": {
        "id": "z1FF48Nf-tGn"
      },
      "source": [
        "#### Contagem por var categorica"
      ]
    },
    {
      "cell_type": "code",
      "execution_count": null,
      "metadata": {
        "colab": {
          "base_uri": "https://localhost:8080/",
          "height": 87
        },
        "id": "yOSt4nNisj1-",
        "outputId": "150954f6-b7f9-4751-f563-b623b445c651"
      },
      "outputs": [
        {
          "data": {
            "text/plain": [
              "Categoria\n",
              "XL    2\n",
              "XS    1\n",
              "Name: Categoria, dtype: int64"
            ]
          },
          "execution_count": 9,
          "metadata": {
            "tags": []
          },
          "output_type": "execute_result"
        }
      ],
      "source": [
        "baseCount = datesDf.groupby(\"Categoria\")[\"Categoria\"].count() #tb funciona para sum\n",
        "\n",
        "baseCount.head(5)\n"
      ]
    },
    {
      "cell_type": "code",
      "execution_count": null,
      "metadata": {
        "colab": {
          "base_uri": "https://localhost:8080/",
          "height": 87
        },
        "id": "kf5ngARXu4OK",
        "outputId": "9ec5bb6b-8c63-4224-c20a-b00dcb3ef2cc"
      },
      "outputs": [
        {
          "data": {
            "text/plain": [
              "Categoria\n",
              "XL    500\n",
              "XS    400\n",
              "Name: Valores, dtype: int64"
            ]
          },
          "execution_count": 10,
          "metadata": {
            "tags": []
          },
          "output_type": "execute_result"
        }
      ],
      "source": [
        "baseSum = datesDf.groupby(\"Categoria\")[\"Valores\"].sum()\n",
        "\n",
        "baseSum.head(5)"
      ]
    },
    {
      "cell_type": "markdown",
      "metadata": {
        "id": "hjwuJibvscEm"
      },
      "source": [
        "Agregação Outras funções"
      ]
    },
    {
      "cell_type": "markdown",
      "metadata": {
        "id": "nH2Cst_i-zpv"
      },
      "source": [
        "#### *Agregação* (médias, min, max) das variáveis numéricas por grupo"
      ]
    },
    {
      "cell_type": "code",
      "execution_count": null,
      "metadata": {
        "colab": {
          "base_uri": "https://localhost:8080/",
          "height": 195
        },
        "id": "8QpxTwYwn5JJ",
        "outputId": "6b4d9023-6ac0-4aae-d204-bb129cf66a47"
      },
      "outputs": [
        {
          "data": {
            "text/html": [
              "<div>\n",
              "<style scoped>\n",
              "    .dataframe tbody tr th:only-of-type {\n",
              "        vertical-align: middle;\n",
              "    }\n",
              "\n",
              "    .dataframe tbody tr th {\n",
              "        vertical-align: top;\n",
              "    }\n",
              "\n",
              "    .dataframe thead tr th {\n",
              "        text-align: left;\n",
              "    }\n",
              "\n",
              "    .dataframe thead tr:last-of-type th {\n",
              "        text-align: right;\n",
              "    }\n",
              "</style>\n",
              "<table border=\"1\" class=\"dataframe\">\n",
              "  <thead>\n",
              "    <tr>\n",
              "      <th></th>\n",
              "      <th colspan=\"5\" halign=\"left\">Valores</th>\n",
              "      <th>Categoria</th>\n",
              "    </tr>\n",
              "    <tr>\n",
              "      <th></th>\n",
              "      <th>min</th>\n",
              "      <th>max</th>\n",
              "      <th>mean</th>\n",
              "      <th>first</th>\n",
              "      <th>last</th>\n",
              "      <th>first</th>\n",
              "    </tr>\n",
              "    <tr>\n",
              "      <th>Evento</th>\n",
              "      <th></th>\n",
              "      <th></th>\n",
              "      <th></th>\n",
              "      <th></th>\n",
              "      <th></th>\n",
              "      <th></th>\n",
              "    </tr>\n",
              "  </thead>\n",
              "  <tbody>\n",
              "    <tr>\n",
              "      <th>A</th>\n",
              "      <td>200</td>\n",
              "      <td>200</td>\n",
              "      <td>200</td>\n",
              "      <td>200</td>\n",
              "      <td>200</td>\n",
              "      <td>XL</td>\n",
              "    </tr>\n",
              "    <tr>\n",
              "      <th>B</th>\n",
              "      <td>300</td>\n",
              "      <td>300</td>\n",
              "      <td>300</td>\n",
              "      <td>300</td>\n",
              "      <td>300</td>\n",
              "      <td>XL</td>\n",
              "    </tr>\n",
              "    <tr>\n",
              "      <th>C</th>\n",
              "      <td>400</td>\n",
              "      <td>400</td>\n",
              "      <td>400</td>\n",
              "      <td>400</td>\n",
              "      <td>400</td>\n",
              "      <td>XS</td>\n",
              "    </tr>\n",
              "  </tbody>\n",
              "</table>\n",
              "</div>"
            ],
            "text/plain": [
              "       Valores                      Categoria\n",
              "           min  max mean first last     first\n",
              "Evento                                       \n",
              "A          200  200  200   200  200        XL\n",
              "B          300  300  300   300  300        XL\n",
              "C          400  400  400   400  400        XS"
            ]
          },
          "execution_count": 6,
          "metadata": {
            "tags": []
          },
          "output_type": "execute_result"
        }
      ],
      "source": [
        "baseAgg = datesDf.groupby('Evento').agg({'Valores':['min','max','mean', 'first','last'], 'Categoria':['first']})\n",
        "\n",
        "baseAgg.head(5)"
      ]
    },
    {
      "cell_type": "markdown",
      "source": [
        "#### Agregar com parametros variaveis"
      ],
      "metadata": {
        "id": "UIUT51R0YHON"
      }
    },
    {
      "cell_type": "code",
      "source": [
        "vars_agregacao = ['proba_bin', 'limite_bin', 'sow_bin', 'renda_declarada_bin', 'fx_atraso_jun22', 'nr_behavior_score', 'score_gh']\n",
        "agg = pb_add.groupby(vars_agregacao).agg({'conta_cartao':['count']})\n",
        "agg.columns = agg.columns.droplevel(0)\n",
        "agg = agg.reset_index()\n",
        "agg.head()\n"
      ],
      "metadata": {
        "id": "yWCQqqGtYLQo"
      },
      "execution_count": null,
      "outputs": []
    },
    {
      "cell_type": "markdown",
      "source": [
        "#### Agregate simples (equivalente ao count(*))"
      ],
      "metadata": {
        "id": "_afi43kWzLjX"
      }
    },
    {
      "cell_type": "code",
      "source": [
        "df.groupby(['col1', 'col2']).size()"
      ],
      "metadata": {
        "id": "jRuPQrGdy4um"
      },
      "execution_count": null,
      "outputs": []
    },
    {
      "cell_type": "code",
      "source": [
        "# top selling items by sales\n",
        "sales_order = main_df.groupby('description').sum()['tot_order'].nlargest(10)"
      ],
      "metadata": {
        "id": "Iioa1enItSnE"
      },
      "execution_count": null,
      "outputs": []
    },
    {
      "cell_type": "markdown",
      "source": [
        "#### If para criação de coluna (Case )"
      ],
      "metadata": {
        "id": "A1_h7_cTgWCW"
      }
    },
    {
      "cell_type": "code",
      "source": [
        "#função para usar com apply\n",
        "def faixas_30(x):\n",
        "    if x < 30:\n",
        "        return 'a. menos 1 mes'\n",
        "    elif x < 60:\n",
        "        return 'b. 1 mes'\n",
        "    elif x < 90:\n",
        "        return 'c. 2 meses'\n",
        "    elif x < 120:\n",
        "        return 'd. 3 meses'\n",
        "    elif x < 149:\n",
        "        return 'e. 4 meses'\n",
        "    elif x < 179:\n",
        "        return 'f. 5 meses'   \n",
        "    elif x < 209:\n",
        "        return 'g. 6 meses' \n",
        "    elif x < 239:\n",
        "        return 'h. 7 meses'     \n",
        "    elif x < 269:\n",
        "        return 'i. 8 meses' \n",
        "    elif x < 299:\n",
        "        return 'j. 9 meses' \n",
        "    elif x < 329:\n",
        "        return 'k. 10 meses' \n",
        "    elif x < 364:\n",
        "        return 'l. 11 meses'\n",
        "    elif x < 7200:\n",
        "        return 'm. mais de 12 meses'  \n",
        "    else:\n",
        "        return 'n. sem transacao'"
      ],
      "metadata": {
        "id": "VBoY73PIgGV2"
      },
      "execution_count": null,
      "outputs": []
    },
    {
      "cell_type": "code",
      "source": [
        "#Composto com mais variáveis\n",
        "def regra_flex_new(row):\n",
        "    ### Mulher, Solteira, Até 24 anos, cidade Pequena do Sudeste ou Norte, renda declarada inferior a R$ 1K ou Não declarada\n",
        "    if row['ds_gender'] == 'FEMALE' \\\n",
        "    and row['ds_marital_status'] != 'MARRIED' \\\n",
        "    and row['ds_idade'] <= 24 \\\n",
        "    and row['ds_city_size'] == 'pequeno' \\\n",
        "    and (row['ds_region'] == 'Sul' or row['ds_region'] == 'Sudeste') \\\n",
        "    and (row['renda_declarada'] >= 0 and row['renda_declarada'] < 1000):\n",
        "        return '8'\n",
        "    ### Mulher, Solteira, Até 24 anos, cidade Média do Sudeste, renda declarada maior ou igual a R$ 1K\n",
        "    elif row['ds_gender'] == 'FEMALE' \\\n",
        "    and row['ds_marital_status'] != 'MARRIED' \\\n",
        "    and row['ds_idade'] <= 24 \\\n",
        "    and row['ds_city_size'] == 'medio' \\\n",
        "    and (row['ds_region'] == 'Sul' or row['ds_region'] == 'Sudeste') \\\n",
        "    and row['renda_declarada'] >= 1000:\n",
        "        return '1'\n",
        "\n",
        "data_pop['codigo'] = data_pop.apply(eval(f'cl.{regra_flex_new}'), axis=1)"
      ],
      "metadata": {
        "id": "DtC5zPtBgFK5"
      },
      "execution_count": null,
      "outputs": []
    },
    {
      "cell_type": "markdown",
      "source": [
        "#### Cria coluna com np.where"
      ],
      "metadata": {
        "id": "uapQ2KGlKoGS"
      }
    },
    {
      "cell_type": "code",
      "source": [
        "df_final['segmento1'] = np.where((df_final['transacoes_mes_atual'] == 0) & (df_final['transacoes_mes_anterior'] > 0),  'Deixou de comprar',\n",
        "                        np.where((df_final['transacoes_mes_atual'] > 0) & (df_final['transacoes_mes_anterior'] == 0), 'Passou a comprar',\n",
        "                        'Presente nos dois meses'))"
      ],
      "metadata": {
        "id": "Dh6au5WpKnBs"
      },
      "execution_count": null,
      "outputs": []
    },
    {
      "cell_type": "markdown",
      "source": [
        "#### Deduplicar"
      ],
      "metadata": {
        "id": "wwyEB1h5XPI4"
      }
    },
    {
      "cell_type": "code",
      "source": [
        ".drop_duplicates()"
      ],
      "metadata": {
        "id": "RvHXCCqjXUJ7"
      },
      "execution_count": null,
      "outputs": []
    },
    {
      "cell_type": "markdown",
      "source": [
        "#### Dropar coluna do df (drop)"
      ],
      "metadata": {
        "id": "Wydr9ax2wqhW"
      }
    },
    {
      "cell_type": "code",
      "source": [
        "df.pop('class')"
      ],
      "metadata": {
        "id": "dFDlJMbIwo5A"
      },
      "execution_count": null,
      "outputs": []
    },
    {
      "cell_type": "markdown",
      "source": [
        "#### Alterar tipo da variável"
      ],
      "metadata": {
        "id": "EJgopl5BxP91"
      }
    },
    {
      "cell_type": "code",
      "source": [
        "ser.astype('category')\n",
        "ser.astype('int')\n",
        "ser.astype('str')"
      ],
      "metadata": {
        "id": "sir2dRjIxPJv"
      },
      "execution_count": null,
      "outputs": []
    },
    {
      "cell_type": "code",
      "source": [
        "#exception para alterar o tipo ignorando os literais\n",
        "def num(s):\n",
        "    try:\n",
        "        return int(s)\n",
        "    except ValueError:\n",
        "        return 0"
      ],
      "metadata": {
        "id": "R6lGYKE82ehI"
      },
      "execution_count": null,
      "outputs": []
    },
    {
      "cell_type": "markdown",
      "source": [
        "#### Ordenar - sort"
      ],
      "metadata": {
        "id": "jxcmsrEwxy_f"
      }
    },
    {
      "cell_type": "code",
      "source": [
        "df.sort_values('coluna', ascending = False)"
      ],
      "metadata": {
        "id": "P4hXG6QQx2LX"
      },
      "execution_count": null,
      "outputs": []
    },
    {
      "cell_type": "markdown",
      "metadata": {
        "id": "_en14HaJrF1F"
      },
      "source": [
        "#### Exemplos de agregação retirando outros níveis da label"
      ]
    },
    {
      "cell_type": "code",
      "execution_count": null,
      "metadata": {
        "id": "uwcyZq0-rEgV"
      },
      "outputs": [],
      "source": [
        "vars_agregacao = ['proba_bin', 'limite_bin', 'sow_bin', 'renda_declarada_bin', 'fx_atraso_jun22', 'nr_behavior_score', 'score_gh']\n",
        "agg = pb_add.groupby(vars_agregacao).agg({'conta_cartao':['count']})\n",
        "agg.columns = agg.columns.droplevel(0)\n",
        "agg = agg.reset_index()\n",
        "agg.head()\n"
      ]
    },
    {
      "cell_type": "code",
      "execution_count": null,
      "metadata": {
        "id": "CmZyM4eprfJZ"
      },
      "outputs": [],
      "source": [
        "#agregação com colunas da base como variável\n",
        "col_agg1 = dfr.drop(coluna_contagem, axis = 1).columns.to_list()\n",
        "agg1 = dfr.groupby(col_agg1).agg({'cpfs':['sum']})"
      ]
    },
    {
      "cell_type": "markdown",
      "metadata": {
        "id": "hWwFZgv5rfJZ"
      },
      "source": [
        "#### Pivot tables"
      ]
    },
    {
      "cell_type": "code",
      "execution_count": null,
      "metadata": {
        "id": "k8YcO94grfJa"
      },
      "outputs": [],
      "source": [
        "df2.pivot_table(values='X', rows='Y', cols='Z', aggfunc=lambda x: len(x.unique()) "
      ]
    },
    {
      "cell_type": "code",
      "execution_count": null,
      "metadata": {
        "id": "zzpOHsOqrfJa"
      },
      "outputs": [],
      "source": [
        "dados_rfm_mes.pivot_table(index = 'segmento_rfm', columns= 'mes_ref', values = 'contas', aggfunc=np.sum)"
      ]
    },
    {
      "cell_type": "markdown",
      "source": [
        "#### Transpor e transformar colunas em linhas (melt)"
      ],
      "metadata": {
        "id": "BAqU2Z-csH96"
      }
    },
    {
      "cell_type": "code",
      "source": [
        "df_model = df_model.drop(['n_cluster'], axis = 1).set_index('var_value').transpose().reset_index()\n"
      ],
      "metadata": {
        "id": "G2QuR0FQsFLX"
      },
      "execution_count": null,
      "outputs": []
    },
    {
      "cell_type": "code",
      "source": [
        "df.T"
      ],
      "metadata": {
        "id": "kxnNGmr6XjJG"
      },
      "execution_count": null,
      "outputs": []
    },
    {
      "cell_type": "code",
      "source": [
        "df_melt = pd.melt(df_model, id_vars=['index'])"
      ],
      "metadata": {
        "id": "D7J0T6IFsFgG"
      },
      "execution_count": null,
      "outputs": []
    },
    {
      "cell_type": "markdown",
      "metadata": {
        "id": "j8biNRHnrfJa"
      },
      "source": [
        "#### Funções string"
      ]
    },
    {
      "cell_type": "code",
      "execution_count": null,
      "metadata": {
        "id": "TJgA1qXmrfJa"
      },
      "outputs": [],
      "source": [
        "#posição do conteúdo de uma coluna em outra\n",
        "City = df['cidade'].values.astype(str)\n",
        "Estab = df['estab_clean'].values.astype(str)\n",
        "df = df.assign(pos = find(Estab, City, start=0, end=None))\n",
        "\n",
        "#replace de coluna\n",
        "df = df.assign(estab_clean_2 = replace(Estab, City, ''))\n",
        "df = df.assign(pos_espaco = find(Estab, ' ', start=0, end=None))\n",
        "df['tam_caract_cidade'] = df['cidade'].str.len()\n",
        "\n",
        "#retira tokens consecutivos\n",
        "df['estab_clean_3'] = df['estab_clean_3'].str.replace(r'\\b(\\w+)(\\s+\\1)+\\b', r'\\1')\n",
        "\n",
        "#substring com posições definidas\n",
        "dados_rfm_mes['ano'] = dados_rfm_mes['mes_ref'].str[:4]\n",
        "\n",
        "#não contém - negação é ~\n",
        "arqfinal_agg2 = arqfinal_agg[~arqfinal_agg['nm_estabelecimento'].str.contains(';')]\n"
      ]
    },
    {
      "cell_type": "code",
      "execution_count": null,
      "metadata": {
        "id": "PxEsJFDkrfJa"
      },
      "outputs": [],
      "source": [
        "#\n",
        "def trata_estabelecimentos(x):\n",
        "    x = re.sub(r'(^(?=.*\\bLOJAS)(?=.*AMERICANAS\\b).*$)', 'LOJAS AMERICANAS', x)\n",
        "    #POSSUI UBER E EATS\n",
        "    x = re.sub(r'(?=.*\\bUBER\\b)(?=.*\\bEATS\\b).*$', 'UBER EATS', x)\n",
        "    #POSSUI UBER E NÃO EATS\n",
        "    x = re.sub(r'(?=.*\\bUBER\\b)(?!.*EATS\\b).*$', 'UBER', x)\n",
        "    x = re.sub(r'^(?=.*\\bGOOGLE)(?=.*GARENA\\b).*$', 'GOOGLE GARENA', x)\n",
        "    x = re.sub(r'(?=.*\\bGOOGLE TEMPORARY HOLD\\b).*$', 'GOOGLE TEMPORARY HOLD', x)\n",
        "    x = re.sub(r'(?=.*\\bIFD BR).*$', 'IFOOD', x)\n",
        "    x = re.sub(r'(?=.*\\bIFOOD).*$', 'IFOOD', x)\n",
        "    x = re.sub(r'(?=.*\\bOBOTICARIO).*$', 'OBOTICARIO', x)\n",
        "    x = re.sub(r'(?=.*\\bHNA BOTICARIO).*$', 'OBOTICARIO', x)\n",
        "    x = x.replace('DL GOOGLE','GOOGLE')\n",
        "    x = x.replace('MERCPAG GOOGLEPLAY','GOOGLE PLAY')\n",
        "    x = x.replace('GOOGLEPLAY','GOOGLE PLAY')\n",
        "    x = x.replace('C E A', 'C A MODAS')\n",
        "\n",
        "    #PARA ESSES CASOS EU NÃO QUERO BUSCAR TODA A STRING\n",
        "    x = x.replace('MERCADOPAGO MERC ', 'MERCADOPAGO ')\n",
        "    x = x.replace('MERCPAG MERCADOLIVRE', 'MERCADOLIVRE')\n",
        "    x = x.replace('MERCPAGO', 'MERCADOPAGO')\n",
        "    x = x.replace('MERCPAG', 'MERCADOPAGO')     \n",
        "    x = x.replace('EBANX','')\n",
        "       \n",
        "    x = x.strip()\n",
        "    return x"
      ]
    },
    {
      "cell_type": "markdown",
      "metadata": {
        "id": "cGNaBVBV_FXo"
      },
      "source": [
        "#### Seleciona Colunas"
      ]
    },
    {
      "cell_type": "code",
      "execution_count": null,
      "metadata": {
        "colab": {
          "base_uri": "https://localhost:8080/",
          "height": 136
        },
        "id": "87lKjqbV2lvY",
        "outputId": "d5496f04-d3cb-445d-e3dd-5b5012a58f55"
      },
      "outputs": [
        {
          "data": {
            "text/html": [
              "<div>\n",
              "<style scoped>\n",
              "    .dataframe tbody tr th:only-of-type {\n",
              "        vertical-align: middle;\n",
              "    }\n",
              "\n",
              "    .dataframe tbody tr th {\n",
              "        vertical-align: top;\n",
              "    }\n",
              "\n",
              "    .dataframe thead th {\n",
              "        text-align: right;\n",
              "    }\n",
              "</style>\n",
              "<table border=\"1\" class=\"dataframe\">\n",
              "  <thead>\n",
              "    <tr style=\"text-align: right;\">\n",
              "      <th></th>\n",
              "      <th>Valores</th>\n",
              "      <th>Evento</th>\n",
              "    </tr>\n",
              "  </thead>\n",
              "  <tbody>\n",
              "    <tr>\n",
              "      <th>0</th>\n",
              "      <td>200</td>\n",
              "      <td>A</td>\n",
              "    </tr>\n",
              "    <tr>\n",
              "      <th>1</th>\n",
              "      <td>300</td>\n",
              "      <td>B</td>\n",
              "    </tr>\n",
              "    <tr>\n",
              "      <th>2</th>\n",
              "      <td>400</td>\n",
              "      <td>C</td>\n",
              "    </tr>\n",
              "  </tbody>\n",
              "</table>\n",
              "</div>"
            ],
            "text/plain": [
              "   Valores Evento\n",
              "0      200      A\n",
              "1      300      B\n",
              "2      400      C"
            ]
          },
          "execution_count": 7,
          "metadata": {
            "tags": []
          },
          "output_type": "execute_result"
        }
      ],
      "source": [
        "# select only required columns\n",
        "baseReduzida = datesDf[[\"Valores\", \"Evento\"]]\n",
        "\n",
        "baseReduzida.head()"
      ]
    },
    {
      "cell_type": "markdown",
      "metadata": {
        "id": "nzRLoovY_DpB"
      },
      "source": [
        "Cria nova coluna"
      ]
    },
    {
      "cell_type": "code",
      "execution_count": null,
      "metadata": {
        "colab": {
          "base_uri": "https://localhost:8080/",
          "height": 136
        },
        "id": "_aI8SDwHK-1Z",
        "outputId": "00d65f37-c4dc-4331-82fe-a67267e20db5"
      },
      "outputs": [
        {
          "data": {
            "text/html": [
              "<div>\n",
              "<style scoped>\n",
              "    .dataframe tbody tr th:only-of-type {\n",
              "        vertical-align: middle;\n",
              "    }\n",
              "\n",
              "    .dataframe tbody tr th {\n",
              "        vertical-align: top;\n",
              "    }\n",
              "\n",
              "    .dataframe thead th {\n",
              "        text-align: right;\n",
              "    }\n",
              "</style>\n",
              "<table border=\"1\" class=\"dataframe\">\n",
              "  <thead>\n",
              "    <tr style=\"text-align: right;\">\n",
              "      <th></th>\n",
              "      <th>Data</th>\n",
              "      <th>Evento</th>\n",
              "      <th>Valores</th>\n",
              "      <th>Categoria</th>\n",
              "      <th>Date</th>\n",
              "      <th>ano</th>\n",
              "      <th>Indice</th>\n",
              "      <th>Valores10Perc</th>\n",
              "      <th>Valores20Perc</th>\n",
              "      <th>ValoresDobro</th>\n",
              "      <th>Status</th>\n",
              "    </tr>\n",
              "  </thead>\n",
              "  <tbody>\n",
              "    <tr>\n",
              "      <th>0</th>\n",
              "      <td>2018-01-01</td>\n",
              "      <td>A</td>\n",
              "      <td>200</td>\n",
              "      <td>XL</td>\n",
              "      <td>2018-01-01</td>\n",
              "      <td>2018</td>\n",
              "      <td>1</td>\n",
              "      <td>220.0</td>\n",
              "      <td>240.0</td>\n",
              "      <td>400</td>\n",
              "      <td>faixa0</td>\n",
              "    </tr>\n",
              "    <tr>\n",
              "      <th>1</th>\n",
              "      <td>2017-02-01</td>\n",
              "      <td>B</td>\n",
              "      <td>300</td>\n",
              "      <td>XL</td>\n",
              "      <td>2017-02-01</td>\n",
              "      <td>2017</td>\n",
              "      <td>2</td>\n",
              "      <td>330.0</td>\n",
              "      <td>360.0</td>\n",
              "      <td>600</td>\n",
              "      <td>faixa1</td>\n",
              "    </tr>\n",
              "    <tr>\n",
              "      <th>2</th>\n",
              "      <td>2019-10-01</td>\n",
              "      <td>C</td>\n",
              "      <td>400</td>\n",
              "      <td>XS</td>\n",
              "      <td>2019-10-01</td>\n",
              "      <td>2019</td>\n",
              "      <td>3</td>\n",
              "      <td>440.0</td>\n",
              "      <td>480.0</td>\n",
              "      <td>800</td>\n",
              "      <td>faixa1</td>\n",
              "    </tr>\n",
              "  </tbody>\n",
              "</table>\n",
              "</div>"
            ],
            "text/plain": [
              "         Data Evento  Valores  ... Valores20Perc ValoresDobro  Status\n",
              "0  2018-01-01      A      200  ...         240.0          400  faixa0\n",
              "1  2017-02-01      B      300  ...         360.0          600  faixa1\n",
              "2  2019-10-01      C      400  ...         480.0          800  faixa1\n",
              "\n",
              "[3 rows x 11 columns]"
            ]
          },
          "execution_count": 12,
          "metadata": {
            "tags": []
          },
          "output_type": "execute_result"
        }
      ],
      "source": [
        "datesDf['Valores10Perc'] = datesDf['Valores'] * 1.1 #metodo mais simples - aplicando crescimento de 10%\n",
        "datesDf['Valores20Perc'] = datesDf['Valores'].apply(lambda x: x * 1.2) #com apply - aplicando crescimento de 20%\n",
        "\n",
        "#função que multiplica por 2 para ser aplicado na coluna\n",
        "def doubleData(x):\n",
        "   return x * 2\n",
        "\n",
        "datesDf['ValoresDobro'] = datesDf['Valores'].apply(doubleData) #com apply e função doubleData\n",
        "\n",
        "#função para criar faixa de valores\n",
        "def Status(x):\n",
        "  if x >= 300:\n",
        "    return 'faixa1'\n",
        "  else:\n",
        "    return 'faixa0'\n",
        "\n",
        "datesDf['Status'] = datesDf['Valores'].apply(Status) #com apply e função de classificação\n",
        "\n",
        "datesDf.head(5)"
      ]
    },
    {
      "cell_type": "markdown",
      "metadata": {
        "id": "0oqqCF6_rjxJ"
      },
      "source": [
        "#### Função de percentiles"
      ]
    },
    {
      "cell_type": "code",
      "execution_count": null,
      "metadata": {
        "id": "GZdrRK_grjA5"
      },
      "outputs": [],
      "source": [
        "def q50(x):\n",
        "            return x.quantile(0.5)\n",
        "# 90th Percentile\n",
        "def q90(x):\n",
        "            return x.quantile(0.9)   "
      ]
    },
    {
      "cell_type": "markdown",
      "source": [
        "#### Plot simples"
      ],
      "metadata": {
        "id": "vsc1XvGjtgvz"
      }
    },
    {
      "cell_type": "code",
      "source": [
        "ax = invoice_period_agg['total_customers'].cumsum().plot()\n",
        "ax2 = invoice_period_agg['tot_order'].cumsum().plot()\n",
        "ax.set_yscale('log')"
      ],
      "metadata": {
        "id": "T6LfwI02tfoW"
      },
      "execution_count": null,
      "outputs": []
    },
    {
      "cell_type": "markdown",
      "metadata": {
        "id": "hGcDkVIR-75J"
      },
      "source": [
        "#### Tratamento NULLS"
      ]
    },
    {
      "cell_type": "code",
      "execution_count": null,
      "metadata": {
        "colab": {
          "base_uri": "https://localhost:8080/",
          "height": 136
        },
        "id": "9U7PPzKYNWni",
        "outputId": "ca913871-1c74-4aed-d4c5-cc750f00457f"
      },
      "outputs": [
        {
          "data": {
            "text/html": [
              "<div>\n",
              "<style scoped>\n",
              "    .dataframe tbody tr th:only-of-type {\n",
              "        vertical-align: middle;\n",
              "    }\n",
              "\n",
              "    .dataframe tbody tr th {\n",
              "        vertical-align: top;\n",
              "    }\n",
              "\n",
              "    .dataframe thead th {\n",
              "        text-align: right;\n",
              "    }\n",
              "</style>\n",
              "<table border=\"1\" class=\"dataframe\">\n",
              "  <thead>\n",
              "    <tr style=\"text-align: right;\">\n",
              "      <th></th>\n",
              "      <th>Data</th>\n",
              "      <th>Evento</th>\n",
              "      <th>Valores</th>\n",
              "      <th>Categoria</th>\n",
              "      <th>Date</th>\n",
              "      <th>ano</th>\n",
              "      <th>Indice</th>\n",
              "      <th>Valores10Perc</th>\n",
              "      <th>Valores20Perc</th>\n",
              "      <th>ValoresDobro</th>\n",
              "      <th>Status</th>\n",
              "      <th>exemploNull</th>\n",
              "    </tr>\n",
              "  </thead>\n",
              "  <tbody>\n",
              "    <tr>\n",
              "      <th>0</th>\n",
              "      <td>2018-01-01</td>\n",
              "      <td>A</td>\n",
              "      <td>200</td>\n",
              "      <td>XL</td>\n",
              "      <td>2018-01-01</td>\n",
              "      <td>2018</td>\n",
              "      <td>1</td>\n",
              "      <td>220.0</td>\n",
              "      <td>240.0</td>\n",
              "      <td>400</td>\n",
              "      <td>faixa0</td>\n",
              "      <td>NaN</td>\n",
              "    </tr>\n",
              "    <tr>\n",
              "      <th>1</th>\n",
              "      <td>2017-02-01</td>\n",
              "      <td>B</td>\n",
              "      <td>300</td>\n",
              "      <td>XL</td>\n",
              "      <td>2017-02-01</td>\n",
              "      <td>2017</td>\n",
              "      <td>2</td>\n",
              "      <td>330.0</td>\n",
              "      <td>360.0</td>\n",
              "      <td>600</td>\n",
              "      <td>faixa1</td>\n",
              "      <td>NaN</td>\n",
              "    </tr>\n",
              "    <tr>\n",
              "      <th>2</th>\n",
              "      <td>2019-10-01</td>\n",
              "      <td>C</td>\n",
              "      <td>400</td>\n",
              "      <td>XS</td>\n",
              "      <td>2019-10-01</td>\n",
              "      <td>2019</td>\n",
              "      <td>3</td>\n",
              "      <td>440.0</td>\n",
              "      <td>480.0</td>\n",
              "      <td>800</td>\n",
              "      <td>faixa1</td>\n",
              "      <td>NaN</td>\n",
              "    </tr>\n",
              "  </tbody>\n",
              "</table>\n",
              "</div>"
            ],
            "text/plain": [
              "         Data Evento  Valores  ... ValoresDobro  Status exemploNull\n",
              "0  2018-01-01      A      200  ...          400  faixa0         NaN\n",
              "1  2017-02-01      B      300  ...          600  faixa1         NaN\n",
              "2  2019-10-01      C      400  ...          800  faixa1         NaN\n",
              "\n",
              "[3 rows x 12 columns]"
            ]
          },
          "execution_count": 13,
          "metadata": {
            "tags": []
          },
          "output_type": "execute_result"
        }
      ],
      "source": [
        "datesDf['exemploNull'] = np.nan # criando coluna de nulls para exemplo\n",
        "\n",
        "datesDf.head(5)"
      ]
    },
    {
      "cell_type": "markdown",
      "metadata": {
        "id": "M7PBZlWZPhWZ"
      },
      "source": [
        "Operating on Null Values\n",
        "As we have seen, Pandas treats None and NaN as essentially interchangeable for indicating missing or null values. To facilitate this convention, there are several useful methods for detecting, removing, and replacing null values in Pandas data structures. They are:\n",
        "\n",
        "isnull(): Generate a boolean mask indicating missing _cs\n",
        "notnull(): Opposite of isnull()\n",
        "dropna(): Return a filtered version of the data\n",
        " fillna(): Return a copy of the data with missing values filled or imputed"
      ]
    },
    {
      "cell_type": "code",
      "execution_count": null,
      "metadata": {
        "colab": {
          "base_uri": "https://localhost:8080/",
          "height": 136
        },
        "id": "66sManpKNl5F",
        "outputId": "a4f4a492-8c5a-4599-8ada-c95143825861"
      },
      "outputs": [
        {
          "data": {
            "text/html": [
              "<div>\n",
              "<style scoped>\n",
              "    .dataframe tbody tr th:only-of-type {\n",
              "        vertical-align: middle;\n",
              "    }\n",
              "\n",
              "    .dataframe tbody tr th {\n",
              "        vertical-align: top;\n",
              "    }\n",
              "\n",
              "    .dataframe thead th {\n",
              "        text-align: right;\n",
              "    }\n",
              "</style>\n",
              "<table border=\"1\" class=\"dataframe\">\n",
              "  <thead>\n",
              "    <tr style=\"text-align: right;\">\n",
              "      <th></th>\n",
              "      <th>Data</th>\n",
              "      <th>Evento</th>\n",
              "      <th>Valores</th>\n",
              "      <th>Categoria</th>\n",
              "      <th>Date</th>\n",
              "      <th>ano</th>\n",
              "      <th>Indice</th>\n",
              "      <th>Valores10Perc</th>\n",
              "      <th>Valores20Perc</th>\n",
              "      <th>ValoresDobro</th>\n",
              "      <th>Status</th>\n",
              "      <th>exemploNull</th>\n",
              "    </tr>\n",
              "  </thead>\n",
              "  <tbody>\n",
              "    <tr>\n",
              "      <th>0</th>\n",
              "      <td>2018-01-01</td>\n",
              "      <td>A</td>\n",
              "      <td>200</td>\n",
              "      <td>XL</td>\n",
              "      <td>2018-01-01</td>\n",
              "      <td>2018</td>\n",
              "      <td>1</td>\n",
              "      <td>220.0</td>\n",
              "      <td>240.0</td>\n",
              "      <td>400</td>\n",
              "      <td>faixa0</td>\n",
              "      <td>0.0</td>\n",
              "    </tr>\n",
              "    <tr>\n",
              "      <th>1</th>\n",
              "      <td>2017-02-01</td>\n",
              "      <td>B</td>\n",
              "      <td>300</td>\n",
              "      <td>XL</td>\n",
              "      <td>2017-02-01</td>\n",
              "      <td>2017</td>\n",
              "      <td>2</td>\n",
              "      <td>330.0</td>\n",
              "      <td>360.0</td>\n",
              "      <td>600</td>\n",
              "      <td>faixa1</td>\n",
              "      <td>0.0</td>\n",
              "    </tr>\n",
              "    <tr>\n",
              "      <th>2</th>\n",
              "      <td>2019-10-01</td>\n",
              "      <td>C</td>\n",
              "      <td>400</td>\n",
              "      <td>XS</td>\n",
              "      <td>2019-10-01</td>\n",
              "      <td>2019</td>\n",
              "      <td>3</td>\n",
              "      <td>440.0</td>\n",
              "      <td>480.0</td>\n",
              "      <td>800</td>\n",
              "      <td>faixa1</td>\n",
              "      <td>0.0</td>\n",
              "    </tr>\n",
              "  </tbody>\n",
              "</table>\n",
              "</div>"
            ],
            "text/plain": [
              "         Data Evento  Valores  ... ValoresDobro  Status exemploNull\n",
              "0  2018-01-01      A      200  ...          400  faixa0         0.0\n",
              "1  2017-02-01      B      300  ...          600  faixa1         0.0\n",
              "2  2019-10-01      C      400  ...          800  faixa1         0.0\n",
              "\n",
              "[3 rows x 12 columns]"
            ]
          },
          "execution_count": 14,
          "metadata": {
            "tags": []
          },
          "output_type": "execute_result"
        }
      ],
      "source": [
        "datesDf['exemploNull'] = datesDf['exemploNull'].fillna(0.0) #recodificando para 0\n",
        "\n",
        "datesDf.head(5)"
      ]
    },
    {
      "cell_type": "markdown",
      "metadata": {
        "id": "gywdtzE9_OjT"
      },
      "source": [
        "#### Filtrar"
      ]
    },
    {
      "cell_type": "code",
      "execution_count": null,
      "metadata": {
        "id": "RBzFS2UGP3sQ"
      },
      "outputs": [],
      "source": [
        "\n",
        " #primeira forma\n",
        "datesFilter = datesDf[datesDf['Status'] == 'faixa1']\n",
        "\n"
      ]
    },
    {
      "cell_type": "markdown",
      "metadata": {
        "id": "v_rfOFD3_TN0"
      },
      "source": [
        "#### Filtrar por lista"
      ]
    },
    {
      "cell_type": "code",
      "execution_count": null,
      "metadata": {
        "colab": {
          "base_uri": "https://localhost:8080/",
          "height": 106
        },
        "id": "K9roHIE_UdXn",
        "outputId": "e19daf94-cd7f-4263-f622-2b1c703bf23e"
      },
      "outputs": [
        {
          "data": {
            "text/html": [
              "<div>\n",
              "<style scoped>\n",
              "    .dataframe tbody tr th:only-of-type {\n",
              "        vertical-align: middle;\n",
              "    }\n",
              "\n",
              "    .dataframe tbody tr th {\n",
              "        vertical-align: top;\n",
              "    }\n",
              "\n",
              "    .dataframe thead th {\n",
              "        text-align: right;\n",
              "    }\n",
              "</style>\n",
              "<table border=\"1\" class=\"dataframe\">\n",
              "  <thead>\n",
              "    <tr style=\"text-align: right;\">\n",
              "      <th></th>\n",
              "      <th>Data</th>\n",
              "      <th>Evento</th>\n",
              "      <th>Valores</th>\n",
              "      <th>Categoria</th>\n",
              "      <th>Date</th>\n",
              "      <th>ano</th>\n",
              "      <th>Indice</th>\n",
              "      <th>Valores10Perc</th>\n",
              "      <th>Valores20Perc</th>\n",
              "      <th>ValoresDobro</th>\n",
              "      <th>Status</th>\n",
              "      <th>exemploNull</th>\n",
              "    </tr>\n",
              "  </thead>\n",
              "  <tbody>\n",
              "    <tr>\n",
              "      <th>1</th>\n",
              "      <td>2017-02-01</td>\n",
              "      <td>B</td>\n",
              "      <td>300</td>\n",
              "      <td>XL</td>\n",
              "      <td>2017-02-01</td>\n",
              "      <td>2017</td>\n",
              "      <td>2</td>\n",
              "      <td>330.0</td>\n",
              "      <td>360.0</td>\n",
              "      <td>600</td>\n",
              "      <td>faixa1</td>\n",
              "      <td>0.0</td>\n",
              "    </tr>\n",
              "    <tr>\n",
              "      <th>2</th>\n",
              "      <td>2019-10-01</td>\n",
              "      <td>C</td>\n",
              "      <td>400</td>\n",
              "      <td>XS</td>\n",
              "      <td>2019-10-01</td>\n",
              "      <td>2019</td>\n",
              "      <td>3</td>\n",
              "      <td>440.0</td>\n",
              "      <td>480.0</td>\n",
              "      <td>800</td>\n",
              "      <td>faixa1</td>\n",
              "      <td>0.0</td>\n",
              "    </tr>\n",
              "  </tbody>\n",
              "</table>\n",
              "</div>"
            ],
            "text/plain": [
              "         Data Evento  Valores  ... ValoresDobro  Status exemploNull\n",
              "1  2017-02-01      B      300  ...          600  faixa1         0.0\n",
              "2  2019-10-01      C      400  ...          800  faixa1         0.0\n",
              "\n",
              "[2 rows x 12 columns]"
            ]
          },
          "execution_count": 16,
          "metadata": {
            "tags": []
          },
          "output_type": "execute_result"
        }
      ],
      "source": [
        "faixas = ['faixa1'] #permite mais de um valor\n",
        "\n",
        "datesFilter = datesDf[datesDf.Status.isin(faixas)]\n",
        "\n",
        "datesFilter.head(5)"
      ]
    },
    {
      "cell_type": "markdown",
      "metadata": {
        "id": "zJoCr1qY_Vi0"
      },
      "source": [
        "#### Filtrar com não contém"
      ]
    },
    {
      "cell_type": "code",
      "execution_count": null,
      "metadata": {
        "colab": {
          "base_uri": "https://localhost:8080/",
          "height": 77
        },
        "id": "ap47yDCPUoTj",
        "outputId": "a7bb65c2-89f7-42f0-aa27-6f36c3fd4c3d"
      },
      "outputs": [
        {
          "data": {
            "text/html": [
              "<div>\n",
              "<style scoped>\n",
              "    .dataframe tbody tr th:only-of-type {\n",
              "        vertical-align: middle;\n",
              "    }\n",
              "\n",
              "    .dataframe tbody tr th {\n",
              "        vertical-align: top;\n",
              "    }\n",
              "\n",
              "    .dataframe thead th {\n",
              "        text-align: right;\n",
              "    }\n",
              "</style>\n",
              "<table border=\"1\" class=\"dataframe\">\n",
              "  <thead>\n",
              "    <tr style=\"text-align: right;\">\n",
              "      <th></th>\n",
              "      <th>Data</th>\n",
              "      <th>Evento</th>\n",
              "      <th>Valores</th>\n",
              "      <th>Categoria</th>\n",
              "      <th>Date</th>\n",
              "      <th>ano</th>\n",
              "      <th>Indice</th>\n",
              "      <th>Valores10Perc</th>\n",
              "      <th>Valores20Perc</th>\n",
              "      <th>ValoresDobro</th>\n",
              "      <th>Status</th>\n",
              "      <th>exemploNull</th>\n",
              "    </tr>\n",
              "  </thead>\n",
              "  <tbody>\n",
              "    <tr>\n",
              "      <th>0</th>\n",
              "      <td>2018-01-01</td>\n",
              "      <td>A</td>\n",
              "      <td>200</td>\n",
              "      <td>XL</td>\n",
              "      <td>2018-01-01</td>\n",
              "      <td>2018</td>\n",
              "      <td>1</td>\n",
              "      <td>220.0</td>\n",
              "      <td>240.0</td>\n",
              "      <td>400</td>\n",
              "      <td>faixa0</td>\n",
              "      <td>0.0</td>\n",
              "    </tr>\n",
              "  </tbody>\n",
              "</table>\n",
              "</div>"
            ],
            "text/plain": [
              "         Data Evento  Valores  ... ValoresDobro  Status exemploNull\n",
              "0  2018-01-01      A      200  ...          400  faixa0         0.0\n",
              "\n",
              "[1 rows x 12 columns]"
            ]
          },
          "execution_count": 17,
          "metadata": {
            "tags": []
          },
          "output_type": "execute_result"
        }
      ],
      "source": [
        "faixas = ['faixa1']#permite mais de um valor\n",
        "\n",
        "datesFilter = datesDf[~datesDf.Status.isin(faixas)] # naõ contém \n",
        "\n",
        "datesFilter.head(5)"
      ]
    },
    {
      "cell_type": "markdown",
      "metadata": {
        "id": "fSG5IQLk_dtW"
      },
      "source": [
        "#### Join"
      ]
    },
    {
      "cell_type": "code",
      "execution_count": null,
      "metadata": {
        "id": "1Qq1HW-KxMBo"
      },
      "outputs": [],
      "source": [
        "# Trazendo a descrição dos eventos A, B e C para o dataFrame \"datesDf\"\n",
        "# Mas antes, vou criar um dataframe de testes \"DescriEventosDf\" com a descrição dos eventos A e B (não incluirei C para testar)  \n",
        "\n",
        "ChaveEventos = ['A','B']\n",
        "DescriEventos = ['Transacao concluida', 'Transacao negada']\n",
        "DescriEventosDf = pd.DataFrame({'Evento': ChaveEventos, 'Desc_Evento': DescriEventos})\n"
      ]
    },
    {
      "cell_type": "code",
      "execution_count": null,
      "metadata": {
        "colab": {
          "base_uri": "https://localhost:8080/",
          "height": 186
        },
        "id": "Fzv_CU2WyvSq",
        "outputId": "e9269997-029a-4155-ea61-602c9b1b6248"
      },
      "outputs": [
        {
          "data": {
            "text/html": [
              "<div>\n",
              "<style scoped>\n",
              "    .dataframe tbody tr th:only-of-type {\n",
              "        vertical-align: middle;\n",
              "    }\n",
              "\n",
              "    .dataframe tbody tr th {\n",
              "        vertical-align: top;\n",
              "    }\n",
              "\n",
              "    .dataframe thead th {\n",
              "        text-align: right;\n",
              "    }\n",
              "</style>\n",
              "<table border=\"1\" class=\"dataframe\">\n",
              "  <thead>\n",
              "    <tr style=\"text-align: right;\">\n",
              "      <th></th>\n",
              "      <th>Data</th>\n",
              "      <th>Evento</th>\n",
              "      <th>Valores</th>\n",
              "      <th>Categoria</th>\n",
              "      <th>Date</th>\n",
              "      <th>ano</th>\n",
              "      <th>Indice</th>\n",
              "      <th>Valores10Perc</th>\n",
              "      <th>Valores20Perc</th>\n",
              "      <th>ValoresDobro</th>\n",
              "      <th>Status</th>\n",
              "      <th>exemploNull</th>\n",
              "      <th>Desc_Evento</th>\n",
              "    </tr>\n",
              "  </thead>\n",
              "  <tbody>\n",
              "    <tr>\n",
              "      <th>0</th>\n",
              "      <td>2018-01-01</td>\n",
              "      <td>A</td>\n",
              "      <td>200</td>\n",
              "      <td>XL</td>\n",
              "      <td>2018-01-01</td>\n",
              "      <td>2018</td>\n",
              "      <td>1</td>\n",
              "      <td>220.0</td>\n",
              "      <td>240.0</td>\n",
              "      <td>400</td>\n",
              "      <td>faixa0</td>\n",
              "      <td>0.0</td>\n",
              "      <td>Transacao concluida</td>\n",
              "    </tr>\n",
              "    <tr>\n",
              "      <th>1</th>\n",
              "      <td>2017-02-01</td>\n",
              "      <td>B</td>\n",
              "      <td>300</td>\n",
              "      <td>XL</td>\n",
              "      <td>2017-02-01</td>\n",
              "      <td>2017</td>\n",
              "      <td>2</td>\n",
              "      <td>330.0</td>\n",
              "      <td>360.0</td>\n",
              "      <td>600</td>\n",
              "      <td>faixa1</td>\n",
              "      <td>0.0</td>\n",
              "      <td>Transacao negada</td>\n",
              "    </tr>\n",
              "    <tr>\n",
              "      <th>2</th>\n",
              "      <td>2019-10-01</td>\n",
              "      <td>C</td>\n",
              "      <td>400</td>\n",
              "      <td>XS</td>\n",
              "      <td>2019-10-01</td>\n",
              "      <td>2019</td>\n",
              "      <td>3</td>\n",
              "      <td>440.0</td>\n",
              "      <td>480.0</td>\n",
              "      <td>800</td>\n",
              "      <td>faixa1</td>\n",
              "      <td>0.0</td>\n",
              "      <td>NaN</td>\n",
              "    </tr>\n",
              "  </tbody>\n",
              "</table>\n",
              "</div>"
            ],
            "text/plain": [
              "         Data Evento  Valores  ...  Status exemploNull          Desc_Evento\n",
              "0  2018-01-01      A      200  ...  faixa0         0.0  Transacao concluida\n",
              "1  2017-02-01      B      300  ...  faixa1         0.0     Transacao negada\n",
              "2  2019-10-01      C      400  ...  faixa1         0.0                  NaN\n",
              "\n",
              "[3 rows x 13 columns]"
            ]
          },
          "execution_count": 24,
          "metadata": {
            "tags": []
          },
          "output_type": "execute_result"
        }
      ],
      "source": [
        "datesDfAdd = datesDf.join(DescriEventosDf.set_index('Evento'), on = 'Evento', how = 'left' )\n",
        "\n",
        "#pode usar lsuffix e rsuffix quando o nome das chaves é diferente. Ex: lsuffix='_caller', rsuffix='_other' (nesse caso não precisa inserir on e how)\n",
        "\n",
        "datesDfAdd.head(5)"
      ]
    },
    {
      "cell_type": "code",
      "execution_count": null,
      "metadata": {
        "colab": {
          "base_uri": "https://localhost:8080/",
          "height": 140
        },
        "id": "601NwCEo1k9M",
        "outputId": "2ca90427-275e-4572-9779-9c0264c86576"
      },
      "outputs": [
        {
          "data": {
            "text/html": [
              "<div>\n",
              "<style scoped>\n",
              "    .dataframe tbody tr th:only-of-type {\n",
              "        vertical-align: middle;\n",
              "    }\n",
              "\n",
              "    .dataframe tbody tr th {\n",
              "        vertical-align: top;\n",
              "    }\n",
              "\n",
              "    .dataframe thead th {\n",
              "        text-align: right;\n",
              "    }\n",
              "</style>\n",
              "<table border=\"1\" class=\"dataframe\">\n",
              "  <thead>\n",
              "    <tr style=\"text-align: right;\">\n",
              "      <th></th>\n",
              "      <th>Data</th>\n",
              "      <th>Evento</th>\n",
              "      <th>Valores</th>\n",
              "      <th>Categoria</th>\n",
              "      <th>Date</th>\n",
              "      <th>ano</th>\n",
              "      <th>Indice</th>\n",
              "      <th>Valores10Perc</th>\n",
              "      <th>Valores20Perc</th>\n",
              "      <th>ValoresDobro</th>\n",
              "      <th>Status</th>\n",
              "      <th>exemploNull</th>\n",
              "      <th>Desc_Evento</th>\n",
              "    </tr>\n",
              "  </thead>\n",
              "  <tbody>\n",
              "    <tr>\n",
              "      <th>0</th>\n",
              "      <td>2018-01-01</td>\n",
              "      <td>A</td>\n",
              "      <td>200</td>\n",
              "      <td>XL</td>\n",
              "      <td>2018-01-01</td>\n",
              "      <td>2018</td>\n",
              "      <td>1</td>\n",
              "      <td>220.0</td>\n",
              "      <td>240.0</td>\n",
              "      <td>400</td>\n",
              "      <td>faixa0</td>\n",
              "      <td>0.0</td>\n",
              "      <td>Transacao concluida</td>\n",
              "    </tr>\n",
              "    <tr>\n",
              "      <th>1</th>\n",
              "      <td>2017-02-01</td>\n",
              "      <td>B</td>\n",
              "      <td>300</td>\n",
              "      <td>XL</td>\n",
              "      <td>2017-02-01</td>\n",
              "      <td>2017</td>\n",
              "      <td>2</td>\n",
              "      <td>330.0</td>\n",
              "      <td>360.0</td>\n",
              "      <td>600</td>\n",
              "      <td>faixa1</td>\n",
              "      <td>0.0</td>\n",
              "      <td>Transacao negada</td>\n",
              "    </tr>\n",
              "  </tbody>\n",
              "</table>\n",
              "</div>"
            ],
            "text/plain": [
              "         Data Evento  Valores  ...  Status exemploNull          Desc_Evento\n",
              "0  2018-01-01      A      200  ...  faixa0         0.0  Transacao concluida\n",
              "1  2017-02-01      B      300  ...  faixa1         0.0     Transacao negada\n",
              "\n",
              "[2 rows x 13 columns]"
            ]
          },
          "execution_count": 25,
          "metadata": {
            "tags": []
          },
          "output_type": "execute_result"
        }
      ],
      "source": [
        "datesDfAdd2 = datesDf.join(DescriEventosDf.set_index('Evento'), on = 'Evento', how = 'right' )\n",
        "\n",
        "datesDfAdd2.head(5)"
      ]
    },
    {
      "cell_type": "markdown",
      "metadata": {
        "id": "PcyDm2n6_ilV"
      },
      "source": [
        "#### Histograma"
      ]
    },
    {
      "cell_type": "code",
      "execution_count": null,
      "metadata": {
        "colab": {
          "base_uri": "https://localhost:8080/",
          "height": 265
        },
        "id": "BiBHt0ey43Bu",
        "outputId": "afed0161-2c74-47a2-879e-64485e9f40ac"
      },
      "outputs": [
        {
          "data": {
            "image/png": "[encoded data removed]",
            "text/plain": [
              "<Figure size 432x288 with 1 Axes>"
            ]
          },
          "metadata": {
            "tags": []
          },
          "output_type": "display_data"
        }
      ],
      "source": [
        "import matplotlib.pyplot as plt\n",
        "\n",
        "plt.hist(datesDf['Categoria'], bins = 5)\n",
        "\n",
        "plt.show()"
      ]
    },
    {
      "cell_type": "markdown",
      "metadata": {
        "id": "TVt46WMaTzQE"
      },
      "source": [
        "#### Scatterplot"
      ]
    },
    {
      "cell_type": "code",
      "execution_count": null,
      "metadata": {
        "colab": {
          "base_uri": "https://localhost:8080/",
          "height": 282
        },
        "id": "tO4sduaf5qJi",
        "outputId": "490c4bb6-e49f-4a6e-84bf-66ad1abcbb66"
      },
      "outputs": [
        {
          "data": {
            "text/plain": [
              "<matplotlib.collections.PathCollection at 0x7fabb55ae390>"
            ]
          },
          "execution_count": 35,
          "metadata": {
            "tags": []
          },
          "output_type": "execute_result"
        },
        {
          "data": {
            "image/png": "[encoded data removed]",
            "text/plain": [
              "<Figure size 432x288 with 1 Axes>"
            ]
          },
          "metadata": {
            "tags": []
          },
          "output_type": "display_data"
        }
      ],
      "source": [
        "fig = plt.figure()\n",
        "ax = fig.add_subplot(1,1,1)\n",
        "ax.scatter(datesDf['Valores10Perc'],datesDf['Valores20Perc'])"
      ]
    },
    {
      "cell_type": "markdown",
      "source": [
        "#### Gráfico Plotly"
      ],
      "metadata": {
        "id": "90YzgEbKz7ec"
      }
    },
    {
      "cell_type": "code",
      "execution_count": null,
      "metadata": {
        "id": "ubJ2cydRTlBU"
      },
      "outputs": [],
      "source": [
        "import pandas as pd\n",
        "import numpy as np\n",
        "import plotly\n",
        "import plotly.express as px\n",
        "\n",
        "plotly.offline.init_notebook_mode()\n",
        "variavel = 'ds_safra'\n",
        "\n",
        "df_agg_2 = df_agg.pivot_table(columns=variavel,index = 'personas_cluster', values='clientes', aggfunc=np.sum)\n",
        "df_agg_2 = df_agg_2.query('personas_cluster != \"Outros\"')\n",
        "for i in df_agg_2.columns:\n",
        "    df_agg_2[i] = df_agg_2[i] / df_agg_2[i].sum()\n",
        "\n",
        "df_agg_2 = df_agg_2.reset_index()\n",
        "df_agg_2 = pd.melt(df_agg_2, id_vars=['personas_cluster'])\n",
        "df_agg_2['value'] = df_agg_2['value'] * 100\n",
        "fig = px.bar(df_agg_2, x=variavel, y=\"value\",color = \"personas_cluster\" , barmode=\"group\")\n",
        "fig.show()\n",
        "x = df_agg_2[variavel]\n",
        "y = df_agg_2.personas_cluster\n",
        "z = df_agg_2.value.round(1)\n",
        "\n",
        "fig = go.Figure(data=go.Heatmap(\n",
        "        z=z,\n",
        "        x=x,\n",
        "        y=y,\n",
        "        colorscale='oranges', texttemplate=\"%{z}\", textfont={\"size\":8}))\n",
        "\n",
        "fig.update_layout(\n",
        "    title='Personas por ' + variavel\n",
        "    , height = 700\n",
        "    #, width = 800\n",
        "    , xaxis_nticks=36)\n",
        "\n",
        "fig.show()"
      ]
    },
    {
      "cell_type": "markdown",
      "source": [
        "#### Gráfico Seaborn com Loop - com agregação antes"
      ],
      "metadata": {
        "id": "iWoz_WvbXCFP"
      }
    },
    {
      "cell_type": "code",
      "source": [
        "import seaborn as sns\n",
        "import matplotlib.pyplot as plt \n",
        "\n",
        "vars_agregacao = ['ie_bin' , 'cred_bin', 'limite_bin', 'nr_behavior_score', 'score_gh'] #vão estar no x. Precisam ser categóricas\n",
        "\n",
        "for i in vars_agregacao:\n",
        "    group_var = 'proba_bin' #vai estar na legenda\n",
        "    x_var = i \n",
        "    campo_contagem = 'count'\n",
        "    agg = pb_add.groupby([i, group_var]).agg({'conta_cartao':['count']})\n",
        "    agg.columns = agg.columns.droplevel(0)\n",
        "    agg = agg.reset_index()\n",
        "    df_viz = agg.pivot_table(columns=x_var,index = group_var, values=campo_contagem, aggfunc=np.sum)\n",
        "\n",
        "    for i in df_viz.columns:\n",
        "        df_viz[i] = df_viz[i] / df_viz[i].sum()\n",
        "\n",
        "    df_viz = df_viz.reset_index()\n",
        "    df_viz = pd.melt(df_viz, id_vars=[group_var])\n",
        "    df_viz['value'] = df_viz['value'] * 100\n",
        "    x = df_viz[x_var].astype('str')\n",
        "    y = df_viz[group_var].astype('str')\n",
        "    z = df_viz.value.round(1)\n",
        "    plt.figure(figsize = (20,10))\n",
        "    sns.barplot(data = df_viz, x = x, y = z, hue = y, palette=\"ch:s=1,rot=-2\")\n",
        "    plt.show()"
      ],
      "metadata": {
        "id": "By1RFatUW_cA"
      },
      "execution_count": null,
      "outputs": []
    },
    {
      "cell_type": "code",
      "source": [
        "plt.figure(figsize = (20,10))\n",
        "sns.boxplot(data = pb_add, y = 'pc_sow', x = 'proba_bin', hue='flag_baixo_ie_cred') #hue não fica tão legal com muitas categorias. Y é uma measure\n",
        "plt.show()"
      ],
      "metadata": {
        "id": "o5AOZm7qFkV5"
      },
      "execution_count": null,
      "outputs": []
    },
    {
      "cell_type": "markdown",
      "source": [
        "### ADVANCED ANALYTICS"
      ],
      "metadata": {
        "id": "wogPVXc1EQjh"
      }
    },
    {
      "cell_type": "markdown",
      "source": [
        "https://github.com/Flaviaestat/Phyton/blob/master/Case_Ame.ipynb"
      ],
      "metadata": {
        "id": "FqR-faKnLMYp"
      }
    },
    {
      "cell_type": "markdown",
      "source": [
        "#### Importância de variáveis x resposta"
      ],
      "metadata": {
        "id": "9A5eKMKQEtSI"
      }
    },
    {
      "cell_type": "code",
      "source": [
        "#Imports\n",
        "from sklearn.model_selection import train_test_split\n",
        "from sklearn import metrics\n",
        "from sklearn.preprocessing import StandardScaler\n",
        "from sklearn.ensemble import RandomForestClassifier\n",
        "from imblearn.over_sampling import RandomOverSampler\n",
        "import shap\n",
        "\n",
        "\n",
        "#Parâmetros - Alterar abaixo\n",
        "dataset_modelo = pb_add.query('flag_baixo_ie_cred == \"ENGAJAMENTO BAIXO\"')\n",
        "preditores = ['limite', 'pc_sow', 'renda_declarada', 'score_gh', 'nr_behavior_score']\n",
        "target = ['flag_baixa_prob']\n",
        "tam_teste = 0.2\n",
        "features_graficos = 5\n",
        "\n",
        "#Código\n",
        "colunas_modelo = preditores + target\n",
        "for column in colunas_modelo:\n",
        "  if dataset_modelo[column].dtype == 'object':\n",
        "    dataset_modelo[column].fillna(dataset_modelo[column].mode()[0], inplace = True)\n",
        "  elif dataset_modelo[column].dtype != 'object':\n",
        "    dataset_modelo[column].fillna(dataset_modelo[column].median(), inplace = True)\n",
        "\n",
        "\n",
        "x_train, x_test, y_train, y_test = train_test_split(dataset_modelo[preditores]\n",
        "                                                    , dataset_modelo[target]\n",
        "                                                    , random_state=42, test_size=tam_teste)\n",
        "ros = RandomOverSampler(random_state = 42)\n",
        "X_ros, Y_ros = ros.fit_resample(x_train, y_train)\n",
        "arvores = [20, 50, 100, 300, 400, 500]\n",
        "accuracy_array = []\n",
        "\n",
        "for i in arvores:\n",
        "  rf = RandomForestClassifier(n_estimators=i)\n",
        "  rf.fit(X_ros, Y_ros)\n",
        "  y_predicted_rf = rf.predict(x_test)\n",
        "  accuracy_rf = metrics.accuracy_score(y_test, y_predicted_rf).round(4)\n",
        "  accuracy_array.append(accuracy_rf)\n",
        "rf_estimators = pd.DataFrame(list(zip(arvores, accuracy_array)), columns =['arvores', 'acuracia'])\n",
        "best_rf = RandomForestClassifier(n_estimators= rf_estimators['arvores'][rf_estimators['acuracia'].idxmax()])\n",
        "best_rf.fit(X_ros, Y_ros)\n",
        "\n",
        "importance_df = pd.DataFrame(best_rf.feature_importances_, columns = ['importancia'], index = preditores)\n",
        "importance_df.sort_values(by='importancia', ascending=False).head(15).plot.bar(figsize=(20,5))\n",
        "features_importantes = importance_df.sort_values(by='importancia', ascending=False).head(features_graficos).index\n",
        "explainer = shap.Explainer(best_rf.predict, x_test)\n",
        "shap_values = explainer(x_test)\n",
        "shap.summary_plot(shap_values, plot_type='violin')\n",
        "shap.plots.bar(shap_values[0])"
      ],
      "metadata": {
        "id": "BhposKDWEV1_"
      },
      "execution_count": null,
      "outputs": []
    },
    {
      "cell_type": "markdown",
      "source": [
        "#### Compara distribuições - KS"
      ],
      "metadata": {
        "id": "9eHu12uzE4Qr"
      }
    },
    {
      "cell_type": "code",
      "source": [],
      "metadata": {
        "id": "7DexKPunE_Vf"
      },
      "execution_count": null,
      "outputs": []
    },
    {
      "cell_type": "markdown",
      "source": [
        "#### Binarizar"
      ],
      "metadata": {
        "id": "Mt2o5PN7E_g-"
      }
    },
    {
      "cell_type": "code",
      "source": [],
      "metadata": {
        "id": "3LOi1HiQFSpH"
      },
      "execution_count": null,
      "outputs": []
    },
    {
      "cell_type": "markdown",
      "source": [
        "#### Analisa tabela de contingência"
      ],
      "metadata": {
        "id": "LxCT2wQZGC1W"
      }
    },
    {
      "cell_type": "markdown",
      "source": [
        "#### Teste de dif de proporções e resumo gráfico"
      ],
      "metadata": {
        "id": "hDY0XXV9GMTD"
      }
    },
    {
      "cell_type": "code",
      "source": [],
      "metadata": {
        "id": "Q9xzJa3mGTda"
      },
      "execution_count": null,
      "outputs": []
    },
    {
      "cell_type": "markdown",
      "source": [
        "#### Teste de concordância Kappa em Matriz"
      ],
      "metadata": {
        "id": "ZNWwZVqJGT86"
      }
    },
    {
      "cell_type": "markdown",
      "source": [
        "#### Recursos para avaliar clusterização"
      ],
      "metadata": {
        "id": "smtsypUuGbJU"
      }
    },
    {
      "cell_type": "code",
      "source": [],
      "metadata": {
        "id": "Q63PrpUaG08j"
      },
      "execution_count": null,
      "outputs": []
    }
  ],
  "metadata": {
    "colab": {
      "collapsed_sections": [],
      "provenance": [],
      "toc_visible": true,
      "include_colab_link": true
    },
    "kernelspec": {
      "display_name": "Python 3",
      "language": "python",
      "name": "python3"
    },
    "language_info": {
      "codemirror_mode": {
        "name": "ipython",
        "version": 3
      },
      "file_extension": ".py",
      "mimetype": "text/x-python",
      "name": "python",
      "nbconvert_exporter": "python",
      "pygments_lexer": "ipython3",
      "version": "3.9.2"
    }
  },
  "nbformat": 4,
  "nbformat_minor": 0
}