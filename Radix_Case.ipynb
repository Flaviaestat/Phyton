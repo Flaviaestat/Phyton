{
  "nbformat": 4,
  "nbformat_minor": 0,
  "metadata": {
    "colab": {
      "name": "Radix_Case.ipynb",
      "provenance": [],
      "toc_visible": true,
      "mount_file_id": "1ZkSJlOcnqd7Y29ByVgDKuRg1FQZJ4LWV",
      "authorship_tag": "ABX9TyPEwVVBq4FT2My5KR7LQ2mu",
      "include_colab_link": true
    },
    "kernelspec": {
      "name": "python3",
      "display_name": "Python 3"
    }
  },
  "cells": [
    {
      "cell_type": "markdown",
      "metadata": {
        "id": "view-in-github",
        "colab_type": "text"
      },
      "source": [
        "<a href=\"https://colab.research.google.com/github/Flaviaestat/Phyton/blob/master/Radix_Case.ipynb\" target=\"_parent\"><img src=\"https://colab.research.google.com/assets/colab-badge.svg\" alt=\"Open In Colab\"/></a>"
      ]
    },
    {
      "cell_type": "markdown",
      "metadata": {
        "id": "MvruLDbeMN8E",
        "colab_type": "text"
      },
      "source": [
        "### Case: German Credit data"
      ]
    },
    {
      "cell_type": "markdown",
      "metadata": {
        "id": "QDNho-1hxJcN",
        "colab_type": "text"
      },
      "source": [
        "## Preprocessing"
      ]
    },
    {
      "cell_type": "markdown",
      "metadata": {
        "id": "PHU7Wd5pMZuk",
        "colab_type": "text"
      },
      "source": [
        "Necessary imports"
      ]
    },
    {
      "cell_type": "code",
      "metadata": {
        "id": "UNwcNEfLL5BZ",
        "colab_type": "code",
        "colab": {
          "base_uri": "https://localhost:8080/",
          "height": 72
        },
        "outputId": "efe6f1c8-09f3-45e9-eebf-5f0f37085892"
      },
      "source": [
        "import pandas as pd\n",
        "import numpy as np\n",
        "import seaborn as sns\n",
        "import matplotlib as mpl\n",
        "import matplotlib.pyplot as plt"
      ],
      "execution_count": null,
      "outputs": [
        {
          "output_type": "stream",
          "text": [
            "/usr/local/lib/python3.6/dist-packages/statsmodels/tools/_testing.py:19: FutureWarning: pandas.util.testing is deprecated. Use the functions in the public API at pandas.testing instead.\n",
            "  import pandas.util.testing as tm\n"
          ],
          "name": "stderr"
        }
      ]
    },
    {
      "cell_type": "markdown",
      "metadata": {
        "id": "PcdpesLsO3vk",
        "colab_type": "text"
      },
      "source": [
        "Loading data"
      ]
    },
    {
      "cell_type": "code",
      "metadata": {
        "id": "h-gtm4WSMi0s",
        "colab_type": "code",
        "colab": {}
      },
      "source": [
        "german_data = pd.read_csv('german.data', sep = ' ', header = None)"
      ],
      "execution_count": null,
      "outputs": []
    },
    {
      "cell_type": "markdown",
      "metadata": {
        "id": "iDtPz9ZiO7cC",
        "colab_type": "text"
      },
      "source": [
        "setting columns names"
      ]
    },
    {
      "cell_type": "code",
      "metadata": {
        "id": "nY6oZEn4Oze9",
        "colab_type": "code",
        "colab": {}
      },
      "source": [
        "german_data.columns = ['status_of_existing_checking_account', 'duration_in_month', 'credit_history'\n",
        ", 'purpose_car', 'credit_amount', 'savings_account', 'present_employment_since', 'installment_rate_disposable_income'\n",
        ", 'personal_status_and_sex', 'other_debtors', 'present_residence_since', 'property', 'age_in_years', 'other_installment_plans'\n",
        ", 'housing', 'number_existing_credits_bank', 'job', 'number_people_liable', 'telephone', 'foreign_worker', 'target']"
      ],
      "execution_count": null,
      "outputs": []
    },
    {
      "cell_type": "markdown",
      "metadata": {
        "id": "qT9eHRrlMzXQ",
        "colab_type": "text"
      },
      "source": [
        "Visualize data"
      ]
    },
    {
      "cell_type": "code",
      "metadata": {
        "id": "GPif16c7Miy0",
        "colab_type": "code",
        "colab": {
          "base_uri": "https://localhost:8080/",
          "height": 215
        },
        "outputId": "55921748-4821-488b-e93a-62aa8257f066"
      },
      "source": [
        "german_data.head()"
      ],
      "execution_count": null,
      "outputs": [
        {
          "output_type": "execute_result",
          "data": {
            "text/html": [
              "<div>\n",
              "<style scoped>\n",
              "    .dataframe tbody tr th:only-of-type {\n",
              "        vertical-align: middle;\n",
              "    }\n",
              "\n",
              "    .dataframe tbody tr th {\n",
              "        vertical-align: top;\n",
              "    }\n",
              "\n",
              "    .dataframe thead th {\n",
              "        text-align: right;\n",
              "    }\n",
              "</style>\n",
              "<table border=\"1\" class=\"dataframe\">\n",
              "  <thead>\n",
              "    <tr style=\"text-align: right;\">\n",
              "      <th></th>\n",
              "      <th>status_of_existing_checking_account</th>\n",
              "      <th>duration_in_month</th>\n",
              "      <th>credit_history</th>\n",
              "      <th>purpose_car</th>\n",
              "      <th>credit_amount</th>\n",
              "      <th>savings_account</th>\n",
              "      <th>present_employment_since</th>\n",
              "      <th>installment_rate_disposable_income</th>\n",
              "      <th>personal_status_and_sex</th>\n",
              "      <th>other_debtors</th>\n",
              "      <th>present_residence_since</th>\n",
              "      <th>property</th>\n",
              "      <th>age_in_years</th>\n",
              "      <th>other_installment_plans</th>\n",
              "      <th>housing</th>\n",
              "      <th>number_existing_credits_bank</th>\n",
              "      <th>job</th>\n",
              "      <th>number_people_liable</th>\n",
              "      <th>telephone</th>\n",
              "      <th>foreign_worker</th>\n",
              "      <th>target</th>\n",
              "    </tr>\n",
              "  </thead>\n",
              "  <tbody>\n",
              "    <tr>\n",
              "      <th>0</th>\n",
              "      <td>A11</td>\n",
              "      <td>6</td>\n",
              "      <td>A34</td>\n",
              "      <td>A43</td>\n",
              "      <td>1169</td>\n",
              "      <td>A65</td>\n",
              "      <td>A75</td>\n",
              "      <td>4</td>\n",
              "      <td>A93</td>\n",
              "      <td>A101</td>\n",
              "      <td>4</td>\n",
              "      <td>A121</td>\n",
              "      <td>67</td>\n",
              "      <td>A143</td>\n",
              "      <td>A152</td>\n",
              "      <td>2</td>\n",
              "      <td>A173</td>\n",
              "      <td>1</td>\n",
              "      <td>A192</td>\n",
              "      <td>A201</td>\n",
              "      <td>1</td>\n",
              "    </tr>\n",
              "    <tr>\n",
              "      <th>1</th>\n",
              "      <td>A12</td>\n",
              "      <td>48</td>\n",
              "      <td>A32</td>\n",
              "      <td>A43</td>\n",
              "      <td>5951</td>\n",
              "      <td>A61</td>\n",
              "      <td>A73</td>\n",
              "      <td>2</td>\n",
              "      <td>A92</td>\n",
              "      <td>A101</td>\n",
              "      <td>2</td>\n",
              "      <td>A121</td>\n",
              "      <td>22</td>\n",
              "      <td>A143</td>\n",
              "      <td>A152</td>\n",
              "      <td>1</td>\n",
              "      <td>A173</td>\n",
              "      <td>1</td>\n",
              "      <td>A191</td>\n",
              "      <td>A201</td>\n",
              "      <td>2</td>\n",
              "    </tr>\n",
              "    <tr>\n",
              "      <th>2</th>\n",
              "      <td>A14</td>\n",
              "      <td>12</td>\n",
              "      <td>A34</td>\n",
              "      <td>A46</td>\n",
              "      <td>2096</td>\n",
              "      <td>A61</td>\n",
              "      <td>A74</td>\n",
              "      <td>2</td>\n",
              "      <td>A93</td>\n",
              "      <td>A101</td>\n",
              "      <td>3</td>\n",
              "      <td>A121</td>\n",
              "      <td>49</td>\n",
              "      <td>A143</td>\n",
              "      <td>A152</td>\n",
              "      <td>1</td>\n",
              "      <td>A172</td>\n",
              "      <td>2</td>\n",
              "      <td>A191</td>\n",
              "      <td>A201</td>\n",
              "      <td>1</td>\n",
              "    </tr>\n",
              "    <tr>\n",
              "      <th>3</th>\n",
              "      <td>A11</td>\n",
              "      <td>42</td>\n",
              "      <td>A32</td>\n",
              "      <td>A42</td>\n",
              "      <td>7882</td>\n",
              "      <td>A61</td>\n",
              "      <td>A74</td>\n",
              "      <td>2</td>\n",
              "      <td>A93</td>\n",
              "      <td>A103</td>\n",
              "      <td>4</td>\n",
              "      <td>A122</td>\n",
              "      <td>45</td>\n",
              "      <td>A143</td>\n",
              "      <td>A153</td>\n",
              "      <td>1</td>\n",
              "      <td>A173</td>\n",
              "      <td>2</td>\n",
              "      <td>A191</td>\n",
              "      <td>A201</td>\n",
              "      <td>1</td>\n",
              "    </tr>\n",
              "    <tr>\n",
              "      <th>4</th>\n",
              "      <td>A11</td>\n",
              "      <td>24</td>\n",
              "      <td>A33</td>\n",
              "      <td>A40</td>\n",
              "      <td>4870</td>\n",
              "      <td>A61</td>\n",
              "      <td>A73</td>\n",
              "      <td>3</td>\n",
              "      <td>A93</td>\n",
              "      <td>A101</td>\n",
              "      <td>4</td>\n",
              "      <td>A124</td>\n",
              "      <td>53</td>\n",
              "      <td>A143</td>\n",
              "      <td>A153</td>\n",
              "      <td>2</td>\n",
              "      <td>A173</td>\n",
              "      <td>2</td>\n",
              "      <td>A191</td>\n",
              "      <td>A201</td>\n",
              "      <td>2</td>\n",
              "    </tr>\n",
              "  </tbody>\n",
              "</table>\n",
              "</div>"
            ],
            "text/plain": [
              "  status_of_existing_checking_account  duration_in_month  ... foreign_worker target\n",
              "0                                 A11                  6  ...           A201      1\n",
              "1                                 A12                 48  ...           A201      2\n",
              "2                                 A14                 12  ...           A201      1\n",
              "3                                 A11                 42  ...           A201      1\n",
              "4                                 A11                 24  ...           A201      2\n",
              "\n",
              "[5 rows x 21 columns]"
            ]
          },
          "metadata": {
            "tags": []
          },
          "execution_count": 4
        }
      ]
    },
    {
      "cell_type": "markdown",
      "metadata": {
        "id": "FkK9wJ6wQkHr",
        "colab_type": "text"
      },
      "source": [
        "Since categorical data is coded we have to replace accordingly to data dictionary"
      ]
    },
    {
      "cell_type": "code",
      "metadata": {
        "id": "_oXkyfghQjY4",
        "colab_type": "code",
        "colab": {}
      },
      "source": [
        "german_data.replace('A11','< 0 DM', inplace=True)\n",
        "german_data.replace('A12','>= 0 to 200 DM', inplace=True)\n",
        "german_data.replace('A13','>= 2000 DM / salary assignments for at least 1 year', inplace=True)\n",
        "german_data.replace('A14','no checking account', inplace=True)\n",
        "german_data.replace('A30','no credits taken/all credits paid back duly', inplace=True)\n",
        "german_data.replace('A31','all credits at this bank paid back duly', inplace=True)\n",
        "german_data.replace('A32','existing credits paid back duly till now', inplace=True)\n",
        "german_data.replace('A33','delay in paying off in the past', inplace=True)\n",
        "german_data.replace('A34','critical account/other credits existing (not at this bank)', inplace=True)\n",
        "german_data.replace('A40','car new', inplace=True)\n",
        "german_data.replace('A41','car used', inplace=True)\n",
        "german_data.replace('A42', 'furniture/equipment', inplace=True)\n",
        "german_data.replace('A43', 'radio/television', inplace=True)\n",
        "german_data.replace('A44', 'domestic appliances', inplace=True)\n",
        "german_data.replace('A45', 'repairs', inplace=True)\n",
        "german_data.replace('A46', 'education', inplace=True)\n",
        "german_data.replace('A47', '(vacation - does not exist?)', inplace=True)\n",
        "german_data.replace('A48', 'retraining', inplace=True)\n",
        "german_data.replace('A49', 'business', inplace=True)\n",
        "german_data.replace('A410', 'others', inplace=True)\n",
        "german_data.replace('A61', '< 100 DM', inplace=True)\n",
        "german_data.replace('A62', '100 <= ... <  500 DM', inplace=True)\n",
        "german_data.replace('A63', '500 <= ... < 1000 DM', inplace=True)\n",
        "german_data.replace('A64', '.. >= 1000 DM', inplace=True)\n",
        "german_data.replace('A65', 'unknown/ no savings account', inplace=True)\n",
        "german_data.replace('A71', 'unemployed', inplace=True)\n",
        "german_data.replace('A72', '... < 1 year', inplace=True)\n",
        "german_data.replace('A73', '1  <= ... < 4 years' , inplace=True)\n",
        "german_data.replace('A74', '4  <= ... < 7 years', inplace=True)\n",
        "german_data.replace('A75', '.. >= 7 years', inplace=True)\n",
        "german_data.replace('A91', 'male: divorced/separated', inplace=True)\n",
        "german_data.replace('A92', 'female: divorced/separated/married', inplace=True)\n",
        "german_data.replace('A93', 'male: single', inplace=True)\n",
        "german_data.replace('A94', 'male: married/widowed', inplace=True)\n",
        "german_data.replace('A95', 'female: single', inplace=True)\n",
        "german_data.replace('A101', 'none', inplace=True)\n",
        "german_data.replace('A102', 'co-applicant', inplace=True)\n",
        "german_data.replace('A103', 'guarantor', inplace=True)\n",
        "german_data.replace('A121', 'real estate', inplace=True)\n",
        "german_data.replace('A122', 'building society savings agreement/life insurance', inplace=True)\n",
        "german_data.replace('A123',  'car or other', inplace=True)\n",
        "german_data.replace('A124', 'unknown / no property', inplace=True)\n",
        "german_data.replace('A141', 'bank', inplace=True)\n",
        "german_data.replace('A142', 'stores', inplace=True)\n",
        "german_data.replace('A143', 'none', inplace=True)\n",
        "german_data.replace('A151', 'rent', inplace=True)\n",
        "german_data.replace('A152', 'own', inplace=True)\n",
        "german_data.replace('A153', 'for free', inplace=True)\n",
        "german_data.replace('A171', 'unemployed/ unskilled  - non-resident', inplace=True)\n",
        "german_data.replace('A172', 'unskilled - resident', inplace=True)\n",
        "german_data.replace('A173', 'skilled employee / official', inplace=True)\n",
        "german_data.replace('A174', 'management/ self-employed/highly qualified employee/ officer', inplace=True)\n",
        "german_data.replace('A191', 'none', inplace=True)\n",
        "german_data.replace('A192', 'yes, registered under the customers name', inplace=True)\n",
        "german_data.replace('A201', 'yes', inplace=True)\n",
        "german_data.replace('A202', 'no', inplace=True)\n",
        "\n"
      ],
      "execution_count": null,
      "outputs": []
    },
    {
      "cell_type": "markdown",
      "metadata": {
        "id": "LM-xBh_ZT-ls",
        "colab_type": "text"
      },
      "source": [
        "Checking codification"
      ]
    },
    {
      "cell_type": "code",
      "metadata": {
        "id": "3GG9ZW_BThK9",
        "colab_type": "code",
        "colab": {
          "base_uri": "https://localhost:8080/",
          "height": 467
        },
        "outputId": "53b8412c-e9fa-4fb0-9016-f29b797c23dd"
      },
      "source": [
        "german_data.head()\n"
      ],
      "execution_count": null,
      "outputs": [
        {
          "output_type": "execute_result",
          "data": {
            "text/html": [
              "<div>\n",
              "<style scoped>\n",
              "    .dataframe tbody tr th:only-of-type {\n",
              "        vertical-align: middle;\n",
              "    }\n",
              "\n",
              "    .dataframe tbody tr th {\n",
              "        vertical-align: top;\n",
              "    }\n",
              "\n",
              "    .dataframe thead th {\n",
              "        text-align: right;\n",
              "    }\n",
              "</style>\n",
              "<table border=\"1\" class=\"dataframe\">\n",
              "  <thead>\n",
              "    <tr style=\"text-align: right;\">\n",
              "      <th></th>\n",
              "      <th>status_of_existing_checking_account</th>\n",
              "      <th>duration_in_month</th>\n",
              "      <th>credit_history</th>\n",
              "      <th>purpose_car</th>\n",
              "      <th>credit_amount</th>\n",
              "      <th>savings_account</th>\n",
              "      <th>present_employment_since</th>\n",
              "      <th>installment_rate_disposable_income</th>\n",
              "      <th>personal_status_and_sex</th>\n",
              "      <th>other_debtors</th>\n",
              "      <th>present_residence_since</th>\n",
              "      <th>property</th>\n",
              "      <th>age_in_years</th>\n",
              "      <th>other_installment_plans</th>\n",
              "      <th>housing</th>\n",
              "      <th>number_existing_credits_bank</th>\n",
              "      <th>job</th>\n",
              "      <th>number_people_liable</th>\n",
              "      <th>telephone</th>\n",
              "      <th>foreign_worker</th>\n",
              "      <th>target</th>\n",
              "    </tr>\n",
              "  </thead>\n",
              "  <tbody>\n",
              "    <tr>\n",
              "      <th>0</th>\n",
              "      <td>&lt; 0 DM</td>\n",
              "      <td>6</td>\n",
              "      <td>critical account/other credits existing (not a...</td>\n",
              "      <td>radio/television</td>\n",
              "      <td>1169</td>\n",
              "      <td>unknown/ no savings account</td>\n",
              "      <td>.. &gt;= 7 years</td>\n",
              "      <td>4</td>\n",
              "      <td>male: single</td>\n",
              "      <td>none</td>\n",
              "      <td>4</td>\n",
              "      <td>real estate</td>\n",
              "      <td>67</td>\n",
              "      <td>none</td>\n",
              "      <td>own</td>\n",
              "      <td>2</td>\n",
              "      <td>skilled employee / official</td>\n",
              "      <td>1</td>\n",
              "      <td>yes, registered under the customers name</td>\n",
              "      <td>yes</td>\n",
              "      <td>1</td>\n",
              "    </tr>\n",
              "    <tr>\n",
              "      <th>1</th>\n",
              "      <td>&gt;= 0 to 200 DM</td>\n",
              "      <td>48</td>\n",
              "      <td>existing credits paid back duly till now</td>\n",
              "      <td>radio/television</td>\n",
              "      <td>5951</td>\n",
              "      <td>&lt; 100 DM</td>\n",
              "      <td>1  &lt;= ... &lt; 4 years</td>\n",
              "      <td>2</td>\n",
              "      <td>female: divorced/separated/married</td>\n",
              "      <td>none</td>\n",
              "      <td>2</td>\n",
              "      <td>real estate</td>\n",
              "      <td>22</td>\n",
              "      <td>none</td>\n",
              "      <td>own</td>\n",
              "      <td>1</td>\n",
              "      <td>skilled employee / official</td>\n",
              "      <td>1</td>\n",
              "      <td>none</td>\n",
              "      <td>yes</td>\n",
              "      <td>2</td>\n",
              "    </tr>\n",
              "    <tr>\n",
              "      <th>2</th>\n",
              "      <td>no checking account</td>\n",
              "      <td>12</td>\n",
              "      <td>critical account/other credits existing (not a...</td>\n",
              "      <td>education</td>\n",
              "      <td>2096</td>\n",
              "      <td>&lt; 100 DM</td>\n",
              "      <td>4  &lt;= ... &lt; 7 years</td>\n",
              "      <td>2</td>\n",
              "      <td>male: single</td>\n",
              "      <td>none</td>\n",
              "      <td>3</td>\n",
              "      <td>real estate</td>\n",
              "      <td>49</td>\n",
              "      <td>none</td>\n",
              "      <td>own</td>\n",
              "      <td>1</td>\n",
              "      <td>unskilled - resident</td>\n",
              "      <td>2</td>\n",
              "      <td>none</td>\n",
              "      <td>yes</td>\n",
              "      <td>1</td>\n",
              "    </tr>\n",
              "    <tr>\n",
              "      <th>3</th>\n",
              "      <td>&lt; 0 DM</td>\n",
              "      <td>42</td>\n",
              "      <td>existing credits paid back duly till now</td>\n",
              "      <td>furniture/equipment</td>\n",
              "      <td>7882</td>\n",
              "      <td>&lt; 100 DM</td>\n",
              "      <td>4  &lt;= ... &lt; 7 years</td>\n",
              "      <td>2</td>\n",
              "      <td>male: single</td>\n",
              "      <td>guarantor</td>\n",
              "      <td>4</td>\n",
              "      <td>building society savings agreement/life insurance</td>\n",
              "      <td>45</td>\n",
              "      <td>none</td>\n",
              "      <td>for free</td>\n",
              "      <td>1</td>\n",
              "      <td>skilled employee / official</td>\n",
              "      <td>2</td>\n",
              "      <td>none</td>\n",
              "      <td>yes</td>\n",
              "      <td>1</td>\n",
              "    </tr>\n",
              "    <tr>\n",
              "      <th>4</th>\n",
              "      <td>&lt; 0 DM</td>\n",
              "      <td>24</td>\n",
              "      <td>delay in paying off in the past</td>\n",
              "      <td>car new</td>\n",
              "      <td>4870</td>\n",
              "      <td>&lt; 100 DM</td>\n",
              "      <td>1  &lt;= ... &lt; 4 years</td>\n",
              "      <td>3</td>\n",
              "      <td>male: single</td>\n",
              "      <td>none</td>\n",
              "      <td>4</td>\n",
              "      <td>unknown / no property</td>\n",
              "      <td>53</td>\n",
              "      <td>none</td>\n",
              "      <td>for free</td>\n",
              "      <td>2</td>\n",
              "      <td>skilled employee / official</td>\n",
              "      <td>2</td>\n",
              "      <td>none</td>\n",
              "      <td>yes</td>\n",
              "      <td>2</td>\n",
              "    </tr>\n",
              "  </tbody>\n",
              "</table>\n",
              "</div>"
            ],
            "text/plain": [
              "  status_of_existing_checking_account  duration_in_month  ... foreign_worker target\n",
              "0                              < 0 DM                  6  ...            yes      1\n",
              "1                      >= 0 to 200 DM                 48  ...            yes      2\n",
              "2                 no checking account                 12  ...            yes      1\n",
              "3                              < 0 DM                 42  ...            yes      1\n",
              "4                              < 0 DM                 24  ...            yes      2\n",
              "\n",
              "[5 rows x 21 columns]"
            ]
          },
          "metadata": {
            "tags": []
          },
          "execution_count": 6
        }
      ]
    },
    {
      "cell_type": "markdown",
      "metadata": {
        "id": "sNeE_KI7YR40",
        "colab_type": "text"
      },
      "source": [
        "Numerical features analisys\n"
      ]
    },
    {
      "cell_type": "code",
      "metadata": {
        "id": "L1dHEhaNYVN0",
        "colab_type": "code",
        "colab": {
          "base_uri": "https://localhost:8080/",
          "height": 304
        },
        "outputId": "5aa2b931-a63b-4521-86d8-7ce500ae9b5c"
      },
      "source": [
        "german_data.describe()"
      ],
      "execution_count": null,
      "outputs": [
        {
          "output_type": "execute_result",
          "data": {
            "text/html": [
              "<div>\n",
              "<style scoped>\n",
              "    .dataframe tbody tr th:only-of-type {\n",
              "        vertical-align: middle;\n",
              "    }\n",
              "\n",
              "    .dataframe tbody tr th {\n",
              "        vertical-align: top;\n",
              "    }\n",
              "\n",
              "    .dataframe thead th {\n",
              "        text-align: right;\n",
              "    }\n",
              "</style>\n",
              "<table border=\"1\" class=\"dataframe\">\n",
              "  <thead>\n",
              "    <tr style=\"text-align: right;\">\n",
              "      <th></th>\n",
              "      <th>duration_in_month</th>\n",
              "      <th>credit_amount</th>\n",
              "      <th>installment_rate_disposable_income</th>\n",
              "      <th>present_residence_since</th>\n",
              "      <th>age_in_years</th>\n",
              "      <th>number_existing_credits_bank</th>\n",
              "      <th>number_people_liable</th>\n",
              "      <th>target</th>\n",
              "    </tr>\n",
              "  </thead>\n",
              "  <tbody>\n",
              "    <tr>\n",
              "      <th>count</th>\n",
              "      <td>1000.000000</td>\n",
              "      <td>1000.000000</td>\n",
              "      <td>1000.000000</td>\n",
              "      <td>1000.000000</td>\n",
              "      <td>1000.000000</td>\n",
              "      <td>1000.000000</td>\n",
              "      <td>1000.000000</td>\n",
              "      <td>1000.000000</td>\n",
              "    </tr>\n",
              "    <tr>\n",
              "      <th>mean</th>\n",
              "      <td>20.903000</td>\n",
              "      <td>3271.258000</td>\n",
              "      <td>2.973000</td>\n",
              "      <td>2.845000</td>\n",
              "      <td>35.546000</td>\n",
              "      <td>1.407000</td>\n",
              "      <td>1.155000</td>\n",
              "      <td>1.300000</td>\n",
              "    </tr>\n",
              "    <tr>\n",
              "      <th>std</th>\n",
              "      <td>12.058814</td>\n",
              "      <td>2822.736876</td>\n",
              "      <td>1.118715</td>\n",
              "      <td>1.103718</td>\n",
              "      <td>11.375469</td>\n",
              "      <td>0.577654</td>\n",
              "      <td>0.362086</td>\n",
              "      <td>0.458487</td>\n",
              "    </tr>\n",
              "    <tr>\n",
              "      <th>min</th>\n",
              "      <td>4.000000</td>\n",
              "      <td>250.000000</td>\n",
              "      <td>1.000000</td>\n",
              "      <td>1.000000</td>\n",
              "      <td>19.000000</td>\n",
              "      <td>1.000000</td>\n",
              "      <td>1.000000</td>\n",
              "      <td>1.000000</td>\n",
              "    </tr>\n",
              "    <tr>\n",
              "      <th>25%</th>\n",
              "      <td>12.000000</td>\n",
              "      <td>1365.500000</td>\n",
              "      <td>2.000000</td>\n",
              "      <td>2.000000</td>\n",
              "      <td>27.000000</td>\n",
              "      <td>1.000000</td>\n",
              "      <td>1.000000</td>\n",
              "      <td>1.000000</td>\n",
              "    </tr>\n",
              "    <tr>\n",
              "      <th>50%</th>\n",
              "      <td>18.000000</td>\n",
              "      <td>2319.500000</td>\n",
              "      <td>3.000000</td>\n",
              "      <td>3.000000</td>\n",
              "      <td>33.000000</td>\n",
              "      <td>1.000000</td>\n",
              "      <td>1.000000</td>\n",
              "      <td>1.000000</td>\n",
              "    </tr>\n",
              "    <tr>\n",
              "      <th>75%</th>\n",
              "      <td>24.000000</td>\n",
              "      <td>3972.250000</td>\n",
              "      <td>4.000000</td>\n",
              "      <td>4.000000</td>\n",
              "      <td>42.000000</td>\n",
              "      <td>2.000000</td>\n",
              "      <td>1.000000</td>\n",
              "      <td>2.000000</td>\n",
              "    </tr>\n",
              "    <tr>\n",
              "      <th>max</th>\n",
              "      <td>72.000000</td>\n",
              "      <td>18424.000000</td>\n",
              "      <td>4.000000</td>\n",
              "      <td>4.000000</td>\n",
              "      <td>75.000000</td>\n",
              "      <td>4.000000</td>\n",
              "      <td>2.000000</td>\n",
              "      <td>2.000000</td>\n",
              "    </tr>\n",
              "  </tbody>\n",
              "</table>\n",
              "</div>"
            ],
            "text/plain": [
              "       duration_in_month  credit_amount  ...  number_people_liable       target\n",
              "count        1000.000000    1000.000000  ...           1000.000000  1000.000000\n",
              "mean           20.903000    3271.258000  ...              1.155000     1.300000\n",
              "std            12.058814    2822.736876  ...              0.362086     0.458487\n",
              "min             4.000000     250.000000  ...              1.000000     1.000000\n",
              "25%            12.000000    1365.500000  ...              1.000000     1.000000\n",
              "50%            18.000000    2319.500000  ...              1.000000     1.000000\n",
              "75%            24.000000    3972.250000  ...              1.000000     2.000000\n",
              "max            72.000000   18424.000000  ...              2.000000     2.000000\n",
              "\n",
              "[8 rows x 8 columns]"
            ]
          },
          "metadata": {
            "tags": []
          },
          "execution_count": 7
        }
      ]
    },
    {
      "cell_type": "markdown",
      "metadata": {
        "id": "CHXEqPpUZMY8",
        "colab_type": "text"
      },
      "source": [
        "Coding target variable"
      ]
    },
    {
      "cell_type": "code",
      "metadata": {
        "id": "H9boWZMzZLk0",
        "colab_type": "code",
        "colab": {}
      },
      "source": [
        "#Code 1 = Good / 2 = Bad\n",
        "#We want to predict probability of being Bad\n",
        "german_data['target'].replace([1,2],[0,1],inplace=True)\n"
      ],
      "execution_count": null,
      "outputs": []
    },
    {
      "cell_type": "markdown",
      "metadata": {
        "id": "dnSwKgJJVYHH",
        "colab_type": "text"
      },
      "source": [
        "## Exploratory data analysis"
      ]
    },
    {
      "cell_type": "markdown",
      "metadata": {
        "id": "_I6JWksiYoDV",
        "colab_type": "text"
      },
      "source": [
        "Check if the target data is balanced - Credit: Good or Bad"
      ]
    },
    {
      "cell_type": "code",
      "metadata": {
        "id": "wEbLtn6-Yq_V",
        "colab_type": "code",
        "colab": {
          "base_uri": "https://localhost:8080/",
          "height": 70
        },
        "outputId": "940af155-652f-42db-f964-dc255ff84b72"
      },
      "source": [
        "german_data['target'].value_counts()"
      ],
      "execution_count": null,
      "outputs": [
        {
          "output_type": "execute_result",
          "data": {
            "text/plain": [
              "0    700\n",
              "1    300\n",
              "Name: target, dtype: int64"
            ]
          },
          "metadata": {
            "tags": []
          },
          "execution_count": 9
        }
      ]
    },
    {
      "cell_type": "markdown",
      "metadata": {
        "id": "hl4VdXxwZx1-",
        "colab_type": "text"
      },
      "source": [
        "Checking mean of predictors by target variable"
      ]
    },
    {
      "cell_type": "code",
      "metadata": {
        "id": "TE-Z10QnaAXl",
        "colab_type": "code",
        "colab": {
          "base_uri": "https://localhost:8080/",
          "height": 126
        },
        "outputId": "73f88e93-daee-48a8-d9cf-e339d3027681"
      },
      "source": [
        "avg_num = german_data.groupby('target', as_index=False).mean()\n",
        "avg_num.head()"
      ],
      "execution_count": null,
      "outputs": [
        {
          "output_type": "execute_result",
          "data": {
            "text/html": [
              "<div>\n",
              "<style scoped>\n",
              "    .dataframe tbody tr th:only-of-type {\n",
              "        vertical-align: middle;\n",
              "    }\n",
              "\n",
              "    .dataframe tbody tr th {\n",
              "        vertical-align: top;\n",
              "    }\n",
              "\n",
              "    .dataframe thead th {\n",
              "        text-align: right;\n",
              "    }\n",
              "</style>\n",
              "<table border=\"1\" class=\"dataframe\">\n",
              "  <thead>\n",
              "    <tr style=\"text-align: right;\">\n",
              "      <th></th>\n",
              "      <th>target</th>\n",
              "      <th>duration_in_month</th>\n",
              "      <th>credit_amount</th>\n",
              "      <th>installment_rate_disposable_income</th>\n",
              "      <th>present_residence_since</th>\n",
              "      <th>age_in_years</th>\n",
              "      <th>number_existing_credits_bank</th>\n",
              "      <th>number_people_liable</th>\n",
              "      <th>rand</th>\n",
              "      <th>rank</th>\n",
              "    </tr>\n",
              "  </thead>\n",
              "  <tbody>\n",
              "    <tr>\n",
              "      <th>0</th>\n",
              "      <td>0</td>\n",
              "      <td>19.207143</td>\n",
              "      <td>2985.457143</td>\n",
              "      <td>2.920000</td>\n",
              "      <td>2.842857</td>\n",
              "      <td>36.224286</td>\n",
              "      <td>1.424286</td>\n",
              "      <td>1.155714</td>\n",
              "      <td>0.488489</td>\n",
              "      <td>502.161429</td>\n",
              "    </tr>\n",
              "    <tr>\n",
              "      <th>1</th>\n",
              "      <td>1</td>\n",
              "      <td>24.860000</td>\n",
              "      <td>3938.126667</td>\n",
              "      <td>3.096667</td>\n",
              "      <td>2.850000</td>\n",
              "      <td>33.963333</td>\n",
              "      <td>1.366667</td>\n",
              "      <td>1.153333</td>\n",
              "      <td>0.483893</td>\n",
              "      <td>496.623333</td>\n",
              "    </tr>\n",
              "  </tbody>\n",
              "</table>\n",
              "</div>"
            ],
            "text/plain": [
              "   target  duration_in_month  ...      rand        rank\n",
              "0       0          19.207143  ...  0.488489  502.161429\n",
              "1       1          24.860000  ...  0.483893  496.623333\n",
              "\n",
              "[2 rows x 10 columns]"
            ]
          },
          "metadata": {
            "tags": []
          },
          "execution_count": 48
        }
      ]
    },
    {
      "cell_type": "markdown",
      "metadata": {
        "id": "IaIqSEvCwUly",
        "colab_type": "text"
      },
      "source": [
        "Graphs with information above"
      ]
    },
    {
      "cell_type": "markdown",
      "metadata": {
        "id": "d2HqcTLNQwFC",
        "colab_type": "text"
      },
      "source": [
        "Duration in month"
      ]
    },
    {
      "cell_type": "code",
      "metadata": {
        "id": "8PytVbAPQKP-",
        "colab_type": "code",
        "colab": {
          "base_uri": "https://localhost:8080/",
          "height": 334
        },
        "outputId": "a602f61f-3ee6-4581-a0ad-3640d8c7a553"
      },
      "source": [
        "a4_dims = (5, 5)\n",
        "fig, ax = plt.subplots(figsize=a4_dims)\n",
        "ax = sns.barplot(ax=ax, y = \"duration_in_month\", x = \"target\", data = avg_num)\n"
      ],
      "execution_count": null,
      "outputs": [
        {
          "output_type": "display_data",
          "data": {
            "image/png": "[encoded data removed]",
            "text/plain": [
              "<Figure size 360x360 with 1 Axes>"
            ]
          },
          "metadata": {
            "tags": [],
            "needs_background": "light"
          }
        }
      ]
    },
    {
      "cell_type": "markdown",
      "metadata": {
        "id": "TF9Q-Fr7QzNQ",
        "colab_type": "text"
      },
      "source": [
        "credit_amount"
      ]
    },
    {
      "cell_type": "code",
      "metadata": {
        "id": "r6wYl5JjQ1_8",
        "colab_type": "code",
        "colab": {
          "base_uri": "https://localhost:8080/",
          "height": 334
        },
        "outputId": "845e3374-c5bc-4710-e3db-4c5c84e38061"
      },
      "source": [
        "fig, ax = plt.subplots(figsize=a4_dims)\n",
        "ax = sns.barplot(ax=ax, y = \"credit_amount\", x = \"target\", data = avg_num)"
      ],
      "execution_count": null,
      "outputs": [
        {
          "output_type": "display_data",
          "data": {
            "image/png": "[encoded data removed]",
            "text/plain": [
              "<Figure size 360x360 with 1 Axes>"
            ]
          },
          "metadata": {
            "tags": [],
            "needs_background": "light"
          }
        }
      ]
    },
    {
      "cell_type": "markdown",
      "metadata": {
        "id": "M2gfVrZYRBaN",
        "colab_type": "text"
      },
      "source": [
        "installment_rate_disposable_income"
      ]
    },
    {
      "cell_type": "code",
      "metadata": {
        "id": "SYLBfYgMRCSf",
        "colab_type": "code",
        "colab": {
          "base_uri": "https://localhost:8080/",
          "height": 334
        },
        "outputId": "62cf26bf-7918-4713-ba2d-15f81115197c"
      },
      "source": [
        "fig, ax = plt.subplots(figsize=a4_dims)\n",
        "ax = sns.barplot(ax=ax, y = \"installment_rate_disposable_income\", x = \"target\", data = avg_num)"
      ],
      "execution_count": null,
      "outputs": [
        {
          "output_type": "display_data",
          "data": {
            "image/png": "[encoded data removed]",
            "text/plain": [
              "<Figure size 360x360 with 1 Axes>"
            ]
          },
          "metadata": {
            "tags": [],
            "needs_background": "light"
          }
        }
      ]
    },
    {
      "cell_type": "markdown",
      "metadata": {
        "id": "qc5fqKdoRLvM",
        "colab_type": "text"
      },
      "source": [
        "present_residence_since"
      ]
    },
    {
      "cell_type": "code",
      "metadata": {
        "id": "9iXqqbMYRM1m",
        "colab_type": "code",
        "colab": {
          "base_uri": "https://localhost:8080/",
          "height": 334
        },
        "outputId": "9a21239a-be6b-4609-e847-6071339f9289"
      },
      "source": [
        "fig, ax = plt.subplots(figsize=a4_dims)\n",
        "ax = sns.barplot(ax=ax, y = \"present_residence_since\", x = \"target\", data = avg_num)"
      ],
      "execution_count": null,
      "outputs": [
        {
          "output_type": "display_data",
          "data": {
            "image/png": "[encoded data removed]",
            "text/plain": [
              "<Figure size 360x360 with 1 Axes>"
            ]
          },
          "metadata": {
            "tags": [],
            "needs_background": "light"
          }
        }
      ]
    },
    {
      "cell_type": "markdown",
      "metadata": {
        "id": "vqMnyftVRYTc",
        "colab_type": "text"
      },
      "source": [
        "age_in_years\t\t"
      ]
    },
    {
      "cell_type": "code",
      "metadata": {
        "id": "G6MGFMoIReUj",
        "colab_type": "code",
        "colab": {
          "base_uri": "https://localhost:8080/",
          "height": 334
        },
        "outputId": "d285ffe9-8dae-4855-c4da-0f057776ebba"
      },
      "source": [
        "fig, ax = plt.subplots(figsize=a4_dims)\n",
        "ax = sns.barplot(ax=ax, y = \"age_in_years\", x = \"target\", data = avg_num)"
      ],
      "execution_count": null,
      "outputs": [
        {
          "output_type": "display_data",
          "data": {
            "image/png": "[encoded data removed]",
            "text/plain": [
              "<Figure size 360x360 with 1 Axes>"
            ]
          },
          "metadata": {
            "tags": [],
            "needs_background": "light"
          }
        }
      ]
    },
    {
      "cell_type": "markdown",
      "metadata": {
        "id": "sy_fz1KuRZm9",
        "colab_type": "text"
      },
      "source": [
        "number_existing_credits_bank"
      ]
    },
    {
      "cell_type": "code",
      "metadata": {
        "id": "WSn66RVlRijT",
        "colab_type": "code",
        "colab": {
          "base_uri": "https://localhost:8080/",
          "height": 334
        },
        "outputId": "736c8d45-90cb-4f73-9548-b1084da34d4b"
      },
      "source": [
        "fig, ax = plt.subplots(figsize=a4_dims)\n",
        "ax = sns.barplot(ax=ax, y = \"number_existing_credits_bank\", x = \"target\", data = avg_num)"
      ],
      "execution_count": null,
      "outputs": [
        {
          "output_type": "display_data",
          "data": {
            "image/png": "[encoded data removed]",
            "text/plain": [
              "<Figure size 360x360 with 1 Axes>"
            ]
          },
          "metadata": {
            "tags": [],
            "needs_background": "light"
          }
        }
      ]
    },
    {
      "cell_type": "markdown",
      "metadata": {
        "id": "zhB6-F1JRbc8",
        "colab_type": "text"
      },
      "source": [
        "number_people_liable"
      ]
    },
    {
      "cell_type": "code",
      "metadata": {
        "id": "MWfDhQlTRoQ0",
        "colab_type": "code",
        "colab": {
          "base_uri": "https://localhost:8080/",
          "height": 335
        },
        "outputId": "90aa4125-19bd-4717-dfdd-a5d28dd81523"
      },
      "source": [
        "fig, ax = plt.subplots(figsize=a4_dims)\n",
        "ax = sns.barplot(ax=ax, y = \"number_people_liable\", x = \"target\", data = avg_num)"
      ],
      "execution_count": null,
      "outputs": [
        {
          "output_type": "display_data",
          "data": {
            "image/png": "[encoded data removed]",
            "text/plain": [
              "<Figure size 360x360 with 1 Axes>"
            ]
          },
          "metadata": {
            "tags": [],
            "needs_background": "light"
          }
        }
      ]
    },
    {
      "cell_type": "markdown",
      "metadata": {
        "id": "pghCtJ32xVoJ",
        "colab_type": "text"
      },
      "source": [
        "The analysis above shows that few numerical features are good predictors. However this will be tested more extensively in the modelling (coefficients and p-values analysis)\n",
        "\n",
        "Good predictors in initial analysis: duration_in_month, credit_amount, age_in_years, number_existing_credits_bank"
      ]
    },
    {
      "cell_type": "markdown",
      "metadata": {
        "id": "fVl4DkRzd2w9",
        "colab_type": "text"
      },
      "source": [
        "## Split train and test sample"
      ]
    },
    {
      "cell_type": "markdown",
      "metadata": {
        "id": "wRpwO1Ccs_e1",
        "colab_type": "text"
      },
      "source": [
        "Obs: Not using split_train_test from sci kit learn to allow ballance data more easily\n",
        "\n",
        "Instead I'll create a random sampling column and ranks to split the data"
      ]
    },
    {
      "cell_type": "code",
      "metadata": {
        "id": "KRet8p8eoJmu",
        "colab_type": "code",
        "colab": {}
      },
      "source": [
        "german_data['rand'] = np.random.rand(len(german_data))\n",
        "german_data['rank'] = german_data['rand'].rank(pct=False)\n",
        "german_data_test = german_data[german_data['rank'] <= 200]\n",
        "german_data_train = german_data[german_data['rank'] > 200]\n"
      ],
      "execution_count": null,
      "outputs": []
    },
    {
      "cell_type": "markdown",
      "metadata": {
        "id": "JymYL2DcId6w",
        "colab_type": "text"
      },
      "source": [
        "Checking sizes train and test data"
      ]
    },
    {
      "cell_type": "code",
      "metadata": {
        "id": "WWWMBeI-rzWT",
        "colab_type": "code",
        "colab": {
          "base_uri": "https://localhost:8080/",
          "height": 34
        },
        "outputId": "6505d8d2-8cb7-4787-9e92-d7c663970cbf"
      },
      "source": [
        "len(german_data_test)"
      ],
      "execution_count": null,
      "outputs": [
        {
          "output_type": "execute_result",
          "data": {
            "text/plain": [
              "200"
            ]
          },
          "metadata": {
            "tags": []
          },
          "execution_count": 12
        }
      ]
    },
    {
      "cell_type": "code",
      "metadata": {
        "id": "dL2W09-0p5qz",
        "colab_type": "code",
        "colab": {
          "base_uri": "https://localhost:8080/",
          "height": 34
        },
        "outputId": "135a3222-7a60-4379-be50-a9536e912baa"
      },
      "source": [
        "len(german_data_train)"
      ],
      "execution_count": null,
      "outputs": [
        {
          "output_type": "execute_result",
          "data": {
            "text/plain": [
              "800"
            ]
          },
          "metadata": {
            "tags": []
          },
          "execution_count": 13
        }
      ]
    },
    {
      "cell_type": "code",
      "metadata": {
        "id": "P0JfHddqsDnX",
        "colab_type": "code",
        "colab": {
          "base_uri": "https://localhost:8080/",
          "height": 70
        },
        "outputId": "ba4b6a5b-4fad-49e2-f65e-6b198b1b5a48"
      },
      "source": [
        "german_data_train['target'].value_counts()"
      ],
      "execution_count": null,
      "outputs": [
        {
          "output_type": "execute_result",
          "data": {
            "text/plain": [
              "0    559\n",
              "1    241\n",
              "Name: target, dtype: int64"
            ]
          },
          "metadata": {
            "tags": []
          },
          "execution_count": 14
        }
      ]
    },
    {
      "cell_type": "markdown",
      "metadata": {
        "id": "OmtfUjCTIjbb",
        "colab_type": "text"
      },
      "source": [
        "Count to balance data using undersampling"
      ]
    },
    {
      "cell_type": "code",
      "metadata": {
        "id": "gCo9L3OPsM2a",
        "colab_type": "code",
        "colab": {
          "base_uri": "https://localhost:8080/",
          "height": 34
        },
        "outputId": "1e4c3790-3cc2-4f98-a731-958e715a72a1"
      },
      "source": [
        "samplek = min(german_data_train['target'].value_counts())\n",
        "print(samplek)"
      ],
      "execution_count": null,
      "outputs": [
        {
          "output_type": "stream",
          "text": [
            "241\n"
          ],
          "name": "stdout"
        }
      ]
    },
    {
      "cell_type": "markdown",
      "metadata": {
        "id": "BwlvBfxgdXX2",
        "colab_type": "text"
      },
      "source": [
        "## Balancing train data"
      ]
    },
    {
      "cell_type": "code",
      "metadata": {
        "id": "ORUwVs_RdZMR",
        "colab_type": "code",
        "colab": {
          "base_uri": "https://localhost:8080/",
          "height": 70
        },
        "outputId": "8a50a198-c904-4908-c695-091e664c05ec"
      },
      "source": [
        "def sampling_k_elements(group, k=samplek):\n",
        "    if len(group) < k:\n",
        "        return group\n",
        "    return group.sample(k)\n",
        "\n",
        "german_data_train_balanced = german_data_train.groupby('target').apply(sampling_k_elements).reset_index(drop=True)\n",
        "german_data_train_balanced['target'].value_counts()"
      ],
      "execution_count": null,
      "outputs": [
        {
          "output_type": "execute_result",
          "data": {
            "text/plain": [
              "1    241\n",
              "0    241\n",
              "Name: target, dtype: int64"
            ]
          },
          "metadata": {
            "tags": []
          },
          "execution_count": 16
        }
      ]
    },
    {
      "cell_type": "code",
      "metadata": {
        "id": "hmKWXAErDBcV",
        "colab_type": "code",
        "colab": {
          "base_uri": "https://localhost:8080/",
          "height": 158
        },
        "outputId": "e7fdd343-adf5-4bbe-b69b-c05109fc0a58"
      },
      "source": [
        "german_data_train_balanced.columns"
      ],
      "execution_count": null,
      "outputs": [
        {
          "output_type": "execute_result",
          "data": {
            "text/plain": [
              "Index(['status_of_existing_checking_account', 'duration_in_month',\n",
              "       'credit_history', 'purpose_car', 'credit_amount', 'savings_account',\n",
              "       'present_employment_since', 'installment_rate_disposable_income',\n",
              "       'personal_status_and_sex', 'other_debtors', 'present_residence_since',\n",
              "       'property', 'age_in_years', 'other_installment_plans', 'housing',\n",
              "       'number_existing_credits_bank', 'job', 'number_people_liable',\n",
              "       'telephone', 'foreign_worker', 'target', 'rand', 'rank'],\n",
              "      dtype='object')"
            ]
          },
          "metadata": {
            "tags": []
          },
          "execution_count": 17
        }
      ]
    },
    {
      "cell_type": "code",
      "metadata": {
        "id": "kB5idQMUDLAv",
        "colab_type": "code",
        "colab": {
          "base_uri": "https://localhost:8080/",
          "height": 194
        },
        "outputId": "2787c692-73ca-4351-bbe4-e6bae5b58195"
      },
      "source": [
        "german_data_train_balanced.head(2)"
      ],
      "execution_count": null,
      "outputs": [
        {
          "output_type": "execute_result",
          "data": {
            "text/html": [
              "<div>\n",
              "<style scoped>\n",
              "    .dataframe tbody tr th:only-of-type {\n",
              "        vertical-align: middle;\n",
              "    }\n",
              "\n",
              "    .dataframe tbody tr th {\n",
              "        vertical-align: top;\n",
              "    }\n",
              "\n",
              "    .dataframe thead th {\n",
              "        text-align: right;\n",
              "    }\n",
              "</style>\n",
              "<table border=\"1\" class=\"dataframe\">\n",
              "  <thead>\n",
              "    <tr style=\"text-align: right;\">\n",
              "      <th></th>\n",
              "      <th>status_of_existing_checking_account</th>\n",
              "      <th>duration_in_month</th>\n",
              "      <th>credit_history</th>\n",
              "      <th>purpose_car</th>\n",
              "      <th>credit_amount</th>\n",
              "      <th>savings_account</th>\n",
              "      <th>present_employment_since</th>\n",
              "      <th>installment_rate_disposable_income</th>\n",
              "      <th>personal_status_and_sex</th>\n",
              "      <th>other_debtors</th>\n",
              "      <th>present_residence_since</th>\n",
              "      <th>property</th>\n",
              "      <th>age_in_years</th>\n",
              "      <th>other_installment_plans</th>\n",
              "      <th>housing</th>\n",
              "      <th>number_existing_credits_bank</th>\n",
              "      <th>job</th>\n",
              "      <th>number_people_liable</th>\n",
              "      <th>telephone</th>\n",
              "      <th>foreign_worker</th>\n",
              "      <th>target</th>\n",
              "      <th>rand</th>\n",
              "      <th>rank</th>\n",
              "    </tr>\n",
              "  </thead>\n",
              "  <tbody>\n",
              "    <tr>\n",
              "      <th>0</th>\n",
              "      <td>no checking account</td>\n",
              "      <td>21</td>\n",
              "      <td>existing credits paid back duly till now</td>\n",
              "      <td>car used</td>\n",
              "      <td>5248</td>\n",
              "      <td>unknown/ no savings account</td>\n",
              "      <td>1  &lt;= ... &lt; 4 years</td>\n",
              "      <td>1</td>\n",
              "      <td>male: single</td>\n",
              "      <td>none</td>\n",
              "      <td>3</td>\n",
              "      <td>car or other</td>\n",
              "      <td>26</td>\n",
              "      <td>none</td>\n",
              "      <td>own</td>\n",
              "      <td>1</td>\n",
              "      <td>skilled employee / official</td>\n",
              "      <td>1</td>\n",
              "      <td>none</td>\n",
              "      <td>yes</td>\n",
              "      <td>0</td>\n",
              "      <td>0.529678</td>\n",
              "      <td>555.0</td>\n",
              "    </tr>\n",
              "    <tr>\n",
              "      <th>1</th>\n",
              "      <td>&gt;= 0 to 200 DM</td>\n",
              "      <td>10</td>\n",
              "      <td>existing credits paid back duly till now</td>\n",
              "      <td>furniture/equipment</td>\n",
              "      <td>1521</td>\n",
              "      <td>&lt; 100 DM</td>\n",
              "      <td>1  &lt;= ... &lt; 4 years</td>\n",
              "      <td>4</td>\n",
              "      <td>male: divorced/separated</td>\n",
              "      <td>none</td>\n",
              "      <td>2</td>\n",
              "      <td>car or other</td>\n",
              "      <td>31</td>\n",
              "      <td>none</td>\n",
              "      <td>own</td>\n",
              "      <td>1</td>\n",
              "      <td>unskilled - resident</td>\n",
              "      <td>1</td>\n",
              "      <td>none</td>\n",
              "      <td>yes</td>\n",
              "      <td>0</td>\n",
              "      <td>0.443932</td>\n",
              "      <td>461.0</td>\n",
              "    </tr>\n",
              "  </tbody>\n",
              "</table>\n",
              "</div>"
            ],
            "text/plain": [
              "  status_of_existing_checking_account  duration_in_month  ...      rand   rank\n",
              "0                 no checking account                 21  ...  0.529678  555.0\n",
              "1                      >= 0 to 200 DM                 10  ...  0.443932  461.0\n",
              "\n",
              "[2 rows x 23 columns]"
            ]
          },
          "metadata": {
            "tags": []
          },
          "execution_count": 18
        }
      ]
    },
    {
      "cell_type": "markdown",
      "metadata": {
        "id": "skPgqmcGJYqd",
        "colab_type": "text"
      },
      "source": [
        "## Model "
      ]
    },
    {
      "cell_type": "markdown",
      "metadata": {
        "id": "6wa7LV43Jcoj",
        "colab_type": "text"
      },
      "source": [
        "Formula with all variables"
      ]
    },
    {
      "cell_type": "code",
      "metadata": {
        "id": "XLJgzD40ClsW",
        "colab_type": "code",
        "colab": {}
      },
      "source": [
        "formula_text = (\"\"\"\n",
        "    target ~ \n",
        "    C(status_of_existing_checking_account)\n",
        "    + duration_in_month\n",
        "    + C(credit_history)\n",
        "    + C(purpose_car)\n",
        "    + credit_amount\n",
        "    + C(savings_account)\n",
        "    + C(present_employment_since)\n",
        "    + installment_rate_disposable_income\t\n",
        "    + C(personal_status_and_sex)\n",
        "    + C(other_debtors)\n",
        "    + present_residence_since\n",
        "    + C(property)\n",
        "    + age_in_years\n",
        "    + C(other_installment_plans)\n",
        "    + C(housing)\n",
        "    + number_existing_credits_bank\t\n",
        "    + C(job)\n",
        "    + number_people_liable\n",
        "    + C(telephone)\n",
        "    + C(foreign_worker)\n",
        "    \"\"\")"
      ],
      "execution_count": null,
      "outputs": []
    },
    {
      "cell_type": "markdown",
      "metadata": {
        "id": "xNbVDvoguGOQ",
        "colab_type": "text"
      },
      "source": [
        "Logistic Regression Model - stats model offers extensive summary"
      ]
    },
    {
      "cell_type": "code",
      "metadata": {
        "id": "58p2C6XQCm_u",
        "colab_type": "code",
        "colab": {
          "base_uri": "https://localhost:8080/",
          "height": 1000
        },
        "outputId": "9e10f472-e640-4701-aef0-b3892d4387b7"
      },
      "source": [
        "import statsmodels.api as sm\n",
        "import statsmodels.formula.api as smf\n",
        "\n",
        "logit_model = smf.logit(formula = str(formula_text), data = german_data_train_balanced).fit()\n",
        "print(logit_model.summary2())"
      ],
      "execution_count": null,
      "outputs": [
        {
          "output_type": "stream",
          "text": [
            "Optimization terminated successfully.\n",
            "         Current function value: 0.470254\n",
            "         Iterations 7\n",
            "                                                               Results: Logit\n",
            "=============================================================================================================================================\n",
            "Model:                                        Logit                                     Pseudo R-squared:                          0.322     \n",
            "Dependent Variable:                           target                                    AIC:                                       551.3253  \n",
            "Date:                                         2020-08-16 21:03                          BIC:                                       756.0446  \n",
            "No. Observations:                             482                                       Log-Likelihood:                            -226.66   \n",
            "Df Model:                                     48                                        LL-Null:                                   -334.10   \n",
            "Df Residuals:                                 433                                       LLR p-value:                               5.6098e-23\n",
            "Converged:                                    1.0000                                    Scale:                                     1.0000    \n",
            "No. Iterations:                               7.0000                                                                                         \n",
            "---------------------------------------------------------------------------------------------------------------------------------------------\n",
            "                                                                                               Coef.  Std.Err.    z    P>|z|   [0.025  0.975]\n",
            "---------------------------------------------------------------------------------------------------------------------------------------------\n",
            "Intercept                                                                                     -4.0562   2.0877 -1.9429 0.0520 -8.1480  0.0357\n",
            "C(status_of_existing_checking_account)[T.>= 0 to 200 DM]                                      -0.0756   0.3195 -0.2366 0.8129 -0.7017  0.5505\n",
            "C(status_of_existing_checking_account)[T.>= 2000 DM / salary assignments for at least 1 year]  0.1511   0.5629  0.2684 0.7884 -0.9521  1.2543\n",
            "C(status_of_existing_checking_account)[T.no checking account]                                 -1.9199   0.3363 -5.7086 0.0000 -2.5790 -1.2607\n",
            "C(credit_history)[T.critical account/other credits existing (not at this bank)]               -1.6282   0.6490 -2.5089 0.0121 -2.9001 -0.3563\n",
            "C(credit_history)[T.delay in paying off in the past]                                          -1.1634   0.6922 -1.6806 0.0928 -2.5201  0.1934\n",
            "C(credit_history)[T.existing credits paid back duly till now]                                 -0.9026   0.5861 -1.5401 0.1235 -2.0513  0.2461\n",
            "C(credit_history)[T.no credits taken/all credits paid back duly]                              -0.9615   0.8050 -1.1945 0.2323 -2.5393  0.6162\n",
            "C(purpose_car)[T.car new]                                                                      0.7091   0.4523  1.5677 0.1169 -0.1774  1.5955\n",
            "C(purpose_car)[T.car used]                                                                    -1.5133   0.6072 -2.4921 0.0127 -2.7034 -0.3231\n",
            "C(purpose_car)[T.domestic appliances]                                                          0.2671   1.1135  0.2399 0.8104 -1.9152  2.4495\n",
            "C(purpose_car)[T.education]                                                                    1.9103   0.8027  2.3799 0.0173  0.3371  3.4836\n",
            "C(purpose_car)[T.furniture/equipment]                                                          0.3129   0.4872  0.6423 0.5207 -0.6420  1.2678\n",
            "C(purpose_car)[T.others]                                                                      -2.1542   1.1868 -1.8152 0.0695 -4.4802  0.1718\n",
            "C(purpose_car)[T.radio/television]                                                            -0.1652   0.4513 -0.3660 0.7143 -1.0498  0.7194\n",
            "C(purpose_car)[T.repairs]                                                                      2.9993   1.3698  2.1895 0.0286  0.3145  5.6841\n",
            "C(purpose_car)[T.retraining]                                                                  -0.8987   1.3679 -0.6570 0.5112 -3.5798  1.7823\n",
            "C(savings_account)[T.100 <= ... <  500 DM]                                                     1.1552   0.8193  1.4100 0.1585 -0.4506  2.7610\n",
            "C(savings_account)[T.500 <= ... < 1000 DM]                                                     1.6294   0.8898  1.8313 0.0671 -0.1145  3.3734\n",
            "C(savings_account)[T.< 100 DM]                                                                 1.7172   0.7598  2.2602 0.0238  0.2281  3.2063\n",
            "C(savings_account)[T.unknown/ no savings account]                                              0.8542   0.8136  1.0498 0.2938 -0.7405  2.4489\n",
            "C(present_employment_since)[T.... < 1 year]                                                    0.6027   0.4287  1.4061 0.1597 -0.2374  1.4429\n",
            "C(present_employment_since)[T.1  <= ... < 4 years]                                             0.2388   0.3630  0.6578 0.5107 -0.4727  0.9502\n",
            "C(present_employment_since)[T.4  <= ... < 7 years]                                            -0.4339   0.4292 -1.0109 0.3121 -1.2752  0.4074\n",
            "C(present_employment_since)[T.unemployed]                                                      0.6507   0.5955  1.0926 0.2746 -0.5165  1.8179\n",
            "C(personal_status_and_sex)[T.male: divorced/separated]                                         0.0927   0.5499  0.1686 0.8661 -0.9851  1.1704\n",
            "C(personal_status_and_sex)[T.male: married/widowed]                                            0.1573   0.4421  0.3557 0.7221 -0.7093  1.0238\n",
            "C(personal_status_and_sex)[T.male: single]                                                    -0.9455   0.3027 -3.1235 0.0018 -1.5387 -0.3522\n",
            "C(other_debtors)[T.guarantor]                                                                 -1.3554   0.9164 -1.4791 0.1391 -3.1515  0.4406\n",
            "C(other_debtors)[T.none]                                                                      -0.8732   0.7333 -1.1907 0.2338 -2.3104  0.5641\n",
            "C(property)[T.car or other]                                                                    0.1498   0.3243  0.4619 0.6442 -0.4858  0.7853\n",
            "C(property)[T.real estate]                                                                    -0.2517   0.3552 -0.7085 0.4786 -0.9480  0.4446\n",
            "C(property)[T.unknown / no property]                                                           0.9682   0.6687  1.4478 0.1477 -0.3425  2.2788\n",
            "C(other_installment_plans)[T.none]                                                            -0.4823   0.3510 -1.3741 0.1694 -1.1702  0.2056\n",
            "C(other_installment_plans)[T.stores]                                                           0.2767   0.6935  0.3989 0.6899 -1.0825  1.6359\n",
            "C(housing)[T.own]                                                                              0.4769   0.7048  0.6767 0.4986 -0.9044  1.8583\n",
            "C(housing)[T.rent]                                                                             1.1339   0.7676  1.4773 0.1396 -0.3705  2.6383\n",
            "C(job)[T.skilled employee / official]                                                          0.4106   0.4232  0.9702 0.3319 -0.4189  1.2402\n",
            "C(job)[T.unemployed/ unskilled  - non-resident]                                                0.1314   1.1305  0.1163 0.9074 -2.0844  2.3473\n",
            "C(job)[T.unskilled - resident]                                                                 0.5793   0.5120  1.1314 0.2579 -0.4242  1.5828\n",
            "C(telephone)[T.yes, registered under the customers name]                                      -0.1313   0.3027 -0.4338 0.6644 -0.7246  0.4620\n",
            "C(foreign_worker)[T.yes]                                                                       0.9026   0.9457  0.9545 0.3399 -0.9509  2.7562\n",
            "duration_in_month                                                                              0.0217   0.0136  1.5967 0.1103 -0.0049  0.0483\n",
            "credit_amount                                                                                  0.0003   0.0001  3.8239 0.0001  0.0001  0.0004\n",
            "installment_rate_disposable_income                                                             0.4959   0.1256  3.9476 0.0001  0.2497  0.7421\n",
            "present_residence_since                                                                        0.0332   0.1301  0.2553 0.7985 -0.2218  0.2883\n",
            "age_in_years                                                                                  -0.0001   0.0129 -0.0096 0.9924 -0.0255  0.0252\n",
            "number_existing_credits_bank                                                                   0.3607   0.2880  1.2523 0.2105 -0.2038  0.9251\n",
            "number_people_liable                                                                           0.2639   0.3586  0.7360 0.4618 -0.4389  0.9668\n",
            "=============================================================================================================================================\n",
            "\n"
          ],
          "name": "stdout"
        }
      ]
    },
    {
      "cell_type": "markdown",
      "metadata": {
        "id": "50sOdLLhRg73",
        "colab_type": "text"
      },
      "source": [
        "Considerations: Overall prediction is not good based in Pseudo R-squared. However we have to measure accuracy in test data, so I'll create a confusion matrix"
      ]
    },
    {
      "cell_type": "markdown",
      "metadata": {
        "id": "znDtMN9iSIoL",
        "colab_type": "text"
      },
      "source": [
        "Graph with coefficients"
      ]
    },
    {
      "cell_type": "code",
      "metadata": {
        "id": "MiC-Ap6fSu4V",
        "colab_type": "code",
        "colab": {}
      },
      "source": [
        "err_series = logit_model.params - logit_model.conf_int()[0]\n",
        "\n",
        "coef_df = pd.DataFrame({'coef': logit_model.params[1:],\n",
        "                        'err': err_series.values[1:],\n",
        "                        'varname': err_series.index.values[1:]\n",
        "                       })"
      ],
      "execution_count": null,
      "outputs": []
    },
    {
      "cell_type": "code",
      "metadata": {
        "id": "EyZIS8spV__X",
        "colab_type": "code",
        "colab": {
          "base_uri": "https://localhost:8080/",
          "height": 780
        },
        "outputId": "cdcb6770-aa78-4c24-e6bc-f30fe7aad79c"
      },
      "source": [
        "fig, ax = plt.subplots(figsize=(20, 5))\n",
        "coef_df.plot(x='varname', y='coef', kind='bar', \n",
        "             ax=ax, color='none', \n",
        "             yerr='err', legend=False)\n",
        "ax.set_ylabel('')\n",
        "ax.set_xlabel('')"
      ],
      "execution_count": null,
      "outputs": [
        {
          "output_type": "execute_result",
          "data": {
            "text/plain": [
              "Text(0.5, 0, '')"
            ]
          },
          "metadata": {
            "tags": []
          },
          "execution_count": 22
        },
        {
          "output_type": "display_data",
          "data": {
            "image/png": "[encoded data removed]",
            "text/plain": [
              "<Figure size 1440x360 with 1 Axes>"
            ]
          },
          "metadata": {
            "tags": [],
            "needs_background": "light"
          }
        }
      ]
    },
    {
      "cell_type": "markdown",
      "metadata": {
        "id": "eVYf2_88N4-L",
        "colab_type": "text"
      },
      "source": [
        "Predicting in test data to evalutation"
      ]
    },
    {
      "cell_type": "code",
      "metadata": {
        "id": "8qInisCxNP6D",
        "colab_type": "code",
        "colab": {}
      },
      "source": [
        "prediction_scores = logit_model.predict(german_data_test)"
      ],
      "execution_count": null,
      "outputs": []
    },
    {
      "cell_type": "code",
      "metadata": {
        "id": "wKJwC1RGNaar",
        "colab_type": "code",
        "colab": {
          "base_uri": "https://localhost:8080/",
          "height": 301
        },
        "outputId": "45edf841-b598-429a-d0e0-67cea1952a6f"
      },
      "source": [
        "german_data_test['prediction_scores'] = prediction_scores\n",
        "german_data_test[['target','prediction_scores']].head()"
      ],
      "execution_count": null,
      "outputs": [
        {
          "output_type": "stream",
          "text": [
            "/usr/local/lib/python3.6/dist-packages/ipykernel_launcher.py:1: SettingWithCopyWarning: \n",
            "A value is trying to be set on a copy of a slice from a DataFrame.\n",
            "Try using .loc[row_indexer,col_indexer] = value instead\n",
            "\n",
            "See the caveats in the documentation: https://pandas.pydata.org/pandas-docs/stable/user_guide/indexing.html#returning-a-view-versus-a-copy\n",
            "  \"\"\"Entry point for launching an IPython kernel.\n"
          ],
          "name": "stderr"
        },
        {
          "output_type": "execute_result",
          "data": {
            "text/html": [
              "<div>\n",
              "<style scoped>\n",
              "    .dataframe tbody tr th:only-of-type {\n",
              "        vertical-align: middle;\n",
              "    }\n",
              "\n",
              "    .dataframe tbody tr th {\n",
              "        vertical-align: top;\n",
              "    }\n",
              "\n",
              "    .dataframe thead th {\n",
              "        text-align: right;\n",
              "    }\n",
              "</style>\n",
              "<table border=\"1\" class=\"dataframe\">\n",
              "  <thead>\n",
              "    <tr style=\"text-align: right;\">\n",
              "      <th></th>\n",
              "      <th>target</th>\n",
              "      <th>prediction_scores</th>\n",
              "    </tr>\n",
              "  </thead>\n",
              "  <tbody>\n",
              "    <tr>\n",
              "      <th>0</th>\n",
              "      <td>0</td>\n",
              "      <td>0.086267</td>\n",
              "    </tr>\n",
              "    <tr>\n",
              "      <th>4</th>\n",
              "      <td>1</td>\n",
              "      <td>0.889169</td>\n",
              "    </tr>\n",
              "    <tr>\n",
              "      <th>12</th>\n",
              "      <td>0</td>\n",
              "      <td>0.274926</td>\n",
              "    </tr>\n",
              "    <tr>\n",
              "      <th>17</th>\n",
              "      <td>0</td>\n",
              "      <td>0.852564</td>\n",
              "    </tr>\n",
              "    <tr>\n",
              "      <th>31</th>\n",
              "      <td>0</td>\n",
              "      <td>0.722807</td>\n",
              "    </tr>\n",
              "  </tbody>\n",
              "</table>\n",
              "</div>"
            ],
            "text/plain": [
              "    target  prediction_scores\n",
              "0        0           0.086267\n",
              "4        1           0.889169\n",
              "12       0           0.274926\n",
              "17       0           0.852564\n",
              "31       0           0.722807"
            ]
          },
          "metadata": {
            "tags": []
          },
          "execution_count": 24
        }
      ]
    },
    {
      "cell_type": "markdown",
      "metadata": {
        "id": "RXKz8Xq8OvT0",
        "colab_type": "text"
      },
      "source": [
        "Testing confusion matrix with several thresholds"
      ]
    },
    {
      "cell_type": "code",
      "metadata": {
        "id": "J0CWAeOfOAQV",
        "colab_type": "code",
        "colab": {
          "base_uri": "https://localhost:8080/",
          "height": 967
        },
        "outputId": "9fa6cce1-de3c-4767-c499-7a84af42bb58"
      },
      "source": [
        "tresholds = [0.3, 0.35, 0.4, 0.45, 0.5, 0.55, 0.6, 0.65]\n",
        "\n",
        "for i in tresholds:\n",
        "  def prediction(x):\n",
        "    if x >= i:\n",
        "      return 1\n",
        "    else:\n",
        "      return 0\n",
        "\n",
        "  german_data_test['prediction'] = german_data_test['prediction_scores'].apply(prediction)\n",
        "  confusion_matrix = pd.crosstab(german_data_test['target'], german_data_test['prediction'])\n",
        "  predicted = confusion_matrix\n",
        "  tot_predict =  confusion_matrix.iloc[0,1] + confusion_matrix.iloc[1,1]\n",
        "  accuracy = (confusion_matrix.iloc[0,0] + confusion_matrix.iloc[1,1]) / len(german_data_test)\n",
        "  precision =  confusion_matrix.iloc[1,1] / (confusion_matrix.iloc[0,1] + confusion_matrix.iloc[1,1])\n",
        "  recall =  confusion_matrix.iloc[1,1] / (confusion_matrix.iloc[1,0] + confusion_matrix.iloc[1,1])\n",
        "  F1 = (2 * precision * recall) / (precision + recall) #between 0 and 1 (better)\n",
        "  print('Treshold: ' + str(i))\n",
        "  print('accuracy: '  + str(accuracy))\n",
        "  print('precision: ' + str(precision))\n",
        "  print('recall: ' + str(recall))\n",
        "  print('F1: ' + str(F1), end = '\\n')\n",
        "  print('________________')"
      ],
      "execution_count": null,
      "outputs": [
        {
          "output_type": "stream",
          "text": [
            "Treshold: 0.3\n",
            "accuracy: 0.635\n",
            "precision: 0.43859649122807015\n",
            "recall: 0.847457627118644\n",
            "F1: 0.5780346820809248\n",
            "________________\n",
            "Treshold: 0.35\n",
            "accuracy: 0.655\n",
            "precision: 0.4537037037037037\n",
            "recall: 0.8305084745762712\n",
            "F1: 0.5868263473053892\n",
            "________________\n",
            "Treshold: 0.4\n",
            "accuracy: 0.67\n",
            "precision: 0.46601941747572817\n",
            "recall: 0.8135593220338984\n",
            "F1: 0.5925925925925927\n",
            "________________\n",
            "Treshold: 0.45\n",
            "accuracy: 0.68\n",
            "precision: 0.47368421052631576\n",
            "recall: 0.7627118644067796\n",
            "F1: 0.5844155844155844\n",
            "________________\n",
            "Treshold: 0.5\n",
            "accuracy: 0.67\n",
            "precision: 0.4606741573033708\n",
            "recall: 0.6949152542372882\n",
            "F1: 0.5540540540540542\n",
            "________________\n",
            "Treshold: 0.55\n",
            "accuracy: 0.705\n",
            "precision: 0.5\n",
            "recall: 0.6779661016949152\n",
            "F1: 0.5755395683453237\n",
            "________________\n",
            "Treshold: 0.6\n",
            "accuracy: 0.725\n",
            "precision: 0.5277777777777778\n",
            "recall: 0.6440677966101694\n",
            "F1: 0.5801526717557252\n",
            "________________\n",
            "Treshold: 0.65\n",
            "accuracy: 0.72\n",
            "precision: 0.5223880597014925\n",
            "recall: 0.5932203389830508\n",
            "F1: 0.5555555555555555\n",
            "________________\n"
          ],
          "name": "stdout"
        },
        {
          "output_type": "stream",
          "text": [
            "/usr/local/lib/python3.6/dist-packages/ipykernel_launcher.py:10: SettingWithCopyWarning: \n",
            "A value is trying to be set on a copy of a slice from a DataFrame.\n",
            "Try using .loc[row_indexer,col_indexer] = value instead\n",
            "\n",
            "See the caveats in the documentation: https://pandas.pydata.org/pandas-docs/stable/user_guide/indexing.html#returning-a-view-versus-a-copy\n",
            "  # Remove the CWD from sys.path while we load stuff.\n"
          ],
          "name": "stderr"
        }
      ]
    },
    {
      "cell_type": "markdown",
      "metadata": {
        "id": "MzmtsmTRwsQh",
        "colab_type": "text"
      },
      "source": [
        "## Conclusions"
      ]
    },
    {
      "cell_type": "markdown",
      "metadata": {
        "id": "ffrZCwaAL0Dm",
        "colab_type": "text"
      },
      "source": [
        "Overall, the score treshold that shows best performance based on F1 is 0.45 (F1 = 59%). Considering accuracy as metric we should apply 0.65 (72% accuracy) as treshold.\n",
        "\n",
        "\n",
        "However, since they estimate that incorrectly identifying a bad customer as good, is 5 times worse than incorrectly classifying a good customer as bad, we need a **high capture rate of bad customers**, wich is recall.\n",
        "\n",
        "Based on recall, the best threshold for the model would be 30%. That is, we will classify as potentially bad customer every one with score higher than 0.3.  With this treshold these are the metrics for this model:\n",
        "\n",
        "* accuracy: 0.635\n",
        "* precision: 0.44\n",
        "* recall: 0.845\n",
        "* F1: 0.578\n"
      ]
    }
  ]
}