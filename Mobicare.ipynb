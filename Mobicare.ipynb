{
 "cells": [
  {
   "cell_type": "markdown",
   "metadata": {
    "colab_type": "text",
    "id": "view-in-github"
   },
   "source": [
    "<a href=\"https://colab.research.google.com/github/Flaviaestat/Phyton/blob/master/Mobicare.ipynb\" target=\"_parent\"><img src=\"https://colab.research.google.com/assets/colab-badge.svg\" alt=\"Open In Colab\"/></a>"
   ]
  },
  {
   "cell_type": "code",
   "execution_count": null,
   "metadata": {
    "colab": {},
    "colab_type": "code",
    "id": "HfoYPiNxcN9s"
   },
   "outputs": [],
   "source": [
    "import pandas as pd\n",
    "import numpy as np\n",
    "import matplotlib.pyplot as plt\n"
   ]
  },
  {
   "cell_type": "markdown",
   "metadata": {
    "colab_type": "text",
    "id": "n0jNq4EvPK8_"
   },
   "source": [
    "Carrega base total para caracterização\n"
   ]
  },
  {
   "cell_type": "code",
   "execution_count": null,
   "metadata": {
    "colab": {},
    "colab_type": "code",
    "id": "3VLvVInAO6nr"
   },
   "outputs": [],
   "source": [
    "base_total = pd.read_excel('base_recarga_case_final.xlsx'\n",
    "                              , index_col = 0, sheet_name = 'Base Agregada')"
   ]
  },
  {
   "cell_type": "code",
   "execution_count": null,
   "metadata": {
    "colab": {},
    "colab_type": "code",
    "id": "9JHzGffPbjeF"
   },
   "outputs": [],
   "source": [
    "base_total['recarga_media'] = base_total['valor_recarga '] / base_total['Frequência']"
   ]
  },
  {
   "cell_type": "code",
   "execution_count": null,
   "metadata": {
    "colab": {
     "base_uri": "https://localhost:8080/",
     "height": 225
    },
    "colab_type": "code",
    "id": "PeMC6onjPQS_",
    "outputId": "1a78adae-8520-4eea-9b5c-e4d6a249b1db"
   },
   "outputs": [
    {
     "data": {
      "text/html": [
       "<div>\n",
       "<style scoped>\n",
       "    .dataframe tbody tr th:only-of-type {\n",
       "        vertical-align: middle;\n",
       "    }\n",
       "\n",
       "    .dataframe tbody tr th {\n",
       "        vertical-align: top;\n",
       "    }\n",
       "\n",
       "    .dataframe thead th {\n",
       "        text-align: right;\n",
       "    }\n",
       "</style>\n",
       "<table border=\"1\" class=\"dataframe\">\n",
       "  <thead>\n",
       "    <tr style=\"text-align: right;\">\n",
       "      <th></th>\n",
       "      <th>Frequência</th>\n",
       "      <th>Data recente</th>\n",
       "      <th>Saldo_final</th>\n",
       "      <th>valor_recarga</th>\n",
       "      <th>Média de tempo_recargas</th>\n",
       "      <th>tempo_abandono</th>\n",
       "      <th>local</th>\n",
       "      <th>recarga_media</th>\n",
       "    </tr>\n",
       "    <tr>\n",
       "      <th>Cliente</th>\n",
       "      <th></th>\n",
       "      <th></th>\n",
       "      <th></th>\n",
       "      <th></th>\n",
       "      <th></th>\n",
       "      <th></th>\n",
       "      <th></th>\n",
       "      <th></th>\n",
       "    </tr>\n",
       "  </thead>\n",
       "  <tbody>\n",
       "    <tr>\n",
       "      <th>551193000723</th>\n",
       "      <td>12</td>\n",
       "      <td>2020-07-21</td>\n",
       "      <td>185.45</td>\n",
       "      <td>170.0</td>\n",
       "      <td>7.272727</td>\n",
       "      <td>24</td>\n",
       "      <td>11</td>\n",
       "      <td>14.166667</td>\n",
       "    </tr>\n",
       "    <tr>\n",
       "      <th>551193019999</th>\n",
       "      <td>5</td>\n",
       "      <td>2020-07-14</td>\n",
       "      <td>175.41</td>\n",
       "      <td>170.0</td>\n",
       "      <td>17.750000</td>\n",
       "      <td>31</td>\n",
       "      <td>11</td>\n",
       "      <td>34.000000</td>\n",
       "    </tr>\n",
       "    <tr>\n",
       "      <th>551193201039</th>\n",
       "      <td>15</td>\n",
       "      <td>2020-07-22</td>\n",
       "      <td>216.14</td>\n",
       "      <td>155.0</td>\n",
       "      <td>5.571429</td>\n",
       "      <td>23</td>\n",
       "      <td>11</td>\n",
       "      <td>10.333333</td>\n",
       "    </tr>\n",
       "    <tr>\n",
       "      <th>551193201238</th>\n",
       "      <td>14</td>\n",
       "      <td>2020-07-09</td>\n",
       "      <td>310.77</td>\n",
       "      <td>285.0</td>\n",
       "      <td>5.000000</td>\n",
       "      <td>36</td>\n",
       "      <td>11</td>\n",
       "      <td>20.357143</td>\n",
       "    </tr>\n",
       "    <tr>\n",
       "      <th>551193201354</th>\n",
       "      <td>1</td>\n",
       "      <td>2020-06-22</td>\n",
       "      <td>20.30</td>\n",
       "      <td>20.0</td>\n",
       "      <td>NaN</td>\n",
       "      <td>53</td>\n",
       "      <td>11</td>\n",
       "      <td>20.000000</td>\n",
       "    </tr>\n",
       "  </tbody>\n",
       "</table>\n",
       "</div>"
      ],
      "text/plain": [
       "              Frequência Data recente  ...  local  recarga_media\n",
       "Cliente                                ...                      \n",
       "551193000723          12   2020-07-21  ...     11      14.166667\n",
       "551193019999           5   2020-07-14  ...     11      34.000000\n",
       "551193201039          15   2020-07-22  ...     11      10.333333\n",
       "551193201238          14   2020-07-09  ...     11      20.357143\n",
       "551193201354           1   2020-06-22  ...     11      20.000000\n",
       "\n",
       "[5 rows x 8 columns]"
      ]
     },
     "execution_count": 5,
     "metadata": {
      "tags": []
     },
     "output_type": "execute_result"
    }
   ],
   "source": [
    "base_total.head()"
   ]
  },
  {
   "cell_type": "code",
   "execution_count": null,
   "metadata": {
    "colab": {
     "base_uri": "https://localhost:8080/",
     "height": 284
    },
    "colab_type": "code",
    "id": "kC44vIXMPWk_",
    "outputId": "f336e078-8805-4657-ed0c-2681b6590a9d"
   },
   "outputs": [
    {
     "data": {
      "text/html": [
       "<div>\n",
       "<style scoped>\n",
       "    .dataframe tbody tr th:only-of-type {\n",
       "        vertical-align: middle;\n",
       "    }\n",
       "\n",
       "    .dataframe tbody tr th {\n",
       "        vertical-align: top;\n",
       "    }\n",
       "\n",
       "    .dataframe thead th {\n",
       "        text-align: right;\n",
       "    }\n",
       "</style>\n",
       "<table border=\"1\" class=\"dataframe\">\n",
       "  <thead>\n",
       "    <tr style=\"text-align: right;\">\n",
       "      <th></th>\n",
       "      <th>Frequência</th>\n",
       "      <th>Saldo_final</th>\n",
       "      <th>valor_recarga</th>\n",
       "      <th>Média de tempo_recargas</th>\n",
       "      <th>tempo_abandono</th>\n",
       "      <th>local</th>\n",
       "      <th>recarga_media</th>\n",
       "    </tr>\n",
       "  </thead>\n",
       "  <tbody>\n",
       "    <tr>\n",
       "      <th>count</th>\n",
       "      <td>14975.000000</td>\n",
       "      <td>14975.000000</td>\n",
       "      <td>14975.000000</td>\n",
       "      <td>10004.000000</td>\n",
       "      <td>14975.000000</td>\n",
       "      <td>14975.000000</td>\n",
       "      <td>14975.000000</td>\n",
       "    </tr>\n",
       "    <tr>\n",
       "      <th>mean</th>\n",
       "      <td>6.323740</td>\n",
       "      <td>103.096097</td>\n",
       "      <td>87.746859</td>\n",
       "      <td>12.728694</td>\n",
       "      <td>34.101169</td>\n",
       "      <td>54.167613</td>\n",
       "      <td>15.023731</td>\n",
       "    </tr>\n",
       "    <tr>\n",
       "      <th>std</th>\n",
       "      <td>5.500407</td>\n",
       "      <td>154.363742</td>\n",
       "      <td>77.400390</td>\n",
       "      <td>8.004881</td>\n",
       "      <td>18.104732</td>\n",
       "      <td>30.446224</td>\n",
       "      <td>5.906880</td>\n",
       "    </tr>\n",
       "    <tr>\n",
       "      <th>min</th>\n",
       "      <td>1.000000</td>\n",
       "      <td>3.020000</td>\n",
       "      <td>3.000000</td>\n",
       "      <td>0.000000</td>\n",
       "      <td>17.000000</td>\n",
       "      <td>11.000000</td>\n",
       "      <td>3.000000</td>\n",
       "    </tr>\n",
       "    <tr>\n",
       "      <th>25%</th>\n",
       "      <td>1.000000</td>\n",
       "      <td>20.240000</td>\n",
       "      <td>20.000000</td>\n",
       "      <td>7.200000</td>\n",
       "      <td>20.000000</td>\n",
       "      <td>21.000000</td>\n",
       "      <td>10.000000</td>\n",
       "    </tr>\n",
       "    <tr>\n",
       "      <th>50%</th>\n",
       "      <td>5.000000</td>\n",
       "      <td>89.020000</td>\n",
       "      <td>80.000000</td>\n",
       "      <td>9.666667</td>\n",
       "      <td>27.000000</td>\n",
       "      <td>62.000000</td>\n",
       "      <td>13.571429</td>\n",
       "    </tr>\n",
       "    <tr>\n",
       "      <th>75%</th>\n",
       "      <td>10.000000</td>\n",
       "      <td>138.105000</td>\n",
       "      <td>130.000000</td>\n",
       "      <td>15.500000</td>\n",
       "      <td>40.000000</td>\n",
       "      <td>83.000000</td>\n",
       "      <td>18.500000</td>\n",
       "    </tr>\n",
       "    <tr>\n",
       "      <th>max</th>\n",
       "      <td>91.000000</td>\n",
       "      <td>7875.900000</td>\n",
       "      <td>1354.000000</td>\n",
       "      <td>57.000000</td>\n",
       "      <td>77.000000</td>\n",
       "      <td>99.000000</td>\n",
       "      <td>66.666667</td>\n",
       "    </tr>\n",
       "  </tbody>\n",
       "</table>\n",
       "</div>"
      ],
      "text/plain": [
       "         Frequência  Saldo_final   ...         local  recarga_media\n",
       "count  14975.000000  14975.000000  ...  14975.000000   14975.000000\n",
       "mean       6.323740    103.096097  ...     54.167613      15.023731\n",
       "std        5.500407    154.363742  ...     30.446224       5.906880\n",
       "min        1.000000      3.020000  ...     11.000000       3.000000\n",
       "25%        1.000000     20.240000  ...     21.000000      10.000000\n",
       "50%        5.000000     89.020000  ...     62.000000      13.571429\n",
       "75%       10.000000    138.105000  ...     83.000000      18.500000\n",
       "max       91.000000   7875.900000  ...     99.000000      66.666667\n",
       "\n",
       "[8 rows x 7 columns]"
      ]
     },
     "execution_count": 6,
     "metadata": {
      "tags": []
     },
     "output_type": "execute_result"
    }
   ],
   "source": [
    "stats = base_total.describe()\n",
    "stats"
   ]
  },
  {
   "cell_type": "markdown",
   "metadata": {
    "colab_type": "text",
    "id": "OgpChiwSPr52"
   },
   "source": [
    "Histogramas"
   ]
  },
  {
   "cell_type": "code",
   "execution_count": null,
   "metadata": {
    "colab": {
     "base_uri": "https://localhost:8080/",
     "height": 70
    },
    "colab_type": "code",
    "id": "qZoDZ3XFTv19",
    "outputId": "ff36eff3-a8a6-4449-a6f1-1d7898192564"
   },
   "outputs": [
    {
     "name": "stdout",
     "output_type": "stream",
     "text": [
      "Index(['Frequência', 'Data recente', 'Saldo_final ', 'valor_recarga ',\n",
      "       'Média de tempo_recargas', 'tempo_abandono'],\n",
      "      dtype='object')\n"
     ]
    }
   ],
   "source": [
    "print(base_total.columns)"
   ]
  },
  {
   "cell_type": "code",
   "execution_count": null,
   "metadata": {
    "colab": {
     "base_uri": "https://localhost:8080/",
     "height": 286
    },
    "colab_type": "code",
    "id": "l4H51Ugcdj3p",
    "outputId": "f59af7f1-437c-46d3-af71-9d717a58b90f"
   },
   "outputs": [
    {
     "data": {
      "image/png": "[encoded data removed]",
      "text/plain": [
       "<Figure size 432x288 with 1 Axes>"
      ]
     },
     "metadata": {
      "tags": []
     },
     "output_type": "display_data"
    },
    {
     "data": {
      "text/plain": [
       "6.106245368187024"
      ]
     },
     "execution_count": 165,
     "metadata": {
      "tags": []
     },
     "output_type": "execute_result"
    }
   ],
   "source": [
    "#histograma Frequencia\n",
    "var = 'Frequência'\n",
    "#limite = 50\n",
    "p75 = stats.iloc[6][var]\n",
    "p25 = stats.iloc[4][var]\n",
    "iqr = p75 - p25\n",
    "higher_outlier = p75 + (1.5 * iqr)\n",
    "sem_outlier = base_total[base_total[var] < higher_outlier]\n",
    "x_hist = sem_outlier[var]\n",
    "plt.hist(x_hist, bins = 20)\n",
    "plt.xticks(np.arange(min(x_hist), max(x_hist), 5))\n",
    "plt.show()\n",
    "x_hist.mean()"
   ]
  },
  {
   "cell_type": "code",
   "execution_count": null,
   "metadata": {
    "colab": {
     "base_uri": "https://localhost:8080/",
     "height": 286
    },
    "colab_type": "code",
    "id": "7Ka4iPJTTtmw",
    "outputId": "67f49268-5a70-4ae5-c00b-cc72c30a16bc"
   },
   "outputs": [
    {
     "data": {
      "image/png": "[encoded data removed]",
      "text/plain": [
       "<Figure size 432x288 with 1 Axes>"
      ]
     },
     "metadata": {
      "tags": []
     },
     "output_type": "display_data"
    },
    {
     "data": {
      "text/plain": [
       "89.27702506007758"
      ]
     },
     "execution_count": 166,
     "metadata": {
      "tags": []
     },
     "output_type": "execute_result"
    }
   ],
   "source": [
    "#histograma Saldo\n",
    "var = 'Saldo_final '\n",
    "limite = 200\n",
    "p75 = stats.iloc[6][var]\n",
    "p25 = stats.iloc[4][var]\n",
    "iqr = p75 - p25\n",
    "higher_outlier = p75 + (1.5 * iqr)\n",
    "sem_outlier = base_total[base_total[var] < higher_outlier]\n",
    "x_hist = sem_outlier[var]\n",
    "plt.hist(x_hist, bins = 20)\n",
    "plt.xticks(np.arange(min(x_hist), max(x_hist), 50))\n",
    "plt.show()\n",
    "x_hist.mean()"
   ]
  },
  {
   "cell_type": "code",
   "execution_count": null,
   "metadata": {
    "colab": {
     "base_uri": "https://localhost:8080/",
     "height": 286
    },
    "colab_type": "code",
    "id": "ua3v0E82T6_0",
    "outputId": "3040495c-b254-430d-cfea-1a8459494058"
   },
   "outputs": [
    {
     "data": {
      "image/png": "[encoded data removed]",
      "text/plain": [
       "<Figure size 432x288 with 1 Axes>"
      ]
     },
     "metadata": {
      "tags": []
     },
     "output_type": "display_data"
    },
    {
     "data": {
      "text/plain": [
       "82.07716887529732"
      ]
     },
     "execution_count": 167,
     "metadata": {
      "tags": []
     },
     "output_type": "execute_result"
    }
   ],
   "source": [
    "#histograma Valor Recarga\n",
    "var = 'valor_recarga '\n",
    "p75 = stats.iloc[6][var]\n",
    "p25 = stats.iloc[4][var]\n",
    "iqr = p75 - p25\n",
    "higher_outlier = p75 + (1.5 * iqr)\n",
    "sem_outlier = base_total[base_total[var] < higher_outlier]\n",
    "x_hist = sem_outlier[var]\n",
    "plt.hist(x_hist, bins = 20)\n",
    "plt.xticks(np.arange(min(x_hist), max(x_hist), 50))\n",
    "plt.show()\n",
    "x_hist.mean()"
   ]
  },
  {
   "cell_type": "code",
   "execution_count": null,
   "metadata": {
    "colab": {
     "base_uri": "https://localhost:8080/",
     "height": 286
    },
    "colab_type": "code",
    "id": "28lttiv7ZPoO",
    "outputId": "cbab3b3e-55ba-4bd7-86b0-033b77060b37"
   },
   "outputs": [
    {
     "data": {
      "image/png": "[encoded data removed]",
      "text/plain": [
       "<Figure size 432x288 with 1 Axes>"
      ]
     },
     "metadata": {
      "tags": []
     },
     "output_type": "display_data"
    },
    {
     "data": {
      "text/plain": [
       "28.005984807795596"
      ]
     },
     "execution_count": 168,
     "metadata": {
      "tags": []
     },
     "output_type": "execute_result"
    }
   ],
   "source": [
    "#histograma Tempo de Abandono\n",
    "var = 'tempo_abandono'\n",
    "p75 = stats.iloc[6][var]\n",
    "p25 = stats.iloc[4][var]\n",
    "iqr = p75 - p25\n",
    "higher_outlier = p75 + (1.5 * iqr)\n",
    "sem_outlier = base_total[base_total[var] < higher_outlier]\n",
    "x_hist = sem_outlier[var]\n",
    "plt.hist(x_hist, bins = 20)\n",
    "plt.xticks(np.arange(min(x_hist), max(x_hist), 10))\n",
    "plt.show()\n",
    "x_hist.mean()"
   ]
  },
  {
   "cell_type": "code",
   "execution_count": null,
   "metadata": {
    "colab": {
     "base_uri": "https://localhost:8080/",
     "height": 286
    },
    "colab_type": "code",
    "id": "f5aQu7rpb1ta",
    "outputId": "2add5124-c6ce-4160-c920-37c5e37b837e"
   },
   "outputs": [
    {
     "data": {
      "image/png": "[encoded data removed]",
      "text/plain": [
       "<Figure size 432x288 with 1 Axes>"
      ]
     },
     "metadata": {
      "tags": []
     },
     "output_type": "display_data"
    },
    {
     "data": {
      "text/plain": [
       "14.597988333578918"
      ]
     },
     "execution_count": 169,
     "metadata": {
      "tags": []
     },
     "output_type": "execute_result"
    }
   ],
   "source": [
    "#histograma Recarga média\n",
    "var = 'recarga_media'\n",
    "p75 = stats.iloc[6][var]\n",
    "p25 = stats.iloc[4][var]\n",
    "iqr = p75 - p25\n",
    "higher_outlier = p75 + (1.5 * iqr)\n",
    "sem_outlier = base_total[base_total[var] < higher_outlier]\n",
    "x_hist = sem_outlier[var]\n",
    "plt.hist(x_hist, bins = 20)\n",
    "plt.xticks(np.arange(min(x_hist), max(x_hist), 10))\n",
    "plt.show()\n",
    "x_hist.mean()"
   ]
  },
  {
   "cell_type": "code",
   "execution_count": null,
   "metadata": {
    "colab": {
     "base_uri": "https://localhost:8080/",
     "height": 286
    },
    "colab_type": "code",
    "id": "MJXHX03WpmK-",
    "outputId": "c104058f-4cf4-4315-d449-8830c294112d"
   },
   "outputs": [
    {
     "data": {
      "image/png": "[encoded data removed]",
      "text/plain": [
       "<Figure size 432x288 with 1 Axes>"
      ]
     },
     "metadata": {
      "tags": []
     },
     "output_type": "display_data"
    },
    {
     "data": {
      "text/plain": [
       "10.781555427711886"
      ]
     },
     "execution_count": 162,
     "metadata": {
      "tags": []
     },
     "output_type": "execute_result"
    }
   ],
   "source": [
    "#histograma Recarga média\n",
    "var = 'Média de tempo_recargas'\n",
    "p75 = stats.iloc[6][var]\n",
    "p25 = stats.iloc[4][var]\n",
    "iqr = p75 - p25\n",
    "higher_outlier = p75 + (1.5 * iqr)\n",
    "sem_outlier = base_total[base_total[var] < higher_outlier]\n",
    "x_hist = sem_outlier[var]\n",
    "plt.hist(x_hist, bins = 20)\n",
    "plt.xticks(np.arange(min(x_hist), max(x_hist), 10))\n",
    "plt.show()\n",
    "x_hist.mean()"
   ]
  },
  {
   "cell_type": "code",
   "execution_count": null,
   "metadata": {
    "colab": {
     "base_uri": "https://localhost:8080/",
     "height": 70
    },
    "colab_type": "code",
    "id": "cnv18gBQahYM",
    "outputId": "ce731381-1dd5-4137-9921-f9b5b4799f31"
   },
   "outputs": [
    {
     "data": {
      "text/plain": [
       "Index(['Frequência', 'Data recente', 'Saldo_final ', 'valor_recarga ',\n",
       "       'Média de tempo_recargas', 'tempo_abandono', 'local', 'recarga_media'],\n",
       "      dtype='object')"
      ]
     },
     "execution_count": 174,
     "metadata": {
      "tags": []
     },
     "output_type": "execute_result"
    }
   ],
   "source": [
    "base_total.columns"
   ]
  },
  {
   "cell_type": "code",
   "execution_count": null,
   "metadata": {
    "colab": {
     "base_uri": "https://localhost:8080/",
     "height": 286
    },
    "colab_type": "code",
    "id": "13xnkUUMacDM",
    "outputId": "76f2f7e8-3b24-4316-a834-7d801aef9952"
   },
   "outputs": [
    {
     "data": {
      "text/plain": [
       "<matplotlib.collections.PathCollection at 0x7f4adad79c18>"
      ]
     },
     "execution_count": 170,
     "metadata": {
      "tags": []
     },
     "output_type": "execute_result"
    },
    {
     "data": {
      "image/png": "[encoded data removed]",
      "text/plain": [
       "<Figure size 432x288 with 1 Axes>"
      ]
     },
     "metadata": {
      "tags": []
     },
     "output_type": "display_data"
    }
   ],
   "source": [
    "base_scatter = base_total[base_total['Frequência'] < 40]\n",
    "fig = plt.figure()\n",
    "ax = fig.add_subplot(1,1,1)\n",
    "ax.scatter(base_scatter['Frequência'] , base_scatter['recarga_media'])"
   ]
  },
  {
   "cell_type": "code",
   "execution_count": null,
   "metadata": {
    "colab": {
     "base_uri": "https://localhost:8080/",
     "height": 286
    },
    "colab_type": "code",
    "id": "uxy348lJqLuA",
    "outputId": "f6ec07ad-5227-4839-f1af-40a6f8f406d5"
   },
   "outputs": [
    {
     "data": {
      "text/plain": [
       "<matplotlib.collections.PathCollection at 0x7f4ae6438940>"
      ]
     },
     "execution_count": 175,
     "metadata": {
      "tags": []
     },
     "output_type": "execute_result"
    },
    {
     "data": {
      "image/png": "[encoded data removed]",
      "text/plain": [
       "<Figure size 432x288 with 1 Axes>"
      ]
     },
     "metadata": {
      "tags": []
     },
     "output_type": "display_data"
    }
   ],
   "source": [
    "base_scatter = base_total[base_total['Frequência'] < 40]\n",
    "fig = plt.figure()\n",
    "ax = fig.add_subplot(1,1,1)\n",
    "ax.scatter(base_scatter['Frequência'] , base_scatter['Média de tempo_recargas'])"
   ]
  },
  {
   "cell_type": "code",
   "execution_count": null,
   "metadata": {
    "colab": {
     "base_uri": "https://localhost:8080/",
     "height": 34
    },
    "colab_type": "code",
    "id": "7F1_eGLxayMK",
    "outputId": "7588c4a2-7162-490e-a303-ae1cf49f0221"
   },
   "outputs": [
    {
     "data": {
      "text/plain": [
       "15.04343468855925"
      ]
     },
     "execution_count": 96,
     "metadata": {
      "tags": []
     },
     "output_type": "execute_result"
    }
   ],
   "source": [
    "base_total[base_total['Frequência'] < 20]['recarga_media'].mean()"
   ]
  },
  {
   "cell_type": "code",
   "execution_count": null,
   "metadata": {
    "colab": {
     "base_uri": "https://localhost:8080/",
     "height": 286
    },
    "colab_type": "code",
    "id": "99wKfY_JcvgU",
    "outputId": "fa53a372-a5f6-48b6-cd81-05da8b126b63"
   },
   "outputs": [
    {
     "data": {
      "text/plain": [
       "<matplotlib.collections.PathCollection at 0x7f4ae7c6e438>"
      ]
     },
     "execution_count": 171,
     "metadata": {
      "tags": []
     },
     "output_type": "execute_result"
    },
    {
     "data": {
      "image/png": "[encoded data removed]",
      "text/plain": [
       "<Figure size 432x288 with 1 Axes>"
      ]
     },
     "metadata": {
      "tags": []
     },
     "output_type": "display_data"
    }
   ],
   "source": [
    "base_scatter = base_total[base_total['Saldo_final '] < 1500]\n",
    "fig = plt.figure()\n",
    "ax = fig.add_subplot(1,1,1)\n",
    "ax.scatter(base_scatter['Saldo_final '], base_scatter['recarga_media'])"
   ]
  },
  {
   "cell_type": "code",
   "execution_count": null,
   "metadata": {
    "colab": {
     "base_uri": "https://localhost:8080/",
     "height": 286
    },
    "colab_type": "code",
    "id": "f90-JpzUdasS",
    "outputId": "0ce47e92-9393-4407-eb4e-c2d7f694dab2"
   },
   "outputs": [
    {
     "data": {
      "text/plain": [
       "<matplotlib.collections.PathCollection at 0x7f4ae91b6898>"
      ]
     },
     "execution_count": 172,
     "metadata": {
      "tags": []
     },
     "output_type": "execute_result"
    },
    {
     "data": {
      "image/png": "[encoded data removed]",
      "text/plain": [
       "<Figure size 432x288 with 1 Axes>"
      ]
     },
     "metadata": {
      "tags": []
     },
     "output_type": "display_data"
    }
   ],
   "source": [
    "fig = plt.figure()\n",
    "ax = fig.add_subplot(1,1,1)\n",
    "ax.scatter(base_total['tempo_abandono'],base_total['recarga_media'])"
   ]
  },
  {
   "cell_type": "code",
   "execution_count": null,
   "metadata": {
    "colab": {},
    "colab_type": "code",
    "id": "3xm8TyKHhHyj"
   },
   "outputs": [],
   "source": [
    "medias_local = base_total.groupby('local', as_index=False).mean()\n",
    "medias_local.head(5)"
   ]
  },
  {
   "cell_type": "code",
   "execution_count": null,
   "metadata": {
    "colab": {
     "base_uri": "https://localhost:8080/",
     "height": 586
    },
    "colab_type": "code",
    "id": "ZEpwgaf6iM5_",
    "outputId": "20cb40d2-c425-41a2-d036-a1b22e0b862c"
   },
   "outputs": [
    {
     "data": {
      "image/png": "[encoded data removed]",
      "text/plain": [
       "<Figure size 1440x720 with 1 Axes>"
      ]
     },
     "metadata": {
      "tags": []
     },
     "output_type": "display_data"
    }
   ],
   "source": [
    "import seaborn as sns\n",
    "\n",
    "a4_dims = (20, 10)\n",
    "fig, ax = plt.subplots(figsize=a4_dims)\n",
    "ax = sns.barplot(ax=ax, y = \"Frequência\", x = \"local\", data = medias_local)\n"
   ]
  },
  {
   "cell_type": "code",
   "execution_count": null,
   "metadata": {
    "colab": {
     "base_uri": "https://localhost:8080/",
     "height": 577
    },
    "colab_type": "code",
    "id": "V3goxrzmm0am",
    "outputId": "5453ecf0-a772-427d-fdf2-0b2d18003552"
   },
   "outputs": [
    {
     "data": {
      "image/png": "[encoded data removed]",
      "text/plain": [
       "<Figure size 1440x720 with 1 Axes>"
      ]
     },
     "metadata": {
      "tags": []
     },
     "output_type": "display_data"
    }
   ],
   "source": [
    "a4_dims = (20, 10)\n",
    "fig, ax = plt.subplots(figsize=a4_dims)\n",
    "ax = sns.barplot(ax=ax, y = \"recarga_media\", x = \"local\", data = medias_local)\n"
   ]
  },
  {
   "cell_type": "code",
   "execution_count": null,
   "metadata": {
    "colab": {
     "base_uri": "https://localhost:8080/",
     "height": 228
    },
    "colab_type": "code",
    "id": "pKm7vGFxgcmR",
    "outputId": "afa38832-3fc1-4999-e485-553b46694be9"
   },
   "outputs": [
    {
     "name": "stderr",
     "output_type": "stream",
     "text": [
      "/usr/local/lib/python3.6/dist-packages/ipykernel_launcher.py:7: SettingWithCopyWarning: \n",
      "A value is trying to be set on a copy of a slice from a DataFrame.\n",
      "Try using .loc[row_indexer,col_indexer] = value instead\n",
      "\n",
      "See the caveats in the documentation: https://pandas.pydata.org/pandas-docs/stable/user_guide/indexing.html#returning-a-view-versus-a-copy\n",
      "  import sys\n",
      "/usr/local/lib/python3.6/dist-packages/ipykernel_launcher.py:8: SettingWithCopyWarning: \n",
      "A value is trying to be set on a copy of a slice from a DataFrame.\n",
      "Try using .loc[row_indexer,col_indexer] = value instead\n",
      "\n",
      "See the caveats in the documentation: https://pandas.pydata.org/pandas-docs/stable/user_guide/indexing.html#returning-a-view-versus-a-copy\n",
      "  \n"
     ]
    }
   ],
   "source": [
    "data_cluster = base_total[['recarga_media','Frequência','tempo_abandono']]\n",
    "\n",
    "from sklearn.cluster import KMeans\n",
    "kmeans = KMeans(n_clusters=5).fit(data_cluster)\n",
    "cluster = kmeans.predict(data_cluster)\n",
    "\n",
    "data_cluster['cluster'] = cluster\n",
    "data_cluster['Média de tempo_recargas'] = base_total['Média de tempo_recargas']\n"
   ]
  },
  {
   "cell_type": "code",
   "execution_count": null,
   "metadata": {
    "colab": {
     "base_uri": "https://localhost:8080/",
     "height": 225
    },
    "colab_type": "code",
    "id": "YVkiaRwFnrZM",
    "outputId": "74e53f7c-c58d-4116-ff1a-8aaf6de1e033"
   },
   "outputs": [
    {
     "data": {
      "text/html": [
       "<div>\n",
       "<style scoped>\n",
       "    .dataframe tbody tr th:only-of-type {\n",
       "        vertical-align: middle;\n",
       "    }\n",
       "\n",
       "    .dataframe tbody tr th {\n",
       "        vertical-align: top;\n",
       "    }\n",
       "\n",
       "    .dataframe thead th {\n",
       "        text-align: right;\n",
       "    }\n",
       "</style>\n",
       "<table border=\"1\" class=\"dataframe\">\n",
       "  <thead>\n",
       "    <tr style=\"text-align: right;\">\n",
       "      <th></th>\n",
       "      <th>recarga_media</th>\n",
       "      <th>Frequência</th>\n",
       "      <th>tempo_abandono</th>\n",
       "      <th>cluster</th>\n",
       "      <th>Média de tempo_recargas</th>\n",
       "    </tr>\n",
       "    <tr>\n",
       "      <th>Cliente</th>\n",
       "      <th></th>\n",
       "      <th></th>\n",
       "      <th></th>\n",
       "      <th></th>\n",
       "      <th></th>\n",
       "    </tr>\n",
       "  </thead>\n",
       "  <tbody>\n",
       "    <tr>\n",
       "      <th>551193000723</th>\n",
       "      <td>14.166667</td>\n",
       "      <td>12</td>\n",
       "      <td>24</td>\n",
       "      <td>4</td>\n",
       "      <td>7.272727</td>\n",
       "    </tr>\n",
       "    <tr>\n",
       "      <th>551193019999</th>\n",
       "      <td>34.000000</td>\n",
       "      <td>5</td>\n",
       "      <td>31</td>\n",
       "      <td>0</td>\n",
       "      <td>17.750000</td>\n",
       "    </tr>\n",
       "    <tr>\n",
       "      <th>551193201039</th>\n",
       "      <td>10.333333</td>\n",
       "      <td>15</td>\n",
       "      <td>23</td>\n",
       "      <td>4</td>\n",
       "      <td>5.571429</td>\n",
       "    </tr>\n",
       "    <tr>\n",
       "      <th>551193201238</th>\n",
       "      <td>20.357143</td>\n",
       "      <td>14</td>\n",
       "      <td>36</td>\n",
       "      <td>0</td>\n",
       "      <td>5.000000</td>\n",
       "    </tr>\n",
       "    <tr>\n",
       "      <th>551193201354</th>\n",
       "      <td>20.000000</td>\n",
       "      <td>1</td>\n",
       "      <td>53</td>\n",
       "      <td>3</td>\n",
       "      <td>NaN</td>\n",
       "    </tr>\n",
       "  </tbody>\n",
       "</table>\n",
       "</div>"
      ],
      "text/plain": [
       "              recarga_media  Frequência  ...  cluster  Média de tempo_recargas\n",
       "Cliente                                  ...                                  \n",
       "551193000723      14.166667          12  ...        4                 7.272727\n",
       "551193019999      34.000000           5  ...        0                17.750000\n",
       "551193201039      10.333333          15  ...        4                 5.571429\n",
       "551193201238      20.357143          14  ...        0                 5.000000\n",
       "551193201354      20.000000           1  ...        3                      NaN\n",
       "\n",
       "[5 rows x 5 columns]"
      ]
     },
     "execution_count": 8,
     "metadata": {
      "tags": []
     },
     "output_type": "execute_result"
    }
   ],
   "source": [
    "data_cluster.head()"
   ]
  },
  {
   "cell_type": "code",
   "execution_count": null,
   "metadata": {
    "colab": {
     "base_uri": "https://localhost:8080/",
     "height": 225
    },
    "colab_type": "code",
    "id": "BZDeUNwEhc1L",
    "outputId": "75d51a5f-6785-4e49-e0a2-78474c160af9"
   },
   "outputs": [
    {
     "data": {
      "text/html": [
       "<div>\n",
       "<style scoped>\n",
       "    .dataframe tbody tr th:only-of-type {\n",
       "        vertical-align: middle;\n",
       "    }\n",
       "\n",
       "    .dataframe tbody tr th {\n",
       "        vertical-align: top;\n",
       "    }\n",
       "\n",
       "    .dataframe thead th {\n",
       "        text-align: right;\n",
       "    }\n",
       "</style>\n",
       "<table border=\"1\" class=\"dataframe\">\n",
       "  <thead>\n",
       "    <tr style=\"text-align: right;\">\n",
       "      <th></th>\n",
       "      <th>recarga_media</th>\n",
       "      <th>Frequência</th>\n",
       "      <th>tempo_abandono</th>\n",
       "      <th>Média de tempo_recargas</th>\n",
       "    </tr>\n",
       "    <tr>\n",
       "      <th>cluster</th>\n",
       "      <th></th>\n",
       "      <th></th>\n",
       "      <th></th>\n",
       "      <th></th>\n",
       "    </tr>\n",
       "  </thead>\n",
       "  <tbody>\n",
       "    <tr>\n",
       "      <th>0</th>\n",
       "      <td>1244</td>\n",
       "      <td>1244</td>\n",
       "      <td>1244</td>\n",
       "      <td>939</td>\n",
       "    </tr>\n",
       "    <tr>\n",
       "      <th>1</th>\n",
       "      <td>4356</td>\n",
       "      <td>4356</td>\n",
       "      <td>4356</td>\n",
       "      <td>3564</td>\n",
       "    </tr>\n",
       "    <tr>\n",
       "      <th>2</th>\n",
       "      <td>1942</td>\n",
       "      <td>1942</td>\n",
       "      <td>1942</td>\n",
       "      <td>3</td>\n",
       "    </tr>\n",
       "    <tr>\n",
       "      <th>3</th>\n",
       "      <td>3367</td>\n",
       "      <td>3367</td>\n",
       "      <td>3367</td>\n",
       "      <td>1432</td>\n",
       "    </tr>\n",
       "    <tr>\n",
       "      <th>4</th>\n",
       "      <td>4066</td>\n",
       "      <td>4066</td>\n",
       "      <td>4066</td>\n",
       "      <td>4066</td>\n",
       "    </tr>\n",
       "  </tbody>\n",
       "</table>\n",
       "</div>"
      ],
      "text/plain": [
       "         recarga_media  Frequência  tempo_abandono  Média de tempo_recargas\n",
       "cluster                                                                    \n",
       "0                 1244        1244            1244                      939\n",
       "1                 4356        4356            4356                     3564\n",
       "2                 1942        1942            1942                        3\n",
       "3                 3367        3367            3367                     1432\n",
       "4                 4066        4066            4066                     4066"
      ]
     },
     "execution_count": 10,
     "metadata": {
      "tags": []
     },
     "output_type": "execute_result"
    }
   ],
   "source": [
    "data_cluster.groupby('cluster').count()"
   ]
  },
  {
   "cell_type": "code",
   "execution_count": null,
   "metadata": {
    "colab": {
     "base_uri": "https://localhost:8080/",
     "height": 195
    },
    "colab_type": "code",
    "id": "HXERw6Z-nX4t",
    "outputId": "f5b4cf3e-7609-4830-ca33-37b90db4a6cc"
   },
   "outputs": [
    {
     "data": {
      "text/html": [
       "<div>\n",
       "<style scoped>\n",
       "    .dataframe tbody tr th:only-of-type {\n",
       "        vertical-align: middle;\n",
       "    }\n",
       "\n",
       "    .dataframe tbody tr th {\n",
       "        vertical-align: top;\n",
       "    }\n",
       "\n",
       "    .dataframe thead th {\n",
       "        text-align: right;\n",
       "    }\n",
       "</style>\n",
       "<table border=\"1\" class=\"dataframe\">\n",
       "  <thead>\n",
       "    <tr style=\"text-align: right;\">\n",
       "      <th></th>\n",
       "      <th>cluster</th>\n",
       "      <th>recarga_media</th>\n",
       "      <th>Frequência</th>\n",
       "      <th>tempo_abandono</th>\n",
       "      <th>Média de tempo_recargas</th>\n",
       "    </tr>\n",
       "  </thead>\n",
       "  <tbody>\n",
       "    <tr>\n",
       "      <th>0</th>\n",
       "      <td>0</td>\n",
       "      <td>26.794997</td>\n",
       "      <td>3.853698</td>\n",
       "      <td>30.798232</td>\n",
       "      <td>21.369338</td>\n",
       "    </tr>\n",
       "    <tr>\n",
       "      <th>1</th>\n",
       "      <td>1</td>\n",
       "      <td>14.629666</td>\n",
       "      <td>5.553489</td>\n",
       "      <td>23.189853</td>\n",
       "      <td>15.330673</td>\n",
       "    </tr>\n",
       "    <tr>\n",
       "      <th>2</th>\n",
       "      <td>2</td>\n",
       "      <td>15.764418</td>\n",
       "      <td>1.001545</td>\n",
       "      <td>75.006694</td>\n",
       "      <td>0.000000</td>\n",
       "    </tr>\n",
       "    <tr>\n",
       "      <th>3</th>\n",
       "      <td>3</td>\n",
       "      <td>14.370563</td>\n",
       "      <td>2.952480</td>\n",
       "      <td>41.372141</td>\n",
       "      <td>16.917020</td>\n",
       "    </tr>\n",
       "    <tr>\n",
       "      <th>4</th>\n",
       "      <td>4</td>\n",
       "      <td>12.031575</td>\n",
       "      <td>13.238318</td>\n",
       "      <td>21.242991</td>\n",
       "      <td>6.986805</td>\n",
       "    </tr>\n",
       "  </tbody>\n",
       "</table>\n",
       "</div>"
      ],
      "text/plain": [
       "   cluster  recarga_media  Frequência  tempo_abandono  Média de tempo_recargas\n",
       "0        0      26.794997    3.853698       30.798232                21.369338\n",
       "1        1      14.629666    5.553489       23.189853                15.330673\n",
       "2        2      15.764418    1.001545       75.006694                 0.000000\n",
       "3        3      14.370563    2.952480       41.372141                16.917020\n",
       "4        4      12.031575   13.238318       21.242991                 6.986805"
      ]
     },
     "execution_count": 9,
     "metadata": {
      "tags": []
     },
     "output_type": "execute_result"
    }
   ],
   "source": [
    "medias_cluster = data_cluster.groupby('cluster', as_index=False).mean()\n",
    "medias_cluster.head(5)"
   ]
  },
  {
   "cell_type": "code",
   "execution_count": null,
   "metadata": {
    "colab": {
     "base_uri": "https://localhost:8080/",
     "height": 339
    },
    "colab_type": "code",
    "id": "8NY4SzyDoPCE",
    "outputId": "3ea0b140-6ac3-4b49-9b5e-b5308423a518"
   },
   "outputs": [
    {
     "data": {
      "image/png": "[encoded data removed]",
      "text/plain": [
       "<Figure size 360x360 with 1 Axes>"
      ]
     },
     "metadata": {
      "tags": []
     },
     "output_type": "display_data"
    }
   ],
   "source": [
    "a4_dims = (5, 5)\n",
    "fig, ax = plt.subplots(figsize=a4_dims)\n",
    "ax = sns.barplot(ax=ax, y = \"recarga_media\", x = \"cluster\", data = medias_cluster)"
   ]
  },
  {
   "cell_type": "code",
   "execution_count": null,
   "metadata": {
    "colab": {
     "base_uri": "https://localhost:8080/",
     "height": 339
    },
    "colab_type": "code",
    "id": "fXrqh8WKokD0",
    "outputId": "75acbd75-8dea-42a0-a76e-6f861b3152c7"
   },
   "outputs": [
    {
     "data": {
      "image/png": "[encoded data removed]",
      "text/plain": [
       "<Figure size 360x360 with 1 Axes>"
      ]
     },
     "metadata": {
      "tags": []
     },
     "output_type": "display_data"
    }
   ],
   "source": [
    "a4_dims = (5, 5)\n",
    "fig, ax = plt.subplots(figsize=a4_dims)\n",
    "ax = sns.barplot(ax=ax, y = \"Frequência\", x = \"cluster\", data = medias_cluster)"
   ]
  },
  {
   "cell_type": "code",
   "execution_count": null,
   "metadata": {
    "colab": {
     "base_uri": "https://localhost:8080/",
     "height": 339
    },
    "colab_type": "code",
    "id": "E7vGMhSkotTM",
    "outputId": "7c227948-5054-4df7-9693-b91545924718"
   },
   "outputs": [
    {
     "data": {
      "image/png": "[encoded data removed]",
      "text/plain": [
       "<Figure size 360x360 with 1 Axes>"
      ]
     },
     "metadata": {
      "tags": []
     },
     "output_type": "display_data"
    }
   ],
   "source": [
    "a4_dims = (5, 5)\n",
    "fig, ax = plt.subplots(figsize=a4_dims)\n",
    "ax = sns.barplot(ax=ax, y = \"tempo_abandono\", x = \"cluster\", data = medias_cluster)"
   ]
  },
  {
   "cell_type": "code",
   "execution_count": null,
   "metadata": {
    "colab": {
     "base_uri": "https://localhost:8080/",
     "height": 339
    },
    "colab_type": "code",
    "id": "GSx-cRr5qvnt",
    "outputId": "62832b7e-04f8-4dc4-f8ea-1a27068ff023"
   },
   "outputs": [
    {
     "data": {
      "image/png": "[encoded data removed]",
      "text/plain": [
       "<Figure size 360x360 with 1 Axes>"
      ]
     },
     "metadata": {
      "tags": []
     },
     "output_type": "display_data"
    }
   ],
   "source": [
    "a4_dims = (5, 5)\n",
    "fig, ax = plt.subplots(figsize=a4_dims)\n",
    "ax = sns.barplot(ax=ax, y = \"Média de tempo_recargas\", x = \"cluster\", data = medias_cluster)"
   ]
  },
  {
   "cell_type": "code",
   "execution_count": null,
   "metadata": {
    "colab": {},
    "colab_type": "code",
    "id": "25SqIRB2sD_a"
   },
   "outputs": [],
   "source": [
    "base_churn = pd.read_excel('base_recarga_case_final.xlsx'\n",
    "                              , index_col = 0, sheet_name = 'Base modelagem churn')"
   ]
  },
  {
   "cell_type": "code",
   "execution_count": null,
   "metadata": {
    "colab": {
     "base_uri": "https://localhost:8080/",
     "height": 225
    },
    "colab_type": "code",
    "id": "RwQIoYuLsWw2",
    "outputId": "85236e31-e5e2-4dfa-ccf1-002db5d5d7b5"
   },
   "outputs": [
    {
     "data": {
      "text/html": [
       "<div>\n",
       "<style scoped>\n",
       "    .dataframe tbody tr th:only-of-type {\n",
       "        vertical-align: middle;\n",
       "    }\n",
       "\n",
       "    .dataframe tbody tr th {\n",
       "        vertical-align: top;\n",
       "    }\n",
       "\n",
       "    .dataframe thead th {\n",
       "        text-align: right;\n",
       "    }\n",
       "</style>\n",
       "<table border=\"1\" class=\"dataframe\">\n",
       "  <thead>\n",
       "    <tr style=\"text-align: right;\">\n",
       "      <th></th>\n",
       "      <th>max_saldo_final_maio_junho</th>\n",
       "      <th>ativo_maio</th>\n",
       "      <th>valor_recarga_maio_junho</th>\n",
       "      <th>media_tempo_recargas_maio_junho</th>\n",
       "      <th>flag_recarga_julho</th>\n",
       "      <th>local</th>\n",
       "    </tr>\n",
       "    <tr>\n",
       "      <th>usuario</th>\n",
       "      <th></th>\n",
       "      <th></th>\n",
       "      <th></th>\n",
       "      <th></th>\n",
       "      <th></th>\n",
       "      <th></th>\n",
       "    </tr>\n",
       "  </thead>\n",
       "  <tbody>\n",
       "    <tr>\n",
       "      <th>551193000723</th>\n",
       "      <td>20.28</td>\n",
       "      <td>1</td>\n",
       "      <td>125.0</td>\n",
       "      <td>6.666667</td>\n",
       "      <td>1</td>\n",
       "      <td>11</td>\n",
       "    </tr>\n",
       "    <tr>\n",
       "      <th>551193019999</th>\n",
       "      <td>50.10</td>\n",
       "      <td>1</td>\n",
       "      <td>140.0</td>\n",
       "      <td>14.200000</td>\n",
       "      <td>1</td>\n",
       "      <td>11</td>\n",
       "    </tr>\n",
       "    <tr>\n",
       "      <th>551193201039</th>\n",
       "      <td>13.08</td>\n",
       "      <td>1</td>\n",
       "      <td>50.0</td>\n",
       "      <td>5.200000</td>\n",
       "      <td>1</td>\n",
       "      <td>11</td>\n",
       "    </tr>\n",
       "    <tr>\n",
       "      <th>551193201238</th>\n",
       "      <td>32.67</td>\n",
       "      <td>1</td>\n",
       "      <td>215.0</td>\n",
       "      <td>4.642857</td>\n",
       "      <td>1</td>\n",
       "      <td>11</td>\n",
       "    </tr>\n",
       "    <tr>\n",
       "      <th>551193201395</th>\n",
       "      <td>51.02</td>\n",
       "      <td>1</td>\n",
       "      <td>140.0</td>\n",
       "      <td>19.250000</td>\n",
       "      <td>1</td>\n",
       "      <td>11</td>\n",
       "    </tr>\n",
       "  </tbody>\n",
       "</table>\n",
       "</div>"
      ],
      "text/plain": [
       "              max_saldo_final_maio_junho  ativo_maio  ...  flag_recarga_julho  local\n",
       "usuario                                               ...                           \n",
       "551193000723                       20.28           1  ...                   1     11\n",
       "551193019999                       50.10           1  ...                   1     11\n",
       "551193201039                       13.08           1  ...                   1     11\n",
       "551193201238                       32.67           1  ...                   1     11\n",
       "551193201395                       51.02           1  ...                   1     11\n",
       "\n",
       "[5 rows x 6 columns]"
      ]
     },
     "execution_count": 185,
     "metadata": {
      "tags": []
     },
     "output_type": "execute_result"
    }
   ],
   "source": [
    "base_churn.head()"
   ]
  },
  {
   "cell_type": "code",
   "execution_count": null,
   "metadata": {
    "colab": {
     "base_uri": "https://localhost:8080/",
     "height": 90
    },
    "colab_type": "code",
    "id": "Ixc-dJMyr3sD",
    "outputId": "867c082e-40fe-4290-c635-011f89a3a5b0"
   },
   "outputs": [
    {
     "name": "stderr",
     "output_type": "stream",
     "text": [
      "/usr/local/lib/python3.6/dist-packages/sklearn/utils/validation.py:760: DataConversionWarning: A column-vector y was passed when a 1d array was expected. Please change the shape of y to (n_samples, ), for example using ravel().\n",
      "  y = column_or_1d(y, warn=True)\n"
     ]
    },
    {
     "data": {
      "text/plain": [
       "array([[-5.70932919,  0.03006669,  2.34006422, -0.02134386]])"
      ]
     },
     "execution_count": 203,
     "metadata": {
      "tags": []
     },
     "output_type": "execute_result"
    }
   ],
   "source": [
    "from sklearn.linear_model import LogisticRegression\n",
    "from patsy import dmatrices\n",
    "\n",
    "y, X = dmatrices('flag_recarga_julho ~ valor_recarga_maio_junho + media_tempo_recargas_maio_junho + max_saldo_final_maio_junho', base_churn, return_type = 'dataframe')\n",
    "\n",
    "# sklearn output\n",
    "model = LogisticRegression(fit_intercept = False)\n",
    "mdl = model.fit(X, y)\n",
    "model.coef_\n"
   ]
  },
  {
   "cell_type": "code",
   "execution_count": null,
   "metadata": {
    "colab": {
     "base_uri": "https://localhost:8080/",
     "height": 34
    },
    "colab_type": "code",
    "id": "wQVEW-4dsunO",
    "outputId": "39807bb9-0767-4703-aa3f-c1aba972b920"
   },
   "outputs": [
    {
     "name": "stdout",
     "output_type": "stream",
     "text": [
      "[[-5.70932919  0.03006669  2.34006422 -0.02134386]]\n"
     ]
    }
   ],
   "source": [
    "print(model.coef_)"
   ]
  },
  {
   "cell_type": "code",
   "execution_count": null,
   "metadata": {
    "colab": {},
    "colab_type": "code",
    "id": "_FlWoXDNubIx"
   },
   "outputs": [],
   "source": [
    "import statsmodels.discrete.discrete_model as sm\n",
    "logit = sm.Logit(y, X).fit()"
   ]
  },
  {
   "cell_type": "code",
   "execution_count": null,
   "metadata": {
    "colab": {},
    "colab_type": "code",
    "id": "5v8ORZJ0usgy"
   },
   "outputs": [],
   "source": [
    "print(logit.summary())"
   ]
  }
 ],
 "metadata": {
  "colab": {
   "authorship_tag": "ABX9TyOsKlalzh7Q608Lgps20IZI",
   "include_colab_link": true,
   "name": "Mobicare.ipynb",
   "provenance": []
  },
  "kernelspec": {
   "display_name": "Python 3",
   "language": "python",
   "name": "python3"
  },
  "language_info": {
   "codemirror_mode": {
    "name": "ipython",
    "version": 3
   },
   "file_extension": ".py",
   "mimetype": "text/x-python",
   "name": "python",
   "nbconvert_exporter": "python",
   "pygments_lexer": "ipython3",
   "version": "3.9.2"
  }
 },
 "nbformat": 4,
 "nbformat_minor": 4
}
