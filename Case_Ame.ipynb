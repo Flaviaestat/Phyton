{
 "cells": [
  {
   "cell_type": "markdown",
   "metadata": {
    "colab_type": "text",
    "id": "r2q_L7uUcgn8"
   },
   "source": [
    "## Entendimento do problema"
   ]
  },
  {
   "cell_type": "markdown",
   "metadata": {
    "colab_type": "text",
    "id": "-J2tbjoPckzm"
   },
   "source": [
    "Dentro da empresa existe uma equipe que é responsável por definir as características de produtos que vão ser construídos. Para uma categoria de liquidificadores, por exemplo, essa equipe fica responsável por definir a cor, volume do copo, material do copo ou mesmo se vai ter um filtro para suco de frutas. Para **definir as características** das diferentes categorias de produtos, a equipe procura **entender quando o cliente se interessa por um produto**. É nesse ponto que o time do Labs é chamado. \n",
    "\n",
    "O seu objetivo principal é desenvolver um modelo que consiga classificar o produto entre \"interessante\" e \"não interessante\" dados os atributos do mesmo. Além disso, é desejável que você também consiga **indicar quais são os atributos e respectivos valores que mais impulsionam o interesse do cliente**.\n",
    "\n",
    "O conjunto de dados possui os atributos de cada produto de uma categoria de panelas e se houve ou não interesse do cliente ao visualizar o produto no site. Cada linha é o registro da visualização de um cliente em determinado momento."
   ]
  },
  {
   "cell_type": "markdown",
   "metadata": {
    "colab_type": "text",
    "id": "gF6UIdZbdYYd"
   },
   "source": [
    "## Carregamento e exame inicial da base"
   ]
  },
  {
   "cell_type": "code",
   "execution_count": 1,
   "metadata": {
    "colab": {
     "base_uri": "https://localhost:8080/",
     "height": 215
    },
    "colab_type": "code",
    "id": "URdh9jQXdbz-",
    "outputId": "9036edc6-8bd6-4341-d953-b69ce5623536"
   },
   "outputs": [
    {
     "data": {
      "text/html": [
       "<div>\n",
       "<style scoped>\n",
       "    .dataframe tbody tr th:only-of-type {\n",
       "        vertical-align: middle;\n",
       "    }\n",
       "\n",
       "    .dataframe tbody tr th {\n",
       "        vertical-align: top;\n",
       "    }\n",
       "\n",
       "    .dataframe thead th {\n",
       "        text-align: right;\n",
       "    }\n",
       "</style>\n",
       "<table border=\"1\" class=\"dataframe\">\n",
       "  <thead>\n",
       "    <tr style=\"text-align: right;\">\n",
       "      <th></th>\n",
       "      <th>ITEM_ID</th>\n",
       "      <th>ALTURA</th>\n",
       "      <th>CAPACIDADE_(L)</th>\n",
       "      <th>COMPOSICAO</th>\n",
       "      <th>COR</th>\n",
       "      <th>FORMATO</th>\n",
       "      <th>LARGURA</th>\n",
       "      <th>MARCA</th>\n",
       "      <th>PARA_LAVA_LOUCAS</th>\n",
       "      <th>PARA_MICRO_ONDAS</th>\n",
       "      <th>PESO</th>\n",
       "      <th>PROFUNDIDADE</th>\n",
       "      <th>TEMPO_GARANTIA</th>\n",
       "      <th>TEM_FERRO_FUNDIDO</th>\n",
       "      <th>TEM_GRELHA</th>\n",
       "      <th>TEM_TAMPA</th>\n",
       "      <th>TIPO_PRODUTO</th>\n",
       "      <th>TIPO_WOK</th>\n",
       "      <th>SESSION_ID</th>\n",
       "      <th>ITEM_PRICE</th>\n",
       "      <th>INTERESTED</th>\n",
       "    </tr>\n",
       "  </thead>\n",
       "  <tbody>\n",
       "    <tr>\n",
       "      <th>0</th>\n",
       "      <td>264220456</td>\n",
       "      <td>30.5</td>\n",
       "      <td>NaN</td>\n",
       "      <td>ALUMINIO</td>\n",
       "      <td>VINHO</td>\n",
       "      <td>NaN</td>\n",
       "      <td>14.0</td>\n",
       "      <td>LA CUISINE</td>\n",
       "      <td>NaN</td>\n",
       "      <td>NaN</td>\n",
       "      <td>NaN</td>\n",
       "      <td>50.0</td>\n",
       "      <td>3.0</td>\n",
       "      <td>NAO</td>\n",
       "      <td>SIM</td>\n",
       "      <td>1.0</td>\n",
       "      <td>PANELA</td>\n",
       "      <td>NAO</td>\n",
       "      <td>86.709770</td>\n",
       "      <td>199.990000</td>\n",
       "      <td>0.0</td>\n",
       "    </tr>\n",
       "    <tr>\n",
       "      <th>1</th>\n",
       "      <td>238630912</td>\n",
       "      <td>22.0</td>\n",
       "      <td>NaN</td>\n",
       "      <td>ALUMINIO</td>\n",
       "      <td>COLORIDO</td>\n",
       "      <td>NaN</td>\n",
       "      <td>24.0</td>\n",
       "      <td>TRAMONTINA</td>\n",
       "      <td>No</td>\n",
       "      <td>no</td>\n",
       "      <td>150.0</td>\n",
       "      <td>40.0</td>\n",
       "      <td>12.0</td>\n",
       "      <td>NAO</td>\n",
       "      <td>NAO</td>\n",
       "      <td>1.0</td>\n",
       "      <td>PIPOQUEIRA</td>\n",
       "      <td>NAO</td>\n",
       "      <td>73.156401</td>\n",
       "      <td>105.112581</td>\n",
       "      <td>0.0</td>\n",
       "    </tr>\n",
       "    <tr>\n",
       "      <th>2</th>\n",
       "      <td>218228122</td>\n",
       "      <td>24.0</td>\n",
       "      <td>NaN</td>\n",
       "      <td>INOX</td>\n",
       "      <td>INOX</td>\n",
       "      <td>NaN</td>\n",
       "      <td>20.0</td>\n",
       "      <td>LA CUISINE</td>\n",
       "      <td>Yes</td>\n",
       "      <td>no</td>\n",
       "      <td>190.0</td>\n",
       "      <td>20.0</td>\n",
       "      <td>3.0</td>\n",
       "      <td>NAO</td>\n",
       "      <td>NAO</td>\n",
       "      <td>1.0</td>\n",
       "      <td>ESPAGUETEIRA</td>\n",
       "      <td>NAO</td>\n",
       "      <td>952.331024</td>\n",
       "      <td>139.990000</td>\n",
       "      <td>0.0</td>\n",
       "    </tr>\n",
       "    <tr>\n",
       "      <th>3</th>\n",
       "      <td>253661510</td>\n",
       "      <td>49.5</td>\n",
       "      <td>6.0</td>\n",
       "      <td>ALUMINIO</td>\n",
       "      <td>VERMELHO</td>\n",
       "      <td>REDONDO</td>\n",
       "      <td>41.5</td>\n",
       "      <td>TRAMONTINA</td>\n",
       "      <td>Yes</td>\n",
       "      <td>NaN</td>\n",
       "      <td>120.0</td>\n",
       "      <td>47.0</td>\n",
       "      <td>NaN</td>\n",
       "      <td>NAO</td>\n",
       "      <td>NAO</td>\n",
       "      <td>1.0</td>\n",
       "      <td>PIPOQUEIRA</td>\n",
       "      <td>NAO</td>\n",
       "      <td>637.759106</td>\n",
       "      <td>103.293333</td>\n",
       "      <td>1.0</td>\n",
       "    </tr>\n",
       "    <tr>\n",
       "      <th>4</th>\n",
       "      <td>253661510</td>\n",
       "      <td>49.5</td>\n",
       "      <td>6.0</td>\n",
       "      <td>ALUMINIO</td>\n",
       "      <td>VERMELHO</td>\n",
       "      <td>REDONDO</td>\n",
       "      <td>41.5</td>\n",
       "      <td>TRAMONTINA</td>\n",
       "      <td>Yes</td>\n",
       "      <td>NaN</td>\n",
       "      <td>120.0</td>\n",
       "      <td>47.0</td>\n",
       "      <td>NaN</td>\n",
       "      <td>NAO</td>\n",
       "      <td>NAO</td>\n",
       "      <td>1.0</td>\n",
       "      <td>PIPOQUEIRA</td>\n",
       "      <td>NAO</td>\n",
       "      <td>478.531428</td>\n",
       "      <td>103.330242</td>\n",
       "      <td>0.0</td>\n",
       "    </tr>\n",
       "  </tbody>\n",
       "</table>\n",
       "</div>"
      ],
      "text/plain": [
       "     ITEM_ID  ALTURA  CAPACIDADE_(L)  ...  SESSION_ID  ITEM_PRICE INTERESTED\n",
       "0  264220456    30.5             NaN  ...   86.709770  199.990000        0.0\n",
       "1  238630912    22.0             NaN  ...   73.156401  105.112581        0.0\n",
       "2  218228122    24.0             NaN  ...  952.331024  139.990000        0.0\n",
       "3  253661510    49.5             6.0  ...  637.759106  103.293333        1.0\n",
       "4  253661510    49.5             6.0  ...  478.531428  103.330242        0.0\n",
       "\n",
       "[5 rows x 21 columns]"
      ]
     },
     "execution_count": 1,
     "metadata": {
      "tags": []
     },
     "output_type": "execute_result"
    }
   ],
   "source": [
    "import pandas as pd\n",
    "dataset = pd.read_csv('problem1_dataset.csv')\n",
    "dataset.head()"
   ]
  },
  {
   "cell_type": "markdown",
   "metadata": {
    "colab_type": "text",
    "id": "E9CBdoM5hwzG"
   },
   "source": [
    "Tamanho da base"
   ]
  },
  {
   "cell_type": "code",
   "execution_count": 2,
   "metadata": {
    "colab": {
     "base_uri": "https://localhost:8080/",
     "height": 34
    },
    "colab_type": "code",
    "id": "JS6yqybVhwSJ",
    "outputId": "83b18f0f-8335-4b30-cfb6-7c856c0fd130"
   },
   "outputs": [
    {
     "data": {
      "text/plain": [
       "89189"
      ]
     },
     "execution_count": 2,
     "metadata": {
      "tags": []
     },
     "output_type": "execute_result"
    }
   ],
   "source": [
    "len(dataset)"
   ]
  },
  {
   "cell_type": "markdown",
   "metadata": {
    "colab_type": "text",
    "id": "lusPbNrCexjM"
   },
   "source": [
    "Avaliando missings da base"
   ]
  },
  {
   "cell_type": "code",
   "execution_count": 3,
   "metadata": {
    "colab": {
     "base_uri": "https://localhost:8080/",
     "height": 404
    },
    "colab_type": "code",
    "id": "lJKQGCtIhbon",
    "outputId": "39424fcd-f174-411c-c099-77f249096771"
   },
   "outputs": [
    {
     "data": {
      "text/plain": [
       "ITEM_ID                  0\n",
       "ALTURA                4614\n",
       "CAPACIDADE_(L)       51262\n",
       "COMPOSICAO           11522\n",
       "COR                   4841\n",
       "FORMATO              44750\n",
       "LARGURA               4615\n",
       "MARCA                  149\n",
       "PARA_LAVA_LOUCAS     37615\n",
       "PARA_MICRO_ONDAS     46369\n",
       "PESO                 40371\n",
       "PROFUNDIDADE          4615\n",
       "TEMPO_GARANTIA       28467\n",
       "TEM_FERRO_FUNDIDO        1\n",
       "TEM_GRELHA               1\n",
       "TEM_TAMPA                1\n",
       "TIPO_PRODUTO             1\n",
       "TIPO_WOK                 1\n",
       "SESSION_ID            1000\n",
       "ITEM_PRICE            6534\n",
       "INTERESTED               1\n",
       "dtype: int64"
      ]
     },
     "execution_count": 3,
     "metadata": {
      "tags": []
     },
     "output_type": "execute_result"
    }
   ],
   "source": [
    "dataset.isnull().sum()"
   ]
  },
  {
   "cell_type": "markdown",
   "metadata": {
    "colab_type": "text",
    "id": "GwXX3PL_epjd"
   },
   "source": [
    "Definindo colunas de IDS, numéricas e categóricas"
   ]
  },
  {
   "cell_type": "code",
   "execution_count": 2,
   "metadata": {
    "colab": {},
    "colab_type": "code",
    "id": "nTlqPJiMer5k"
   },
   "outputs": [],
   "source": [
    "id_columns = ['ITEM_ID','SESSION_ID']\n",
    "cat_columns = dataset.select_dtypes('object').columns\n",
    "num_columns = dataset.select_dtypes(exclude=['object']).drop(id_columns, axis = 1).columns"
   ]
  },
  {
   "cell_type": "markdown",
   "metadata": {
    "colab_type": "text",
    "id": "M7uPHb81eeO_"
   },
   "source": [
    "Avaliando estatísticas gerais das variáveis numéricas"
   ]
  },
  {
   "cell_type": "code",
   "execution_count": 5,
   "metadata": {
    "colab": {
     "base_uri": "https://localhost:8080/",
     "height": 284
    },
    "colab_type": "code",
    "id": "1wrINDa-ejNF",
    "outputId": "2c39ce91-25d7-4d79-8c1c-257a905196d1"
   },
   "outputs": [
    {
     "data": {
      "text/html": [
       "<div>\n",
       "<style scoped>\n",
       "    .dataframe tbody tr th:only-of-type {\n",
       "        vertical-align: middle;\n",
       "    }\n",
       "\n",
       "    .dataframe tbody tr th {\n",
       "        vertical-align: top;\n",
       "    }\n",
       "\n",
       "    .dataframe thead th {\n",
       "        text-align: right;\n",
       "    }\n",
       "</style>\n",
       "<table border=\"1\" class=\"dataframe\">\n",
       "  <thead>\n",
       "    <tr style=\"text-align: right;\">\n",
       "      <th></th>\n",
       "      <th>ALTURA</th>\n",
       "      <th>CAPACIDADE_(L)</th>\n",
       "      <th>LARGURA</th>\n",
       "      <th>PESO</th>\n",
       "      <th>PROFUNDIDADE</th>\n",
       "      <th>TEMPO_GARANTIA</th>\n",
       "      <th>TEM_TAMPA</th>\n",
       "      <th>ITEM_PRICE</th>\n",
       "      <th>INTERESTED</th>\n",
       "    </tr>\n",
       "  </thead>\n",
       "  <tbody>\n",
       "    <tr>\n",
       "      <th>count</th>\n",
       "      <td>84575.000000</td>\n",
       "      <td>37927.000000</td>\n",
       "      <td>84574.000000</td>\n",
       "      <td>48818.000000</td>\n",
       "      <td>84574.000000</td>\n",
       "      <td>60722.000000</td>\n",
       "      <td>89188.000000</td>\n",
       "      <td>82655.000000</td>\n",
       "      <td>89188.000000</td>\n",
       "    </tr>\n",
       "    <tr>\n",
       "      <th>mean</th>\n",
       "      <td>30.639156</td>\n",
       "      <td>4.237928</td>\n",
       "      <td>27.885013</td>\n",
       "      <td>321.861013</td>\n",
       "      <td>34.778490</td>\n",
       "      <td>13.739682</td>\n",
       "      <td>0.442167</td>\n",
       "      <td>128.115079</td>\n",
       "      <td>0.085897</td>\n",
       "    </tr>\n",
       "    <tr>\n",
       "      <th>std</th>\n",
       "      <td>14.863511</td>\n",
       "      <td>1.695356</td>\n",
       "      <td>10.529214</td>\n",
       "      <td>1839.352108</td>\n",
       "      <td>15.209001</td>\n",
       "      <td>43.171095</td>\n",
       "      <td>0.496647</td>\n",
       "      <td>140.995076</td>\n",
       "      <td>0.280214</td>\n",
       "    </tr>\n",
       "    <tr>\n",
       "      <th>min</th>\n",
       "      <td>2.000000</td>\n",
       "      <td>0.045000</td>\n",
       "      <td>4.500000</td>\n",
       "      <td>0.619000</td>\n",
       "      <td>2.500000</td>\n",
       "      <td>1.000000</td>\n",
       "      <td>0.000000</td>\n",
       "      <td>4.900000</td>\n",
       "      <td>0.000000</td>\n",
       "    </tr>\n",
       "    <tr>\n",
       "      <th>25%</th>\n",
       "      <td>19.000000</td>\n",
       "      <td>3.100000</td>\n",
       "      <td>20.000000</td>\n",
       "      <td>120.000000</td>\n",
       "      <td>19.800000</td>\n",
       "      <td>3.000000</td>\n",
       "      <td>0.000000</td>\n",
       "      <td>74.990000</td>\n",
       "      <td>0.000000</td>\n",
       "    </tr>\n",
       "    <tr>\n",
       "      <th>50%</th>\n",
       "      <td>30.500000</td>\n",
       "      <td>4.500000</td>\n",
       "      <td>27.800000</td>\n",
       "      <td>160.000000</td>\n",
       "      <td>38.500000</td>\n",
       "      <td>6.000000</td>\n",
       "      <td>0.000000</td>\n",
       "      <td>104.275714</td>\n",
       "      <td>0.000000</td>\n",
       "    </tr>\n",
       "    <tr>\n",
       "      <th>75%</th>\n",
       "      <td>42.700000</td>\n",
       "      <td>6.000000</td>\n",
       "      <td>35.000000</td>\n",
       "      <td>190.000000</td>\n",
       "      <td>47.000000</td>\n",
       "      <td>12.000000</td>\n",
       "      <td>1.000000</td>\n",
       "      <td>144.990000</td>\n",
       "      <td>0.000000</td>\n",
       "    </tr>\n",
       "    <tr>\n",
       "      <th>max</th>\n",
       "      <td>84.000000</td>\n",
       "      <td>11.000000</td>\n",
       "      <td>91.000000</td>\n",
       "      <td>44400.000000</td>\n",
       "      <td>148.000000</td>\n",
       "      <td>300.000000</td>\n",
       "      <td>1.000000</td>\n",
       "      <td>2274.990000</td>\n",
       "      <td>1.000000</td>\n",
       "    </tr>\n",
       "  </tbody>\n",
       "</table>\n",
       "</div>"
      ],
      "text/plain": [
       "             ALTURA  CAPACIDADE_(L)  ...    ITEM_PRICE    INTERESTED\n",
       "count  84575.000000    37927.000000  ...  82655.000000  89188.000000\n",
       "mean      30.639156        4.237928  ...    128.115079      0.085897\n",
       "std       14.863511        1.695356  ...    140.995076      0.280214\n",
       "min        2.000000        0.045000  ...      4.900000      0.000000\n",
       "25%       19.000000        3.100000  ...     74.990000      0.000000\n",
       "50%       30.500000        4.500000  ...    104.275714      0.000000\n",
       "75%       42.700000        6.000000  ...    144.990000      0.000000\n",
       "max       84.000000       11.000000  ...   2274.990000      1.000000\n",
       "\n",
       "[8 rows x 9 columns]"
      ]
     },
     "execution_count": 5,
     "metadata": {
      "tags": []
     },
     "output_type": "execute_result"
    }
   ],
   "source": [
    "stats = dataset.drop(id_columns, axis=1).describe()\n",
    "stats"
   ]
  },
  {
   "cell_type": "markdown",
   "metadata": {
    "colab_type": "text",
    "id": "n4fW1CUedYWu"
   },
   "source": [
    "Levantando o número de Outliers (limite superior) das variáveis numéricas"
   ]
  },
  {
   "cell_type": "code",
   "execution_count": 6,
   "metadata": {
    "colab": {
     "base_uri": "https://localhost:8080/",
     "height": 87
    },
    "colab_type": "code",
    "id": "7W-KF11SiIrK",
    "outputId": "7dd49dfd-c068-4b0c-c0f5-4eda2c280f62"
   },
   "outputs": [
    {
     "name": "stdout",
     "output_type": "stream",
     "text": [
      "Index(['ALTURA', 'CAPACIDADE_(L)', 'LARGURA', 'PESO', 'PROFUNDIDADE',\n",
      "       'TEMPO_GARANTIA', 'TEM_TAMPA', 'ITEM_PRICE', 'INTERESTED'],\n",
      "      dtype='object')\n",
      "[342, 191, 406, 9864, 351, 1457, 0, 3901, 7661]\n"
     ]
    }
   ],
   "source": [
    "num_outlier = []\n",
    "\n",
    "for i in num_columns:\n",
    "  p75 = stats.iloc[6][i]\n",
    "  p25 = stats.iloc[4][i]\n",
    "  iqr = p75 - p25\n",
    "  higher_outlier = p75 + (1.5 * iqr)\n",
    "  count_outlier = (dataset[i] > higher_outlier).sum()\n",
    "  num_outlier.append(count_outlier)\n",
    "\n",
    "print(num_columns)\n",
    "print(num_outlier)"
   ]
  },
  {
   "cell_type": "markdown",
   "metadata": {
    "colab_type": "text",
    "id": "mUeQiEpvkF2x"
   },
   "source": [
    "Preenchimento de missings para as variáveis numéricas será através da mediana e para as categóricas a moda"
   ]
  },
  {
   "cell_type": "code",
   "execution_count": 3,
   "metadata": {
    "colab": {},
    "colab_type": "code",
    "id": "WmdPWvGqkdBB"
   },
   "outputs": [],
   "source": [
    "for column in dataset.columns:\n",
    "  if dataset[column].dtype == 'object':\n",
    "    dataset[column].fillna(dataset[column].mode()[0], inplace = True)\n",
    "  elif dataset[column].dtype != 'object':\n",
    "    dataset[column].fillna(dataset[column].median(), inplace = True)"
   ]
  },
  {
   "cell_type": "code",
   "execution_count": 4,
   "metadata": {
    "colab": {
     "base_uri": "https://localhost:8080/",
     "height": 404
    },
    "colab_type": "code",
    "id": "gN6s_s7uk8Gh",
    "outputId": "703b50d1-7030-4e74-835b-670be7823ba8"
   },
   "outputs": [
    {
     "data": {
      "text/plain": [
       "ITEM_ID              0\n",
       "ALTURA               0\n",
       "CAPACIDADE_(L)       0\n",
       "COMPOSICAO           0\n",
       "COR                  0\n",
       "FORMATO              0\n",
       "LARGURA              0\n",
       "MARCA                0\n",
       "PARA_LAVA_LOUCAS     0\n",
       "PARA_MICRO_ONDAS     0\n",
       "PESO                 0\n",
       "PROFUNDIDADE         0\n",
       "TEMPO_GARANTIA       0\n",
       "TEM_FERRO_FUNDIDO    0\n",
       "TEM_GRELHA           0\n",
       "TEM_TAMPA            0\n",
       "TIPO_PRODUTO         0\n",
       "TIPO_WOK             0\n",
       "SESSION_ID           0\n",
       "ITEM_PRICE           0\n",
       "INTERESTED           0\n",
       "dtype: int64"
      ]
     },
     "execution_count": 4,
     "metadata": {
      "tags": []
     },
     "output_type": "execute_result"
    }
   ],
   "source": [
    "#conferência\n",
    "dataset.isnull().sum()"
   ]
  },
  {
   "cell_type": "markdown",
   "metadata": {
    "colab_type": "text",
    "id": "4_YyRF47mzRB"
   },
   "source": [
    "Checando por variância nula nas variáveis categoricas"
   ]
  },
  {
   "cell_type": "code",
   "execution_count": 28,
   "metadata": {
    "colab": {
     "base_uri": "https://localhost:8080/",
     "height": 1000
    },
    "colab_type": "code",
    "id": "3PWgnnZrkc_a",
    "outputId": "172e4a8a-62f6-427b-dc44-c06dfca7b1ac"
   },
   "outputs": [
    {
     "name": "stdout",
     "output_type": "stream",
     "text": [
      "COMPOSICAO\n",
      "ALUMINIO         88467\n",
      "INOX             26089\n",
      "CERAMICA          1227\n",
      "PORCELANA           88\n",
      "ACO ESMALTADO       88\n",
      "Name: COMPOSICAO, dtype: int64\n",
      "_________\n",
      "COR\n",
      "INOX         28621\n",
      "PRETO        19748\n",
      "VERMELHO     19593\n",
      "CEREJA       15245\n",
      "COLORIDO      5640\n",
      "GRAFITE       5109\n",
      "VINHO         4159\n",
      "GOIABA        3377\n",
      "AMARELO       2756\n",
      "PRATA         2451\n",
      "LARANJA       1548\n",
      "COBRE         1470\n",
      "BERINGELA     1184\n",
      "AZUL          1151\n",
      "VERDE          853\n",
      "CHOCOLATE      738\n",
      "TURQUESA       693\n",
      "ROXO           549\n",
      "MARROM         529\n",
      "BRANCO         248\n",
      "ROSA           206\n",
      "CINZA           72\n",
      "FENDI           18\n",
      "ACACIA           1\n",
      "Name: COR, dtype: int64\n",
      "_________\n",
      "FORMATO\n",
      "REDONDO       109438\n",
      "QUADRADO        2484\n",
      "FRIGIDEIRA      2189\n",
      "OVAL            1166\n",
      "RETANGULAR       682\n",
      "Name: FORMATO, dtype: int64\n",
      "_________\n",
      "MARCA\n",
      "TRAMONTINA                      47123\n",
      "LA CUISINE                      20790\n",
      "PANELA MINEIRA                   8405\n",
      "BRINOX                           5167\n",
      "VEC                              5020\n",
      "EURO HOME                        4428\n",
      "FUMIL                            3751\n",
      "HERCULES                         3626\n",
      "EURO                             2839\n",
      "HAPPYCALL                        2799\n",
      "ALUMINIO FORTALEZA               1502\n",
      "PANELUX                          1449\n",
      "MTA                              1242\n",
      "SUN GUIDER                       1239\n",
      "CERAFLAME                        1064\n",
      "ROCHEDO                          1010\n",
      "DONA CHEFA                        831\n",
      "JOMAFE                            786\n",
      "AT.HOME                           776\n",
      "ELECTROLUX                        600\n",
      "ALUMINIO RAMOS                    503\n",
      "MIMO STYLE                        185\n",
      "OXFORD COOKWARE                   163\n",
      "TRAMONTINA DESIGN COLLECTION      104\n",
      "FORMA                              94\n",
      "PRAVA                              88\n",
      "PRAVAS                             88\n",
      "CONSUL                             65\n",
      "BIALETTI                           65\n",
      "ZANELLA                            48\n",
      "CLASSIC HOME                       37\n",
      "DYNASTY                            33\n",
      "MERIDIONAL                         23\n",
      "BR HOME                            15\n",
      "HELIOS                              1\n",
      "Name: MARCA, dtype: int64\n",
      "_________\n",
      "PARA_LAVA_LOUCAS\n",
      "Yes    97075\n",
      "No     18882\n",
      "NAO        2\n",
      "Name: PARA_LAVA_LOUCAS, dtype: int64\n",
      "_________\n",
      "PARA_MICRO_ONDAS\n",
      "no     112738\n",
      "yes      3221\n",
      "Name: PARA_MICRO_ONDAS, dtype: int64\n",
      "_________\n",
      "TEM_FERRO_FUNDIDO\n",
      "NAO    99608\n",
      "SIM    16351\n",
      "Name: TEM_FERRO_FUNDIDO, dtype: int64\n",
      "_________\n",
      "TEM_GRELHA\n",
      "NAO    102955\n",
      "SIM     13004\n",
      "Name: TEM_GRELHA, dtype: int64\n",
      "_________\n",
      "TIPO_PRODUTO\n",
      "PANELA             40216\n",
      "PIPOQUEIRA         18260\n",
      "CHALEIRA           11186\n",
      "CACAROLA           10658\n",
      "FRIGIDEIRA         10407\n",
      "ESPAGUETEIRA        5235\n",
      "CUSCUZEIRA          4412\n",
      "CHAPA               3212\n",
      "WOK                 3105\n",
      "CALDEIRAO           1605\n",
      "FERVEDOR            1528\n",
      "GRILL                745\n",
      "PAELLERA             522\n",
      "BIFETEIRA            486\n",
      "BULE                 463\n",
      "PANQUEQUEIRA         459\n",
      "LEITEIRA             450\n",
      "FORMA                407\n",
      "FRITADEIRA           349\n",
      "COZI-VAPORE          314\n",
      "OMELETEIRA           312\n",
      "FOGAREIRO            275\n",
      "ASSADEIRA            229\n",
      "MINI-CACAROLA        225\n",
      "CREMEIRA             206\n",
      "SANDUICHEIRA         163\n",
      "TAMPA                113\n",
      "FONDUE                98\n",
      "CUMBUCA               87\n",
      "PRENSADOR             68\n",
      "FORNO                 52\n",
      "COZI-PASTA            41\n",
      "CUSCUZEIRO            32\n",
      "PAPEIRO               22\n",
      "CANECA/FERVEDOR        6\n",
      "BISTEQUEIRA            4\n",
      "VAPORELLA              4\n",
      "CANECO                 3\n",
      "Name: TIPO_PRODUTO, dtype: int64\n",
      "_________\n",
      "TIPO_WOK\n",
      "NAO    93138\n",
      "SIM    22821\n",
      "Name: TIPO_WOK, dtype: int64\n",
      "_________\n"
     ]
    }
   ],
   "source": [
    "for column in cat_columns:\n",
    "  print(column)\n",
    "  print(dataset[column].value_counts())\n",
    "  print('_________')"
   ]
  },
  {
   "cell_type": "markdown",
   "metadata": {
    "colab_type": "text",
    "id": "cBAPEIqgoGqh"
   },
   "source": [
    "Verificada a necessidade de recodificação para o campo \"PARA_LAVA_LOUCA\""
   ]
  },
  {
   "cell_type": "code",
   "execution_count": 5,
   "metadata": {
    "colab": {
     "base_uri": "https://localhost:8080/",
     "height": 70
    },
    "colab_type": "code",
    "id": "L2wmHvqPoMGA",
    "outputId": "3ca5809d-7d37-4f92-e6a6-5e2bb8de25cd"
   },
   "outputs": [
    {
     "data": {
      "text/plain": [
       "Yes    111984\n",
       "No      21807\n",
       "Name: PARA_LAVA_LOUCAS, dtype: int64"
      ]
     },
     "execution_count": 5,
     "metadata": {
      "tags": []
     },
     "output_type": "execute_result"
    }
   ],
   "source": [
    "dataset['PARA_LAVA_LOUCAS'].replace('NAO','No',inplace=True)\n",
    "dataset['PARA_LAVA_LOUCAS'].value_counts()"
   ]
  },
  {
   "cell_type": "markdown",
   "metadata": {
    "colab_type": "text",
    "id": "yIfnq9uTptkb"
   },
   "source": [
    "Verificando balanceamento da variável de interesse"
   ]
  },
  {
   "cell_type": "code",
   "execution_count": 6,
   "metadata": {
    "colab": {
     "base_uri": "https://localhost:8080/",
     "height": 70
    },
    "colab_type": "code",
    "id": "dp-V2WbTpx8a",
    "outputId": "b0cc530a-80b5-4a91-bae6-1c29a34cf9e0"
   },
   "outputs": [
    {
     "data": {
      "text/plain": [
       "0.0    122285\n",
       "1.0     11506\n",
       "Name: INTERESTED, dtype: int64"
      ]
     },
     "execution_count": 6,
     "metadata": {
      "tags": []
     },
     "output_type": "execute_result"
    }
   ],
   "source": [
    "dataset['INTERESTED'].value_counts()"
   ]
  },
  {
   "cell_type": "markdown",
   "metadata": {
    "colab_type": "text",
    "id": "C8FApc0vp_q8"
   },
   "source": [
    "Parecer inicial:\n",
    "\n",
    "*   Necessidade de oversampling para lidar com desbalanceamento\n",
    "*   É necessário um modelo classificador que lide bem com outliers, que é um problema detectado nas variáveis numéricas\n",
    "*   Também algumas variáveis categoricas podem precisar de oversampling, especialmente: TIPO_PRODUTO, MARCA e COR\n",
    "* Optou-se por não realizar redução de dimensionalidade (PCA) pois a base dispõe de poucas variáveis numéricas\n",
    "\n",
    "\n"
   ]
  },
  {
   "cell_type": "markdown",
   "metadata": {
    "colab_type": "text",
    "id": "Bwd6zTTorJdc"
   },
   "source": [
    "## Análise exploratória de dados"
   ]
  },
  {
   "cell_type": "markdown",
   "metadata": {
    "colab_type": "text",
    "id": "qRsfR1jCrL9W"
   },
   "source": [
    "Correlação vars numéricas"
   ]
  },
  {
   "cell_type": "code",
   "execution_count": 7,
   "metadata": {
    "colab": {
     "base_uri": "https://localhost:8080/",
     "height": 314
    },
    "colab_type": "code",
    "id": "ZDyDkrN5rUlx",
    "outputId": "04eaad16-1841-4af3-d7f9-449ce0d9b774"
   },
   "outputs": [
    {
     "data": {
      "text/html": [
       "<div>\n",
       "<style scoped>\n",
       "    .dataframe tbody tr th:only-of-type {\n",
       "        vertical-align: middle;\n",
       "    }\n",
       "\n",
       "    .dataframe tbody tr th {\n",
       "        vertical-align: top;\n",
       "    }\n",
       "\n",
       "    .dataframe thead th {\n",
       "        text-align: right;\n",
       "    }\n",
       "</style>\n",
       "<table border=\"1\" class=\"dataframe\">\n",
       "  <thead>\n",
       "    <tr style=\"text-align: right;\">\n",
       "      <th></th>\n",
       "      <th>ALTURA</th>\n",
       "      <th>CAPACIDADE_(L)</th>\n",
       "      <th>LARGURA</th>\n",
       "      <th>PESO</th>\n",
       "      <th>PROFUNDIDADE</th>\n",
       "      <th>TEMPO_GARANTIA</th>\n",
       "      <th>TEM_TAMPA</th>\n",
       "      <th>ITEM_PRICE</th>\n",
       "      <th>INTERESTED</th>\n",
       "    </tr>\n",
       "  </thead>\n",
       "  <tbody>\n",
       "    <tr>\n",
       "      <th>ALTURA</th>\n",
       "      <td>1.000000</td>\n",
       "      <td>0.297130</td>\n",
       "      <td>0.514292</td>\n",
       "      <td>-0.012732</td>\n",
       "      <td>0.077536</td>\n",
       "      <td>0.001430</td>\n",
       "      <td>0.078443</td>\n",
       "      <td>0.099980</td>\n",
       "      <td>0.014131</td>\n",
       "    </tr>\n",
       "    <tr>\n",
       "      <th>CAPACIDADE_(L)</th>\n",
       "      <td>0.297130</td>\n",
       "      <td>1.000000</td>\n",
       "      <td>0.218060</td>\n",
       "      <td>-0.019087</td>\n",
       "      <td>0.145557</td>\n",
       "      <td>-0.150323</td>\n",
       "      <td>0.281708</td>\n",
       "      <td>0.082119</td>\n",
       "      <td>0.004024</td>\n",
       "    </tr>\n",
       "    <tr>\n",
       "      <th>LARGURA</th>\n",
       "      <td>0.514292</td>\n",
       "      <td>0.218060</td>\n",
       "      <td>1.000000</td>\n",
       "      <td>0.017123</td>\n",
       "      <td>0.144336</td>\n",
       "      <td>0.017789</td>\n",
       "      <td>-0.007976</td>\n",
       "      <td>0.176237</td>\n",
       "      <td>-0.011925</td>\n",
       "    </tr>\n",
       "    <tr>\n",
       "      <th>PESO</th>\n",
       "      <td>-0.012732</td>\n",
       "      <td>-0.019087</td>\n",
       "      <td>0.017123</td>\n",
       "      <td>1.000000</td>\n",
       "      <td>-0.036462</td>\n",
       "      <td>-0.003419</td>\n",
       "      <td>0.009741</td>\n",
       "      <td>0.010573</td>\n",
       "      <td>-0.006738</td>\n",
       "    </tr>\n",
       "    <tr>\n",
       "      <th>PROFUNDIDADE</th>\n",
       "      <td>0.077536</td>\n",
       "      <td>0.145557</td>\n",
       "      <td>0.144336</td>\n",
       "      <td>-0.036462</td>\n",
       "      <td>1.000000</td>\n",
       "      <td>-0.028234</td>\n",
       "      <td>0.293994</td>\n",
       "      <td>0.291111</td>\n",
       "      <td>-0.007609</td>\n",
       "    </tr>\n",
       "    <tr>\n",
       "      <th>TEMPO_GARANTIA</th>\n",
       "      <td>0.001430</td>\n",
       "      <td>-0.150323</td>\n",
       "      <td>0.017789</td>\n",
       "      <td>-0.003419</td>\n",
       "      <td>-0.028234</td>\n",
       "      <td>1.000000</td>\n",
       "      <td>-0.132906</td>\n",
       "      <td>0.037567</td>\n",
       "      <td>-0.000740</td>\n",
       "    </tr>\n",
       "    <tr>\n",
       "      <th>TEM_TAMPA</th>\n",
       "      <td>0.078443</td>\n",
       "      <td>0.281708</td>\n",
       "      <td>-0.007976</td>\n",
       "      <td>0.009741</td>\n",
       "      <td>0.293994</td>\n",
       "      <td>-0.132906</td>\n",
       "      <td>1.000000</td>\n",
       "      <td>0.044682</td>\n",
       "      <td>0.022345</td>\n",
       "    </tr>\n",
       "    <tr>\n",
       "      <th>ITEM_PRICE</th>\n",
       "      <td>0.099980</td>\n",
       "      <td>0.082119</td>\n",
       "      <td>0.176237</td>\n",
       "      <td>0.010573</td>\n",
       "      <td>0.291111</td>\n",
       "      <td>0.037567</td>\n",
       "      <td>0.044682</td>\n",
       "      <td>1.000000</td>\n",
       "      <td>-0.023812</td>\n",
       "    </tr>\n",
       "    <tr>\n",
       "      <th>INTERESTED</th>\n",
       "      <td>0.014131</td>\n",
       "      <td>0.004024</td>\n",
       "      <td>-0.011925</td>\n",
       "      <td>-0.006738</td>\n",
       "      <td>-0.007609</td>\n",
       "      <td>-0.000740</td>\n",
       "      <td>0.022345</td>\n",
       "      <td>-0.023812</td>\n",
       "      <td>1.000000</td>\n",
       "    </tr>\n",
       "  </tbody>\n",
       "</table>\n",
       "</div>"
      ],
      "text/plain": [
       "                  ALTURA  CAPACIDADE_(L)  ...  ITEM_PRICE  INTERESTED\n",
       "ALTURA          1.000000        0.297130  ...    0.099980    0.014131\n",
       "CAPACIDADE_(L)  0.297130        1.000000  ...    0.082119    0.004024\n",
       "LARGURA         0.514292        0.218060  ...    0.176237   -0.011925\n",
       "PESO           -0.012732       -0.019087  ...    0.010573   -0.006738\n",
       "PROFUNDIDADE    0.077536        0.145557  ...    0.291111   -0.007609\n",
       "TEMPO_GARANTIA  0.001430       -0.150323  ...    0.037567   -0.000740\n",
       "TEM_TAMPA       0.078443        0.281708  ...    0.044682    0.022345\n",
       "ITEM_PRICE      0.099980        0.082119  ...    1.000000   -0.023812\n",
       "INTERESTED      0.014131        0.004024  ...   -0.023812    1.000000\n",
       "\n",
       "[9 rows x 9 columns]"
      ]
     },
     "execution_count": 7,
     "metadata": {
      "tags": []
     },
     "output_type": "execute_result"
    }
   ],
   "source": [
    "corr_matrix = dataset.drop(id_columns, axis=1).corr()\n",
    "corr_matrix.head(10)"
   ]
  },
  {
   "cell_type": "markdown",
   "metadata": {
    "colab_type": "text",
    "id": "BbnOZUM1ssET"
   },
   "source": [
    "A correlação entre variáveis numéricas com valor mais relevante é entre altura e largura (51%). Não foi detectado relacionamentos que possam ser fatores de confusão na construção de um modelo."
   ]
  },
  {
   "cell_type": "markdown",
   "metadata": {
    "colab_type": "text",
    "id": "D6aRiYHRssB7"
   },
   "source": [
    "**Avaliando a média das variáveis numéricas vs variável de interesse**"
   ]
  },
  {
   "cell_type": "code",
   "execution_count": 8,
   "metadata": {
    "colab": {
     "base_uri": "https://localhost:8080/",
     "height": 106
    },
    "colab_type": "code",
    "id": "QiWHJl3VtPv0",
    "outputId": "e0f0bb28-19f4-4670-dc96-fc91daaf574b"
   },
   "outputs": [
    {
     "data": {
      "text/html": [
       "<div>\n",
       "<style scoped>\n",
       "    .dataframe tbody tr th:only-of-type {\n",
       "        vertical-align: middle;\n",
       "    }\n",
       "\n",
       "    .dataframe tbody tr th {\n",
       "        vertical-align: top;\n",
       "    }\n",
       "\n",
       "    .dataframe thead th {\n",
       "        text-align: right;\n",
       "    }\n",
       "</style>\n",
       "<table border=\"1\" class=\"dataframe\">\n",
       "  <thead>\n",
       "    <tr style=\"text-align: right;\">\n",
       "      <th></th>\n",
       "      <th>INTERESTED</th>\n",
       "      <th>ALTURA</th>\n",
       "      <th>CAPACIDADE_(L)</th>\n",
       "      <th>LARGURA</th>\n",
       "      <th>PESO</th>\n",
       "      <th>PROFUNDIDADE</th>\n",
       "      <th>TEMPO_GARANTIA</th>\n",
       "      <th>TEM_TAMPA</th>\n",
       "      <th>ITEM_PRICE</th>\n",
       "    </tr>\n",
       "  </thead>\n",
       "  <tbody>\n",
       "    <tr>\n",
       "      <th>0</th>\n",
       "      <td>0.0</td>\n",
       "      <td>30.540649</td>\n",
       "      <td>4.387297</td>\n",
       "      <td>27.931405</td>\n",
       "      <td>246.857095</td>\n",
       "      <td>35.008578</td>\n",
       "      <td>11.383473</td>\n",
       "      <td>0.436538</td>\n",
       "      <td>127.102147</td>\n",
       "    </tr>\n",
       "    <tr>\n",
       "      <th>1</th>\n",
       "      <td>1.0</td>\n",
       "      <td>31.270585</td>\n",
       "      <td>4.403343</td>\n",
       "      <td>27.496232</td>\n",
       "      <td>215.737384</td>\n",
       "      <td>34.606349</td>\n",
       "      <td>11.287763</td>\n",
       "      <td>0.476099</td>\n",
       "      <td>115.827115</td>\n",
       "    </tr>\n",
       "  </tbody>\n",
       "</table>\n",
       "</div>"
      ],
      "text/plain": [
       "   INTERESTED     ALTURA  CAPACIDADE_(L)  ...  TEMPO_GARANTIA  TEM_TAMPA  ITEM_PRICE\n",
       "0         0.0  30.540649        4.387297  ...       11.383473   0.436538  127.102147\n",
       "1         1.0  31.270585        4.403343  ...       11.287763   0.476099  115.827115\n",
       "\n",
       "[2 rows x 9 columns]"
      ]
     },
     "execution_count": 8,
     "metadata": {
      "tags": []
     },
     "output_type": "execute_result"
    }
   ],
   "source": [
    "avg_num = dataset.drop(id_columns, axis=1).groupby('INTERESTED', as_index=False).mean()\n",
    "avg_num.head()"
   ]
  },
  {
   "cell_type": "markdown",
   "metadata": {
    "colab_type": "text",
    "id": "VMNUe82GuQ70"
   },
   "source": [
    "Como esperado a média de preço é bem inferior nos itens que despertaram interessse\n",
    "\n",
    "Características de tamanho do produto também não parecem ter muita distinção - podemos criar uma classificação categórica para avaliar melhor\n",
    "\n",
    "Tem tampa - é variável binária - a investigar"
   ]
  },
  {
   "cell_type": "markdown",
   "metadata": {
    "colab_type": "text",
    "id": "PT5foms66Ac3"
   },
   "source": [
    "Bibliotecas gráficas"
   ]
  },
  {
   "cell_type": "code",
   "execution_count": 9,
   "metadata": {
    "colab": {
     "base_uri": "https://localhost:8080/",
     "height": 72
    },
    "colab_type": "code",
    "id": "_2sMJILdvtMF",
    "outputId": "af5a223c-8e50-4b5c-ec6d-677609f7ada4"
   },
   "outputs": [
    {
     "name": "stderr",
     "output_type": "stream",
     "text": [
      "/usr/local/lib/python3.6/dist-packages/statsmodels/tools/_testing.py:19: FutureWarning: pandas.util.testing is deprecated. Use the functions in the public API at pandas.testing instead.\n",
      "  import pandas.util.testing as tm\n"
     ]
    }
   ],
   "source": [
    "import seaborn as sns\n",
    "import matplotlib.pyplot as plt"
   ]
  },
  {
   "cell_type": "markdown",
   "metadata": {
    "colab_type": "text",
    "id": "p4d1MP9t6F7C"
   },
   "source": [
    "Análise da Feature TEM_TAMPA"
   ]
  },
  {
   "cell_type": "code",
   "execution_count": 10,
   "metadata": {
    "colab": {
     "base_uri": "https://localhost:8080/",
     "height": 297
    },
    "colab_type": "code",
    "id": "3Lfuj9daurZl",
    "outputId": "53f985e7-d6c7-41af-a930-ff8cab751787"
   },
   "outputs": [
    {
     "data": {
      "text/plain": [
       "<matplotlib.axes._subplots.AxesSubplot at 0x7f163278d6d8>"
      ]
     },
     "execution_count": 10,
     "metadata": {
      "tags": []
     },
     "output_type": "execute_result"
    },
    {
     "data": {
      "image/png": "[encoded data removed]",
      "text/plain": [
       "<Figure size 432x288 with 1 Axes>"
      ]
     },
     "metadata": {
      "needs_background": "light",
      "tags": []
     },
     "output_type": "display_data"
    }
   ],
   "source": [
    "sns.countplot(x='INTERESTED', hue='TEM_TAMPA', data=dataset)"
   ]
  },
  {
   "cell_type": "markdown",
   "metadata": {
    "colab_type": "text",
    "id": "f3G0QHJvw5Jg"
   },
   "source": [
    "Entre os clientes interessados a proporção de panelas com tampa é próxima a 50%. Nos não interessados a proporção é menor. Essa análise sugere um interesse maior em produtos com tampa."
   ]
  },
  {
   "cell_type": "markdown",
   "metadata": {
    "colab_type": "text",
    "id": "X2OMySedrMAj"
   },
   "source": [
    "## Continuação AED - Categóricas\n",
    "Avaliação das demais variáveis categorias"
   ]
  },
  {
   "cell_type": "code",
   "execution_count": 23,
   "metadata": {
    "colab": {
     "base_uri": "https://localhost:8080/",
     "height": 1000
    },
    "colab_type": "code",
    "id": "C5qb374zxSeb",
    "outputId": "b373adca-c143-489b-d897-a09dde439128"
   },
   "outputs": [
    {
     "data": {
      "text/plain": [
       "<Figure size 432x288 with 0 Axes>"
      ]
     },
     "metadata": {
      "tags": []
     },
     "output_type": "display_data"
    },
    {
     "data": {
      "image/png": "[encoded data removed]",
      "text/plain": [
       "<Figure size 1440x360 with 1 Axes>"
      ]
     },
     "metadata": {
      "needs_background": "light",
      "tags": []
     },
     "output_type": "display_data"
    },
    {
     "data": {
      "text/plain": [
       "<Figure size 432x288 with 0 Axes>"
      ]
     },
     "metadata": {
      "tags": []
     },
     "output_type": "display_data"
    },
    {
     "data": {
      "image/png": "[encoded data removed]",
      "text/plain": [
       "<Figure size 1440x360 with 1 Axes>"
      ]
     },
     "metadata": {
      "needs_background": "light",
      "tags": []
     },
     "output_type": "display_data"
    },
    {
     "data": {
      "text/plain": [
       "<Figure size 432x288 with 0 Axes>"
      ]
     },
     "metadata": {
      "tags": []
     },
     "output_type": "display_data"
    },
    {
     "data": {
      "image/png": "[encoded data removed]",
      "text/plain": [
       "<Figure size 1440x360 with 1 Axes>"
      ]
     },
     "metadata": {
      "needs_background": "light",
      "tags": []
     },
     "output_type": "display_data"
    },
    {
     "data": {
      "text/plain": [
       "<Figure size 432x288 with 0 Axes>"
      ]
     },
     "metadata": {
      "tags": []
     },
     "output_type": "display_data"
    },
    {
     "data": {
      "image/png": "[encoded data removed]",
      "text/plain": [
       "<Figure size 1440x360 with 1 Axes>"
      ]
     },
     "metadata": {
      "needs_background": "light",
      "tags": []
     },
     "output_type": "display_data"
    },
    {
     "data": {
      "text/plain": [
       "<Figure size 432x288 with 0 Axes>"
      ]
     },
     "metadata": {
      "tags": []
     },
     "output_type": "display_data"
    },
    {
     "data": {
      "image/png": "[encoded data removed]",
      "text/plain": [
       "<Figure size 1440x360 with 1 Axes>"
      ]
     },
     "metadata": {
      "needs_background": "light",
      "tags": []
     },
     "output_type": "display_data"
    },
    {
     "data": {
      "text/plain": [
       "<Figure size 432x288 with 0 Axes>"
      ]
     },
     "metadata": {
      "tags": []
     },
     "output_type": "display_data"
    },
    {
     "data": {
      "image/png": "[encoded data removed]",
      "text/plain": [
       "<Figure size 1440x360 with 1 Axes>"
      ]
     },
     "metadata": {
      "needs_background": "light",
      "tags": []
     },
     "output_type": "display_data"
    },
    {
     "data": {
      "text/plain": [
       "<Figure size 432x288 with 0 Axes>"
      ]
     },
     "metadata": {
      "tags": []
     },
     "output_type": "display_data"
    },
    {
     "data": {
      "image/png": "[encoded data removed]",
      "text/plain": [
       "<Figure size 1440x360 with 1 Axes>"
      ]
     },
     "metadata": {
      "needs_background": "light",
      "tags": []
     },
     "output_type": "display_data"
    },
    {
     "data": {
      "text/plain": [
       "<Figure size 432x288 with 0 Axes>"
      ]
     },
     "metadata": {
      "tags": []
     },
     "output_type": "display_data"
    },
    {
     "data": {
      "image/png": "[encoded data removed]",
      "text/plain": [
       "<Figure size 1440x360 with 1 Axes>"
      ]
     },
     "metadata": {
      "needs_background": "light",
      "tags": []
     },
     "output_type": "display_data"
    },
    {
     "data": {
      "text/plain": [
       "<Figure size 432x288 with 0 Axes>"
      ]
     },
     "metadata": {
      "tags": []
     },
     "output_type": "display_data"
    },
    {
     "data": {
      "image/png": "[encoded data removed]",
      "text/plain": [
       "<Figure size 1440x360 with 1 Axes>"
      ]
     },
     "metadata": {
      "needs_background": "light",
      "tags": []
     },
     "output_type": "display_data"
    },
    {
     "data": {
      "text/plain": [
       "<Figure size 432x288 with 0 Axes>"
      ]
     },
     "metadata": {
      "tags": []
     },
     "output_type": "display_data"
    },
    {
     "data": {
      "image/png": "[encoded data removed]",
      "text/plain": [
       "<Figure size 1440x360 with 1 Axes>"
      ]
     },
     "metadata": {
      "needs_background": "light",
      "tags": []
     },
     "output_type": "display_data"
    }
   ],
   "source": [
    "for column in cat_columns:\n",
    "  plt.figure()\n",
    "  a4_dims = (20, 5)\n",
    "  fig, ax = plt.subplots(figsize=a4_dims)\n",
    "  sns.barplot(x=column, y=column, hue='INTERESTED', data=dataset, orient = 'v', estimator=lambda x: len(x) / len(dataset) * 100)\n",
    "  locs, labels = plt.xticks()\n",
    "  plt.setp(labels, rotation=90)\n",
    "\n",
    "    \n",
    "    \n",
    "    "
   ]
  },
  {
   "cell_type": "markdown",
   "metadata": {
    "colab_type": "text",
    "id": "QfBVrOlv4s7w"
   },
   "source": [
    "O desbalanceamento de classes interfere na variabilidade desejada na amostra para treino do modelo. Não temos amostra de clientes com interesse em algumas classes de preditores como \"Formato\" por exemplo.\n",
    "\n",
    "Será necessária a criação de amostras sintéticas."
   ]
  },
  {
   "cell_type": "markdown",
   "metadata": {
    "colab_type": "text",
    "id": "fb5aOsL3BtSa"
   },
   "source": [
    "Para maior visibilidade das proporções de produtos considerados interessantes, pode ser feita uma média da variável de interesse binária pelas categóricas."
   ]
  },
  {
   "cell_type": "code",
   "execution_count": 24,
   "metadata": {
    "colab": {
     "base_uri": "https://localhost:8080/",
     "height": 1000
    },
    "colab_type": "code",
    "id": "laqo3HdRD46W",
    "outputId": "65b566c1-52a9-462a-885e-5233251b911b"
   },
   "outputs": [
    {
     "data": {
      "image/png": "[encoded data removed]",
      "text/plain": [
       "<Figure size 1440x360 with 1 Axes>"
      ]
     },
     "metadata": {
      "needs_background": "light",
      "tags": []
     },
     "output_type": "display_data"
    },
    {
     "data": {
      "image/png": "[encoded data removed]",
      "text/plain": [
       "<Figure size 1440x360 with 1 Axes>"
      ]
     },
     "metadata": {
      "needs_background": "light",
      "tags": []
     },
     "output_type": "display_data"
    },
    {
     "data": {
      "image/png": "[encoded data removed]",
      "text/plain": [
       "<Figure size 1440x360 with 1 Axes>"
      ]
     },
     "metadata": {
      "needs_background": "light",
      "tags": []
     },
     "output_type": "display_data"
    },
    {
     "data": {
      "image/png": "[encoded data removed]",
      "text/plain": [
       "<Figure size 1440x360 with 1 Axes>"
      ]
     },
     "metadata": {
      "needs_background": "light",
      "tags": []
     },
     "output_type": "display_data"
    },
    {
     "data": {
      "image/png": "[encoded data removed]",
      "text/plain": [
       "<Figure size 1440x360 with 1 Axes>"
      ]
     },
     "metadata": {
      "needs_background": "light",
      "tags": []
     },
     "output_type": "display_data"
    },
    {
     "data": {
      "image/png": "[encoded data removed]",
      "text/plain": [
       "<Figure size 1440x360 with 1 Axes>"
      ]
     },
     "metadata": {
      "needs_background": "light",
      "tags": []
     },
     "output_type": "display_data"
    },
    {
     "data": {
      "image/png": "[encoded data removed]",
      "text/plain": [
       "<Figure size 1440x360 with 1 Axes>"
      ]
     },
     "metadata": {
      "needs_background": "light",
      "tags": []
     },
     "output_type": "display_data"
    },
    {
     "data": {
      "image/png": "[encoded data removed]",
      "text/plain": [
       "<Figure size 1440x360 with 1 Axes>"
      ]
     },
     "metadata": {
      "needs_background": "light",
      "tags": []
     },
     "output_type": "display_data"
    },
    {
     "data": {
      "image/png": "[encoded data removed]",
      "text/plain": [
       "<Figure size 1440x360 with 1 Axes>"
      ]
     },
     "metadata": {
      "needs_background": "light",
      "tags": []
     },
     "output_type": "display_data"
    },
    {
     "data": {
      "image/png": "[encoded data removed]",
      "text/plain": [
       "<Figure size 1440x360 with 1 Axes>"
      ]
     },
     "metadata": {
      "needs_background": "light",
      "tags": []
     },
     "output_type": "display_data"
    }
   ],
   "source": [
    "for column in cat_columns:\n",
    "  avg_cat = dataset[[column,'INTERESTED']].groupby(column, as_index=False).mean()\n",
    "  a4_dims = (20, 5)\n",
    "  fig, ax = plt.subplots(figsize=a4_dims)\n",
    "  sns.barplot(ax=ax, y = 'INTERESTED', x = column, data = avg_cat)\n",
    "  locs, labels = plt.xticks()\n",
    "  plt.setp(labels, rotation=90)"
   ]
  },
  {
   "cell_type": "markdown",
   "metadata": {
    "colab_type": "text",
    "id": "KE5jzv5D5ruw"
   },
   "source": [
    "## Análise de características do produto\n",
    "Serão criados 5 grupos com algoritmo K-means para avaliar as variáveis numéricas ref. a características físicas dos produtos: Tamanho, peso, capacidade, etc"
   ]
  },
  {
   "cell_type": "code",
   "execution_count": 11,
   "metadata": {
    "colab": {
     "base_uri": "https://localhost:8080/",
     "height": 330
    },
    "colab_type": "code",
    "id": "j-7_novX6THt",
    "outputId": "00e11361-2f02-43a0-9f00-2371812fa6c5"
   },
   "outputs": [
    {
     "name": "stderr",
     "output_type": "stream",
     "text": [
      "/usr/local/lib/python3.6/dist-packages/ipykernel_launcher.py:6: SettingWithCopyWarning: \n",
      "A value is trying to be set on a copy of a slice from a DataFrame.\n",
      "Try using .loc[row_indexer,col_indexer] = value instead\n",
      "\n",
      "See the caveats in the documentation: https://pandas.pydata.org/pandas-docs/stable/user_guide/indexing.html#returning-a-view-versus-a-copy\n",
      "  \n"
     ]
    },
    {
     "data": {
      "text/html": [
       "<div>\n",
       "<style scoped>\n",
       "    .dataframe tbody tr th:only-of-type {\n",
       "        vertical-align: middle;\n",
       "    }\n",
       "\n",
       "    .dataframe tbody tr th {\n",
       "        vertical-align: top;\n",
       "    }\n",
       "\n",
       "    .dataframe thead th {\n",
       "        text-align: right;\n",
       "    }\n",
       "</style>\n",
       "<table border=\"1\" class=\"dataframe\">\n",
       "  <thead>\n",
       "    <tr style=\"text-align: right;\">\n",
       "      <th></th>\n",
       "      <th>ALTURA</th>\n",
       "      <th>CAPACIDADE_(L)</th>\n",
       "      <th>LARGURA</th>\n",
       "      <th>PESO</th>\n",
       "      <th>PROFUNDIDADE</th>\n",
       "    </tr>\n",
       "    <tr>\n",
       "      <th>cluster</th>\n",
       "      <th></th>\n",
       "      <th></th>\n",
       "      <th></th>\n",
       "      <th></th>\n",
       "      <th></th>\n",
       "    </tr>\n",
       "  </thead>\n",
       "  <tbody>\n",
       "    <tr>\n",
       "      <th>0</th>\n",
       "      <td>119110</td>\n",
       "      <td>119110</td>\n",
       "      <td>119110</td>\n",
       "      <td>119110</td>\n",
       "      <td>119110</td>\n",
       "    </tr>\n",
       "    <tr>\n",
       "      <th>1</th>\n",
       "      <td>105</td>\n",
       "      <td>105</td>\n",
       "      <td>105</td>\n",
       "      <td>105</td>\n",
       "      <td>105</td>\n",
       "    </tr>\n",
       "    <tr>\n",
       "      <th>2</th>\n",
       "      <td>57</td>\n",
       "      <td>57</td>\n",
       "      <td>57</td>\n",
       "      <td>57</td>\n",
       "      <td>57</td>\n",
       "    </tr>\n",
       "    <tr>\n",
       "      <th>3</th>\n",
       "      <td>3047</td>\n",
       "      <td>3047</td>\n",
       "      <td>3047</td>\n",
       "      <td>3047</td>\n",
       "      <td>3047</td>\n",
       "    </tr>\n",
       "    <tr>\n",
       "      <th>4</th>\n",
       "      <td>11472</td>\n",
       "      <td>11472</td>\n",
       "      <td>11472</td>\n",
       "      <td>11472</td>\n",
       "      <td>11472</td>\n",
       "    </tr>\n",
       "  </tbody>\n",
       "</table>\n",
       "</div>"
      ],
      "text/plain": [
       "         ALTURA  CAPACIDADE_(L)  LARGURA    PESO  PROFUNDIDADE\n",
       "cluster                                                       \n",
       "0        119110          119110   119110  119110        119110\n",
       "1           105             105      105     105           105\n",
       "2            57              57       57      57            57\n",
       "3          3047            3047     3047    3047          3047\n",
       "4         11472           11472    11472   11472         11472"
      ]
     },
     "execution_count": 11,
     "metadata": {
      "tags": []
     },
     "output_type": "execute_result"
    }
   ],
   "source": [
    "data_cluster = dataset[['ALTURA','CAPACIDADE_(L)','LARGURA', 'PESO', 'PROFUNDIDADE']]\n",
    "\n",
    "from sklearn.cluster import KMeans\n",
    "kmeans = KMeans(n_clusters = 5, random_state=0).fit(data_cluster)\n",
    "cluster = kmeans.predict(data_cluster)\n",
    "data_cluster['cluster'] = cluster\n",
    "data_cluster.groupby('cluster').count()"
   ]
  },
  {
   "cell_type": "markdown",
   "metadata": {
    "colab_type": "text",
    "id": "vP-LD4DT7BSq"
   },
   "source": [
    "Avaliando os agrupamentos criados"
   ]
  },
  {
   "cell_type": "code",
   "execution_count": 12,
   "metadata": {
    "colab": {
     "base_uri": "https://localhost:8080/",
     "height": 195
    },
    "colab_type": "code",
    "id": "GbhdB4et7Bwu",
    "outputId": "a5f18314-9de8-4f5a-920c-2ffba21bba49"
   },
   "outputs": [
    {
     "data": {
      "text/html": [
       "<div>\n",
       "<style scoped>\n",
       "    .dataframe tbody tr th:only-of-type {\n",
       "        vertical-align: middle;\n",
       "    }\n",
       "\n",
       "    .dataframe tbody tr th {\n",
       "        vertical-align: top;\n",
       "    }\n",
       "\n",
       "    .dataframe thead th {\n",
       "        text-align: right;\n",
       "    }\n",
       "</style>\n",
       "<table border=\"1\" class=\"dataframe\">\n",
       "  <thead>\n",
       "    <tr style=\"text-align: right;\">\n",
       "      <th></th>\n",
       "      <th>cluster</th>\n",
       "      <th>ALTURA</th>\n",
       "      <th>CAPACIDADE_(L)</th>\n",
       "      <th>LARGURA</th>\n",
       "      <th>PESO</th>\n",
       "      <th>PROFUNDIDADE</th>\n",
       "    </tr>\n",
       "  </thead>\n",
       "  <tbody>\n",
       "    <tr>\n",
       "      <th>0</th>\n",
       "      <td>0</td>\n",
       "      <td>30.702027</td>\n",
       "      <td>4.444576</td>\n",
       "      <td>28.028631</td>\n",
       "      <td>148.522166</td>\n",
       "      <td>35.117336</td>\n",
       "    </tr>\n",
       "    <tr>\n",
       "      <th>1</th>\n",
       "      <td>1</td>\n",
       "      <td>34.000000</td>\n",
       "      <td>4.500000</td>\n",
       "      <td>39.000000</td>\n",
       "      <td>44400.000000</td>\n",
       "      <td>15.000000</td>\n",
       "    </tr>\n",
       "    <tr>\n",
       "      <th>2</th>\n",
       "      <td>2</td>\n",
       "      <td>16.982456</td>\n",
       "      <td>3.947368</td>\n",
       "      <td>27.701754</td>\n",
       "      <td>15114.035088</td>\n",
       "      <td>29.228070</td>\n",
       "    </tr>\n",
       "    <tr>\n",
       "      <th>3</th>\n",
       "      <td>3</td>\n",
       "      <td>18.208796</td>\n",
       "      <td>3.739777</td>\n",
       "      <td>27.084575</td>\n",
       "      <td>1303.907778</td>\n",
       "      <td>35.713620</td>\n",
       "    </tr>\n",
       "    <tr>\n",
       "      <th>4</th>\n",
       "      <td>4</td>\n",
       "      <td>32.908298</td>\n",
       "      <td>3.981817</td>\n",
       "      <td>26.610234</td>\n",
       "      <td>477.877615</td>\n",
       "      <td>33.500549</td>\n",
       "    </tr>\n",
       "  </tbody>\n",
       "</table>\n",
       "</div>"
      ],
      "text/plain": [
       "   cluster     ALTURA  CAPACIDADE_(L)    LARGURA          PESO  PROFUNDIDADE\n",
       "0        0  30.702027        4.444576  28.028631    148.522166     35.117336\n",
       "1        1  34.000000        4.500000  39.000000  44400.000000     15.000000\n",
       "2        2  16.982456        3.947368  27.701754  15114.035088     29.228070\n",
       "3        3  18.208796        3.739777  27.084575   1303.907778     35.713620\n",
       "4        4  32.908298        3.981817  26.610234    477.877615     33.500549"
      ]
     },
     "execution_count": 12,
     "metadata": {
      "tags": []
     },
     "output_type": "execute_result"
    }
   ],
   "source": [
    "medias_cluster = data_cluster.groupby('cluster', as_index=False).mean()\n",
    "medias_cluster.head()"
   ]
  },
  {
   "cell_type": "markdown",
   "metadata": {
    "colab_type": "text",
    "id": "H0VPIMWO9XUR"
   },
   "source": [
    "Clusters 1 e 2 mostram produtos com peso muito acima dos outros grupos\n",
    "\n",
    "Variável \"Capacidade\" com pouca variação entre os grupos. Assim como \"Profundidade\" com exceção dos grupos 1 e 2"
   ]
  },
  {
   "cell_type": "markdown",
   "metadata": {
    "colab_type": "text",
    "id": "6hejSMdm7Usf"
   },
   "source": [
    "Categorizando com base nas médias por cluster"
   ]
  },
  {
   "cell_type": "code",
   "execution_count": 13,
   "metadata": {
    "colab": {},
    "colab_type": "code",
    "id": "IQJGNcvA7TpS"
   },
   "outputs": [],
   "source": [
    "def Cluster(x):\n",
    "  if x == 0:\n",
    "    return 'Alta Capacidade Baixo peso'\n",
    "  if x == 1:\n",
    "    return 'Outlier peso 1'\n",
    "  if x == 2:\n",
    "    return 'Outlier peso 2'\n",
    "  if x == 3:\n",
    "    return 'Alto peso Largura inferior'\n",
    "  if x == 4:\n",
    "    return 'Alto peso Altura inferior'\n",
    "\n",
    "dataset['GRUPO_CARACT'] = data_cluster['cluster'].apply(Cluster)"
   ]
  },
  {
   "cell_type": "markdown",
   "metadata": {
    "colab_type": "text",
    "id": "phRa3oF95rsg"
   },
   "source": [
    "Avaliando a nova variável criada\n",
    "\n",
    "> Qual o percentual de interesse de acordo com a nova classificação criada?\n",
    "\n"
   ]
  },
  {
   "cell_type": "code",
   "execution_count": 14,
   "metadata": {
    "colab": {
     "base_uri": "https://localhost:8080/",
     "height": 482
    },
    "colab_type": "code",
    "id": "fWCr94QyApRC",
    "outputId": "1c201ffb-589e-4244-999e-209237b1a15c"
   },
   "outputs": [
    {
     "data": {
      "text/plain": [
       "[None, None, None, None, None, None, None, None, None, None]"
      ]
     },
     "execution_count": 14,
     "metadata": {
      "tags": []
     },
     "output_type": "execute_result"
    },
    {
     "data": {
      "image/png": "[encoded data removed]",
      "text/plain": [
       "<Figure size 576x360 with 1 Axes>"
      ]
     },
     "metadata": {
      "needs_background": "light",
      "tags": []
     },
     "output_type": "display_data"
    }
   ],
   "source": [
    "column = 'GRUPO_CARACT'\n",
    "avg_cat = dataset[[column,'INTERESTED']].groupby(column, as_index=False).mean()\n",
    "a4_dims = (8, 5)\n",
    "fig, ax = plt.subplots(figsize=a4_dims)\n",
    "ax = sns.barplot(ax=ax, y = 'INTERESTED', x = column, data = avg_cat)\n",
    "locs, labels = plt.xticks()\n",
    "plt.setp(labels, rotation=90)"
   ]
  },
  {
   "cell_type": "markdown",
   "metadata": {
    "colab_type": "text",
    "id": "2g-yb7q6HroB"
   },
   "source": [
    "Entre as classes, o cluster com maior proporção de interesse é de alto peso e largura inferior. Pode haver uma associação entre qualidade aqui.\n",
    "\n",
    "Essa é uma análise qualitativa que mostra como as características do produto afetam de forma diferente o interesse dos clientes.\n"
   ]
  },
  {
   "cell_type": "markdown",
   "metadata": {
    "colab_type": "text",
    "id": "Qx5C28774ehK"
   },
   "source": [
    "**Serão testados modelos de classificação para apontar importância das variáveis e gerar scores de interesse**\n",
    "\n",
    "Valores numéricos serão avaliados novamente após o modelo, para que os fatores sejam isolados"
   ]
  },
  {
   "cell_type": "markdown",
   "metadata": {
    "colab_type": "text",
    "id": "42rIKdYLIKp1"
   },
   "source": [
    "## Preparação para os modelos de classificação + análises complementares"
   ]
  },
  {
   "cell_type": "code",
   "execution_count": 15,
   "metadata": {
    "colab": {},
    "colab_type": "code",
    "id": "0WwhZ-TiIRCa"
   },
   "outputs": [],
   "source": [
    "#refazendo o array de colunas devido a inclusão do cluster de características\n",
    "cat_columns = dataset.select_dtypes('object').columns\n",
    "#binarizando as categóricas e retirando os ids\n",
    "dataset_modelo = pd.get_dummies(dataset.drop(id_columns, axis=1), columns=cat_columns)"
   ]
  },
  {
   "cell_type": "code",
   "execution_count": 16,
   "metadata": {
    "colab": {
     "base_uri": "https://localhost:8080/",
     "height": 278
    },
    "colab_type": "code",
    "id": "yfSgeatYIqYs",
    "outputId": "a1637191-a7a4-43ec-af2b-9cf4004a4c11"
   },
   "outputs": [
    {
     "data": {
      "text/html": [
       "<div>\n",
       "<style scoped>\n",
       "    .dataframe tbody tr th:only-of-type {\n",
       "        vertical-align: middle;\n",
       "    }\n",
       "\n",
       "    .dataframe tbody tr th {\n",
       "        vertical-align: top;\n",
       "    }\n",
       "\n",
       "    .dataframe thead th {\n",
       "        text-align: right;\n",
       "    }\n",
       "</style>\n",
       "<table border=\"1\" class=\"dataframe\">\n",
       "  <thead>\n",
       "    <tr style=\"text-align: right;\">\n",
       "      <th></th>\n",
       "      <th>ALTURA</th>\n",
       "      <th>CAPACIDADE_(L)</th>\n",
       "      <th>LARGURA</th>\n",
       "      <th>PESO</th>\n",
       "      <th>PROFUNDIDADE</th>\n",
       "      <th>TEMPO_GARANTIA</th>\n",
       "      <th>TEM_TAMPA</th>\n",
       "      <th>ITEM_PRICE</th>\n",
       "      <th>INTERESTED</th>\n",
       "      <th>COMPOSICAO_ACO ESMALTADO</th>\n",
       "      <th>COMPOSICAO_ALUMINIO</th>\n",
       "      <th>COMPOSICAO_CERAMICA</th>\n",
       "      <th>COMPOSICAO_INOX</th>\n",
       "      <th>COMPOSICAO_PORCELANA</th>\n",
       "      <th>COR_ACACIA</th>\n",
       "      <th>COR_AMARELO</th>\n",
       "      <th>COR_AZUL</th>\n",
       "      <th>COR_BERINGELA</th>\n",
       "      <th>COR_BRANCO</th>\n",
       "      <th>COR_CEREJA</th>\n",
       "      <th>COR_CHOCOLATE</th>\n",
       "      <th>COR_CINZA</th>\n",
       "      <th>COR_COBRE</th>\n",
       "      <th>COR_COLORIDO</th>\n",
       "      <th>COR_FENDI</th>\n",
       "      <th>COR_GOIABA</th>\n",
       "      <th>COR_GRAFITE</th>\n",
       "      <th>COR_INOX</th>\n",
       "      <th>COR_LARANJA</th>\n",
       "      <th>COR_MARROM</th>\n",
       "      <th>COR_PR</th>\n",
       "      <th>COR_PRATA</th>\n",
       "      <th>COR_PRETO</th>\n",
       "      <th>COR_ROSA</th>\n",
       "      <th>COR_ROXO</th>\n",
       "      <th>COR_TURQUESA</th>\n",
       "      <th>COR_VERDE</th>\n",
       "      <th>COR_VERMELHO</th>\n",
       "      <th>COR_VINHO</th>\n",
       "      <th>FORMATO_FRIGIDEIRA</th>\n",
       "      <th>...</th>\n",
       "      <th>TIPO_PRODUTO_CALDEIRAO</th>\n",
       "      <th>TIPO_PRODUTO_CANECA/FERVEDOR</th>\n",
       "      <th>TIPO_PRODUTO_CANECO</th>\n",
       "      <th>TIPO_PRODUTO_CHALEIRA</th>\n",
       "      <th>TIPO_PRODUTO_CHAPA</th>\n",
       "      <th>TIPO_PRODUTO_COZI-PASTA</th>\n",
       "      <th>TIPO_PRODUTO_COZI-VAPORE</th>\n",
       "      <th>TIPO_PRODUTO_CREMEIRA</th>\n",
       "      <th>TIPO_PRODUTO_CUMBUCA</th>\n",
       "      <th>TIPO_PRODUTO_CUSCUZEIRA</th>\n",
       "      <th>TIPO_PRODUTO_CUSCUZEIRO</th>\n",
       "      <th>TIPO_PRODUTO_ESPAGUETEIRA</th>\n",
       "      <th>TIPO_PRODUTO_FERVEDOR</th>\n",
       "      <th>TIPO_PRODUTO_FOGAREIRO</th>\n",
       "      <th>TIPO_PRODUTO_FONDUE</th>\n",
       "      <th>TIPO_PRODUTO_FORMA</th>\n",
       "      <th>TIPO_PRODUTO_FORNO</th>\n",
       "      <th>TIPO_PRODUTO_FRIGIDEIRA</th>\n",
       "      <th>TIPO_PRODUTO_FRITADEIRA</th>\n",
       "      <th>TIPO_PRODUTO_GRILL</th>\n",
       "      <th>TIPO_PRODUTO_LEITEIRA</th>\n",
       "      <th>TIPO_PRODUTO_MINI-CACAROLA</th>\n",
       "      <th>TIPO_PRODUTO_OMELETEIRA</th>\n",
       "      <th>TIPO_PRODUTO_PAELLERA</th>\n",
       "      <th>TIPO_PRODUTO_PANELA</th>\n",
       "      <th>TIPO_PRODUTO_PANQUEQUEIRA</th>\n",
       "      <th>TIPO_PRODUTO_PAPEIRO</th>\n",
       "      <th>TIPO_PRODUTO_PIPOQUEIRA</th>\n",
       "      <th>TIPO_PRODUTO_PRENSADOR</th>\n",
       "      <th>TIPO_PRODUTO_SANDUICHEIRA</th>\n",
       "      <th>TIPO_PRODUTO_TAMPA</th>\n",
       "      <th>TIPO_PRODUTO_VAPORELLA</th>\n",
       "      <th>TIPO_PRODUTO_WOK</th>\n",
       "      <th>TIPO_WOK_NAO</th>\n",
       "      <th>TIPO_WOK_SIM</th>\n",
       "      <th>GRUPO_CARACT_Alta Capacidade Baixo peso</th>\n",
       "      <th>GRUPO_CARACT_Alto peso Altura inferior</th>\n",
       "      <th>GRUPO_CARACT_Alto peso Largura inferior</th>\n",
       "      <th>GRUPO_CARACT_Outlier peso 1</th>\n",
       "      <th>GRUPO_CARACT_Outlier peso 2</th>\n",
       "    </tr>\n",
       "  </thead>\n",
       "  <tbody>\n",
       "    <tr>\n",
       "      <th>0</th>\n",
       "      <td>30.5</td>\n",
       "      <td>4.5</td>\n",
       "      <td>14.0</td>\n",
       "      <td>160.0</td>\n",
       "      <td>50.0</td>\n",
       "      <td>3.0</td>\n",
       "      <td>1.0</td>\n",
       "      <td>199.990000</td>\n",
       "      <td>0.0</td>\n",
       "      <td>0</td>\n",
       "      <td>1</td>\n",
       "      <td>0</td>\n",
       "      <td>0</td>\n",
       "      <td>0</td>\n",
       "      <td>0</td>\n",
       "      <td>0</td>\n",
       "      <td>0</td>\n",
       "      <td>0</td>\n",
       "      <td>0</td>\n",
       "      <td>0</td>\n",
       "      <td>0</td>\n",
       "      <td>0</td>\n",
       "      <td>0</td>\n",
       "      <td>0</td>\n",
       "      <td>0</td>\n",
       "      <td>0</td>\n",
       "      <td>0</td>\n",
       "      <td>0</td>\n",
       "      <td>0</td>\n",
       "      <td>0</td>\n",
       "      <td>0</td>\n",
       "      <td>0</td>\n",
       "      <td>0</td>\n",
       "      <td>0</td>\n",
       "      <td>0</td>\n",
       "      <td>0</td>\n",
       "      <td>0</td>\n",
       "      <td>0</td>\n",
       "      <td>1</td>\n",
       "      <td>0</td>\n",
       "      <td>...</td>\n",
       "      <td>0</td>\n",
       "      <td>0</td>\n",
       "      <td>0</td>\n",
       "      <td>0</td>\n",
       "      <td>0</td>\n",
       "      <td>0</td>\n",
       "      <td>0</td>\n",
       "      <td>0</td>\n",
       "      <td>0</td>\n",
       "      <td>0</td>\n",
       "      <td>0</td>\n",
       "      <td>0</td>\n",
       "      <td>0</td>\n",
       "      <td>0</td>\n",
       "      <td>0</td>\n",
       "      <td>0</td>\n",
       "      <td>0</td>\n",
       "      <td>0</td>\n",
       "      <td>0</td>\n",
       "      <td>0</td>\n",
       "      <td>0</td>\n",
       "      <td>0</td>\n",
       "      <td>0</td>\n",
       "      <td>0</td>\n",
       "      <td>1</td>\n",
       "      <td>0</td>\n",
       "      <td>0</td>\n",
       "      <td>0</td>\n",
       "      <td>0</td>\n",
       "      <td>0</td>\n",
       "      <td>0</td>\n",
       "      <td>0</td>\n",
       "      <td>0</td>\n",
       "      <td>1</td>\n",
       "      <td>0</td>\n",
       "      <td>1</td>\n",
       "      <td>0</td>\n",
       "      <td>0</td>\n",
       "      <td>0</td>\n",
       "      <td>0</td>\n",
       "    </tr>\n",
       "    <tr>\n",
       "      <th>1</th>\n",
       "      <td>22.0</td>\n",
       "      <td>4.5</td>\n",
       "      <td>24.0</td>\n",
       "      <td>150.0</td>\n",
       "      <td>40.0</td>\n",
       "      <td>12.0</td>\n",
       "      <td>1.0</td>\n",
       "      <td>105.112581</td>\n",
       "      <td>0.0</td>\n",
       "      <td>0</td>\n",
       "      <td>1</td>\n",
       "      <td>0</td>\n",
       "      <td>0</td>\n",
       "      <td>0</td>\n",
       "      <td>0</td>\n",
       "      <td>0</td>\n",
       "      <td>0</td>\n",
       "      <td>0</td>\n",
       "      <td>0</td>\n",
       "      <td>0</td>\n",
       "      <td>0</td>\n",
       "      <td>0</td>\n",
       "      <td>0</td>\n",
       "      <td>1</td>\n",
       "      <td>0</td>\n",
       "      <td>0</td>\n",
       "      <td>0</td>\n",
       "      <td>0</td>\n",
       "      <td>0</td>\n",
       "      <td>0</td>\n",
       "      <td>0</td>\n",
       "      <td>0</td>\n",
       "      <td>0</td>\n",
       "      <td>0</td>\n",
       "      <td>0</td>\n",
       "      <td>0</td>\n",
       "      <td>0</td>\n",
       "      <td>0</td>\n",
       "      <td>0</td>\n",
       "      <td>0</td>\n",
       "      <td>...</td>\n",
       "      <td>0</td>\n",
       "      <td>0</td>\n",
       "      <td>0</td>\n",
       "      <td>0</td>\n",
       "      <td>0</td>\n",
       "      <td>0</td>\n",
       "      <td>0</td>\n",
       "      <td>0</td>\n",
       "      <td>0</td>\n",
       "      <td>0</td>\n",
       "      <td>0</td>\n",
       "      <td>0</td>\n",
       "      <td>0</td>\n",
       "      <td>0</td>\n",
       "      <td>0</td>\n",
       "      <td>0</td>\n",
       "      <td>0</td>\n",
       "      <td>0</td>\n",
       "      <td>0</td>\n",
       "      <td>0</td>\n",
       "      <td>0</td>\n",
       "      <td>0</td>\n",
       "      <td>0</td>\n",
       "      <td>0</td>\n",
       "      <td>0</td>\n",
       "      <td>0</td>\n",
       "      <td>0</td>\n",
       "      <td>1</td>\n",
       "      <td>0</td>\n",
       "      <td>0</td>\n",
       "      <td>0</td>\n",
       "      <td>0</td>\n",
       "      <td>0</td>\n",
       "      <td>1</td>\n",
       "      <td>0</td>\n",
       "      <td>1</td>\n",
       "      <td>0</td>\n",
       "      <td>0</td>\n",
       "      <td>0</td>\n",
       "      <td>0</td>\n",
       "    </tr>\n",
       "    <tr>\n",
       "      <th>2</th>\n",
       "      <td>24.0</td>\n",
       "      <td>4.5</td>\n",
       "      <td>20.0</td>\n",
       "      <td>190.0</td>\n",
       "      <td>20.0</td>\n",
       "      <td>3.0</td>\n",
       "      <td>1.0</td>\n",
       "      <td>139.990000</td>\n",
       "      <td>0.0</td>\n",
       "      <td>0</td>\n",
       "      <td>0</td>\n",
       "      <td>0</td>\n",
       "      <td>1</td>\n",
       "      <td>0</td>\n",
       "      <td>0</td>\n",
       "      <td>0</td>\n",
       "      <td>0</td>\n",
       "      <td>0</td>\n",
       "      <td>0</td>\n",
       "      <td>0</td>\n",
       "      <td>0</td>\n",
       "      <td>0</td>\n",
       "      <td>0</td>\n",
       "      <td>0</td>\n",
       "      <td>0</td>\n",
       "      <td>0</td>\n",
       "      <td>0</td>\n",
       "      <td>1</td>\n",
       "      <td>0</td>\n",
       "      <td>0</td>\n",
       "      <td>0</td>\n",
       "      <td>0</td>\n",
       "      <td>0</td>\n",
       "      <td>0</td>\n",
       "      <td>0</td>\n",
       "      <td>0</td>\n",
       "      <td>0</td>\n",
       "      <td>0</td>\n",
       "      <td>0</td>\n",
       "      <td>0</td>\n",
       "      <td>...</td>\n",
       "      <td>0</td>\n",
       "      <td>0</td>\n",
       "      <td>0</td>\n",
       "      <td>0</td>\n",
       "      <td>0</td>\n",
       "      <td>0</td>\n",
       "      <td>0</td>\n",
       "      <td>0</td>\n",
       "      <td>0</td>\n",
       "      <td>0</td>\n",
       "      <td>0</td>\n",
       "      <td>1</td>\n",
       "      <td>0</td>\n",
       "      <td>0</td>\n",
       "      <td>0</td>\n",
       "      <td>0</td>\n",
       "      <td>0</td>\n",
       "      <td>0</td>\n",
       "      <td>0</td>\n",
       "      <td>0</td>\n",
       "      <td>0</td>\n",
       "      <td>0</td>\n",
       "      <td>0</td>\n",
       "      <td>0</td>\n",
       "      <td>0</td>\n",
       "      <td>0</td>\n",
       "      <td>0</td>\n",
       "      <td>0</td>\n",
       "      <td>0</td>\n",
       "      <td>0</td>\n",
       "      <td>0</td>\n",
       "      <td>0</td>\n",
       "      <td>0</td>\n",
       "      <td>1</td>\n",
       "      <td>0</td>\n",
       "      <td>1</td>\n",
       "      <td>0</td>\n",
       "      <td>0</td>\n",
       "      <td>0</td>\n",
       "      <td>0</td>\n",
       "    </tr>\n",
       "    <tr>\n",
       "      <th>3</th>\n",
       "      <td>49.5</td>\n",
       "      <td>6.0</td>\n",
       "      <td>41.5</td>\n",
       "      <td>120.0</td>\n",
       "      <td>47.0</td>\n",
       "      <td>6.0</td>\n",
       "      <td>1.0</td>\n",
       "      <td>103.293333</td>\n",
       "      <td>1.0</td>\n",
       "      <td>0</td>\n",
       "      <td>1</td>\n",
       "      <td>0</td>\n",
       "      <td>0</td>\n",
       "      <td>0</td>\n",
       "      <td>0</td>\n",
       "      <td>0</td>\n",
       "      <td>0</td>\n",
       "      <td>0</td>\n",
       "      <td>0</td>\n",
       "      <td>0</td>\n",
       "      <td>0</td>\n",
       "      <td>0</td>\n",
       "      <td>0</td>\n",
       "      <td>0</td>\n",
       "      <td>0</td>\n",
       "      <td>0</td>\n",
       "      <td>0</td>\n",
       "      <td>0</td>\n",
       "      <td>0</td>\n",
       "      <td>0</td>\n",
       "      <td>0</td>\n",
       "      <td>0</td>\n",
       "      <td>0</td>\n",
       "      <td>0</td>\n",
       "      <td>0</td>\n",
       "      <td>0</td>\n",
       "      <td>0</td>\n",
       "      <td>1</td>\n",
       "      <td>0</td>\n",
       "      <td>0</td>\n",
       "      <td>...</td>\n",
       "      <td>0</td>\n",
       "      <td>0</td>\n",
       "      <td>0</td>\n",
       "      <td>0</td>\n",
       "      <td>0</td>\n",
       "      <td>0</td>\n",
       "      <td>0</td>\n",
       "      <td>0</td>\n",
       "      <td>0</td>\n",
       "      <td>0</td>\n",
       "      <td>0</td>\n",
       "      <td>0</td>\n",
       "      <td>0</td>\n",
       "      <td>0</td>\n",
       "      <td>0</td>\n",
       "      <td>0</td>\n",
       "      <td>0</td>\n",
       "      <td>0</td>\n",
       "      <td>0</td>\n",
       "      <td>0</td>\n",
       "      <td>0</td>\n",
       "      <td>0</td>\n",
       "      <td>0</td>\n",
       "      <td>0</td>\n",
       "      <td>0</td>\n",
       "      <td>0</td>\n",
       "      <td>0</td>\n",
       "      <td>1</td>\n",
       "      <td>0</td>\n",
       "      <td>0</td>\n",
       "      <td>0</td>\n",
       "      <td>0</td>\n",
       "      <td>0</td>\n",
       "      <td>1</td>\n",
       "      <td>0</td>\n",
       "      <td>1</td>\n",
       "      <td>0</td>\n",
       "      <td>0</td>\n",
       "      <td>0</td>\n",
       "      <td>0</td>\n",
       "    </tr>\n",
       "    <tr>\n",
       "      <th>4</th>\n",
       "      <td>49.5</td>\n",
       "      <td>6.0</td>\n",
       "      <td>41.5</td>\n",
       "      <td>120.0</td>\n",
       "      <td>47.0</td>\n",
       "      <td>6.0</td>\n",
       "      <td>1.0</td>\n",
       "      <td>103.330242</td>\n",
       "      <td>0.0</td>\n",
       "      <td>0</td>\n",
       "      <td>1</td>\n",
       "      <td>0</td>\n",
       "      <td>0</td>\n",
       "      <td>0</td>\n",
       "      <td>0</td>\n",
       "      <td>0</td>\n",
       "      <td>0</td>\n",
       "      <td>0</td>\n",
       "      <td>0</td>\n",
       "      <td>0</td>\n",
       "      <td>0</td>\n",
       "      <td>0</td>\n",
       "      <td>0</td>\n",
       "      <td>0</td>\n",
       "      <td>0</td>\n",
       "      <td>0</td>\n",
       "      <td>0</td>\n",
       "      <td>0</td>\n",
       "      <td>0</td>\n",
       "      <td>0</td>\n",
       "      <td>0</td>\n",
       "      <td>0</td>\n",
       "      <td>0</td>\n",
       "      <td>0</td>\n",
       "      <td>0</td>\n",
       "      <td>0</td>\n",
       "      <td>0</td>\n",
       "      <td>1</td>\n",
       "      <td>0</td>\n",
       "      <td>0</td>\n",
       "      <td>...</td>\n",
       "      <td>0</td>\n",
       "      <td>0</td>\n",
       "      <td>0</td>\n",
       "      <td>0</td>\n",
       "      <td>0</td>\n",
       "      <td>0</td>\n",
       "      <td>0</td>\n",
       "      <td>0</td>\n",
       "      <td>0</td>\n",
       "      <td>0</td>\n",
       "      <td>0</td>\n",
       "      <td>0</td>\n",
       "      <td>0</td>\n",
       "      <td>0</td>\n",
       "      <td>0</td>\n",
       "      <td>0</td>\n",
       "      <td>0</td>\n",
       "      <td>0</td>\n",
       "      <td>0</td>\n",
       "      <td>0</td>\n",
       "      <td>0</td>\n",
       "      <td>0</td>\n",
       "      <td>0</td>\n",
       "      <td>0</td>\n",
       "      <td>0</td>\n",
       "      <td>0</td>\n",
       "      <td>0</td>\n",
       "      <td>1</td>\n",
       "      <td>0</td>\n",
       "      <td>0</td>\n",
       "      <td>0</td>\n",
       "      <td>0</td>\n",
       "      <td>0</td>\n",
       "      <td>1</td>\n",
       "      <td>0</td>\n",
       "      <td>1</td>\n",
       "      <td>0</td>\n",
       "      <td>0</td>\n",
       "      <td>0</td>\n",
       "      <td>0</td>\n",
       "    </tr>\n",
       "  </tbody>\n",
       "</table>\n",
       "<p>5 rows × 132 columns</p>\n",
       "</div>"
      ],
      "text/plain": [
       "   ALTURA  ...  GRUPO_CARACT_Outlier peso 2\n",
       "0    30.5  ...                            0\n",
       "1    22.0  ...                            0\n",
       "2    24.0  ...                            0\n",
       "3    49.5  ...                            0\n",
       "4    49.5  ...                            0\n",
       "\n",
       "[5 rows x 132 columns]"
      ]
     },
     "execution_count": 16,
     "metadata": {
      "tags": []
     },
     "output_type": "execute_result"
    }
   ],
   "source": [
    "dataset_modelo.head()"
   ]
  },
  {
   "cell_type": "markdown",
   "metadata": {
    "colab_type": "text",
    "id": "T83JPRigKLRN"
   },
   "source": [
    "Array com preditores - base sem o target (campo \"INTERESTED\")"
   ]
  },
  {
   "cell_type": "code",
   "execution_count": 17,
   "metadata": {
    "colab": {},
    "colab_type": "code",
    "id": "R6-HMu1OKJ9M"
   },
   "outputs": [],
   "source": [
    "preditores = dataset_modelo.drop('INTERESTED', axis = 1).columns"
   ]
  },
  {
   "cell_type": "markdown",
   "metadata": {
    "colab_type": "text",
    "id": "SyzH5V08Mkpb"
   },
   "source": [
    "Correlações da matriz esparsa"
   ]
  },
  {
   "cell_type": "code",
   "execution_count": 55,
   "metadata": {
    "colab": {},
    "colab_type": "code",
    "id": "7iKYoZfiMpKk"
   },
   "outputs": [],
   "source": [
    "corr2 = dataset_modelo.corr(method='spearman')"
   ]
  },
  {
   "cell_type": "code",
   "execution_count": 61,
   "metadata": {
    "colab": {
     "base_uri": "https://localhost:8080/",
     "height": 1000
    },
    "colab_type": "code",
    "id": "LJ-5ge0yNs5o",
    "outputId": "0387a6f0-bce3-46d6-bd4f-532656c0f734"
   },
   "outputs": [
    {
     "name": "stderr",
     "output_type": "stream",
     "text": [
      "/usr/local/lib/python3.6/dist-packages/ipykernel_launcher.py:3: UserWarning: Boolean Series key will be reindexed to match DataFrame index.\n",
      "  This is separate from the ipykernel package so we can avoid doing imports until\n"
     ]
    },
    {
     "name": "stdout",
     "output_type": "stream",
     "text": [
      "Index([], dtype='object')\n",
      "Index([], dtype='object')\n",
      "Index([], dtype='object')\n",
      "Index(['PESO: GRUPO_CARACT_Alta Capacidade Baixo peso'], dtype='object')\n",
      "Index([], dtype='object')\n",
      "Index(['TEMPO_GARANTIA: MARCA_LA CUISINE', 'TEMPO_GARANTIA: MARCA_TRAMONTINA'], dtype='object')\n",
      "Index([], dtype='object')\n",
      "Index([], dtype='object')\n",
      "Index([], dtype='object')\n",
      "Index(['COMPOSICAO_ALUMINIO: COMPOSICAO_INOX', 'COMPOSICAO_ALUMINIO: COR_INOX',\n",
      "       'COMPOSICAO_ALUMINIO: TIPO_PRODUTO_CHALEIRA'],\n",
      "      dtype='object')\n",
      "Index(['COMPOSICAO_CERAMICA: COR_CHOCOLATE', 'COMPOSICAO_CERAMICA: MARCA_CERAFLAME'], dtype='object')\n",
      "Index(['COMPOSICAO_INOX: COMPOSICAO_ALUMINIO', 'COMPOSICAO_INOX: COR_INOX',\n",
      "       'COMPOSICAO_INOX: TIPO_PRODUTO_CHALEIRA'],\n",
      "      dtype='object')\n",
      "Index([], dtype='object')\n",
      "Index([], dtype='object')\n",
      "Index([], dtype='object')\n",
      "Index([], dtype='object')\n",
      "Index(['COR_BERINGELA: MARCA_HAPPYCALL'], dtype='object')\n",
      "Index([], dtype='object')\n",
      "Index(['COR_CEREJA: TIPO_WOK_NAO', 'COR_CEREJA: TIPO_WOK_SIM'], dtype='object')\n",
      "Index(['COR_CHOCOLATE: COMPOSICAO_CERAMICA', 'COR_CHOCOLATE: MARCA_CERAFLAME'], dtype='object')\n",
      "Index(['COR_CINZA: MARCA_CONSUL'], dtype='object')\n",
      "Index([], dtype='object')\n",
      "Index([], dtype='object')\n",
      "Index([], dtype='object')\n",
      "Index([], dtype='object')\n",
      "Index([], dtype='object')\n",
      "Index(['COR_INOX: COMPOSICAO_ALUMINIO', 'COR_INOX: COMPOSICAO_INOX'], dtype='object')\n",
      "Index([], dtype='object')\n",
      "Index([], dtype='object')\n",
      "Index([], dtype='object')\n",
      "Index(['COR_PRATA: MARCA_ALUMINIO FORTALEZA'], dtype='object')\n",
      "Index(['COR_PRETO: MARCA_PANELA MINEIRA', 'COR_PRETO: TEM_FERRO_FUNDIDO_NAO',\n",
      "       'COR_PRETO: TEM_FERRO_FUNDIDO_SIM'],\n",
      "      dtype='object')\n",
      "Index(['COR_ROSA: MARCA_OXFORD COOKWARE'], dtype='object')\n",
      "Index([], dtype='object')\n",
      "Index([], dtype='object')\n",
      "Index([], dtype='object')\n",
      "Index([], dtype='object')\n",
      "Index([], dtype='object')\n",
      "Index(['FORMATO_FRIGIDEIRA: FORMATO_REDONDO', 'FORMATO_FRIGIDEIRA: MARCA_EURO',\n",
      "       'FORMATO_FRIGIDEIRA: TIPO_PRODUTO_WOK'],\n",
      "      dtype='object')\n",
      "Index([], dtype='object')\n",
      "Index(['FORMATO_QUADRADO: FORMATO_REDONDO'], dtype='object')\n",
      "Index(['FORMATO_REDONDO: FORMATO_FRIGIDEIRA', 'FORMATO_REDONDO: FORMATO_QUADRADO'], dtype='object')\n",
      "Index([], dtype='object')\n",
      "Index(['MARCA_ALUMINIO FORTALEZA: COR_PRATA'], dtype='object')\n",
      "Index([], dtype='object')\n",
      "Index([], dtype='object')\n",
      "Index([], dtype='object')\n",
      "Index([], dtype='object')\n",
      "Index([], dtype='object')\n",
      "Index(['MARCA_CERAFLAME: COMPOSICAO_CERAMICA', 'MARCA_CERAFLAME: COR_CHOCOLATE'], dtype='object')\n",
      "Index([], dtype='object')\n",
      "Index(['MARCA_CONSUL: COR_CINZA'], dtype='object')\n",
      "Index([], dtype='object')\n",
      "Index(['MARCA_DYNASTY: GRUPO_CARACT_Outlier peso 2'], dtype='object')\n",
      "Index([], dtype='object')\n",
      "Index(['MARCA_EURO: FORMATO_FRIGIDEIRA'], dtype='object')\n",
      "Index([], dtype='object')\n",
      "Index([], dtype='object')\n",
      "Index([], dtype='object')\n",
      "Index(['MARCA_HAPPYCALL: COR_BERINGELA'], dtype='object')\n",
      "Index([], dtype='object')\n",
      "Index([], dtype='object')\n",
      "Index([], dtype='object')\n",
      "Index(['MARCA_LA CUISINE: TEMPO_GARANTIA', 'MARCA_LA CUISINE: TEM_GRELHA_NAO',\n",
      "       'MARCA_LA CUISINE: TEM_GRELHA_SIM'],\n",
      "      dtype='object')\n",
      "Index([], dtype='object')\n",
      "Index([], dtype='object')\n",
      "Index([], dtype='object')\n",
      "Index(['MARCA_OXFORD COOKWARE: COR_ROSA'], dtype='object')\n",
      "Index(['MARCA_PANELA MINEIRA: COR_PRETO',\n",
      "       'MARCA_PANELA MINEIRA: TEM_FERRO_FUNDIDO_NAO',\n",
      "       'MARCA_PANELA MINEIRA: TEM_FERRO_FUNDIDO_SIM'],\n",
      "      dtype='object')\n",
      "Index(['MARCA_PANELUX: PARA_MICRO_ONDAS_no',\n",
      "       'MARCA_PANELUX: PARA_MICRO_ONDAS_yes',\n",
      "       'MARCA_PANELUX: TIPO_PRODUTO_CALDEIRAO'],\n",
      "      dtype='object')\n",
      "Index([], dtype='object')\n",
      "Index([], dtype='object')\n",
      "Index([], dtype='object')\n",
      "Index([], dtype='object')\n",
      "Index(['MARCA_TRAMONTINA: TEMPO_GARANTIA'], dtype='object')\n",
      "Index(['MARCA_TRAMONTINA DESIGN COLLECTION: GRUPO_CARACT_Outlier peso 1'], dtype='object')\n",
      "Index(['MARCA_VEC: TIPO_PRODUTO_CHALEIRA'], dtype='object')\n",
      "Index([], dtype='object')\n",
      "Index(['PARA_LAVA_LOUCAS_No: PARA_LAVA_LOUCAS_Yes'], dtype='object')\n",
      "Index(['PARA_LAVA_LOUCAS_Yes: PARA_LAVA_LOUCAS_No'], dtype='object')\n",
      "Index(['PARA_MICRO_ONDAS_no: MARCA_PANELUX', 'PARA_MICRO_ONDAS_no: PARA_MICRO_ONDAS_yes'], dtype='object')\n",
      "Index(['PARA_MICRO_ONDAS_yes: MARCA_PANELUX', 'PARA_MICRO_ONDAS_yes: PARA_MICRO_ONDAS_no'], dtype='object')\n",
      "Index(['TEM_FERRO_FUNDIDO_NAO: COR_PRETO',\n",
      "       'TEM_FERRO_FUNDIDO_NAO: MARCA_PANELA MINEIRA',\n",
      "       'TEM_FERRO_FUNDIDO_NAO: TEM_FERRO_FUNDIDO_SIM'],\n",
      "      dtype='object')\n",
      "Index(['TEM_FERRO_FUNDIDO_SIM: COR_PRETO',\n",
      "       'TEM_FERRO_FUNDIDO_SIM: MARCA_PANELA MINEIRA',\n",
      "       'TEM_FERRO_FUNDIDO_SIM: TEM_FERRO_FUNDIDO_NAO'],\n",
      "      dtype='object')\n",
      "Index(['TEM_GRELHA_NAO: MARCA_LA CUISINE', 'TEM_GRELHA_NAO: TEM_GRELHA_SIM'], dtype='object')\n",
      "Index(['TEM_GRELHA_SIM: MARCA_LA CUISINE', 'TEM_GRELHA_SIM: TEM_GRELHA_NAO'], dtype='object')\n",
      "Index([], dtype='object')\n",
      "Index([], dtype='object')\n",
      "Index([], dtype='object')\n",
      "Index([], dtype='object')\n",
      "Index([], dtype='object')\n",
      "Index(['TIPO_PRODUTO_CALDEIRAO: MARCA_PANELUX'], dtype='object')\n",
      "Index([], dtype='object')\n",
      "Index([], dtype='object')\n",
      "Index(['TIPO_PRODUTO_CHALEIRA: COMPOSICAO_ALUMINIO',\n",
      "       'TIPO_PRODUTO_CHALEIRA: COMPOSICAO_INOX',\n",
      "       'TIPO_PRODUTO_CHALEIRA: MARCA_VEC'],\n",
      "      dtype='object')\n",
      "Index([], dtype='object')\n",
      "Index([], dtype='object')\n",
      "Index([], dtype='object')\n",
      "Index([], dtype='object')\n",
      "Index([], dtype='object')\n",
      "Index([], dtype='object')\n",
      "Index([], dtype='object')\n",
      "Index([], dtype='object')\n",
      "Index([], dtype='object')\n",
      "Index([], dtype='object')\n",
      "Index([], dtype='object')\n",
      "Index([], dtype='object')\n",
      "Index([], dtype='object')\n",
      "Index([], dtype='object')\n",
      "Index([], dtype='object')\n",
      "Index([], dtype='object')\n",
      "Index([], dtype='object')\n",
      "Index([], dtype='object')\n",
      "Index([], dtype='object')\n",
      "Index([], dtype='object')\n",
      "Index([], dtype='object')\n",
      "Index([], dtype='object')\n",
      "Index([], dtype='object')\n",
      "Index([], dtype='object')\n",
      "Index([], dtype='object')\n",
      "Index([], dtype='object')\n",
      "Index([], dtype='object')\n",
      "Index([], dtype='object')\n",
      "Index(['TIPO_PRODUTO_WOK: FORMATO_FRIGIDEIRA'], dtype='object')\n",
      "Index(['TIPO_WOK_NAO: COR_CEREJA', 'TIPO_WOK_NAO: TIPO_WOK_SIM'], dtype='object')\n",
      "Index(['TIPO_WOK_SIM: COR_CEREJA', 'TIPO_WOK_SIM: TIPO_WOK_NAO'], dtype='object')\n",
      "Index(['GRUPO_CARACT_Alta Capacidade Baixo peso: PESO', 'GRUPO_CARACT_Alta Capacidade Baixo peso: GRUPO_CARACT_Alto peso Altura inferior'], dtype='object')\n",
      "Index(['GRUPO_CARACT_Alto peso Altura inferior: GRUPO_CARACT_Alta Capacidade Baixo peso'], dtype='object')\n",
      "Index([], dtype='object')\n",
      "Index(['GRUPO_CARACT_Outlier peso 1: MARCA_TRAMONTINA DESIGN COLLECTION'], dtype='object')\n",
      "Index(['GRUPO_CARACT_Outlier peso 2: MARCA_DYNASTY'], dtype='object')\n"
     ]
    }
   ],
   "source": [
    "for column in preditores:\n",
    "  temp = corr2[corr2[column] != 1]\n",
    "  temp = temp[abs(corr2[column]) > 0.55]\n",
    "  print(column + \": \" + temp.index)"
   ]
  },
  {
   "cell_type": "markdown",
   "metadata": {
    "colab_type": "text",
    "id": "wvJUjjOnP8BN"
   },
   "source": [
    "A análise acima mostra algumas regras de associação interessantes como por exemplo, os produtos classificados comom outliers de peso do produto estão em linhas ou marcas específicas."
   ]
  },
  {
   "cell_type": "markdown",
   "metadata": {
    "colab_type": "text",
    "id": "30Tw54SVLcgl"
   },
   "source": [
    "Imports iniciais sklearn"
   ]
  },
  {
   "cell_type": "code",
   "execution_count": 18,
   "metadata": {
    "colab": {},
    "colab_type": "code",
    "id": "8HEfKw_xLbf0"
   },
   "outputs": [],
   "source": [
    "from sklearn.model_selection import train_test_split\n",
    "from sklearn import metrics\n",
    "from sklearn.neural_network import MLPClassifier\n",
    "from sklearn.preprocessing import StandardScaler\n",
    "from sklearn.neighbors import KNeighborsClassifier\n",
    "from sklearn import svm\n",
    "from sklearn.ensemble import RandomForestClassifier\n",
    "from sklearn.neural_network import MLPClassifier"
   ]
  },
  {
   "cell_type": "markdown",
   "metadata": {
    "colab_type": "text",
    "id": "5jl6JrOjLJSV"
   },
   "source": [
    "Split base teste e treino - Será reservada 20% da base como validação"
   ]
  },
  {
   "cell_type": "code",
   "execution_count": 19,
   "metadata": {
    "colab": {},
    "colab_type": "code",
    "id": "8jQ4m2yBLPQc"
   },
   "outputs": [],
   "source": [
    "x_train, x_test, y_train, y_test = train_test_split(dataset_modelo[preditores]\n",
    "                                                    , dataset_modelo['INTERESTED']\n",
    "                                                    , random_state=42, test_size=0.20)"
   ]
  },
  {
   "cell_type": "markdown",
   "metadata": {
    "colab_type": "text",
    "id": "PMZOCwmWMMC0"
   },
   "source": [
    "Normalização das variáveis"
   ]
  },
  {
   "cell_type": "code",
   "execution_count": 20,
   "metadata": {
    "colab": {},
    "colab_type": "code",
    "id": "RWXshsyIMLZL"
   },
   "outputs": [],
   "source": [
    "scaler = StandardScaler()\n",
    "scaler_model = scaler.fit(x_train)\n",
    "\n",
    "x_train_scaled = scaler_model.transform(x_train)\n",
    "x_test_scaled = scaler_model.transform(x_test)\n"
   ]
  },
  {
   "cell_type": "markdown",
   "metadata": {
    "colab_type": "text",
    "id": "gpGfWcDuMIIN"
   },
   "source": [
    "Oversampler para balanceamento"
   ]
  },
  {
   "cell_type": "code",
   "execution_count": 21,
   "metadata": {
    "colab": {
     "base_uri": "https://localhost:8080/",
     "height": 142
    },
    "colab_type": "code",
    "id": "z8q_RHRZKIpI",
    "outputId": "d5e07d54-f017-4903-a55a-f953c9bb57fa"
   },
   "outputs": [
    {
     "name": "stderr",
     "output_type": "stream",
     "text": [
      "/usr/local/lib/python3.6/dist-packages/sklearn/externals/six.py:31: FutureWarning: The module is deprecated in version 0.21 and will be removed in version 0.23 since we've dropped support for Python 2.7. Please rely on the official version of six (https://pypi.org/project/six/).\n",
      "  \"(https://pypi.org/project/six/).\", FutureWarning)\n",
      "/usr/local/lib/python3.6/dist-packages/sklearn/utils/deprecation.py:144: FutureWarning: The sklearn.neighbors.base module is  deprecated in version 0.22 and will be removed in version 0.24. The corresponding classes / functions should instead be imported from sklearn.neighbors. Anything that cannot be imported from sklearn.neighbors is now part of the private API.\n",
      "  warnings.warn(message, FutureWarning)\n",
      "/usr/local/lib/python3.6/dist-packages/sklearn/utils/deprecation.py:87: FutureWarning: Function safe_indexing is deprecated; safe_indexing is deprecated in version 0.22 and will be removed in version 0.24.\n",
      "  warnings.warn(msg, category=FutureWarning)\n"
     ]
    }
   ],
   "source": [
    "from imblearn.over_sampling import RandomOverSampler\n",
    "\n",
    "ros = RandomOverSampler(random_state = 42)\n",
    "X_ros, Y_ros = ros.fit_resample(x_train_scaled, y_train)"
   ]
  },
  {
   "cell_type": "markdown",
   "metadata": {
    "colab_type": "text",
    "id": "cnpi2ie4bi3j"
   },
   "source": [
    "Conferindo o balanceamento de classes da variável INTERESTED"
   ]
  },
  {
   "cell_type": "code",
   "execution_count": 22,
   "metadata": {
    "colab": {
     "base_uri": "https://localhost:8080/",
     "height": 34
    },
    "colab_type": "code",
    "id": "P3xUh6wjNA9m",
    "outputId": "ee0ae2a5-7965-4eff-950c-1a1c34728ab2"
   },
   "outputs": [
    {
     "name": "stdout",
     "output_type": "stream",
     "text": [
      "Counter({0.0: 97887, 1.0: 97887})\n"
     ]
    }
   ],
   "source": [
    "import collections  \n",
    "count_classes = collections.Counter(Y_ros)\n",
    "print(count_classes)"
   ]
  },
  {
   "cell_type": "markdown",
   "metadata": {
    "colab_type": "text",
    "id": "BBTYqGGJSmOW"
   },
   "source": [
    "## Modelo Random Forest"
   ]
  },
  {
   "cell_type": "markdown",
   "metadata": {
    "colab_type": "text",
    "id": "_vVsmGDS9STu"
   },
   "source": [
    "O modelo é um tipo de árvore de decisão, que geralmente fornece um bom acerto e lida bem com outliers, por isso será testado inicialmente. A importância das variáveis dará uma pista inicial das investigações a serem feitas para as áreas de negócio."
   ]
  },
  {
   "cell_type": "code",
   "execution_count": 23,
   "metadata": {
    "colab": {},
    "colab_type": "code",
    "id": "s8YuH2SaSrLG"
   },
   "outputs": [],
   "source": [
    "arvores = [20, 50, 100, 300, 400, 500]\n",
    "accuracy_array = []\n",
    "\n",
    "for i in arvores:\n",
    "  rf = RandomForestClassifier(n_estimators=i)\n",
    "  rf.fit(X_ros, Y_ros)\n",
    "  y_predicted_rf = rf.predict(x_test_scaled)\n",
    "  accuracy_rf = metrics.accuracy_score(y_test, y_predicted_rf).round(4)\n",
    "  accuracy_array.append(accuracy_rf)\n"
   ]
  },
  {
   "cell_type": "markdown",
   "metadata": {
    "colab_type": "text",
    "id": "WbFwuRf093FZ"
   },
   "source": [
    "Descobrindo o melhor parâmetro (número de árvores) de acordo com a acurácia usando cross-validation"
   ]
  },
  {
   "cell_type": "code",
   "execution_count": 24,
   "metadata": {
    "colab": {
     "base_uri": "https://localhost:8080/",
     "height": 225
    },
    "colab_type": "code",
    "id": "i88V0UcRbDxu",
    "outputId": "42fa0052-c40b-442b-cd2b-f781679a6465"
   },
   "outputs": [
    {
     "data": {
      "text/html": [
       "<div>\n",
       "<style scoped>\n",
       "    .dataframe tbody tr th:only-of-type {\n",
       "        vertical-align: middle;\n",
       "    }\n",
       "\n",
       "    .dataframe tbody tr th {\n",
       "        vertical-align: top;\n",
       "    }\n",
       "\n",
       "    .dataframe thead th {\n",
       "        text-align: right;\n",
       "    }\n",
       "</style>\n",
       "<table border=\"1\" class=\"dataframe\">\n",
       "  <thead>\n",
       "    <tr style=\"text-align: right;\">\n",
       "      <th></th>\n",
       "      <th>arvores</th>\n",
       "      <th>acuracia</th>\n",
       "    </tr>\n",
       "  </thead>\n",
       "  <tbody>\n",
       "    <tr>\n",
       "      <th>0</th>\n",
       "      <td>20</td>\n",
       "      <td>0.7090</td>\n",
       "    </tr>\n",
       "    <tr>\n",
       "      <th>1</th>\n",
       "      <td>50</td>\n",
       "      <td>0.7108</td>\n",
       "    </tr>\n",
       "    <tr>\n",
       "      <th>2</th>\n",
       "      <td>100</td>\n",
       "      <td>0.7091</td>\n",
       "    </tr>\n",
       "    <tr>\n",
       "      <th>3</th>\n",
       "      <td>300</td>\n",
       "      <td>0.7091</td>\n",
       "    </tr>\n",
       "    <tr>\n",
       "      <th>4</th>\n",
       "      <td>400</td>\n",
       "      <td>0.7092</td>\n",
       "    </tr>\n",
       "    <tr>\n",
       "      <th>5</th>\n",
       "      <td>500</td>\n",
       "      <td>0.7091</td>\n",
       "    </tr>\n",
       "  </tbody>\n",
       "</table>\n",
       "</div>"
      ],
      "text/plain": [
       "   arvores  acuracia\n",
       "0       20    0.7090\n",
       "1       50    0.7108\n",
       "2      100    0.7091\n",
       "3      300    0.7091\n",
       "4      400    0.7092\n",
       "5      500    0.7091"
      ]
     },
     "execution_count": 24,
     "metadata": {
      "tags": []
     },
     "output_type": "execute_result"
    }
   ],
   "source": [
    "rf_estimators = pd.DataFrame(list(zip(arvores, accuracy_array)), columns =['arvores', 'acuracia'])\n",
    "rf_estimators.head(10)"
   ]
  },
  {
   "cell_type": "markdown",
   "metadata": {
    "colab_type": "text",
    "id": "A4uyavpSbAX_"
   },
   "source": [
    "**Ajustando melhor modelo**"
   ]
  },
  {
   "cell_type": "code",
   "execution_count": 25,
   "metadata": {
    "colab": {
     "base_uri": "https://localhost:8080/",
     "height": 158
    },
    "colab_type": "code",
    "id": "imViDcc9a_fn",
    "outputId": "a3204570-ddff-44f1-a6b2-8fc0a5bfe285"
   },
   "outputs": [
    {
     "data": {
      "text/plain": [
       "RandomForestClassifier(bootstrap=True, ccp_alpha=0.0, class_weight=None,\n",
       "                       criterion='gini', max_depth=None, max_features='auto',\n",
       "                       max_leaf_nodes=None, max_samples=None,\n",
       "                       min_impurity_decrease=0.0, min_impurity_split=None,\n",
       "                       min_samples_leaf=1, min_samples_split=2,\n",
       "                       min_weight_fraction_leaf=0.0, n_estimators=50,\n",
       "                       n_jobs=None, oob_score=False, random_state=None,\n",
       "                       verbose=0, warm_start=False)"
      ]
     },
     "execution_count": 25,
     "metadata": {
      "tags": []
     },
     "output_type": "execute_result"
    }
   ],
   "source": [
    "best_rf = RandomForestClassifier(n_estimators= rf_estimators['arvores'][rf_estimators['acuracia'].idxmax()])\n",
    "best_rf.fit(X_ros, Y_ros)"
   ]
  },
  {
   "cell_type": "markdown",
   "metadata": {
    "colab_type": "text",
    "id": "GPybWx_TW7XT"
   },
   "source": [
    "**Matriz de confusão**"
   ]
  },
  {
   "cell_type": "code",
   "execution_count": 26,
   "metadata": {
    "colab": {},
    "colab_type": "code",
    "id": "7xXP8nfpHfdO"
   },
   "outputs": [],
   "source": [
    "y_predicted_rf = best_rf.predict(x_test_scaled)"
   ]
  },
  {
   "cell_type": "code",
   "execution_count": 27,
   "metadata": {
    "colab": {
     "base_uri": "https://localhost:8080/",
     "height": 136
    },
    "colab_type": "code",
    "id": "fBgfCmxKW86w",
    "outputId": "7a3e5222-cdcf-4a36-dc65-cac5978a8bdc"
   },
   "outputs": [
    {
     "data": {
      "text/html": [
       "<div>\n",
       "<style scoped>\n",
       "    .dataframe tbody tr th:only-of-type {\n",
       "        vertical-align: middle;\n",
       "    }\n",
       "\n",
       "    .dataframe tbody tr th {\n",
       "        vertical-align: top;\n",
       "    }\n",
       "\n",
       "    .dataframe thead th {\n",
       "        text-align: right;\n",
       "    }\n",
       "</style>\n",
       "<table border=\"1\" class=\"dataframe\">\n",
       "  <thead>\n",
       "    <tr style=\"text-align: right;\">\n",
       "      <th>predito</th>\n",
       "      <th>0.0</th>\n",
       "      <th>1.0</th>\n",
       "    </tr>\n",
       "    <tr>\n",
       "      <th>real</th>\n",
       "      <th></th>\n",
       "      <th></th>\n",
       "    </tr>\n",
       "  </thead>\n",
       "  <tbody>\n",
       "    <tr>\n",
       "      <th>0.0</th>\n",
       "      <td>16994</td>\n",
       "      <td>7404</td>\n",
       "    </tr>\n",
       "    <tr>\n",
       "      <th>1.0</th>\n",
       "      <td>390</td>\n",
       "      <td>1971</td>\n",
       "    </tr>\n",
       "  </tbody>\n",
       "</table>\n",
       "</div>"
      ],
      "text/plain": [
       "predito    0.0   1.0\n",
       "real                \n",
       "0.0      16994  7404\n",
       "1.0        390  1971"
      ]
     },
     "execution_count": 27,
     "metadata": {
      "tags": []
     },
     "output_type": "execute_result"
    }
   ],
   "source": [
    "rf_results = pd.DataFrame(list(zip(y_predicted_rf, y_test)), columns = ['predito', 'real'])\n",
    "df_confusion = pd.crosstab(rf_results.real, rf_results.predito)\n",
    "df_confusion.head()"
   ]
  },
  {
   "cell_type": "code",
   "execution_count": 28,
   "metadata": {
    "colab": {
     "base_uri": "https://localhost:8080/",
     "height": 70
    },
    "colab_type": "code",
    "id": "IYfhKot2lkIv",
    "outputId": "7aff3162-2b82-4efd-b7fd-3ef51add30cd"
   },
   "outputs": [
    {
     "name": "stdout",
     "output_type": "stream",
     "text": [
      "0.33588957055214724\n",
      "0.8348157560355781\n",
      "0.21024\n"
     ]
    }
   ],
   "source": [
    "cont = len(rf_results)\n",
    "#falso negativo e positivo\n",
    "fp = df_confusion.iloc[0,1]\n",
    "fn = df_confusion.iloc[1,0]\n",
    "#verdadeiro (true) positivo e negativo\n",
    "tp = df_confusion.iloc[1,1]\n",
    "tn = df_confusion.iloc[0,0]\n",
    "#recall - taxa de captura de positivos\n",
    "recall = tp / (tp + fn)\n",
    "precision = tp / (tp + fp)\n",
    "f1 = 2 * (precision * recall) / (precision + recall)\n",
    "print(f1)\n",
    "print(recall)\n",
    "print(precision)"
   ]
  },
  {
   "cell_type": "markdown",
   "metadata": {
    "colab_type": "text",
    "id": "sPakhhQcjGGl"
   },
   "source": [
    "A matriz de confusão mostra que o modelo classifica muitos falsos positivos. Será analisado outro Threshold da probabilidade."
   ]
  },
  {
   "cell_type": "code",
   "execution_count": 29,
   "metadata": {
    "colab": {
     "base_uri": "https://localhost:8080/",
     "height": 136
    },
    "colab_type": "code",
    "id": "hcqnWuUfg3ii",
    "outputId": "603705e3-3e81-4cc0-fc9f-25f12852bae2"
   },
   "outputs": [
    {
     "data": {
      "text/html": [
       "<div>\n",
       "<style scoped>\n",
       "    .dataframe tbody tr th:only-of-type {\n",
       "        vertical-align: middle;\n",
       "    }\n",
       "\n",
       "    .dataframe tbody tr th {\n",
       "        vertical-align: top;\n",
       "    }\n",
       "\n",
       "    .dataframe thead th {\n",
       "        text-align: right;\n",
       "    }\n",
       "</style>\n",
       "<table border=\"1\" class=\"dataframe\">\n",
       "  <thead>\n",
       "    <tr style=\"text-align: right;\">\n",
       "      <th>predito</th>\n",
       "      <th>0</th>\n",
       "      <th>1</th>\n",
       "    </tr>\n",
       "    <tr>\n",
       "      <th>real</th>\n",
       "      <th></th>\n",
       "      <th></th>\n",
       "    </tr>\n",
       "  </thead>\n",
       "  <tbody>\n",
       "    <tr>\n",
       "      <th>0.0</th>\n",
       "      <td>21615</td>\n",
       "      <td>2783</td>\n",
       "    </tr>\n",
       "    <tr>\n",
       "      <th>1.0</th>\n",
       "      <td>1045</td>\n",
       "      <td>1316</td>\n",
       "    </tr>\n",
       "  </tbody>\n",
       "</table>\n",
       "</div>"
      ],
      "text/plain": [
       "predito      0     1\n",
       "real                \n",
       "0.0      21615  2783\n",
       "1.0       1045  1316"
      ]
     },
     "execution_count": 29,
     "metadata": {
      "tags": []
     },
     "output_type": "execute_result"
    }
   ],
   "source": [
    "threshold = 0.7\n",
    "\n",
    "predicted_proba = best_rf.predict_proba(x_test_scaled)\n",
    "y_predicted_rf = (predicted_proba [:,1] >= threshold).astype('int')\n",
    "rf_results = pd.DataFrame(list(zip(y_predicted_rf, y_test)), columns = ['predito', 'real'])\n",
    "df_confusion = pd.crosstab(rf_results.real, rf_results.predito)\n",
    "df_confusion.head()"
   ]
  },
  {
   "cell_type": "code",
   "execution_count": 30,
   "metadata": {
    "colab": {
     "base_uri": "https://localhost:8080/",
     "height": 70
    },
    "colab_type": "code",
    "id": "GcTARiDjeyZD",
    "outputId": "bf4d34b7-db28-4133-bcde-573421a5b6b5"
   },
   "outputs": [
    {
     "name": "stdout",
     "output_type": "stream",
     "text": [
      "0.4074303405572755\n",
      "0.5573909360440491\n",
      "0.32105391558916807\n"
     ]
    }
   ],
   "source": [
    "cont = len(rf_results)\n",
    "#falso negativo e positivo\n",
    "fp = df_confusion.iloc[0,1]\n",
    "fn = df_confusion.iloc[1,0]\n",
    "#verdadeiro (true) positivo e negativo\n",
    "tp = df_confusion.iloc[1,1]\n",
    "tn = df_confusion.iloc[0,0]\n",
    "#recall - taxa de captura de positivos\n",
    "recall = tp / (tp + fn)\n",
    "precision = tp / (tp + fp)\n",
    "f1 = 2 * (precision * recall) / (precision + recall)\n",
    "print(f1)\n",
    "print(recall)\n",
    "print(precision)"
   ]
  },
  {
   "cell_type": "markdown",
   "metadata": {
    "colab_type": "text",
    "id": "7u6lnU5bmBi_"
   },
   "source": [
    "Definindo-se que produtos com score acima de 70% serão classificados como de interesse, é verificado um melhor equilíbrio entre os acertos de casos positivos e negativos, e conseguimos diminuir a taxa de falsos positivos. O score F1, que leva em consideração essas duas métricas atinge valor de 40% mostrando que não é um modelo com acerto ideal.\n",
    "\n",
    "Nesse momento é importante avaliar o risco ou custo de se classificar um produto como falso positivo ou negativo.\n",
    "\n",
    "Também poderá ser necessário coletar mais dados (características dos clientes que geraram os eventos ou mais registros com o tempo, ou ainda ou experimentos randomizados) para chegar a conclusões mais confiáveis sobre o interesse dos produtos."
   ]
  },
  {
   "cell_type": "markdown",
   "metadata": {
    "colab_type": "text",
    "id": "Rs27QKVYVY9n"
   },
   "source": [
    "**Levantando a importância das variáveis**\n",
    "\n",
    "Mesmo com o modelo não estando com acerto ideal faremos análise da importancia das variáveis como exercício. O objetivo é gerar entendimento sobre os fatores que despertam interesse nos clientes "
   ]
  },
  {
   "cell_type": "code",
   "execution_count": 31,
   "metadata": {
    "colab": {},
    "colab_type": "code",
    "id": "18JMGn4fVYGJ"
   },
   "outputs": [],
   "source": [
    "importance_df = pd.DataFrame(best_rf.feature_importances_, columns = ['importancia'], index = preditores)"
   ]
  },
  {
   "cell_type": "code",
   "execution_count": 32,
   "metadata": {
    "colab": {
     "base_uri": "https://localhost:8080/",
     "height": 521
    },
    "colab_type": "code",
    "id": "4MxmXtu4dxCl",
    "outputId": "1f296539-9740-4cf8-c5dd-e26c50d52ad7"
   },
   "outputs": [
    {
     "data": {
      "text/html": [
       "<div>\n",
       "<style scoped>\n",
       "    .dataframe tbody tr th:only-of-type {\n",
       "        vertical-align: middle;\n",
       "    }\n",
       "\n",
       "    .dataframe tbody tr th {\n",
       "        vertical-align: top;\n",
       "    }\n",
       "\n",
       "    .dataframe thead th {\n",
       "        text-align: right;\n",
       "    }\n",
       "</style>\n",
       "<table border=\"1\" class=\"dataframe\">\n",
       "  <thead>\n",
       "    <tr style=\"text-align: right;\">\n",
       "      <th></th>\n",
       "      <th>importancia</th>\n",
       "    </tr>\n",
       "  </thead>\n",
       "  <tbody>\n",
       "    <tr>\n",
       "      <th>ITEM_PRICE</th>\n",
       "      <td>0.836751</td>\n",
       "    </tr>\n",
       "    <tr>\n",
       "      <th>LARGURA</th>\n",
       "      <td>0.017875</td>\n",
       "    </tr>\n",
       "    <tr>\n",
       "      <th>ALTURA</th>\n",
       "      <td>0.016496</td>\n",
       "    </tr>\n",
       "    <tr>\n",
       "      <th>PROFUNDIDADE</th>\n",
       "      <td>0.015845</td>\n",
       "    </tr>\n",
       "    <tr>\n",
       "      <th>PESO</th>\n",
       "      <td>0.009765</td>\n",
       "    </tr>\n",
       "    <tr>\n",
       "      <th>CAPACIDADE_(L)</th>\n",
       "      <td>0.006987</td>\n",
       "    </tr>\n",
       "    <tr>\n",
       "      <th>TEM_TAMPA</th>\n",
       "      <td>0.005631</td>\n",
       "    </tr>\n",
       "    <tr>\n",
       "      <th>TEMPO_GARANTIA</th>\n",
       "      <td>0.004496</td>\n",
       "    </tr>\n",
       "    <tr>\n",
       "      <th>COR_VERMELHO</th>\n",
       "      <td>0.003261</td>\n",
       "    </tr>\n",
       "    <tr>\n",
       "      <th>COR_COLORIDO</th>\n",
       "      <td>0.003003</td>\n",
       "    </tr>\n",
       "    <tr>\n",
       "      <th>TIPO_WOK_NAO</th>\n",
       "      <td>0.002984</td>\n",
       "    </tr>\n",
       "    <tr>\n",
       "      <th>TIPO_PRODUTO_CACAROLA</th>\n",
       "      <td>0.002882</td>\n",
       "    </tr>\n",
       "    <tr>\n",
       "      <th>COR_PRETO</th>\n",
       "      <td>0.002826</td>\n",
       "    </tr>\n",
       "    <tr>\n",
       "      <th>TIPO_PRODUTO_PANELA</th>\n",
       "      <td>0.002654</td>\n",
       "    </tr>\n",
       "    <tr>\n",
       "      <th>MARCA_TRAMONTINA</th>\n",
       "      <td>0.002454</td>\n",
       "    </tr>\n",
       "    <tr>\n",
       "      <th>TEM_FERRO_FUNDIDO_SIM</th>\n",
       "      <td>0.002400</td>\n",
       "    </tr>\n",
       "  </tbody>\n",
       "</table>\n",
       "</div>"
      ],
      "text/plain": [
       "                       importancia\n",
       "ITEM_PRICE                0.836751\n",
       "LARGURA                   0.017875\n",
       "ALTURA                    0.016496\n",
       "PROFUNDIDADE              0.015845\n",
       "PESO                      0.009765\n",
       "CAPACIDADE_(L)            0.006987\n",
       "TEM_TAMPA                 0.005631\n",
       "TEMPO_GARANTIA            0.004496\n",
       "COR_VERMELHO              0.003261\n",
       "COR_COLORIDO              0.003003\n",
       "TIPO_WOK_NAO              0.002984\n",
       "TIPO_PRODUTO_CACAROLA     0.002882\n",
       "COR_PRETO                 0.002826\n",
       "TIPO_PRODUTO_PANELA       0.002654\n",
       "MARCA_TRAMONTINA          0.002454\n",
       "TEM_FERRO_FUNDIDO_SIM     0.002400"
      ]
     },
     "execution_count": 32,
     "metadata": {
      "tags": []
     },
     "output_type": "execute_result"
    }
   ],
   "source": [
    "importance_df.sort_values(by='importancia', ascending=False).head(16)"
   ]
  },
  {
   "cell_type": "markdown",
   "metadata": {
    "colab_type": "text",
    "id": "4c4Uo7WdfVnM"
   },
   "source": [
    "\n",
    "**O preço é um preditor muito forte de interesse. Para avaliar as outras features é necessário retira-la.**"
   ]
  },
  {
   "cell_type": "markdown",
   "metadata": {
    "colab_type": "text",
    "id": "qno1tOJZlL45"
   },
   "source": [
    "Top 15 features ordenadas pela importância, retirando preço"
   ]
  },
  {
   "cell_type": "code",
   "execution_count": 33,
   "metadata": {
    "colab": {
     "base_uri": "https://localhost:8080/",
     "height": 442
    },
    "colab_type": "code",
    "id": "jSbt_Pvzfi1J",
    "outputId": "ea5004ec-651f-4b2b-ab56-f5ae0f3f9754"
   },
   "outputs": [
    {
     "data": {
      "text/plain": [
       "<matplotlib.axes._subplots.AxesSubplot at 0x7f1629774f60>"
      ]
     },
     "execution_count": 33,
     "metadata": {
      "tags": []
     },
     "output_type": "execute_result"
    },
    {
     "data": {
      "image/png": "[encoded data removed]",
      "text/plain": [
       "<Figure size 1440x360 with 1 Axes>"
      ]
     },
     "metadata": {
      "needs_background": "light",
      "tags": []
     },
     "output_type": "display_data"
    }
   ],
   "source": [
    "importance_df[importance_df.index != 'ITEM_PRICE'].sort_values(by='importancia', ascending=False).head(15).plot.bar(figsize=(20,5))"
   ]
  },
  {
   "cell_type": "markdown",
   "metadata": {
    "colab_type": "text",
    "id": "dRg9idPohZqk"
   },
   "source": [
    "## Conclusões importantes - Insights"
   ]
  },
  {
   "cell_type": "markdown",
   "metadata": {
    "colab_type": "text",
    "id": "NBVyRJAahgSk"
   },
   "source": [
    "O gráfico de importância de variáveis na random forest aponta preditores importantes, como por exemplo:\n",
    "\n",
    "*   Informações físicas como: Profundidade, Altura, Largura, Peso e Capacidade.  \n",
    "\n",
    "*   A informação se o produto tem tampa \n",
    "\n",
    "*   Alguns tipos de panela\n",
    "\n",
    "*   Algumas cores se destacaram como importantes para predição de interesse\n",
    "\n",
    "* Indicador se o produto é Wok\n",
    "\n",
    "* Marca Tramontina\n",
    "\n",
    "Importante destacar que aqui está sendo avaliado o peso da informação mas não se a característica indica maior ou menor interesse, que é o próximo passo."
   ]
  },
  {
   "cell_type": "markdown",
   "metadata": {
    "colab_type": "text",
    "id": "iYg4q-YynBa0"
   },
   "source": [
    "### **Investigando os preditores para gerar insights para a áreas de  negócio**"
   ]
  },
  {
   "cell_type": "code",
   "execution_count": 34,
   "metadata": {
    "colab": {},
    "colab_type": "code",
    "id": "1zvBgdK7nKiE"
   },
   "outputs": [],
   "source": [
    "features_importantes = importance_df.sort_values(by='importancia', ascending=False).head(15).index"
   ]
  },
  {
   "cell_type": "markdown",
   "metadata": {
    "colab_type": "text",
    "id": "wrH94vZB-Tlq"
   },
   "source": [
    "Gráficos para melhor entendimento - distribuição ou taxa de interesse por valor da variável "
   ]
  },
  {
   "cell_type": "code",
   "execution_count": 35,
   "metadata": {
    "colab": {
     "base_uri": "https://localhost:8080/",
     "height": 1000
    },
    "colab_type": "code",
    "id": "BARVGEB2nc1A",
    "outputId": "051e06e3-f92e-4d0d-a0a1-f50f6030cc9c"
   },
   "outputs": [
    {
     "data": {
      "image/png": "[encoded data removed]",
      "text/plain": [
       "<Figure size 432x288 with 1 Axes>"
      ]
     },
     "metadata": {
      "needs_background": "light",
      "tags": []
     },
     "output_type": "display_data"
    },
    {
     "data": {
      "image/png": "[encoded data removed]",
      "text/plain": [
       "<Figure size 432x288 with 1 Axes>"
      ]
     },
     "metadata": {
      "needs_background": "light",
      "tags": []
     },
     "output_type": "display_data"
    },
    {
     "data": {
      "image/png": "[encoded data removed]",
      "text/plain": [
       "<Figure size 432x288 with 1 Axes>"
      ]
     },
     "metadata": {
      "needs_background": "light",
      "tags": []
     },
     "output_type": "display_data"
    },
    {
     "data": {
      "image/png": "[encoded data removed]",
      "text/plain": [
       "<Figure size 432x288 with 1 Axes>"
      ]
     },
     "metadata": {
      "needs_background": "light",
      "tags": []
     },
     "output_type": "display_data"
    },
    {
     "data": {
      "image/png": "[encoded data removed]",
      "text/plain": [
       "<Figure size 432x288 with 1 Axes>"
      ]
     },
     "metadata": {
      "needs_background": "light",
      "tags": []
     },
     "output_type": "display_data"
    },
    {
     "data": {
      "image/png": "[encoded data removed]",
      "text/plain": [
       "<Figure size 432x288 with 1 Axes>"
      ]
     },
     "metadata": {
      "needs_background": "light",
      "tags": []
     },
     "output_type": "display_data"
    },
    {
     "data": {
      "image/png": "[encoded data removed]",
      "text/plain": [
       "<Figure size 432x288 with 1 Axes>"
      ]
     },
     "metadata": {
      "needs_background": "light",
      "tags": []
     },
     "output_type": "display_data"
    },
    {
     "data": {
      "image/png": "[encoded data removed]",
      "text/plain": [
       "<Figure size 432x288 with 1 Axes>"
      ]
     },
     "metadata": {
      "needs_background": "light",
      "tags": []
     },
     "output_type": "display_data"
    },
    {
     "data": {
      "image/png": "[encoded data removed]",
      "text/plain": [
       "<Figure size 720x360 with 1 Axes>"
      ]
     },
     "metadata": {
      "needs_background": "light",
      "tags": []
     },
     "output_type": "display_data"
    },
    {
     "data": {
      "image/png": "[encoded data removed]",
      "text/plain": [
       "<Figure size 720x360 with 1 Axes>"
      ]
     },
     "metadata": {
      "needs_background": "light",
      "tags": []
     },
     "output_type": "display_data"
    },
    {
     "data": {
      "image/png": "[encoded data removed]",
      "text/plain": [
       "<Figure size 720x360 with 1 Axes>"
      ]
     },
     "metadata": {
      "needs_background": "light",
      "tags": []
     },
     "output_type": "display_data"
    },
    {
     "data": {
      "image/png": "[encoded data removed]",
      "text/plain": [
       "<Figure size 720x360 with 1 Axes>"
      ]
     },
     "metadata": {
      "needs_background": "light",
      "tags": []
     },
     "output_type": "display_data"
    },
    {
     "data": {
      "image/png": "[encoded data removed]",
      "text/plain": [
       "<Figure size 720x360 with 1 Axes>"
      ]
     },
     "metadata": {
      "needs_background": "light",
      "tags": []
     },
     "output_type": "display_data"
    },
    {
     "data": {
      "image/png": "[encoded data removed]",
      "text/plain": [
       "<Figure size 720x360 with 1 Axes>"
      ]
     },
     "metadata": {
      "needs_background": "light",
      "tags": []
     },
     "output_type": "display_data"
    },
    {
     "data": {
      "image/png": "[encoded data removed]",
      "text/plain": [
       "<Figure size 720x360 with 1 Axes>"
      ]
     },
     "metadata": {
      "needs_background": "light",
      "tags": []
     },
     "output_type": "display_data"
    }
   ],
   "source": [
    "for column in features_importantes:\n",
    "    \n",
    "    if dataset_modelo[column].dtype != 'float64': \n",
    "      \n",
    "      avg_cat = dataset_modelo[[column,'INTERESTED']].groupby(column, as_index=False).mean()\n",
    "      a4_dims = (10, 5)\n",
    "      fig, ax = plt.subplots(figsize=a4_dims)\n",
    "      sns.barplot(ax=ax, y = 'INTERESTED', x = column, data = avg_cat)\n",
    "    \n",
    "    if dataset_modelo[column].dtype == 'float64': \n",
    "      \n",
    "      #plt.scatter(dataset_modelo['INTERESTED'], dataset_modelo[column])\n",
    "      plt.hist(dataset_modelo[dataset_modelo['INTERESTED'] == 0][column], bins = 20, alpha = 0.2, label='0')\n",
    "      plt.hist(dataset_modelo[dataset_modelo['INTERESTED'] == 1][column], bins = 20, alpha = 0.2, label='1')\n",
    "      plt.legend(loc='upper right')\n",
    "      plt.title(column)\n",
    "      plt.show()\n"
   ]
  },
  {
   "cell_type": "markdown",
   "metadata": {
    "colab_type": "text",
    "id": "rmwOKXoQ5f8e"
   },
   "source": [
    "Tempo de garantia é ordinal. Investigar essa feature de outra forma:"
   ]
  },
  {
   "cell_type": "code",
   "execution_count": 36,
   "metadata": {
    "colab": {
     "base_uri": "https://localhost:8080/",
     "height": 297
    },
    "colab_type": "code",
    "id": "mI7uJo_V5m97",
    "outputId": "37eea1b3-c0b1-44a0-b025-ba8049b48db5"
   },
   "outputs": [
    {
     "data": {
      "text/plain": [
       "<matplotlib.axes._subplots.AxesSubplot at 0x7f16299e4320>"
      ]
     },
     "execution_count": 36,
     "metadata": {
      "tags": []
     },
     "output_type": "execute_result"
    },
    {
     "data": {
      "image/png": "[encoded data removed]",
      "text/plain": [
       "<Figure size 432x288 with 1 Axes>"
      ]
     },
     "metadata": {
      "needs_background": "light",
      "tags": []
     },
     "output_type": "display_data"
    }
   ],
   "source": [
    "sns.countplot(x='INTERESTED', hue='TEMPO_GARANTIA', data=dataset_modelo)"
   ]
  },
  {
   "cell_type": "markdown",
   "metadata": {
    "colab_type": "text",
    "id": "sUp_LiMjpMTb"
   },
   "source": [
    "**Heurísticas de negócio:**\n",
    "\n",
    "* Interesse é concentrado em itens com preço até R$ 250\n",
    "\n",
    "* Não foi detectado interesse significativo em produtos com as características:\n",
    "com profundidade, altura ou largura acima de 50\n",
    "\n",
    "* Capacidade com mais taxa de interesse na faixa entre 4-5L e também produtos com tampa\n",
    "\n",
    "* A combinação de características (vide análise de características do produto) com maior taxa de interesse é \"Alto peso, largura inferior\"\n",
    "seguido de \"Alta capacidade, baixo peso\". As médias dos clusters dão um indício dos limites de forma mais precisa.\n",
    "\n",
    "* A proporção de garantia de 6 meses é bem menor dentre os clientes com interesse, porém não foi detectada relação linear (não desperta mais interesse por ter tempo de garantia maior)\n",
    "\n",
    "* Tipo Wok=Não com mais taxa de interesse\n",
    "\n",
    "* Cor preta com taxa de interesse menor e colorido com interesse maior\n",
    "\n",
    "* Produtos do tipo Caçarola despertam maior interesse\n",
    "\n",
    "* Marca Tramontina mostra um maior interesse"
   ]
  },
  {
   "cell_type": "markdown",
   "metadata": {
    "colab_type": "text",
    "id": "2J6dj4qSAPWK"
   },
   "source": [
    "## Modelo de Regressão Logística\n",
    "\n",
    "Uma abordagem pode ser a utilização de um modelo estatístico tradicional. Os coeficientes fornecem tanto importância quanto relacionamento (direto ou inverso) e magnitude. \n",
    "\n",
    "A biblioteca statsmodel oferece um sumário bem completo."
   ]
  },
  {
   "cell_type": "code",
   "execution_count": 52,
   "metadata": {
    "colab": {},
    "colab_type": "code",
    "id": "Vn6L45gBJtIl"
   },
   "outputs": [],
   "source": [
    "formula_text = (\"\"\"\n",
    "    INTERESTED ~ \n",
    "    ITEM_PRICE\n",
    "    + PROFUNDIDADE\n",
    "    + ALTURA\n",
    "    + LARGURA\n",
    "    + PESO\n",
    "    + CAPACIDADE\t\n",
    "    + TEM_TAMPA\n",
    "    + TEMPO_GARANTIA\t\n",
    "    + COR_VERMELHO\n",
    "    + TIPO_WOK_NAO\n",
    "    + TIPO_PRODUTO_CACAROLA\n",
    "    + TIPO_WOK_SIM\n",
    "    + COR_PRETO\n",
    "    + TIPO_PRODUTO_PANELA\n",
    "    + MARCA_TRAMONTINA\t\n",
    "    + COR_COLORIDO\n",
    "    \"\"\")"
   ]
  },
  {
   "cell_type": "code",
   "execution_count": 53,
   "metadata": {
    "colab": {
     "base_uri": "https://localhost:8080/",
     "height": 829
    },
    "colab_type": "code",
    "id": "t9HSZX6MBXUE",
    "outputId": "e506902a-be7d-4a10-c6cc-3e4d4793b544"
   },
   "outputs": [
    {
     "name": "stdout",
     "output_type": "stream",
     "text": [
      "Warning: Maximum number of iterations has been exceeded.\n",
      "         Current function value: 0.291575\n",
      "         Iterations: 35\n"
     ]
    },
    {
     "name": "stderr",
     "output_type": "stream",
     "text": [
      "/usr/local/lib/python3.6/dist-packages/statsmodels/base/model.py:512: ConvergenceWarning: Maximum Likelihood optimization failed to converge. Check mle_retvals\n",
      "  \"Check mle_retvals\", ConvergenceWarning)\n",
      "/usr/local/lib/python3.6/dist-packages/statsmodels/base/model.py:1286: RuntimeWarning: invalid value encountered in sqrt\n",
      "  bse_ = np.sqrt(np.diag(self.cov_params()))\n",
      "/usr/local/lib/python3.6/dist-packages/scipy/stats/_distn_infrastructure.py:903: RuntimeWarning: invalid value encountered in greater\n",
      "  return (a < x) & (x < b)\n",
      "/usr/local/lib/python3.6/dist-packages/scipy/stats/_distn_infrastructure.py:903: RuntimeWarning: invalid value encountered in less\n",
      "  return (a < x) & (x < b)\n",
      "/usr/local/lib/python3.6/dist-packages/scipy/stats/_distn_infrastructure.py:1912: RuntimeWarning: invalid value encountered in less_equal\n",
      "  cond2 = cond0 & (x <= _a)\n"
     ]
    },
    {
     "name": "stdout",
     "output_type": "stream",
     "text": [
      "                            Results: Logit\n",
      "======================================================================\n",
      "Model:                 Logit             Pseudo R-squared:  0.005     \n",
      "Dependent Variable:    INTERESTED        AIC:               78052.1735\n",
      "Date:                  2020-08-24 20:31  BIC:               78209.0381\n",
      "No. Observations:      133791            Log-Likelihood:    -39010.   \n",
      "Df Model:              15                LL-Null:           -39225.   \n",
      "Df Residuals:          133775            LLR p-value:       2.6040e-82\n",
      "Converged:             0.0000            Scale:             1.0000    \n",
      "No. Iterations:        35.0000                                        \n",
      "----------------------------------------------------------------------\n",
      "                       Coef.  Std.Err.    z     P>|z|   [0.025  0.975]\n",
      "----------------------------------------------------------------------\n",
      "Intercept             -1.6353      nan      nan    nan     nan     nan\n",
      "ITEM_PRICE            -0.0015   0.0001 -14.9868 0.0000 -0.0017 -0.0013\n",
      "PROFUNDIDADE          -0.0044      nan      nan    nan     nan     nan\n",
      "ALTURA                 0.0057   0.0008   7.2254 0.0000  0.0041  0.0072\n",
      "LARGURA               -0.0017   0.0015  -1.1535 0.2487 -0.0046  0.0012\n",
      "PESO                  -0.0000   0.0000  -2.5513 0.0107 -0.0001 -0.0000\n",
      "CAPACIDADE             0.0055      nan      nan    nan     nan     nan\n",
      "TEM_TAMPA              0.1629   0.0224   7.2576 0.0000  0.1189  0.2068\n",
      "TEMPO_GARANTIA        -0.0000   0.0003  -0.1502 0.8806 -0.0006  0.0005\n",
      "COR_VERMELHO          -0.0601   0.0303  -1.9838 0.0473 -0.1194 -0.0007\n",
      "TIPO_WOK_NAO          -0.6147      nan      nan    nan     nan     nan\n",
      "TIPO_PRODUTO_CACAROLA  0.1754   0.0366   4.7909 0.0000  0.1037  0.2472\n",
      "TIPO_WOK_SIM          -1.0205      nan      nan    nan     nan     nan\n",
      "COR_PRETO             -0.1605   0.0313  -5.1293 0.0000 -0.2219 -0.0992\n",
      "TIPO_PRODUTO_PANELA    0.1961   0.0316   6.2143 0.0000  0.1343  0.2580\n",
      "MARCA_TRAMONTINA       0.0621   0.0141   4.4006 0.0000  0.0345  0.0898\n",
      "COR_COLORIDO           0.0379   0.0403   0.9390 0.3477 -0.0412  0.1169\n",
      "======================================================================\n",
      "\n"
     ]
    }
   ],
   "source": [
    "import statsmodels.api as sm\n",
    "import statsmodels.formula.api as smf\n",
    "#utilizando o dataset sem normalização\n",
    "dataset_modelo['CAPACIDADE'] = dataset_modelo['CAPACIDADE_(L)']\n",
    "logit_model = smf.logit(formula = str(formula_text), data = dataset_modelo).fit()\n",
    "print(logit_model.summary2())"
   ]
  },
  {
   "cell_type": "markdown",
   "metadata": {
    "colab_type": "text",
    "id": "gOWjvvekEdW2"
   },
   "source": [
    "Inferimos que a cada R$ 100 de acréscimo no preço, a chance do produto captar interesse cai 15% (aproximadamente).\n",
    "\n",
    "As cores vermelha e preta tem chance menor de gerar interesse em relação as outras cores (6% e 16% respectivamente).\n",
    "\n",
    "Produto Panela e Caçarola tem maior chance (20% e 18% respectivamente).\n",
    "\n",
    "Marca Tramontina com 6% mais chance de atrair interesse.\n",
    "Produtos com tampa tem chance 16% maior.\n"
   ]
  },
  {
   "cell_type": "markdown",
   "metadata": {
    "colab_type": "text",
    "id": "YhFMr2Uq3pQx"
   },
   "source": [
    "Verificando acurácia do modelo de regressão logística do Sci-kit learn. Será utilizada essa biblioteca devido a aproveitamento do código."
   ]
  },
  {
   "cell_type": "code",
   "execution_count": 39,
   "metadata": {
    "colab": {},
    "colab_type": "code",
    "id": "h46F99Ij2dd4"
   },
   "outputs": [],
   "source": [
    "from sklearn.linear_model import LogisticRegression\n",
    "lr = LogisticRegression(random_state=42)\n",
    "lr.fit(X_ros, Y_ros)\n",
    "y_predicted_lr = lr.predict(x_test_scaled)\n",
    "accuracy_lr = metrics.accuracy_score(y_test, y_predicted_lr).round(4)\n"
   ]
  },
  {
   "cell_type": "code",
   "execution_count": 49,
   "metadata": {
    "colab": {
     "base_uri": "https://localhost:8080/",
     "height": 34
    },
    "colab_type": "code",
    "id": "9dUgwofIXG8s",
    "outputId": "e9da602f-2afb-4976-d4ac-df2cd2e66049"
   },
   "outputs": [
    {
     "name": "stdout",
     "output_type": "stream",
     "text": [
      "0.5199\n"
     ]
    }
   ],
   "source": [
    "print(accuracy_lr)"
   ]
  },
  {
   "cell_type": "code",
   "execution_count": 40,
   "metadata": {
    "colab": {
     "base_uri": "https://localhost:8080/",
     "height": 136
    },
    "colab_type": "code",
    "id": "M_7NvSlR3oRH",
    "outputId": "f7988519-1acb-4556-b5f9-ccced8819c7a"
   },
   "outputs": [
    {
     "data": {
      "text/html": [
       "<div>\n",
       "<style scoped>\n",
       "    .dataframe tbody tr th:only-of-type {\n",
       "        vertical-align: middle;\n",
       "    }\n",
       "\n",
       "    .dataframe tbody tr th {\n",
       "        vertical-align: top;\n",
       "    }\n",
       "\n",
       "    .dataframe thead th {\n",
       "        text-align: right;\n",
       "    }\n",
       "</style>\n",
       "<table border=\"1\" class=\"dataframe\">\n",
       "  <thead>\n",
       "    <tr style=\"text-align: right;\">\n",
       "      <th>predito</th>\n",
       "      <th>0.0</th>\n",
       "      <th>1.0</th>\n",
       "    </tr>\n",
       "    <tr>\n",
       "      <th>real</th>\n",
       "      <th></th>\n",
       "      <th></th>\n",
       "    </tr>\n",
       "  </thead>\n",
       "  <tbody>\n",
       "    <tr>\n",
       "      <th>0.0</th>\n",
       "      <td>12441</td>\n",
       "      <td>11957</td>\n",
       "    </tr>\n",
       "    <tr>\n",
       "      <th>1.0</th>\n",
       "      <td>889</td>\n",
       "      <td>1472</td>\n",
       "    </tr>\n",
       "  </tbody>\n",
       "</table>\n",
       "</div>"
      ],
      "text/plain": [
       "predito    0.0    1.0\n",
       "real                 \n",
       "0.0      12441  11957\n",
       "1.0        889   1472"
      ]
     },
     "execution_count": 40,
     "metadata": {
      "tags": []
     },
     "output_type": "execute_result"
    }
   ],
   "source": [
    "results = pd.DataFrame(list(zip(y_predicted_lr, y_test)), columns = ['predito', 'real'])\n",
    "df_confusion = pd.crosstab(results.real, results.predito)\n",
    "df_confusion.head()"
   ]
  },
  {
   "cell_type": "code",
   "execution_count": 41,
   "metadata": {
    "colab": {
     "base_uri": "https://localhost:8080/",
     "height": 70
    },
    "colab_type": "code",
    "id": "bj7AMQ4f4huo",
    "outputId": "0ea1143b-7d7e-404a-a831-f289da265eb4"
   },
   "outputs": [
    {
     "name": "stdout",
     "output_type": "stream",
     "text": [
      "0.1864471184293857\n",
      "0.6234646336298179\n",
      "0.10961352297267109\n"
     ]
    }
   ],
   "source": [
    "cont = len(results)\n",
    "#falso negativo e positivo\n",
    "fp = df_confusion.iloc[0,1]\n",
    "fn = df_confusion.iloc[1,0]\n",
    "#verdadeiro (true) positivo e negativo\n",
    "tp = df_confusion.iloc[1,1]\n",
    "tn = df_confusion.iloc[0,0]\n",
    "#recall - taxa de captura de positivos\n",
    "recall = tp / (tp + fn)\n",
    "precision = tp / (tp + fp)\n",
    "f1 = 2 * (precision * recall) / (precision + recall)\n",
    "print(f1)\n",
    "print(recall)\n",
    "print(precision)"
   ]
  },
  {
   "cell_type": "markdown",
   "metadata": {
    "colab_type": "text",
    "id": "K8AxOcaaAGTM"
   },
   "source": [
    "### Outros modelos\n",
    "Serão feitos outros testes com modelos de ML para melhoria da acurácia "
   ]
  },
  {
   "cell_type": "markdown",
   "metadata": {
    "colab_type": "text",
    "id": "V9zL236ORAVI"
   },
   "source": [
    "## Modelo SVM"
   ]
  },
  {
   "cell_type": "code",
   "execution_count": 42,
   "metadata": {
    "colab": {
     "base_uri": "https://localhost:8080/",
     "height": 34
    },
    "colab_type": "code",
    "id": "6JpK52U3RC7u",
    "outputId": "02934e44-e322-4edd-9451-b82d395d94cc"
   },
   "outputs": [
    {
     "name": "stdout",
     "output_type": "stream",
     "text": [
      "0.514\n"
     ]
    }
   ],
   "source": [
    "svm_clf = svm.SVC()\n",
    "svm_clf.fit(X_ros, Y_ros)\n",
    "y_predicted_svm = svm_clf.predict(x_test_scaled)\n",
    "accuracy_svm = metrics.accuracy_score(y_test, y_predicted_svm).round(3)\n",
    "print(accuracy_svm)"
   ]
  },
  {
   "cell_type": "code",
   "execution_count": 43,
   "metadata": {
    "colab": {
     "base_uri": "https://localhost:8080/",
     "height": 136
    },
    "colab_type": "code",
    "id": "ahQvsR-n85ku",
    "outputId": "82a8d40f-60ba-43d6-b3de-d4b0233f863c"
   },
   "outputs": [
    {
     "data": {
      "text/html": [
       "<div>\n",
       "<style scoped>\n",
       "    .dataframe tbody tr th:only-of-type {\n",
       "        vertical-align: middle;\n",
       "    }\n",
       "\n",
       "    .dataframe tbody tr th {\n",
       "        vertical-align: top;\n",
       "    }\n",
       "\n",
       "    .dataframe thead th {\n",
       "        text-align: right;\n",
       "    }\n",
       "</style>\n",
       "<table border=\"1\" class=\"dataframe\">\n",
       "  <thead>\n",
       "    <tr style=\"text-align: right;\">\n",
       "      <th>predito</th>\n",
       "      <th>0.0</th>\n",
       "      <th>1.0</th>\n",
       "    </tr>\n",
       "    <tr>\n",
       "      <th>real</th>\n",
       "      <th></th>\n",
       "      <th></th>\n",
       "    </tr>\n",
       "  </thead>\n",
       "  <tbody>\n",
       "    <tr>\n",
       "      <th>0.0</th>\n",
       "      <td>12226</td>\n",
       "      <td>12172</td>\n",
       "    </tr>\n",
       "    <tr>\n",
       "      <th>1.0</th>\n",
       "      <td>833</td>\n",
       "      <td>1528</td>\n",
       "    </tr>\n",
       "  </tbody>\n",
       "</table>\n",
       "</div>"
      ],
      "text/plain": [
       "predito    0.0    1.0\n",
       "real                 \n",
       "0.0      12226  12172\n",
       "1.0        833   1528"
      ]
     },
     "execution_count": 43,
     "metadata": {
      "tags": []
     },
     "output_type": "execute_result"
    }
   ],
   "source": [
    "results = pd.DataFrame(list(zip(y_predicted_svm, y_test)), columns = ['predito', 'real'])\n",
    "df_confusion = pd.crosstab(results.real, results.predito)\n",
    "df_confusion.head()"
   ]
  },
  {
   "cell_type": "code",
   "execution_count": 44,
   "metadata": {
    "colab": {
     "base_uri": "https://localhost:8080/",
     "height": 70
    },
    "colab_type": "code",
    "id": "EOLXlfdP9Hk1",
    "outputId": "c67967fc-b648-408a-b581-0f830e4424d3"
   },
   "outputs": [
    {
     "name": "stdout",
     "output_type": "stream",
     "text": [
      "0.1902745781707241\n",
      "0.6471833968657349\n",
      "0.11153284671532847\n"
     ]
    }
   ],
   "source": [
    "cont = len(results)\n",
    "#falso negativo e positivo\n",
    "fp = df_confusion.iloc[0,1]\n",
    "fn = df_confusion.iloc[1,0]\n",
    "#verdadeiro (true) positivo e negativo\n",
    "tp = df_confusion.iloc[1,1]\n",
    "tn = df_confusion.iloc[0,0]\n",
    "#recall - taxa de captura de positivos\n",
    "recall = tp / (tp + fn)\n",
    "precision = tp / (tp + fp)\n",
    "f1 = 2 * (precision * recall) / (precision + recall)\n",
    "print(f1)\n",
    "print(recall)\n",
    "print(precision)"
   ]
  },
  {
   "cell_type": "markdown",
   "metadata": {
    "colab_type": "text",
    "id": "AzXCJqvmRASp"
   },
   "source": [
    "## Multilayer Perceptron"
   ]
  },
  {
   "cell_type": "code",
   "execution_count": 45,
   "metadata": {
    "colab": {},
    "colab_type": "code",
    "id": "HRw2OrHyG2is"
   },
   "outputs": [],
   "source": [
    "clf_mlp1 = MLPClassifier(solver='sgd'\n",
    "                     , hidden_layer_sizes= 20\n",
    "                     , max_iter = 1000\n",
    "                     , random_state=1)\n",
    "\n",
    "clf_mlp1.out_activation_ = 'softmax'"
   ]
  },
  {
   "cell_type": "code",
   "execution_count": 46,
   "metadata": {
    "colab": {
     "base_uri": "https://localhost:8080/",
     "height": 34
    },
    "colab_type": "code",
    "id": "hg3YYqpjHCE7",
    "outputId": "eda73ba0-8b74-42bd-9591-d5d4eb9284fb"
   },
   "outputs": [
    {
     "name": "stdout",
     "output_type": "stream",
     "text": [
      "0.4094\n"
     ]
    }
   ],
   "source": [
    "clf_mlp1.fit(X_ros, Y_ros)\n",
    "y_predicted_mlp1 = clf_mlp1.predict(x_test_scaled)\n",
    "print(metrics.accuracy_score(y_test, y_predicted_mlp1).round(4))"
   ]
  },
  {
   "cell_type": "code",
   "execution_count": 47,
   "metadata": {
    "colab": {
     "base_uri": "https://localhost:8080/",
     "height": 136
    },
    "colab_type": "code",
    "id": "Q_nLzB929kOU",
    "outputId": "1c00cd03-4020-4614-ec23-9fa65661bb22"
   },
   "outputs": [
    {
     "data": {
      "text/html": [
       "<div>\n",
       "<style scoped>\n",
       "    .dataframe tbody tr th:only-of-type {\n",
       "        vertical-align: middle;\n",
       "    }\n",
       "\n",
       "    .dataframe tbody tr th {\n",
       "        vertical-align: top;\n",
       "    }\n",
       "\n",
       "    .dataframe thead th {\n",
       "        text-align: right;\n",
       "    }\n",
       "</style>\n",
       "<table border=\"1\" class=\"dataframe\">\n",
       "  <thead>\n",
       "    <tr style=\"text-align: right;\">\n",
       "      <th>predito</th>\n",
       "      <th>0.0</th>\n",
       "      <th>1.0</th>\n",
       "    </tr>\n",
       "    <tr>\n",
       "      <th>real</th>\n",
       "      <th></th>\n",
       "      <th></th>\n",
       "    </tr>\n",
       "  </thead>\n",
       "  <tbody>\n",
       "    <tr>\n",
       "      <th>0.0</th>\n",
       "      <td>9099</td>\n",
       "      <td>15299</td>\n",
       "    </tr>\n",
       "    <tr>\n",
       "      <th>1.0</th>\n",
       "      <td>504</td>\n",
       "      <td>1857</td>\n",
       "    </tr>\n",
       "  </tbody>\n",
       "</table>\n",
       "</div>"
      ],
      "text/plain": [
       "predito   0.0    1.0\n",
       "real                \n",
       "0.0      9099  15299\n",
       "1.0       504   1857"
      ]
     },
     "execution_count": 47,
     "metadata": {
      "tags": []
     },
     "output_type": "execute_result"
    }
   ],
   "source": [
    "results = pd.DataFrame(list(zip(y_predicted_mlp1, y_test)), columns = ['predito', 'real'])\n",
    "df_confusion = pd.crosstab(results.real, results.predito)\n",
    "df_confusion.head()"
   ]
  },
  {
   "cell_type": "code",
   "execution_count": 48,
   "metadata": {
    "colab": {
     "base_uri": "https://localhost:8080/",
     "height": 70
    },
    "colab_type": "code",
    "id": "Q5sRCnPq9uqi",
    "outputId": "9badc78d-02fc-4b53-f394-70b0d671568d"
   },
   "outputs": [
    {
     "name": "stdout",
     "output_type": "stream",
     "text": [
      "0.1902956396987242\n",
      "0.7865311308767471\n",
      "0.10824201445558405\n"
     ]
    }
   ],
   "source": [
    "cont = len(results)\n",
    "#falso negativo e positivo\n",
    "fp = df_confusion.iloc[0,1]\n",
    "fn = df_confusion.iloc[1,0]\n",
    "#verdadeiro (true) positivo e negativo\n",
    "tp = df_confusion.iloc[1,1]\n",
    "tn = df_confusion.iloc[0,0]\n",
    "#recall - taxa de captura de positivos\n",
    "recall = tp / (tp + fn)\n",
    "precision = tp / (tp + fp)\n",
    "f1 = 2 * (precision * recall) / (precision + recall)\n",
    "print(f1)\n",
    "print(recall)\n",
    "print(precision)"
   ]
  },
  {
   "cell_type": "markdown",
   "metadata": {
    "colab_type": "text",
    "id": "z7Y56jOcRvXW"
   },
   "source": [
    "## Teste SMOTE com Random Forest"
   ]
  },
  {
   "cell_type": "code",
   "execution_count": 62,
   "metadata": {
    "colab": {
     "base_uri": "https://localhost:8080/",
     "height": 72
    },
    "colab_type": "code",
    "id": "YJgICR9VRtv0",
    "outputId": "f9d6946b-d0aa-4189-bf69-02a80f3d3b41"
   },
   "outputs": [
    {
     "name": "stderr",
     "output_type": "stream",
     "text": [
      "/usr/local/lib/python3.6/dist-packages/sklearn/utils/deprecation.py:87: FutureWarning: Function safe_indexing is deprecated; safe_indexing is deprecated in version 0.22 and will be removed in version 0.24.\n",
      "  warnings.warn(msg, category=FutureWarning)\n"
     ]
    }
   ],
   "source": [
    "from imblearn.over_sampling import SMOTE\n",
    "\n",
    "smote = SMOTE(random_state = 42)\n",
    "X_smt, Y_smt = smote.fit_resample(x_train_scaled, y_train)"
   ]
  },
  {
   "cell_type": "code",
   "execution_count": 63,
   "metadata": {
    "colab": {
     "base_uri": "https://localhost:8080/",
     "height": 34
    },
    "colab_type": "code",
    "id": "ZLDlwSX-SVTc",
    "outputId": "4a5abf74-a4f1-4524-d4b6-708e742503b3"
   },
   "outputs": [
    {
     "name": "stdout",
     "output_type": "stream",
     "text": [
      "0.7343\n"
     ]
    }
   ],
   "source": [
    "rf2 = RandomForestClassifier(n_estimators=50)\n",
    "rf2.fit(X_smt, Y_smt)\n",
    "y_predicted_rf2 = rf2.predict(x_test_scaled)\n",
    "accuracy_rf2 = metrics.accuracy_score(y_test, y_predicted_rf2).round(4)\n",
    "print(accuracy_rf2)"
   ]
  },
  {
   "cell_type": "code",
   "execution_count": 64,
   "metadata": {
    "colab": {
     "base_uri": "https://localhost:8080/",
     "height": 136
    },
    "colab_type": "code",
    "id": "4Q1burobS__3",
    "outputId": "3c68bde1-811e-4e7e-fd0b-82589ef2c21e"
   },
   "outputs": [
    {
     "data": {
      "text/html": [
       "<div>\n",
       "<style scoped>\n",
       "    .dataframe tbody tr th:only-of-type {\n",
       "        vertical-align: middle;\n",
       "    }\n",
       "\n",
       "    .dataframe tbody tr th {\n",
       "        vertical-align: top;\n",
       "    }\n",
       "\n",
       "    .dataframe thead th {\n",
       "        text-align: right;\n",
       "    }\n",
       "</style>\n",
       "<table border=\"1\" class=\"dataframe\">\n",
       "  <thead>\n",
       "    <tr style=\"text-align: right;\">\n",
       "      <th>predito</th>\n",
       "      <th>0.0</th>\n",
       "      <th>1.0</th>\n",
       "    </tr>\n",
       "    <tr>\n",
       "      <th>real</th>\n",
       "      <th></th>\n",
       "      <th></th>\n",
       "    </tr>\n",
       "  </thead>\n",
       "  <tbody>\n",
       "    <tr>\n",
       "      <th>0.0</th>\n",
       "      <td>17787</td>\n",
       "      <td>6611</td>\n",
       "    </tr>\n",
       "    <tr>\n",
       "      <th>1.0</th>\n",
       "      <td>498</td>\n",
       "      <td>1863</td>\n",
       "    </tr>\n",
       "  </tbody>\n",
       "</table>\n",
       "</div>"
      ],
      "text/plain": [
       "predito    0.0   1.0\n",
       "real                \n",
       "0.0      17787  6611\n",
       "1.0        498  1863"
      ]
     },
     "execution_count": 64,
     "metadata": {
      "tags": []
     },
     "output_type": "execute_result"
    }
   ],
   "source": [
    "results = pd.DataFrame(list(zip(y_predicted_rf2, y_test)), columns = ['predito', 'real'])\n",
    "df_confusion = pd.crosstab(results.real, results.predito)\n",
    "df_confusion.head()"
   ]
  },
  {
   "cell_type": "code",
   "execution_count": 65,
   "metadata": {
    "colab": {
     "base_uri": "https://localhost:8080/",
     "height": 70
    },
    "colab_type": "code",
    "id": "0RGC5lrVS1-q",
    "outputId": "572de512-3aa2-4f3c-95a1-8b70a8c48900"
   },
   "outputs": [
    {
     "name": "stdout",
     "output_type": "stream",
     "text": [
      "0.3438855560682972\n",
      "0.7890724269377383\n",
      "0.21984894972858154\n"
     ]
    }
   ],
   "source": [
    "cont = len(results)\n",
    "#falso negativo e positivo\n",
    "fp = df_confusion.iloc[0,1]\n",
    "fn = df_confusion.iloc[1,0]\n",
    "#verdadeiro (true) positivo e negativo\n",
    "tp = df_confusion.iloc[1,1]\n",
    "tn = df_confusion.iloc[0,0]\n",
    "#recall - taxa de captura de positivos\n",
    "recall = tp / (tp + fn)\n",
    "precision = tp / (tp + fp)\n",
    "f1 = 2 * (precision * recall) / (precision + recall)\n",
    "print(f1)\n",
    "print(recall)\n",
    "print(precision)\n"
   ]
  },
  {
   "cell_type": "code",
   "execution_count": 66,
   "metadata": {
    "colab": {
     "base_uri": "https://localhost:8080/",
     "height": 136
    },
    "colab_type": "code",
    "id": "a-yH7rpuTULW",
    "outputId": "7058081f-33e2-4783-f7d6-b1285090b976"
   },
   "outputs": [
    {
     "data": {
      "text/html": [
       "<div>\n",
       "<style scoped>\n",
       "    .dataframe tbody tr th:only-of-type {\n",
       "        vertical-align: middle;\n",
       "    }\n",
       "\n",
       "    .dataframe tbody tr th {\n",
       "        vertical-align: top;\n",
       "    }\n",
       "\n",
       "    .dataframe thead th {\n",
       "        text-align: right;\n",
       "    }\n",
       "</style>\n",
       "<table border=\"1\" class=\"dataframe\">\n",
       "  <thead>\n",
       "    <tr style=\"text-align: right;\">\n",
       "      <th>predito</th>\n",
       "      <th>0</th>\n",
       "      <th>1</th>\n",
       "    </tr>\n",
       "    <tr>\n",
       "      <th>real</th>\n",
       "      <th></th>\n",
       "      <th></th>\n",
       "    </tr>\n",
       "  </thead>\n",
       "  <tbody>\n",
       "    <tr>\n",
       "      <th>0.0</th>\n",
       "      <td>22021</td>\n",
       "      <td>2377</td>\n",
       "    </tr>\n",
       "    <tr>\n",
       "      <th>1.0</th>\n",
       "      <td>1114</td>\n",
       "      <td>1247</td>\n",
       "    </tr>\n",
       "  </tbody>\n",
       "</table>\n",
       "</div>"
      ],
      "text/plain": [
       "predito      0     1\n",
       "real                \n",
       "0.0      22021  2377\n",
       "1.0       1114  1247"
      ]
     },
     "execution_count": 66,
     "metadata": {
      "tags": []
     },
     "output_type": "execute_result"
    }
   ],
   "source": [
    "threshold = 0.7\n",
    "\n",
    "predicted_proba = rf2.predict_proba(x_test_scaled)\n",
    "y_predicted_rf2 = (predicted_proba [:,1] >= threshold).astype('int')\n",
    "results = pd.DataFrame(list(zip(y_predicted_rf2, y_test)), columns = ['predito', 'real'])\n",
    "df_confusion = pd.crosstab(results.real, results.predito)\n",
    "df_confusion.head()"
   ]
  },
  {
   "cell_type": "code",
   "execution_count": 67,
   "metadata": {
    "colab": {
     "base_uri": "https://localhost:8080/",
     "height": 70
    },
    "colab_type": "code",
    "id": "yKTq3Y0eTj21",
    "outputId": "1fd676e4-dd7c-4ad7-998e-ae8b1fb0533f"
   },
   "outputs": [
    {
     "name": "stdout",
     "output_type": "stream",
     "text": [
      "0.41670843776106936\n",
      "0.5281660313426514\n",
      "0.34409492273730685\n"
     ]
    }
   ],
   "source": [
    "cont = len(results)\n",
    "#falso negativo e positivo\n",
    "fp = df_confusion.iloc[0,1]\n",
    "fn = df_confusion.iloc[1,0]\n",
    "#verdadeiro (true) positivo e negativo\n",
    "tp = df_confusion.iloc[1,1]\n",
    "tn = df_confusion.iloc[0,0]\n",
    "#recall - taxa de captura de positivos\n",
    "recall = tp / (tp + fn)\n",
    "precision = tp / (tp + fp)\n",
    "f1 = 2 * (precision * recall) / (precision + recall)\n",
    "print(f1)\n",
    "print(recall)\n",
    "print(precision)\n"
   ]
  },
  {
   "cell_type": "markdown",
   "metadata": {
    "colab_type": "text",
    "id": "RBXdknK6MvLb"
   },
   "source": [
    "## Conclusões gerais Modelos / Melhorias"
   ]
  },
  {
   "cell_type": "markdown",
   "metadata": {
    "colab_type": "text",
    "id": "pWzQkb001w4E"
   },
   "source": [
    "Entre os modelos testados a melhor performance foi da Random Forest, treinada com a técnica SMOTE.\n",
    "No entanto é preciso mais informações a fim de predizer interesse nos produtos de forma mais precisa. No entanto, o modelo performa bem para detectar os produtos que não despertam interesse. Se o objetivo é equilíbrio entre o acerto de positivos e negativos o threshold ideal é 70%.\n",
    "\n",
    "Uma métrica que poderia acrescentar informações relevantes sobre o acerto do modelo seria o Ks, pois ajuda a determinar o limite ótimo do score para classificar o interesse.\n",
    "\n",
    "Uma outra estratégia para melhoria do acerto pode ser *feature engineering*: Utilizar outras funções de binarização, outras funções de transformação nas variáveis numéricas e ainda inclusão de variáveis de interações. Podem haver interações não investigadas entre características de produtos e marcas que podem deixar as heurísticas de negócio mais objetivas.\n",
    "\n",
    "Outros modelos podem ser testados como: Knn, Redes Neurais (LSTM por exemplo), SVM com outras funções Kernel. "
   ]
  }
 ],
 "metadata": {
  "colab": {
   "name": "Case_Ame.ipynb",
   "provenance": []
  },
  "kernelspec": {
   "display_name": "Python 3",
   "language": "python",
   "name": "python3"
  },
  "language_info": {
   "codemirror_mode": {
    "name": "ipython",
    "version": 3
   },
   "file_extension": ".py",
   "mimetype": "text/x-python",
   "name": "python",
   "nbconvert_exporter": "python",
   "pygments_lexer": "ipython3",
   "version": "3.9.2"
  }
 },
 "nbformat": 4,
 "nbformat_minor": 4
}
